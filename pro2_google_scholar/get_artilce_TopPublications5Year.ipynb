{
 "cells": [
  {
   "cell_type": "code",
   "id": "initial_id",
   "metadata": {
    "collapsed": true,
    "ExecuteTime": {
     "end_time": "2025-09-26T05:34:05.941739Z",
     "start_time": "2025-09-26T05:34:04.711051Z"
    }
   },
   "source": [
    "import requests\n",
    "\n",
    "\n",
    "headers = {\n",
    "    \"accept\": \"text/html,application/xhtml+xml,application/xml;q=0.9,image/avif,image/webp,image/apng,*/*;q=0.8,application/signed-exchange;v=b3;q=0.7\",\n",
    "    \"accept-language\": \"en\",\n",
    "    \"cache-control\": \"max-age=0\",\n",
    "    \"priority\": \"u=0, i\",\n",
    "    \"referer\": \"https://scholar.google.es/citations?view_op=top_venues&hl=en&vq=eng\",\n",
    "    \"sec-ch-ua\": \"\\\"Chromium\\\";v=\\\"140\\\", \\\"Not=A?Brand\\\";v=\\\"24\\\", \\\"Google Chrome\\\";v=\\\"140\\\"\",\n",
    "    \"sec-ch-ua-mobile\": \"?0\",\n",
    "    \"sec-ch-ua-platform\": \"\\\"macOS\\\"\",\n",
    "    \"sec-fetch-dest\": \"document\",\n",
    "    \"sec-fetch-mode\": \"navigate\",\n",
    "    \"sec-fetch-site\": \"same-origin\",\n",
    "    \"sec-fetch-user\": \"?1\",\n",
    "    \"upgrade-insecure-requests\": \"1\",\n",
    "    \"user-agent\": \"Mozilla/5.0 (Macintosh; Intel Mac OS X 10_15_7) AppleWebKit/537.36 (KHTML, like Gecko) Chrome/140.0.0.0 Safari/537.36\",\n",
    "    \"x-browser-channel\": \"stable\",\n",
    "    \"x-browser-copyright\": \"Copyright 2025 Google LLC. All rights reserved.\",\n",
    "    \"x-browser-validation\": \"jFliu1AvGMEE7cpr93SSytkZ8D4=\",\n",
    "    \"x-browser-year\": \"2025\"\n",
    "}\n",
    "cookies = {\n",
    "    \"GSP\": \"LM=1758854590:S=JdiCnAjqkhcm1feW\",\n",
    "    \"NID\": \"525=okwPY68CY-8bKu_ByZ_PYqf8RWh5NohVL_5CyYniITglBr412I68_Nc3sodU6Qb8garPziefGytySdMm0qbyt3cE50uPrFZU9tK2a0nQTkJLOTBw9qRXjWkABqz31u-WzE9_4lcVyWxUx9zLVAKMalrJ7yDnzk9s0c_cpSxPQDKEtaS3JIYbAvtGlwTf8KV265BQX8vEs8tqHA\"\n",
    "}\n",
    "url = \"https://scholar.google.es/citations\"\n",
    "params = {\n",
    "    \"view_op\": \"top_venues\",\n",
    "    \"hl\": \"en\",\n",
    "    \"vq\": \"eng_artificialintelligence\"\n",
    "}\n",
    "response = requests.get(url, headers=headers, cookies=cookies, params=params)\n",
    "\n",
    "print(response.text)\n",
    "print(response)"
   ],
   "outputs": [
    {
     "name": "stdout",
     "output_type": "stream",
     "text": [
      "<!doctype html><html><head><title>Artificial Intelligence - Google Scholar Metrics</title><meta http-equiv=\"Content-Type\" content=\"text/html;charset=UTF-8\"><meta http-equiv=\"X-UA-Compatible\" content=\"IE=Edge\"><meta name=\"referrer\" content=\"origin-when-cross-origin\"><meta name=\"viewport\" content=\"width=device-width,initial-scale=1,minimum-scale=1,maximum-scale=2\"><meta name=\"format-detection\" content=\"telephone=no\"><link rel=\"shortcut icon\" href=\"/favicon.ico\"><style>html,body,form,table,div,h1,h2,h3,h4,h5,h6,img,ol,ul,li,button{margin:0;padding:0;border:0;}table{border-collapse:collapse;border-width:0;empty-cells:show;}html,body{height:100%}#gs_top{position:relative;box-sizing:border-box;min-height:100%;min-width:964px;-webkit-tap-highlight-color:rgba(0,0,0,0);}#gs_top>*:not(#x){-webkit-tap-highlight-color:rgba(204,204,204,.5);}.gs_el_ph #gs_top,.gs_el_ta #gs_top{min-width:320px;}#gs_top.gs_nscl{position:fixed;width:100%;}body,td,input,button,textarea{font-size:13px;font-family:Arial,sans-serif;line-height:1.24;}body{background:#fff;color:#222;-webkit-text-size-adjust:100%;-moz-text-size-adjust:none;}body{background-color:#f9f9f9;}.gs_gray{color:#777777}.gs_red{color:#dd4b39}.gs_grn{color:#006621}.gs_lil{font-size:11px}.gs_med{font-size:16px}.gs_hlt{font-weight:bold;}a:link{color:#1a0dab;text-decoration:none}a:visited{color:#660099;text-decoration:none}a:hover,a:hover .gs_lbl{text-decoration:underline}a:active,a:active .gs_lbl,a .gs_lbl:active{color:#d14836}.gs_el_tc a:hover,.gs_el_tc a:hover .gs_lbl{text-decoration:none}.gs_pfcs a:focus,.gs_pfcs button:focus,.gs_pfcs input:focus,.gs_pfcs label:focus{outline:none}.gs_a,.gs_a a:link,.gs_a a:visited{color:#006621}.gs_a a:active{color:#d14836}a.gs_fl:link,.gs_fl a:link{color:#1a0dab}a.gs_fl:visited,.gs_fl a:visited{color:#660099}a.gs_fl:active,.gs_fl a:active{color:#d14836}.gs_fl{color:#777777}.gs_ctc,.gs_ctu{vertical-align:middle;font-size:11px;font-weight:bold}.gs_ctc{color:#1a0dab}.gs_ctg,.gs_ctg2{font-size:13px;font-weight:bold}.gs_ctg{color:#1a0dab}a.gs_pda,.gs_pda a{padding:7px 0 5px 0}.gs_alrt{background:#f9edbe;border:1px solid #f0c36d;padding:0 16px;text-align:center;box-shadow:0 2px 4px rgba(0,0,0,.2);border-radius:2px;}.gs_alrt:empty{display:none;}.gs_spc{display:inline-block;width:12px}.gs_br{width:0;font-size:0}.gs_ibl{display:inline-block;}.gs_scl:after{content:\"\";display:table;clear:both;}.gs_ind{padding-left:8px;text-indent:-8px}.gs_ico,.gs_icm{display:inline-block;background:no-repeat url(/intl/en/scholar/images/1x/sprite_20161020.png);background-position:-23px -161px;background-size:169px;width:21px;height:21px;}@media(-webkit-min-device-pixel-ratio:1.5),(min-resolution:144dpi){.gs_ico,.gs_icm{background-image:url(/intl/en/scholar/images/2x/sprite_20161020.png);}}.gs_el_ta .gs_nta,.gs_ota,.gs_el_ph .gs_nph,.gs_oph{display:none}.gs_el_ta .gs_ota,.gs_el_ph .gs_oph{display:inline}.gs_el_ta div.gs_ota,.gs_el_ph div.gs_oph{display:block}.gs_sth_g{visibility:hidden;max-height:0;}.gs_sth_vis .gs_sth_g{max-height:1000px;}.gs_sth_vis .gs_sth_b{position:fixed;top:0;}.gs_sth_trk .gs_sth_b{position:absolute;top:auto;}@keyframes gs_anm_spin{0%{transform:rotate(0deg);}100%{transform:rotate(360deg);}}@keyframes gs_anm_fade_in{0%{opacity:0;}100%{opacity:1;}}.gs_invis{visibility:hidden;}.gs_rimg{display:block;background-color:#e5e5e5;border-radius:50%;overflow:hidden;position:relative;z-index:1;}.gs_rimg>img{position:absolute;margin:auto;left:0;top:0;bottom:0;right:0;}.gs_in_txtw{display:inline-block;vertical-align:middle;}.gs_in_txtb{display:block;}.gs_in_txt{color:#000;background-color:#fff;font-size:16px;box-sizing:border-box;height:29px;line-height:23px;border:1px solid #d9d9d9;border-top-color:#c0c0c0;padding:3px 6px 1px 8px;border-radius:1px;outline:none;-webkit-appearance:none;-moz-appearance:none;}.gs_el_tc .gs_in_txt{font-size:18px;}.gs_in_txtb .gs_in_txt{width:100%;}.gs_in_rnd .gs_in_txt{border-radius:14.5px;padding:3px 12px 1px 12px;}.gs_in_txt:hover{border-color:#b9b9b9;border-top-color:#a0a0a0;box-shadow:inset 0 1px 2px rgba(0,0,0,.1);}.gs_in_txte .gs_in_txt{border-color:#dd4b39;}.gs_in_txt:focus{border-color:#4d90fe;box-shadow:inset 0 1px 2px rgba(0,0,0,.3);}.gs_in_txt:disabled{color:#b8b8b8;border-color:#f1f1f1;box-shadow:none;}.gs_in_txtm .gs_in_txt{font-size:13px;height:24px;line-height:16px;padding:3px 6px;}.gs_in_txtm.gs_in_rnd .gs_in_txt{border-radius:12px;}.gs_el_tc .gs_in_txtm .gs_in_txt{height:29px;line-height:21px;}.gs_el_tc .gs_in_txtm.gs_in_rnd .gs_in_txt{border-radius:14.5px;}.gs_in_txtl .gs_in_txt{height:41px;padding:9px 43px;}.gs_in_txtl.gs_in_rnd .gs_in_txt{border-radius:20.5px;}.gs_in_txts{font-size:13px;line-height:18px;color:#666;}.gs_in_txts:not(:empty){margin-top:2px;}.gs_in_txte .gs_in_txts{color:#dd4b39;}button{position:relative;z-index:1;box-sizing:border-box;font-size:13px;cursor:pointer;height:29px;line-height:normal;min-width:72px;padding:0 8px;color:#444;border:1px solid rgba(0,0,0,.1);border-radius:3px;text-align:center;background-color:#f5f5f5;-webkit-user-select:none;user-select:none;}button.gs_btn_rnd{border-radius:14px;padding:0 12px;}button.gs_btn_rnd.gs_btn_rndci{padding-left:4px;}button.gs_btn_lrge{height:41px;min-width:82px;padding:0 9px;}button.gs_btn_lrge.gs_btn_lrge_asym{padding-left:5px;padding-right:8px;}button.gs_btn_lrge.gs_btn_rnd{border-radius:20px;padding:0 16px;}button.gs_btn_lrge.gs_btn_rnd.gs_btn_rndci{padding-left:10px;}button.gs_btn_cir{border-radius:14.5px;min-width:29px;}button.gs_btn_lrge.gs_btn_cir{border-radius:20.5px;min-width:41px;}button.gs_btn_mini{padding:0;border:0;}.gs_el_ph button.gs_btn_mph,.gs_el_ta button.gs_btn_mta{height:41px;}button .gs_wr{position:relative;display:inline-block;width:100%;height:100%;}button .gs_wr:before{content:\"\";width:0;height:100%;}button .gs_wr:before,button .gs_ico,button .gs_rdt,button .gs_lbl,button .gs_icm{display:inline-block;vertical-align:middle;}button .gs_wr{font-size:13px;text-transform:none;}.gs_btn_lrge .gs_wr{font-size:15px;}.gs_btn_lsb .gs_wr{font-size:11px;font-weight:bold;}.gs_btn_lsu .gs_wr{font-size:11px;text-transform:uppercase;}.gs_btn_lrge.gs_btn_lsb .gs_wr,.gs_btn_lrge.gs_btn_lsu .gs_wr,.gs_btn_lrge.gs_btn_lrge_asym .gs_wr{font-size:13px;}.gs_btn_half,.gs_el_ta .gs_btn_hta,.gs_el_ph .gs_btn_hph{min-width:36px;}.gs_btn_lrge.gs_btn_half,.gs_el_ta .gs_btn_lrge.gs_btn_hta,.gs_el_ph .gs_btn_lrge.gs_btn_hph,.gs_el_ta .gs_btn_mta,.gs_el_ph .gs_btn_mph{min-width:41px;}.gs_btn_slt{border-radius:3px 0 0 3px;}.gs_btn_srt{margin-left:-1px;border-radius:0 3px 3px 0;}.gs_btn_smd{margin-left:-1px;border-radius:0;}button:hover{z-index:2;color:#222;border-color:rgba(0,0,0,.2);background-color:#f8f8f8;}button.gs_sel{background-color:#dcdcdc;}button:active{z-index:2;background-color:#f1f1f1;}button:focus{z-index:2;}button::-moz-focus-inner{padding:0;border:0}button:-moz-focusring{outline:1px dotted ButtonText}.gs_pfcs button:-moz-focusring{outline:none}a.gs_in_ib{position:relative;display:inline-block;line-height:16px;padding:6px 0 7px 0;-webkit-user-select:none;user-select:none;}a.gs_btn_lrge{height:40px;padding:0;}a.gs_in_bgcw{min-width:41px;}a.gs_btn_lrge.gs_in_bgcw:before{position:absolute;content:\"\";height:29px;width:29px;top:6px;left:6px;background-color:#fff;box-shadow:0 1px 3px rgb(0,0,0,.4);border-radius:50%;}a.gs_in_bgcw:hover:before{background-color:#f5f5f5;}a.gs_in_bgcw:active:before{background-color:#e5e5e5;}a.gs_in_bgcw.gs_dis:before{background-color:#fff;}a.gs_in_ib .gs_lbl{display:inline-block;padding-left:21px;color:#222;}a.gs_in_ib.gs_in_gray .gs_lbl{color:#444;}a.gs_in_ib .gs_lbl:not(:empty){padding-left:29px;}button.gs_in_ib .gs_lbl:not(:empty){padding-left:4px;}a.gs_in_ib:active .gs_lbl,a.gs_in_ib .gs_lbl:active,a.gs_in_ib :active~.gs_lbl{color:#d14836;}.gs_el_ta .gs_btn_hta .gs_lbl,.gs_el_ph .gs_btn_hph .gs_lbl,.gs_el_ta .gs_btn_mta .gs_lbl,.gs_el_ph .gs_btn_mph .gs_lbl,.gs_el_ta .gs_btn_cta .gs_lbl,.gs_el_ph .gs_btn_cph .gs_lbl{display:none;}a.gs_in_ib .gs_ico{position:absolute;top:3px;left:0;}.gs_in_ib.gs_md_li .gs_ico{left:14px;}.gs_el_tc .gs_in_ib.gs_md_li .gs_ico{top:11px;}.gs_in_ib.gs_md_li.gs_md_lix .gs_ico{top:10px;left:16px;}a.gs_btn_lrge .gs_ico{top:50%;left:50%;margin:-10.5px 0 0 -10.5px;}.gs_in_ib .gs_ico{opacity:.55;}.gs_in_ib:hover .gs_ico{opacity:.72;}.gs_in_ib:active .gs_ico,.gs_in_ib .gs_ico:active,.gs_in_ib :active~.gs_ico{opacity:1;}.gs_in_ib:disabled .gs_ico,.gs_in_ib.gs_dis .gs_ico{opacity:.28;}.gs_in_ib.gs_btn_act .gs_ico,.gs_in_ib.gs_btn_cre .gs_ico{opacity:1;}.gs_btn_act:disabled .gs_ico,.gs_btn_cre:disabled .gs_ico{opacity:.72;}.gs_rdt{position:relative;width:0;height:21px;}a.gs_in_ib .gs_rdt{left:21px;}.gs_rdt:before{content:\"\";position:absolute;top:1px;right:0;width:5px;height:5px;border:1px solid #fff;border-radius:50%;background-color:#dd4b39;}.gs_notf{display:inline-block;vertical-align:top;margin-left:8px;width:16px;line-height:16px;background-color:#d14836;border-radius:50%;color:#fff;text-align:center;font-size:9px;font-weight:bold;}.gs_notf:empty{display:none;}.gs_ind .gs_notf{text-indent:0;}button.gs_btn_flat{border-color:transparent;background-color:transparent;}button.gs_btn_olact{color:#4d90fe;background-color:transparent;}button.gs_btn_flat:hover,button.gs_btn_olact:hover{background-color:rgba(0,0,0,.05);}button.gs_btn_flat:active,button.gs_btn_olact:active{background-color:rgba(0,0,0,.1);}button.gs_btn_flat.gs_btn_flact{color:#1a0dab;}button.gs_btn_lra{color:#000;-webkit-font-smoothing:antialiased;background-color:#d3e3fd;border:none;border-radius:100px;}button.gs_btn_lra:hover{background-color:#c3d8fa;}button.gs_btn_lra:active{background-color:#bad1f7;}button.gs_btn_act{color:#fff;-webkit-font-smoothing:antialiased;background-color:#4d90fe;}button.gs_btn_act:hover{color:#fff;background-color:#3983fe;}button.gs_btn_act.gs_sel{background-color:#2f6bcc;}button.gs_btn_act:active{background-color:#357ae8;}button.gs_btn_cre{color:#fff;-webkit-font-smoothing:antialiased;background-color:#d14836;}button.gs_btn_cre:hover{color:#fff;background-color:#c53727;}button.gs_btn_cre.gs_sel{background-color:#992b1e;}html:not(.gs_pfcs) .gs_btn_act:focus:not(:active){box-shadow:inset 0 0 0 1px rgba(255,255,255,.5);}button.gs_btn_cre:active{background-color:#b0281a;}button.gs_btn_hov_nobg:hover,button.gs_btn_hov_nobg:active{border:none;background:transparent;}button:disabled,button:disabled:hover,button:disabled:active{cursor:default;color:#b8b8b8;border-color:rgba(0,0,0,.05);background-color:transparent;z-index:0;}button.gs_btn_flat:disabled{color:#b8b8b8;border-color:transparent;}button.gs_btn_act:disabled{color:#fff;background-color:#a6c8ff;}button.gs_btn_cre:disabled{color:#fff;background-color:#e8a49b;}a.gs_in_ib.gs_dis{cursor:default;pointer-events:none}a.gs_in_ib.gs_dis .gs_lbl{color:#b8b8b8;text-decoration:none}.gs_ttp{position:absolute;top:100%;right:50%;z-index:10;pointer-events:none;visibility:hidden;opacity:0;transition:visibility 0s .13s,opacity .13s ease-out;}button:hover .gs_ttp,button:focus .gs_ttp,a:hover .gs_ttp,a:focus .gs_ttp{transition:visibility 0s .3s,opacity .13s ease-in .3s;visibility:visible;opacity:1;}.gs_md_tb.gs_sel .gs_ttp{transition:none;visibility:hidden;}button.gs_btn_lrge.gs_btn_cir .gs_ttp{top:75%;}.gs_ttp .gs_aro,.gs_ttp .gs_aru{position:absolute;top:-2px;right:-5px;width:0;height:0;line-height:0;font-size:0;border:5px solid transparent;border-top:none;border-bottom-color:#595959;z-index:1;}.gs_ttp .gs_aro{top:-3px;right:-6px;border-width:6px;border-top:none;border-bottom-color:white;}.gs_ttp .gs_txt{display:block;position:relative;top:2px;right:-50%;padding:4px 6px;background:#595959;color:white;font-size:11px;font-weight:bold;line-height:normal;white-space:nowrap;border:1px solid white;border-radius:3px;box-shadow:inset 0 1px 4px rgba(0,0,0,.2);}.gs_press,.gs_in_se,.gs_tan{touch-action:none;}.gs_in_se .gs_lbl:not(:empty){padding-right:14px;}.gs_in_se .gs_icm{position:absolute;top:50%;margin-top:-5.5px;right:0;width:7px;height:11px;background-position:-21px -88px;opacity:.55;}.gs_in_se:hover .gs_icm{opacity:.72;}.gs_in_se:active .gs_icm{opacity:1;}.gs_in_se:disabled .gs_icm{opacity:.28;}.gs_el_ta .gs_btn_hta .gs_icm,.gs_el_ph .gs_btn_hph .gs_icm,.gs_el_ta .gs_btn_mta .gs_icm,.gs_el_ph .gs_btn_mph .gs_icm,.gs_el_ta .gs_btn_cta .gs_icm,.gs_el_ph .gs_btn_cph .gs_icm{display:none;}.gs_btn_mnu .gs_icm{margin-top:-3.5px;height:7px;background-position:0 -110px;}.gs_in_se.gs_btn_act .gs_icm,.gs_in_se.gs_btn_cre .gs_icm{margin-top:-3.5px;height:7px;background-position:-42px -44px;opacity:1;}.gs_btn_act:disabled .gs_icm,.gs_btn_cre:disabled .gs_icm{opacity:.72;}button.gs_btnG .gs_ico{width:21px;height:21px;background-position:-92px -253px;}.gs_md_d{text-transform:none;white-space:nowrap;position:absolute;top:0;left:0;border:1px solid #ccc;border-color:rgba(0,0,0,.2);background:#fff;box-shadow:0 2px 4px rgba(0,0,0,.2);z-index:1100;text-align:left;visibility:hidden;max-height:0;margin-top:-1000px;opacity:0;transition:opacity .13s,visibility 0s .13s,max-height 0s .13s,margin-top 0s .13s;}.gs_md_d.gs_vis{visibility:visible;max-height:10000px;margin-top:0;opacity:1;transition:all 0s;}.gs_el_tc .gs_md_d{transform-origin:100% 0;transform:scale(1,0);transition:opacity .218s ease-out,transform 0s .218s,visibility 0s .218s,max-height 0s .218s,margin-top 0s .218s;}.gs_el_ios .gs_md_d{-webkit-backface-visibility:hidden;}.gs_el_tc .gs_md_d.gs_ttzi{transform-origin:50% 50%;transform:scale(0,0);}.gs_el_tc .gs_md_d.gs_ttzr{transform:scale(0,0);}.gs_el_tc .gs_md_d.gs_vis{transform:scale(1,1);transition:transform .218s ease-out;}.gs_md_r{position:relative;display:inline-block;}.gs_md_rmb>.gs_md_d{top:29px}.gs_md_rmbl>.gs_md_d{top:41px}.gs_md_ul{list-style-type:none;word-wrap:break-word;display:inline-block;vertical-align:top;}.gs_md_ul.gs_md_ul_tb{display:block;}.gs_md_li,.gs_in_cb.gs_md_li,.gs_md_li:link,.gs_md_li:visited{display:block;padding:6px 44px 6px 16px;font-size:13px;line-height:16px;color:#222;cursor:pointer;text-decoration:none;position:relative;z-index:0;}a.gs_md_li:hover .gs_lbl,a.gs_md_li:active .gs_lbl{text-decoration:none}.gs_el_tc .gs_md_li{padding-top:14px;padding-bottom:10px;}.gs_md_li.gs_md_lix{font-size:16px;line-height:20px;padding:12px 16px 8px 16px;}.gs_md_li:before{content:\"\";background-color:#f1f1f1;position:absolute;left:0;right:0;top:0;bottom:0;opacity:0;transition:opacity .13s;z-index:-1;}.gs_md_li:hover:before,.gs_md_li:focus:before{opacity:1;transition:all 0s;}a.gs_in_ib.gs_md_li .gs_lbl{color:#222}a.gs_in_ib.gs_md_li.gs_in_gray .gs_lbl{color:#444}.gs_md_li:active:before{background-color:#ddd}.gs_md_li.gs_sel,a.gs_in_ib.gs_md_li.gs_sel .gs_lbl{color:#d14836}.gs_md_d:focus,.gs_md_li:focus{outline:none}a.gs_md_lix .gs_lbl,a.gs_md_lix .gs_lbl:not(:empty){padding:0 0 0 40px;}a.gs_in_cb:link,a.gs_in_cb:visited,a.gs_in_cb:active,a.gs_in_cb:hover{cursor:pointer;color:#222;text-decoration:none;}.gs_in_cb,.gs_in_ra{position:relative;line-height:16px;display:inline-block;-webkit-user-select:none;user-select:none;}.gs_in_cb.gs_md_li{padding:6px 44px 6px 16px;}.gs_in_cb input,.gs_in_ra input{position:absolute;top:1px;left:1px;width:15px;height:15px;margin:0;padding:0;opacity:0;z-index:2;}.gs_in_ra input{top:0;left:0}.gs_el_tc .gs_in_cb input{top:9px}.gs_el_tc .gs_in_ra input{top:8px}.gs_in_cb.gs_in_cbj input{top:15px;left:15px}.gs_in_cb label,.gs_in_cb .gs_lbl,.gs_in_ra label{display:inline-block;padding-left:21px;min-height:16px;}.gs_in_ra_lrge{font-size:15px;}.gs_in_cb label:empty:before,.gs_in_cb .gs_lbl:empty:before,.gs_in_ra label:empty:before{content:\"\\200b\";}.gs_el_tc .gs_in_cb label,.gs_el_tc .gs_in_cb .gs_lbl,.gs_el_tc .gs_in_ra label{padding-top:8px;padding-bottom:5px;}.gs_in_cb.gs_in_cbj label,.gs_in_cb.gs_in_cbj .gs_lbl{padding:13px 0 12px 41px;}.gs_in_cbb,.gs_in_cbb label,.gs_in_cbb .gs_lbl{display:block;}.gs_in_cb .gs_cbx,.gs_in_ra .gs_cbx{position:absolute}.gs_in_cb .gs_cbx{top:2px;left:2px;width:11px;height:11px;border:1px solid #c6c6c6;border-radius:1px;}.gs_md_li .gs_cbx{top:8px;left:18px}.gs_el_tc .gs_in_cb .gs_cbx{top:10px}.gs_el_tc .gs_md_li .gs_cbx{top:16px}.gs_in_cb.gs_in_cbj .gs_cbx{top:15px;left:15px}.gs_el_tc .gs_in_ra .gs_cbx{top:8px}.gs_in_ra .gs_cbx{top:0;left:0;border:1px solid #c6c6c6;width:13px;height:13px;border-radius:7px;}.gs_in_cb:hover .gs_cbx,.gs_in_ra:hover .gs_cbx{border-color:#666;box-shadow:inset 0 1px 1px rgba(0,0,0,.1);}button.gs_in_cb:hover .gs_cbx{border-color:#c6c6c6;}.gs_in_cb :focus~label,.gs_in_ra :focus~label{outline:1px dotted #222;outline:auto -webkit-focus-ring-color;}.gs_pfcs .gs_in_cb :focus~label,.gs_pfcs .gs_in_ra :focus~label{outline:none;}.gs_in_cb:active .gs_cbx,.gs_in_ra:active .gs_cbx,.gs_in_cb .gs_cbx:active,.gs_in_ra .gs_cbx:active,.gs_in_cb :active~.gs_cbx,.gs_in_ra :active~.gs_cbx{border-color:#666;background-color:#ebebeb;}button.gs_in_cb:active .gs_cbx{border-color:#a6a6a6;}.gs_in_cb :disabled~.gs_cbx,.gs_in_ra :disabled~.gs_cbx,button.gs_in_cb:disabled .gs_cbx{border-color:#f1f1f1;box-shadow:none;}.gs_in_cb :disabled~label,.gs_in_ra :disabled~label{color:#b8b8b8;}.gs_in_cb.gs_err .gs_cbx{border-color:#eda29b;}.gs_in_cb .gs_chk,.gs_in_ra .gs_chk{position:absolute;z-index:1;top:-3px;left:-2px;width:21px;height:21px;}.gs_md_li .gs_chk{top:3px;left:14px}.gs_el_tc .gs_in_cb .gs_chk{top:5px}.gs_el_tc .gs_md_li .gs_chk{top:11px}.gs_in_cb.gs_in_cbj .gs_chk{top:10px;left:11px}.gs_in_ra .gs_chk{top:4px;left:4px;width:7px;height:7px;border-radius:4px;}.gs_el_tc .gs_in_ra .gs_chk{top:12px}.gs_in_cb input:checked~.gs_chk,.gs_in_cb.gs_sel .gs_chk{background:no-repeat url(/intl/en/scholar/images/1x/sprite_20161020.png) -69px -67px;opacity:.62;}.gs_in_ra input:checked~.gs_chk{background-color:#666}.gs_in_cb.gs_par .gs_chk{background:no-repeat url(/intl/en/scholar/images/1x/sprite_20161020.png) -21px -44px;opacity:.55;}@media(-webkit-min-device-pixel-ratio:1.5),(min-resolution:144dpi){.gs_in_cb input:checked~.gs_chk,.gs_in_cb.gs_sel .gs_chk,.gs_in_cb.gs_par .gs_chk{background-image:url(/intl/en/scholar/images/2x/sprite_20161020.png);background-size:169px;}}.gs_in_cb input:checked:disabled~.gs_chk{opacity:.22}.gs_in_ra input:checked:disabled~.gs_chk{background-color:#f1f1f1}.gs_ico_x{background-position:-113px -22px;opacity:.55;}.gs_ico_x:hover{opacity:.72;}.gs_ico_x:active{opacity:1;}.gs_ico_X{background-position:-71px 0;opacity:.55;}.gs_ico_X:hover{opacity:.72;}.gs_ico_X:active{opacity:1;}.gs_btnX .gs_ico{background-position:-71px 0;}.gs_el_tc .gs_ico_Xt{background-origin:content-box;background-clip:content-box;padding:10px 6px 10px 14px;}.gs_ico_P{background-position:0 0;opacity:.55;}.gs_ico_P:hover{opacity:.72;}.gs_ico_P:active{opacity:1;}.gs_btnPLS .gs_ico{background-position:0 0;}.gs_btnP .gs_ico{background-position:-21px 0;}.gs_btnC .gs_ico{background-position:0 -66px;}.gs_btnL .gs_ico{background-position:-92px -44px;}.gs_ico_LB{background-position:-50px -44px;height:16px;}.gs_btnJ .gs_ico{background-position:-92px -22px;}.gs_btnM .gs_ico{background-position:-92px 0;}.gs_btnMW .gs_ico{background-position:-21px -22px;}.gs_btnSB .gs_ico{background-position:0 -44px;}.gs_btnTSB .gs_ico{background-position:-115px -253px;}.gs_btnPL .gs_ico{background-position:-148px -66px;}.gs_btnPR .gs_ico{background-position:-21px -66px;}.gs_btnPLW .gs_ico{background-position:-0 -230px;}.gs_btnPRW .gs_ico{background-position:-23px -230px;}.gs_btnZI .gs_ico{background-position:-148px -22px;}.gs_btnZO .gs_ico{background-position:-127px -44px;}.gs_btnDE .gs_ico{background-position:-134px 0;}.gs_btnFI .gs_ico{background-position:-50px -66px;}.gs_btnAD .gs_ico{background-position:-141px -88px;opacity:.55;}.gs_btnAD:hover .gs_ico{opacity:.72;}.gs_btnAD:active .gs_ico,.gs_btnAD .gs_ico:active,.gs_btnAD :active~.gs_ico{opacity:1;}.gs_btnBA .gs_ico{background-position:-50px -22px;}.gs_btnADD .gs_ico{background-position:-92px -66px;}.gs_btnMRG .gs_ico{background-position:-113px 0;}.gs_btnLBL .gs_ico{background-position:0 -161px;}.gs_btnCNCL .gs_ico{background-position:-71px 0;}.gs_btnDWL .gs_ico{background-position:-28px -88px;}.gs_btnMNU .gs_ico{background-position:0 -88px;}.gs_btnMNT .gs_ico{background-position:-46px -161px;}.gs_btnALT .gs_ico{background-position:-92px -161px;}.gs_btnART .gs_ico{background-position:-115px -161px;}.gs_btnGSL .gs_ico{background-position:-69px -161px;}.gs_btnCLS .gs_ico{background-position:-138px -161px;}.gs_btnXBLU .gs_ico{background-position:-138px -253px;}.gs_btnSSB .gs_ico{background-position:0 -276px;}.gs_btnSSW .gs_ico{background-position:-23px -276px;}.gs_btnFLT .gs_ico{background-position:0 -184px;}.gs_btnXT .gs_ico{background-position:-46px -184px;}.gs_btnPD .gs_ico{background-position:-69px -184px;}.gs_btnPU .gs_ico {background-position:-92px -276px;}.gs_btnCP .gs_ico{background-position:-92px -184px;}.gs_btnTP .gs_ico{background-position:-138px -184px;}.gs_btnML .gs_ico{background-position:-115px -276px;}.gs_btnCHK .gs_ico{background-position:-71px -66px;}.gs_btnDNB .gs_ico{background-position:-115px -230px;}.gs_btnDNW .gs_ico{background-position:0 -207px;}.gs_btnACA .gs_ico{background-position:-23px -207px;}.gs_btnAPT .gs_ico{background-position:-46px -207px;}.gs_btnAPTW .gs_ico{background-position:-92px -230px;}.gs_btnAFL .gs_ico{background-position:-69px -207px;}.gs_btnAN .gs_ico{background-position:-46px -276px;}.gs_btnAI .gs_ico{background-position:-69px -276px;}.gs_btnPBL .gs_ico{background-position:-92px -207px;}.gs_btnUCT .gs_ico{background-position:-115px -207px;}.gs_btnVRF .gs_ico{background-position:-138px -207px;}.gs_btnLSI .gs_ico{background-position:-46px -230px;}.gs_btnLSG .gs_ico{background-position:-69px -230px;}.gs_btnMOR .gs_ico{background-position:-23px -253px;}.gs_btnADV .gs_ico{background-position:-46px -253px;}.gs_btnPRO .gs_ico{background-position:-69px -253px;}.gs_btnLAB .gs_ico{background-position:-69px -345px;}.gs_ico_star{background-position:-71px -44px;width:13px;height:13px;}.gs_btnPLSW .gs_ico{background-position:-138px -230px;}.gs_btnPDF .gs_ico{background-position:0 -253px;}.gs_btnS .gs_ico{background-position:-138px -276px;}.gs_btnUNS .gs_ico{background-position:0 -299px;}.gs_btnMORR .gs_ico{background-position:-23px -299px;}.gs_btnTW .gs_ico{background-position:-46px -299px;}.gs_btnIN .gs_ico{background-position:-69px -299px;}.gs_btnFB .gs_ico{background-position:-92px -299px;}.gs_btnET .gs_ico{background-position:-115px -299px;}.gs_btnARC .gs_ico{background-position:-138px -299px;}.gs_btnOL .gs_ico{background-position:0px -322px;}.gs_btnFA .gs_ico{background-position:-23px -322px;}.gs_btnFAD .gs_ico{background-position:-46px -322px;}.gs_btnHP .gs_ico{background-position:-69px -322px;}.gs_btnPLM .gs_ico{background-position:-92px -322px;}.gs_btnPRM .gs_ico{background-position:-115px -322px;}.gs_btnRN .gs_ico{background-position:-138px -322px;}.gs_btnVF .gs_ico{background-position:0px -345px;}.gs_btnVP .gs_ico{background-position:-23px -345px;}.gs_btnSRT .gs_ico{background-position:-46px -345px;}#gs_md_s.gs_hdr_drs{transition:opacity .15s,visibility 0s .15s;}#gs_md_s.gs_hdr_drs.gs_vis{transition:opacity .15s,visibility 0s;}.gs_el_tc #gs_md_s.gs_hdr_drs{transition:opacity .218s,visibility 0s .218s;}.gs_el_tc #gs_md_s.gs_hdr_drs.gs_vis{transition:opacity .218s,visibility 0s;}#gs_hdr_drw{position:fixed;top:0;left:0;height:100%;z-index:1200;visibility:hidden;overflow:auto;width:228px;background-color:#fff;box-shadow:2px 2px 4px rgba(0,0,0,.15);outline:none;transform:translate(-100%,0);transition:transform .15s ease-in-out,visibility 0s .15s;}#gs_hdr_drw.gs_vis{visibility:visible;transform:translate(0,0);transition:transform .15s ease-in-out,visibility 0s;}.gs_el_tc #gs_hdr_drw{transition:transform .3s cubic-bezier(.4,0,.6,1),visibility 0s .3s;}.gs_el_tc #gs_hdr_drw.gs_vis{transition:transform .225s cubic-bezier(0,0,.2,1),visibility 0s;}#gs_top #gs_hdr_drw.gs_abt,#gs_top #gs_md_s.gs_abt{transition:none;}#gs_hdr_drw_in{position:relative;box-sizing:border-box;min-height:100%;padding:0 0 8px 0;}.gs_el_ta #gs_hdr_drw_in,.gs_el_ph #gs_hdr_drw_in{padding:0 0 65px 0;}#gs_hdr_drw_top{position:relative;height:63px;border-bottom:1px solid #e5e5e5;margin-bottom:8px;}.gs_el_ta #gs_hdr_drw_top,.gs_el_ph #gs_hdr_drw_top{height:57px;}#gs_hdr_drw_mnu,#gs_hdr_drw_lgo{position:absolute;top:0;height:100%;}#gs_hdr_drw_mnu{left:0;width:55px;}#gs_hdr_drw_lgo{left:56px;}.gs_hdr_drw_sec:before{display:block;content:\" \";height:0;border-bottom:1px solid #e5e5e5;margin:8px 0;}.gs_hdr_drw_sec:first-child:before{display:none;}#gs_hdr_drw_bot{display:none;}.gs_el_ta #gs_hdr_drw_bot,.gs_el_ph #gs_hdr_drw_bot{display:block;position:absolute;left:0;bottom:0;width:100%;height:65px;}#gs_hdr_drw_bot .gs_md_li:before{opacity:0;}#gs_hdr_drw_bot .gs_hdr_pp{display:block;position:absolute;bottom:14px;left:15px;pointer-events:none;}#gs_hdr_drw_bot .gs_lbl{display:block;white-space:nowrap;overflow:hidden;text-overflow:ellipsis;}#gs_hdr{position:relative;height:63px;background-color:#f5f5f5;border-bottom:1px solid #e5e5e5;display:flex;}.gs_el_ta #gs_hdr,.gs_el_ph #gs_hdr{height:57px;}#gs_hdr_mnu,#gs_hdr_bck,#gs_hdr_lgo,#gs_hdr_lgt,#gs_hdr_md,#gs_hdr_sre,#gs_hdr_act{display:inline-block;vertical-align:top;position:relative;height:100%;flex:0 0 auto;}#gs_hdr_md{flex:1 1 auto;}#gs_hdr .gs_hdr_mbo,#gs_hdr .gs_hdr_mbo,.gs_el_ta #gs_hdr .gs_hdr_dso,.gs_el_ph #gs_hdr .gs_hdr_dso{display:none;}.gs_el_ta #gs_hdr .gs_hdr_mbo,.gs_el_ph #gs_hdr .gs_hdr_mbo{display:inline-block;}#gs_hdr_mnu,#gs_hdr_bck,#gs_hdr_sre{width:55px;margin-right:1px;}#gs_hdr_lgo,#gs_hdr_drw_lgo{width:149px;background:no-repeat url('/intl/en/scholar/images/1x/scholar_logo_24dp.png') 0% 50%;background-size:149px;}@media(-webkit-min-device-pixel-ratio:1.5),(min-resolution:144dpi){#gs_hdr_lgo,#gs_hdr_drw_lgo{background-image:url('/intl/en/scholar/images/2x/scholar_logo_24dp.png');}}#gs_hdr_lgo{margin-right:31px;}.gs_el_ph #gs_hdr_lgo{margin-right:0;}#gs_hdr_lgt{min-width:164px;margin-right:16px;}.gs_el_sm #gs_hdr_lgt:empty{display:none;}#gs_hdr_md{margin-right:16px;min-width:1px;}#gs_hdr_lgt,#gs_hdr_md h1{padding:19px 0 0 0;white-space:nowrap;overflow:hidden;text-overflow:ellipsis;font-size:20px;line-height:25px;font-weight:normal;color:#666;max-width:100%;text-align:left;}.gs_el_ta #gs_hdr_md h1,.gs_el_ph #gs_hdr_md h1{padding:16px 0 0 0;}#gs_hdr_srch{padding:14px 0 0 0;max-width:600px;}.gs_el_ta #gs_hdr_srch,.gs_el_ph #gs_hdr_srch{padding:10px 0 0 0;max-width:none;}#gs_hdr_frm{position:relative;padding-right:39px;}#gs_hdr_tsi{height:38px;border-radius:2px 0 0 2px;}#gs_hdr_tsi::-ms-clear{display:none;}#gs_hdr_tsc{display:none;position:absolute;top:3px;right:41px;width:21px;height:21px;padding:6px 10px 7px 10px;}.gs_in_acw[dir=\"rtl\"]~#gs_hdr_tsc{right:auto;left:1px;}#gs_hdr_tsb{position:absolute;top:0;right:0;width:40px;height:38px;border-radius:0 2px 2px 0;}#gs_hdr_frm_ac{top:37px;right:40px;}.gs_el_ph #gs_hdr_frm_ac{right:0;}.gs_el_ph .gs_hdr_ifc #gs_hdr_mnu,.gs_el_ph .gs_hdr_ifc #gs_hdr_bck,.gs_hdr_src #gs_hdr_srch,.gs_hdr_src #gs_hdr_lgt,.gs_hdr_srx #gs_hdr_sre,.gs_hdr_srx #gs_hdr_md h1,.gs_hdr_srx #gs_hdr_md h1.gs_hdr_mbo,.gs_hdr_srx #gs_hdr_md h1.gs_hdr_dso,.gs_el_ta .gs_hdr_srx #gs_hdr_lgo,.gs_el_ph .gs_hdr_srx #gs_hdr_lgo,.gs_el_ph .gs_hdr_srx #gs_hdr_mnu,.gs_el_ph .gs_hdr_srx #gs_hdr_bck{display:none;}.gs_el_ph .gs_hdr_ifc #gs_hdr_md,.gs_el_ph .gs_hdr_srx #gs_hdr_md{margin-left:16px;}.gs_el_tc .gs_hdr_tsc #gs_hdr_tsi[dir=\"ltr\"]{padding-right:41px;}.gs_el_tc .gs_hdr_tsc #gs_hdr_tsi[dir=\"rtl\"]{padding-left:41px;}.gs_el_tc .gs_hdr_tsc .gs_in_acw~#gs_hdr_tsc{display:block;}#gs_hdr_act{min-width:64px;max-width:200px;text-align:right;float:right;}.gs_el_ta #gs_hdr_act,.gs_el_ph #gs_hdr_act{display:none;}#gs_hdr_act_i,#gs_hdr_act_s{display:inline-block;padding:23px 24px 23px 16px;max-width:100%;box-sizing:border-box;font-size:13px;line-height:17px;white-space:nowrap;overflow:hidden;text-overflow:ellipsis;color:#444;}#gs_hdr_act_s{text-transform:uppercase;}.gs_el_sm #gs_hdr_act_i,.gs_el_sm #gs_hdr_act_s{padding:23px 16px;}.gs_el_ta #gs_hdr_act_i,.gs_el_ta #gs_hdr_act_s,.gs_el_ph #gs_hdr_act_i,.gs_el_ph #gs_hdr_act_s{padding:20px 16px;}#gs_hdr_act_i:active,#gs_hdr_act_s:active{color:#d14836;}#gs_hdr_act_i,.gs_el_sm #gs_hdr_act_i{padding-top:15px;padding-bottom:16px;}.gs_el_ta #gs_hdr_act_i,.gs_el_ph #gs_hdr_act_i{padding-top:12px;padding-bottom:13px;}#gs_hdr_act_i .gs_hdr_pp{vertical-align:top;}#gs_hdr_act_d{top:63px;left:auto;right:24px;min-width:288px;max-width:400px;}.gs_el_sm #gs_hdr_act_d{right:16px;}.gs_el_ta #gs_hdr_act_d{top:57px;}.gs_el_ph #gs_hdr_act_d{top:57px;min-width:280px;max-width:280px;max-width:90vw;}/* Account dialog body. */#gs_hdr_act_aw,#gs_hdr_act_ap,.gs_hdr_act_am,#gs_hdr_act_ab{display:block;padding:10px 20px;word-wrap:break-word;white-space:normal;}#gs_hdr_act_aw{background-color:#fef9db;font-size:11px;}#gs_hdr_act_ap,.gs_hdr_act_am{border-bottom:1px solid #ccc;}#gs_hdr_act_ap{padding:20px;}.gs_el_ph #gs_hdr_act_ap{padding:10px;}#gs_hdr_act_apb{margin-top:12px;}#gs_hdr_act_aa:link,#gs_hdr_act_aa:visited{float:right;margin-left:8px;color:#1a0dab;}#gs_hdr_act_aa:active{color:#d14836}.gs_hdr_act_am:link,.gs_hdr_act_am:visited{color:#222;text-decoration:none;background:#fbfbfb;}.gs_hdr_act_am:hover,.gs_hdr_act_am:focus{background:#f1f1f1;}.gs_hdr_act_am:active{background:#eee;}#gs_hdr_act_ab{background:#fbfbfb;padding:10px 0;display:table;width:100%;white-space:nowrap;}#gs_hdr_act_aba,#gs_hdr_act_abs{display:table-cell;padding:0 20px;}#gs_hdr_act_abs{text-align:right;}.gs_el_ph #gs_hdr_act_aba,.gs_el_ph #gs_hdr_act_abs{display:block;padding:10px;text-align:center;}.gs_el_ph #gs_hdr_act_aba button,.gs_el_ph #gs_hdr_act_abs button{width:100%;}#gs_hdr_act_a1,#gs_hdr_act_a2{position:absolute;top:-9px;right:7.5px;width:0;height:0;z-index:1;border:8.5px solid transparent;border-top:none;border-bottom-color:#333;border-bottom-color:rgba(0,0,0,.2);}#gs_hdr_act_a2{top:-8px;border-bottom-color:#fff;}.gs_hdr_act_mw #gs_hdr_act_a2{border-bottom-color:#fef9db;}.gs_hdr_pp{border-radius:50%;overflow:hidden;}#gs_hdr_act_ap .gs_hdr_pp,.gs_hdr_act_am .gs_hdr_pp{float:left;}#gs_hdr_act_ap .gs_hdr_pm{margin-left:116px;}.gs_hdr_act_am .gs_hdr_pm{margin:6px 0 0 58px;}#gs_ab{position:relative;height:41px;border-bottom:1px solid #e5e5e5;display:flex;white-space:nowrap;background-color:#fff;z-index:1000;}.gs_el_ta #gs_ab.gs_nta,.gs_el_ph #gs_ab.gs_nph{display:none;}.gs_sth_vis #gs_ab{position:fixed;}#gs_ab_ico,#gs_ab_ttl,#gs_ab_md,#gs_ab_btns{display:inline-block;vertical-align:top;position:relative;height:100%;flex:0 0 auto;}.gs_el_ph #gs_ab_md{display:block;}#gs_ab_ico{width:55px;margin-right:1px;}#gs_ab_ico .gs_ico{position:absolute;top:50%;left:50%;margin:-10.5px 0 0 -10.5px;}#gs_ab_ttl{min-width:172px;padding-right:8px;}.gs_el_sm #gs_ab_ttl{min-width:68px;}.gs_el_ta #gs_ab_ttl,.gs_el_ph #gs_ab_ttl{min-width:0;}#gs_ab_ttl,#gs_ab_ttll{font-size:18px;color:#666;text-transform:none;}.gs_el_sm #gs_ab_ttl,.gs_el_sm #gs_ab_ttll{font-size:16px;}#gs_ab_ttll{overflow:hidden;text-overflow:ellipsis;max-width:200px;}#gs_ab_md{flex:1 0 auto;}.gs_ab_st #gs_ab_md{flex:1 1 auto;font-size:13px;line-height:17px;padding:0 8px;color:#999;overflow:hidden;text-overflow:ellipsis;}.gs_el_ph .gs_ab_st #gs_ab_md{visibility:hidden;padding:0;}#gs_ab_btns{margin-right:8px;}.gs_el_sm #gs_ab_btns{margin-right:0;}.gs_el_ta #gs_ab_btns,.gs_el_ph #gs_ab_btns{margin-right:4px;}#gs_ab_ttl:before,#gs_ab_md:before,#gs_ab_btns:before{content:\"\";display:inline-block;width:0;height:100%;vertical-align:middle;}#gs_ab_md>button,#gs_ab_btns>button,#gs_ab_md>.gs_in_ib,#gs_ab_btns>.gs_in_ib,#gs_ab_md>.gs_md_r,#gs_ab_btns>.gs_md_r,#gs_ab .gs_ab_mdw,#gs_ab .gs_ab_btw{margin:0 8px;vertical-align:middle;}#gs_ab .gs_ab_mdw,.gs_ab_btw{display:inline-block;margin:0;}#gs_ab_btns>.gs_in_ib{margin:0 16px 0 8px;}#gs_ab .gs_ab_btw{margin:0 12px 0 16px;}.gs_el_ta .gs_ab_sel #gs_ab_ico,.gs_el_ph .gs_ab_sel #gs_ab_ico,.gs_el_ta .gs_ab_sel #gs_ab_ttl,.gs_el_ph .gs_ab_sel #gs_ab_ttl,.gs_el_ta .gs_ab_sel #gs_ab_btns,.gs_el_ph .gs_ab_sel #gs_ab_btns{display:none;}#gs_bdy{display:table;table-layout:fixed;width:100%;}#gs_bdy_sb{vertical-align:top;width:228px;word-wrap:break-word;display:table-cell;}.gs_el_sm #gs_bdy_sb{display:none;}.gs_el_ta #gs_bdy_sb,.gs_el_ph #gs_bdy_sb{display:none;}.gs_bdy_sb_sec{margin:0 40px 0 56px;}.gs_bdy_sb_sec:before{display:block;content:\" \";height:0;margin:13px 0;border-top:1px solid #eee;}.gs_bdy_sb_sec:first-child:before{margin:21px 0 0 0;border:none;}#gs_bdy_sb ul{list-style-type:none;}.gs_bdy_sb_sec a:link,.gs_bdy_sb_sec a:visited{color:#222;}.gs_bdy_sb_sec a:active{color:#d14836;}.gs_bdy_sb_sel a:link,.gs_bdy_sb_sel a:visited{color:#d14836;text-decoration:none;}.gs_el_tc .gs_bdy_sb_sec li.gs_ind,.gs_el_tc .gs_bdy_sb_sec li.gs_ind a{padding-top:8px;padding-bottom:5px;}.gs_el_tc .gs_bdy_sb_sec:first-child li.gs_ind:first-child{margin-top:-8px;}#gs_bdy_sb .gs_ind,#gs_bdy_sb .gs_inw{margin-bottom:6px;}.gs_el_tc #gs_bdy_sb .gs_ind,.gs_el_tc #gs_bdy_sb .gs_inw{margin-bottom:0;}#gs_bdy_ccl{display:table-cell;vertical-align:top;padding:0 24px 0 16px;}.gs_el_sm #gs_bdy_ccl{padding:0 16px 0 56px;}.gs_el_ta #gs_bdy_ccl,.gs_el_ph #gs_bdy_ccl{padding:0 16px 0 56px;}.gs_el_ph #gs_bdy_ccl{padding:0 16px;}#gs_ftr_sp{height:62px;}.gs_el_sm #gs_ftr_sp{height:57px;}#gs_ftr{position:absolute;bottom:0;left:0;width:100%;white-space:nowrap;border-top:1px solid #e4e4e4;background-color:#f2f2f2;display:flex;}#gs_ftr.gs_pfix{position:fixed;}#gs_ftr_rt{box-sizing:border-box;max-width:100%;overflow-x:auto;margin-left:auto;padding:0 12px;}.gs_el_sm #gs_ftr_rt{padding:0 8px;}.gs_el_ph #gs_ftr_rt:after{content:\" \";position:absolute;top:0;right:0;width:16px;height:100%;background-image:linear-gradient(to right,rgba(242,242,242,0),rgba(242,242,242,1) 80%);}#gs_ftr_rt>a{display:inline-block;line-height:16px;padding:12px;white-space:nowrap;}.gs_el_sm #gs_ftr_rt>a{padding:12px 8px;}#gs_ftr_rt>a:link,#gs_ftr_rt>a:visited{color:#666}#gs_ftr_rt>a:active{color:#d14836}#gs_ftr_mnu{top:auto;bottom:48px;left:auto;right:24px;padding:8px 0;}.gs_el_sm #gs_ftr_mnu{right:16px;}#gsc_mp_ccl{max-width:862px;padding:21px 0;margin-left:-8px;}.gs_el_sm #gsc_mp_ccl{padding:16px 0;margin-left:0;}#gsc_mp_nav{position:relative;height:41px;margin:-5px 0 8px 0;}.gs_el_ph #gsc_mp_nav{margin:-16px 0 0 0;}#gsc_mp_nav_left{margin-left:7px;}.gs_el_sm #gsc_mp_nav_left{margin-left:-10px;}#gsc_mp_nav_right{position:absolute;top:0;right:0;}#gsc_mp_nav_right .gs_md_d{left:auto;right:0;}#gsc_mp_desc{word-wrap:break-word;}#gsc_mp_desc:empty{display:none;}.gsc_mp_desc_inner{padding:0 8px 8px 8px;}.gs_el_sm .gsc_mp_desc_inner{padding:0 0 8px 0;}#gsc_mp_disclaimer{margin:21px 0 -21px 0;font-style:italic;text-align:center;}.gs_el_sm #gsc_mp_disclaimer{margin:16px 0 -16px 0;}#gsc_mp_disclaimer:empty{display:none;}.gsc_mp_anchor:link,.gsc_mp_anchor:visited{color:#222;text-decoration:underline;}.gsc_mp_anchor:active{color:#d14836;}.gs_el_tc .gsc_mp_anchor,.gs_el_tc .gsc_mp_anchor_lrge{padding:8px 0 5px 0;}.gsc_mp_table_wrapper{border-right:1px solid #ebebeb;border-left:1px solid #ebebeb;}.gsc_mp_table{width:100%;background-color:#fff;}.gsc_mp_row_highlight{background-color:#ffc;}.gsc_pgn{text-align:right;font-weight:bold;line-height:29px;}.gsc_pgn_ppn{margin:0 8px;}.gsc_mvt_table_wrapper{border-right:1px solid #ebebeb;border-left:1px solid #ebebeb;}.gsc_mvt_table_wrapper.gsc_mvt_lmi{border:none;margin:0;}#gsc_mvt_table{table-layout:fixed;}.gsc_mvt_p,.gsc_mvt_t,.gsc_mvt_n{font-weight:normal;padding:8px;border-bottom:1px solid #ebebeb;text-align:center;vertical-align:middle;}th.gsc_mvt_p,th.gsc_mvt_t,th.gsc_mvt_n{height:48px;box-sizing:border-box;padding:0 8px;}th.gsc_mvt_n{width:82px;word-wrap:break-word;}.gs_el_ph th.gsc_mvt_n{width:56px;padding:0 4px;}.gsc_mvt_t{text-align:left;word-wrap:break-word;}.gs_el_ph .gsc_mvt_p{padding:0;text-align:right;}th.gsc_mvt_p{width:60px;}.gs_el_ph th.gsc_mvt_p{width:32px;}.gsc_mvt_t,th.gsc_mvt_t{padding-left:12px;}.gsc_mvt_lmi .gsc_mvt_p,.gs_el_ta .gsc_mvt_lmi .gsc_mvt_p{text-align:right;padding:0;}.gsc_mvt_lmi th.gsc_mvt_p{width:21px;}.gsc_mphm{display:none;padding:8px 0;}.gsc_mphm_show{display:block;}.gsc_mphm_ha{margin-left:8px;}#gsc_mcn{height:41px;position:relative;}.gsc_mcn_ar{pointer-events:none;vertical-align:-1px;}#gsc_mcn_sb-r{position:static;}#gsc_mcn_sb .gs_md_ul{width:270px;}.gs_el_ta #gsc_mcn_sb .gs_md_ul,.gs_el_ph #gsc_mcn_sb .gs_md_ul{display:block;}#gsc_mcn_sb .gs_md_li{white-space:normal;}.gsc_mcn_lc #gsc_mcn_acb_lbl{max-width:90px;overflow:hidden;text-overflow:ellipsis;white-space:nowrap;}</style><script>!function(GSP){var aa=function(a){var b=0;return function(){return b<a.length?{done:!1,value:a[b++]}:{done:!0}}},ba=typeof Object.defineProperties==\"function\"?Object.defineProperty:function(a,b,c){if(a==Array.prototype||a==Object.prototype)return a;a[b]=c.value;return a},ca=function(a){a=[\"object\"==typeof globalThis&&globalThis,a,\"object\"==typeof window&&window,\"object\"==typeof self&&self,\"object\"==typeof global&&global];for(var b=0;b<a.length;++b){var c=a[b];if(c&&c.Math==Math)return c}throw Error(\"Cannot find global object\");\n",
      "},da=ca(this),l=function(a,b){if(b)a:{var c=da;a=a.split(\".\");for(var d=0;d<a.length-1;d++){var e=a[d];if(!(e in c))break a;c=c[e]}a=a[a.length-1];d=c[a];b=b(d);b!=d&&b!=null&&ba(c,a,{configurable:!0,writable:!0,value:b})}};\n",
      "l(\"Symbol\",function(a){if(a)return a;var b=function(f,g){this.ba=f;ba(this,\"description\",{configurable:!0,writable:!0,value:g})};b.prototype.toString=function(){return this.ba};var c=\"jscomp_symbol_\"+(Math.random()*1E9>>>0)+\"_\",d=0,e=function(f){if(this instanceof e)throw new TypeError(\"Symbol is not a constructor\");return new b(c+(f||\"\")+\"_\"+d++,f)};return e});var ea=typeof Object.create==\"function\"?Object.create:function(a){var b=function(){};b.prototype=a;return new b},fa;\n",
      "if(typeof Object.setPrototypeOf==\"function\")fa=Object.setPrototypeOf;else{var ha;a:{var ja={a:!0},ka={};try{ka.__proto__=ja;ha=ka.a;break a}catch(a){}ha=!1}fa=ha?function(a,b){a.__proto__=b;if(a.__proto__!==b)throw new TypeError(a+\" is not extensible\");return a}:null}\n",
      "var la=fa,ma=function(a,b){a.prototype=ea(b.prototype);a.prototype.constructor=a;if(la)la(a,b);else for(var c in b)if(c!=\"prototype\")if(Object.defineProperties){var d=Object.getOwnPropertyDescriptor(b,c);d&&Object.defineProperty(a,c,d)}else a[c]=b[c];a.ra=b.prototype};l(\"Symbol.dispose\",function(a){return a?a:Symbol(\"Symbol.dispose\")});\n",
      "l(\"Math.trunc\",function(a){return a?a:function(b){b=Number(b);if(isNaN(b)||b===Infinity||b===-Infinity||b===0)return b;var c=Math.floor(Math.abs(b));return b<0?-c:c}});var na=function(a){a=Math.trunc(a)||0;a<0&&(a+=this.length);if(!(a<0||a>=this.length))return this[a]};l(\"Array.prototype.at\",function(a){return a?a:na});var n=function(a){return a?a:na};l(\"Int8Array.prototype.at\",n);l(\"Uint8Array.prototype.at\",n);l(\"Uint8ClampedArray.prototype.at\",n);l(\"Int16Array.prototype.at\",n);\n",
      "l(\"Uint16Array.prototype.at\",n);l(\"Int32Array.prototype.at\",n);l(\"Uint32Array.prototype.at\",n);l(\"Float32Array.prototype.at\",n);l(\"Float64Array.prototype.at\",n);l(\"String.prototype.at\",function(a){return a?a:na});/*\n",
      "\n",
      " Copyright The Closure Library Authors.\n",
      " SPDX-License-Identifier: Apache-2.0\n",
      "*/\n",
      "var oa=function(a,b){var c=Array.prototype.slice.call(arguments,1);return function(){var d=c.slice();d.push.apply(d,arguments);return a.apply(this,d)}};var t=function(){this.D=this.D;this.I=this.I};t.prototype.D=!1;t.prototype.isDisposed=function(){return this.D};t.prototype.dispose=function(){this.D||(this.D=!0,this.N())};t.prototype[Symbol.dispose]=function(){this.dispose()};t.prototype.N=function(){if(this.I)for(;this.I.length;)this.I.shift()()};var pa=function(){};function u(a,b){a.classList.add(b)}function v(a,b){a.classList.remove(b)}function w(a,b){return a.classList?a.classList.contains(b):!1}function x(a,b,c){c=c!==void 0?c:!w(a,b);(c?u:v)(a,b)};function z(a){return(navigator.userAgent||\"\").indexOf(a)>=0}var qa=z(\"iPhone\")||z(\"iPad\")||z(\"iPod\"),ra=z(\"iPhone\")||z(\"Android\")&&z(\"Mobile\");function sa(){if(b===void 0){var a=window.screen;a={width:window.innerWidth,height:window.innerHeight,pa:a.width,oa:a.height}}else a=b;var b=a;a=b.width;var c=b.height,d=b.pa;b=b.oa;var e=4;if(a<600||d*b<48E4||ra)e=1;else if(a<982)e=2;else if(a<1136||c<590)e=3;return e}var ta,ua=/[?&]tc=([01])/.exec(location.search||\"\");\n",
      "ta=ua?+ua[1]>0:z(\"Android\")?!0:window.matchMedia&&window.matchMedia(\"(pointer)\").matches?window.matchMedia(\"(pointer:coarse)\").matches:!z(\"Firefox\")||z(\"Mobile\")||z(\"Tablet\")?qa||\"ontouchstart\"in window||(navigator.msMaxTouchPoints||0)>0:!1;function va(){if(wa==void 0){wa=!1;try{var a=Object.defineProperty({},\"passive\",{get:function(){wa=!0}});window.addEventListener(\"testPassive\",pa,a);window.removeEventListener(\"testPassive\",pa,a)}catch(b){}}return wa}var wa;var xa=new function(){this.qa=\"INPUT\"};function D(a){return document.getElementById(a)}function E(a){return a.id||(a.id=\"gs_id\"+ya++)}function za(a){a=(a===void 0?null:a)||document.body;return(a?window.getComputedStyle(a,null):null).direction==\"rtl\"}function Aa(a){var b=[];a=a.elements;for(var c=a.length,d=0;d<c;d++){var e=a[d],f=encodeURIComponent(e.name||\"\"),g=e.type;!f||e.disabled||!(g!=\"checkbox\"&&g!=\"radio\"||e.checked)||b.push(f+\"=\"+encodeURIComponent(e.value||\"\"))}return b.join(\"&\")}\n",
      "var ya=100,Ba=/\\S+/g,Ca=/^(?:https?:|[^:/?#]*(?:[/?#]|$))/i,Da=/^(?:#|\\/[a-z0-9_-]*(?:[?].*)?$)/i;function F(a){return a.hasOwnProperty(\"gs_uid\")?a.gs_uid:a.gs_uid=++Ea}var Ea=0;var G=function(){this.o=[];this.G={};this.T=this.J=0};G.prototype.add=function(a){var b=F(a);this.G[b]||(this.o.push(a),this.G[b]=this.o.length,++this.J)};G.prototype.remove=function(a){a=F(a);var b=this.G[a];b&&(this.o[b-1]=null,delete this.G[a],--this.J*2<this.o.length&&!this.T&&Ga(this))};G.prototype.notify=function(a){var b=this.o;try{++this.T;for(var c=0;c<b.length;c++){var d=b[c];d&&d.apply(null,arguments)}}finally{!--this.T&&this.J*2<b.length&&Ga(this)}};G.prototype.getSize=function(){return this.J};\n",
      "var Ga=function(a){var b=a.o,c=b.length;a=a.G;for(var d=0,e=0;e<c;e++){var f=b[e];f&&(b[d]=f,a[F(f)]=++d)}b.length=d};function H(a,b,c,d,e){Ha(a,b,c,d===void 0?!1:d,e===void 0?!1:e,Ia)}function I(a,b,c,d){Ha(a,b,c,d===void 0?!1:d,!1,Ja)}function Ka(a,b,c,d){function e(g){I(f,a,e,c);b(g)}var f=document;c=c===void 0?!1:c;H(f,a,e,c,d===void 0?!1:d)}function La(a){Ma?Ma.add(a):a()}var Na=window.requestAnimationFrame?function(a){window.requestAnimationFrame(a)}:function(a){setTimeout(function(){return a(window.performance&&performance.now?performance.now():Date.now())},33)};\n",
      "function Oa(a){a.stopPropagation();a.preventDefault()}function Pa(a){return(a.ctrlKey?1:0)|(a.altKey?2:0)|(a.metaKey?4:0)|(a.shiftKey?8:0)}function Ia(a,b,c,d,e){var f=a.addEventListener;e=e&&va();f.call(a,b,c,e?{passive:e,capture:d}:d)}function Ja(a,b,c,d){a.removeEventListener(b,c,d)}function Ha(a,b,c,d,e,f){if(typeof b===\"string\")f(a,b,c,d,e);else for(var g=b.length,m=0;m<g;m++)f(a,b[m],c,d,e)}function Qa(){Ma.notify();Ma=null}\n",
      "function Ra(){document.readyState==\"complete\"&&(I(document,\"readystatechange\",Ra),Qa())}var Ma,Sa=!!document.attachEvent,Ta=document.readyState;if(Sa?Ta!=\"complete\":Ta==\"loading\")Ma=new G,Sa?H(document,\"readystatechange\",Ra):Ka(\"DOMContentLoaded\",Qa);function Ua(){Ka([\"mousedown\",\"touchstart\"],function(){x(document.documentElement,\"gs_pfcs\",!0);H(document,\"keydown\",Va,!0)},!0,!0)}function Va(a){a.keyCode==9&&(x(document.documentElement,\"gs_pfcs\",!1),I(document,\"keydown\",Va,!0),Ua())}Ua();function Wa(a,b,c,d,e){var f=D(a);Xa(f,function(){u(f,\"gs_vis\");b&&b()},function(){v(f,\"gs_vis\");c&&c()},d,e)}function Ya(a){a=J[a]||[0];return a[a.length-1]}\n",
      "function Xa(a,b,c,d,e,f){f=f===void 0?\"\":f;var g=E(a),m=Ya(g);if(!m||m<Ya(f)){var h=document.activeElement;f=D(f);Za($a(f||a),!0);b&&b();K.push(function(k){J[g].pop();J[g].length||delete J[g];if(!k){(k=e)||h==document.body||(k=h);var p=document.activeElement;if(k)try{k.focus()}catch(A){}else p&&a.contains(p)&&p.blur()}c&&c()});J[g]||(J[g]=[]);J[g].push(K.length);h&&a.contains(h)||setTimeout(function(){var k=d,p=k&&k.type==\"text\";if(!k||p&&ta)k=a;try{k.focus(),p&&(k.value=k.value)}catch(A){}},0)}}\n",
      "function L(a){Za((Ya(a)||1E6)-1,!1)}function ab(a){a=a===void 0?!1:a;K.pop()(a)}function Za(a,b){for(b=b===void 0?!1:b;K.length>a;)ab(b||K.length>a+1)}function $a(a){for(var b=0;a&&!(b=Ya(a.id));)a=a.parentNode;return b}var K=[],J={};H(document,\"click\",function(a){var b=K.length;b&&!Pa(a)&&b>$a(a.target)&&ab(!0)});H(document,\"keydown\",function(a){a.keyCode==27&&!Pa(a)&&K.length&&ab()});\n",
      "H(document,\"focus\",function(a){var b=K.length;if(b)for(var c=$a(a.target);c<b;){var d=\"\",e;for(e in J)if(Ya(e)==b){d=e;break}a:{d=(D(d).getAttribute(\"data-wfc\")||\"\").match(Ba)||[];for(var f=0;f<d.length;f++){var g=D(d[f]);if(g&&g.offsetWidth){d=g;break a}}d=void 0}if(d){Oa(a);d.focus();break}else ab(!0),--b}},!0);var bb={},cb={},db;try{db=window.sessionStorage}catch(a){};function M(a){return typeof a==\"object\"?a:null}function eb(){var a=fb(),b=gb();b=hb(b);a=ib(a);a=jb(a)||\"#\";N=M(b);kb?window.history.replaceState(b,\"\",a):window.location.replace(a)}function jb(a){var b=[],c;for(c in a)b.push(encodeURIComponent(c)+\"=\"+encodeURIComponent(a[c]));return(a=b.sort().join(\"&\"))?\"#\"+a:\"\"}\n",
      "function lb(a){var b={};a=a.split(\"&\");for(var c=0;c<a.length;c++){var d=a[c],e=d.indexOf(\"=\");if(e+1){var f=d.substr(0,e);d=d.substr(e+1)}else f=d,d=\"\";f&&(b[decodeURIComponent(f)]=decodeURIComponent(d))}return b}function mb(){var a=window.location.hash,b=a.indexOf(\"#\")+1;return lb(b?a.substr(b):\"\")}function nb(a,b){for(var c in b){var d=b[c];d!==void 0?a[c]=d:delete a[c]}}function ib(a){var b=mb();nb(b,a);return b}\n",
      "function hb(a){var b=N||M(window.history.state),c={},d;for(d in b)c[d]=b[d];nb(c,a);return c}function ob(){setTimeout(function(){if(!pb){var a=window.history.state;pb=!0;N=M(a);qb.notify()}rb=!1},0)}var qb=new G,N,pb=!1,rb=!0,kb=\"pushState\"in window.history,sb;\n",
      "if(typeof GSP==\"undefined\")sb=!1;else{var tb=.001*Date.now(),ub=GSP.eventId,vb=!1,O,wb=db;if(!(\"nh\"in bb)){var xb=wb&&wb.getItem(\"nh\"),yb;if(xb)try{yb=JSON.parse(xb)}catch(a){}cb.nh=yb}O=cb.nh;O instanceof Array||(O=[]);for(var zb=O.length,Ab=0,Bb=0;Bb<zb;Bb++){var Cb=O[Bb];if(Cb instanceof Array&&Cb.length==2){var Db=Cb[1]==ub;vb=vb||Db;zb-Bb<=10&&+Cb[0]>tb-86400&&!Db&&(O[Ab++]=Cb)}}O.length=Ab;O.push([tb,ub]);var Eb=O,Fb=db;cb.nh=Eb;try{Fb&&Fb.setItem(\"nh\",JSON.stringify(Eb))}catch(a){}sb=vb}\n",
      "var Gb=sb;\"onpageshow\"in window?H(window,\"pageshow\",ob):La(ob);H(window,kb?\"popstate\":\"hashchange\",function(a){document.readyState!=\"loading\"&&(a=a.state,pb=!0,N=M(a),qb.notify())});function Hb(){Ib&&(I(D(\"gs_alrt_l\"),\"click\",Ib),Ib=void 0)}function Jb(){var a=Kb();u(a,\"gs_anm\");u(a,\"gs_vis\");H(document,\"click\",Lb);clearTimeout(Mb);Mb=setTimeout(Lb,4E3);++Nb;setTimeout(Ob,0)}function Lb(){Nb||(I(document,\"click\",Lb),clearTimeout(Mb),Mb=void 0,Hb(),v(Kb(),\"gs_vis\"))}function Kb(){return D(\"gs_alrt\")}function Ob(){Nb=0}var Mb,Nb=0,Ib;La(function(){var a=D(\"gs_alrt_m\");a&&(a.innerHTML&&!Gb&&Jb(),H(window,\"pagehide\",function(){Nb=0;Lb();v(Kb(),\"gs_anm\")}))});function Pb(a,b,c){var d=new XMLHttpRequest;d.onreadystatechange=function(){if(d.readyState==4){var e=d.status,f=d.responseText,g=d.getResponseHeader(\"Content-Type\"),m=d.responseURL,h=window.location,k=h.protocol;h=\"//\"+h.host+\"/\";m&&m.indexOf(k+h)&&m.indexOf(\"https:\"+h)&&(e=0,g=f=\"\");c(e,f,g||\"\")}};d.open(b?\"POST\":\"GET\",a,!0);d.setRequestHeader(\"X-Requested-With\",\"XHR\");b&&d.setRequestHeader(\"Content-Type\",\"application/x-www-form-urlencoded\");b?d.send(b):d.send();return d}\n",
      "function Qb(a){a&&(a.onreadystatechange=function(){},a.abort())};var Rb=function(a,b,c){this.type=a;this.currentTarget=this.target=b;this.j=c===void 0?null:c;this.V=!1};Rb.prototype.stopPropagation=function(){this.j&&this.j.stopPropagation();this.V=!0};var P=function(a){a.j&&Oa(a.j);a.V=!0};var Q=function(a,b){this.W=a;this.na=b},Sb=function(a,b,c){this.W=a;this.types=b;this.listener=c};function Tb(a,b){var c=b.length;if(c){var d=F(a),e=Ub[d];if(!e){e=Ub[d]=[];d=Vb(b[0].W);for(var f in d){var g=Wb[f];g||(g=Wb[f]=Object.create(null));for(var m in d[f]){var h=g[m];h||(h=g[m]=[]);h.push(a)}}Xb(a,e,b[0],Yb);for(f=1;f<c;f++)Xb(a,e,b[f],Zb)}}}function S(a,b,c){$b(new Rb(a,b,c===void 0?null:c))}\n",
      "function T(a,b,c){var d=ac;typeof b===\"string\"&&(bc[0]=b,b=bc);var e=b.length;a=Vb(a);for(var f in a)for(var g in a[f])for(var m=0;m<e;m++)d(f,g,b[m],c)}function Vb(a){typeof a===\"string\"&&(cc[0]=a,a=cc);for(var b=a.length,c=Object.create(null),d=0;d<b;d++){var e=a[d],f=e.charAt(0),g=e.substr(1);if(f!=\"#\"&&f!=\".\"||!g)throw Error(\"bad selector: \"+e);(e=c[f])||(e=c[f]=Object.create(null));e[g]=!0}return c}\n",
      "function ac(a,b,c,d){var e=dc[c];e||(c!=\"touchstart\"&&c!=\"mouseover\"&&c!=\"mouseout\"&&c!=\"mouseenter\"&&c!=\"mouseleave\"&&H(document,c,ec,c==\"focus\"||c==\"blur\"),e=dc[c]=Object.create(null));(c=e[a])||(c=e[a]=Object.create(null));(a=c[b])||(a=c[b]=new G);a.add(d)}function ec(a){var b=a.target;b&&b.nodeType==3&&(b=b.parentNode);$b(new Rb(a.type,b,a))}\n",
      "function $b(a){for(var b=a.target;b&&b!=document&&!b.disabled&&!w(b,\"gs_dis\");){a.currentTarget=b;var c=b.id;if(c&&!fc(\"#\",c,a))break;c=b.classList||[];for(var d=c.length,e=0;e<d;e++)if(!fc(\".\",c[e],a))return;b=b.parentNode}}function fc(a,b,c){var d=dc[c.type];(b=(a=d&&d[a])&&a[b])&&b.notify(c);return!c.V}function Xb(a,b,c,d){var e=c.W;c=c.na;for(var f in c){var g=oa(d,a,c[f]);T(e,f,g);b.push(new Sb(e,f,g))}}function Yb(a,b,c){var d=c.currentTarget;a=hc(a,d)||a;a=ic(a,d);b.call(a,c)}\n",
      "function Zb(a,b,c){a:{for(var d=c.currentTarget;d&&d!=document;){var e=hc(a,d);if(e){a=ic(e,d);break a}d=d.parentNode}a=void 0}a&&b.call(a,c)}function ic(a,b){var c=jc(b),d=kc[c];d||(d=kc[c]=[]);for(var e=d.length,f=0;f<e;f++){var g=d[f];if(g instanceof a)return g}b=new a(b);d.push(b);a=F(a);(d=lc[a])||(d=lc[a]=[]);d.push(c);return b}function hc(a,b){var c,d=b.id;d&&(c=mc(a,c,\"#\",d));b=b.classList||[];d=b.length;for(var e=0;e<d;e++)c=mc(a,c,\".\",b[e]);return c}\n",
      "function mc(a,b,c,d){c=(d=(c=Wb[c])&&c[d])?d.length:0;for(var e=0;e<c;e++){var f=d[e];!(f===a||f.prototype instanceof a)||b&&!(f===b||f.prototype instanceof b)||(b=f)}return b}function jc(a){var b=a.getAttribute(\"data-duid\");b||a.setAttribute(\"data-duid\",b=\"\"+nc++);return b}var dc=Object.create(null),cc=[\"\"],bc=[\"\"],Wb=Object.create(null),Ub=Object.create(null),lc=Object.create(null),kc=Object.create(null),nc=100;window.gs_evt_dsp=ec;function oc(){var a=\".gs_md_li\";if(typeof a===\"string\"){var b=a.charAt(0),c=a.slice(1);if(b==\"#\")a=function(d){return d.id==c&&d.offsetWidth>0};else if(b==\".\")a=function(d){return w(d,c)&&d.offsetWidth>0};else throw Error(\"bad selector: \"+a);}return a}function pc(a,b){return a&&((b===void 0?0:b)?a.lastElementChild:a.firstElementChild)}function qc(a,b){return a&&((b===void 0?0:b)?a.previousElementSibling:a.nextElementSibling)}function rc(a,b,c){c=c===void 0?!1:c;return sc(a,b,oc(),c,!1)}\n",
      "function sc(a,b,c,d,e){for(var f;b&&a;){if(c(b)){if(e)return b}else for(f=pc(b,d);f;f=qc(f,d))if(e=sc(f,f,c,d,!0))return e;for(e=!0;;){if(b==a)return null;f=b.parentNode;if(b=qc(b,d))break;b=f}}return null};var tc=[\"false\",\"true\",\"mixed\"];var U=function(){this.F=Object.create(null)};U.prototype.clear=function(){this.F=Object.create(null)};U.prototype.has=function(a){return a in this.F};U.prototype.get=function(a){return this.F[a]};U.prototype.set=function(a,b){this.has(a);this.F[a]=b};U.prototype.delete=function(a){this.has(a)&&delete this.F[a]};var uc=function(a){var b=window,c=this;this.o=new G;this.Z=0;this.X=[b,a,function(){c.Z++||Na(d)},!1];var d=function(){c.Z=0;c.o.notify()}};uc.prototype.addListener=function(a){this.o.getSize()||H.apply(null,this.X);this.o.add(a)};uc.prototype.removeListener=function(a){this.o.remove(a);this.o.getSize()||I.apply(null,this.X)};var vc=new uc(\"scroll\"),wc=new uc(\"resize\");var xc=new G;function yc(){var a=document.documentElement,b=sa();b={gs_el_ph:b==1,gs_el_ta:b==2,gs_el_sm:b!=4,gs_el_tc:ta||b==1};var c;for(c in b){var d=b[c];if(w(a,c)!=d){var e=!0;x(a,c,d)}}e&&xc.notify()}x(document.documentElement,\"gs_el_ios\",qa);yc();wc.addListener(yc);H(window,[\"pageshow\",\"load\"],yc);var zc=function(a,b,c,d,e,f){this.g=a;this.C=b;this.A=c;this.B=d;this.U=e;this.v=f;this.m=null},Ac=function(a,b){a.m=b},Dc=function(){this.l=[];this.i=-1};Dc.prototype.push=function(a){++this.i;this.i==this.l.length?this.l.push(a):(this.l[this.i]=a,this.l.splice(this.i+1,this.l.length-this.i))};Dc.prototype.pop=function(){--this.i};var Ec=function(a){for(var b=W;b.i>a;){var c=b.top().g;L(c)}},Fc=function(a,b){for(var c=0;c<a.l.length&&!(a.l[c].v>=b);++c);return c};Dc.prototype.top=function(){return this.at(this.i)};\n",
      "Dc.prototype.at=function(a){return this.l[a]||null};function Gc(a,b){var c=a==W.i;W.i=a;b&&!N&&!M(window.history.state)&&eb();c||Hc()}function Ic(a){var b=b===void 0?\"\":b;var c=c===void 0?\"\":c;var d=d===void 0?\"\":d;var e=W.top();e&&a==e.g&&b==e.C&&c==e.A||(W.push(new zc(a,b,c,d,e&&e.g==a?e.U+1:1,Date.now())),b=fb(),a=gb(),a=hb(a),b=ib(b),b=jb(b)||\"#\",N=M(a),kb?window.history.pushState(a,\"\",b):window.location.assign(b),Hc())}\n",
      "function Jc(a){a=Kc(D(a));return!!a&&w(a,\"gs_md_wmw\")&&w(document.documentElement,\"gs_el_ph\")}function Lc(){var a=D(\"gs_top\"),b=document.documentElement;a=a.scrollHeight>b.clientHeight;for(var c=!1,d=0;d<=W.i&&!c;++d)c=!Jc(W.at(d).g);x(D(\"gs_md_s\"),\"gs_vis\",c);c=W.i;c>=1&&(c=W.at(c-1).g,d=Jc(c),x(D(c),\"gs_md_ins_vis\",!d));b.style.overflowY=a&&!Jc(W.top().g)?\"scroll\":\"\"}\n",
      "function Hc(){function a(){var y=c.clientHeight,q=+B.getAttribute(\"data-h\");q||(g.style.maxHeight=\"none\",q=f.offsetHeight);var r=f.querySelector(\".gs_md_ftr\");q=Math.max((y-q)/2,10);y=Math.max(y-48-(r?r.offsetHeight:0)-2*q,10);r=Jc(e);f.style.top=r?\"auto\":q+\"px\";g.style.maxHeight=r?\"none\":y+\"px\";Mc(g)}var b=W.top(),c=document.documentElement,d=D(\"gs_top\"),e=b.g,f=D(e),g=D(e+\"-bdy\"),m=1200+W.i,h=D(f.getAttribute(\"data-cid\")||f.id+\"-bdy\")||f,k=b.B,p=b.A,A=b.C,C=D(\"gs_md_s\"),V=D(e).getAttribute(\"data-shd\")||\n",
      "\"\",B=Kc(f),R=window.pageYOffset,Bc=A&&A[0]!=\"#\"&&!k,Cc=W.i>0?W.at(W.i-1).g:\"\",ia=!!J[e];Bc?(ia?x(h,\"gs_md_ldg\",!0):Nc(f,h,'<div class=\"gs_md_prg\">'+D(\"gs_md_ldg\").innerHTML+\"</div>\",b),S(\"gs-md-ldin\",h)):(k&&Nc(f,h,k,b),S(\"gs-md-lded\",h));ia&&e==Cc||Xa(f,function(){(B||f).style.zIndex=m;Oc(V);if(!ia){B&&u(B,\"gs_vis\");u(f,\"gs_vis\");x(f,\"gs_abt\",rb);x(C,\"gs_abt\",rb);Pc(e);if(W.i==0){var y=Lc;xc.add(y);y()}else Lc();B&&g&&(a(),wc.addListener(a))}W.i==0&&(u(d,\"gs_nscl\"),d.style.top=-R+\"px\")},function(){ia||\n",
      "(wc.removeListener(a),B&&v(B,\"gs_vis\"),v(f,\"gs_vis\"),v(f,\"gs_abt\"));for(var y=W.top()?W.top().U:0;W.top()&&W.top().g==e;){var q=W.top();Qb(q.m);q.m=null;W.pop()}if(W.top()){if(q=W.top().g,Oc(D(q).getAttribute(\"data-shd\")||\"\"),v(D(q),\"gs_md_ins_vis\"),ia){a:{q=W;for(var r=q.i;r>=0;r--)if(q.l[r].g==e){q=r;break a}q=-1}r=W.at(q);(B||f).style.zIndex=1200+q;Nc(f,h,r.B,r)}}else v(C,\"gs_vis\"),v(C,\"gs_abt\");W.i==-1?(xc.remove(Lc),c.style.overflowY=\"\",v(d,\"gs_nscl\"),d.style.top=\"auto\",window.scrollTo(0,R)):\n",
      "Lc();Qc||(y>0?window.history.go(-y):eb())},Rc(f),Sc(f),Cc);Bc&&(Qb(b.m),b.m=null,Ac(b,Pb(A,p,function(y,q,r){b.m=null;r=(y=y==200&&r.match(/^text\\/html(;.*)?$/i))?q:Tc();Nc(f,h,r,b);if(y)for(y=e,r=0;r<W.l.length;++r){var Fa=W.at(r);y==Fa.g&&A==Fa.C&&p==Fa.A&&(Fa.B=q,r==W.i&&eb())}S(\"gs-md-lded\",h)})))}function Kc(a){a=a.parentNode;return w(a,\"gs_md_wnw\")?a:null}function Rc(a){return(a=a.getAttribute(\"data-ifc\"))?D(a):null}function Sc(a){return(a=a.getAttribute(\"data-cfc\"))?D(a):null}\n",
      "function Nc(a,b,c,d){x(b,\"gs_md_ldg\",!1);for(var e=b.querySelectorAll(\"[data-duid]\"),f=e.length,g={},m=0;m<f;m++){for(var h=jc(e[m]),k=kc[h],p=k?k.length:0,A=0;A<p;A++){var C=k[A],V=F(C.constructor),B=g[V];B||(B=g[V]={});B[h]=!0;C&&typeof C.dispose==\"function\"&&C.dispose()}delete kc[h]}for(var R in g){R=+R;e=g[R];m=(f=lc[R])?f.length:0;for(k=h=0;k<m;k++)p=f[k],p in e||(f[h++]=p);h?f.length=h:delete lc[R]}b.innerHTML=c;d.B=c;Pc(a.id);Qb(d.m);d.m=null}\n",
      "function Pc(a){if(a=document.querySelector(\"#\"+a+\">.gs_md_bdy\"))a.scrollTop=a.scrollLeft=0,Mc(a)}function Mc(a){var b=a.style,c=\"padding\"+(za(a)?\"Left\":\"Right\");b[c]=\"\";var d=a.offsetWidth-a.clientWidth;d>2&&(a=parseInt(window.getComputedStyle(a,null)[c],10)||0,b[c]=Math.max(a-d,0)+\"px\")}function Tc(){return'<div class=\"gs_md_prg\"><div class=\"gs_alrt\">'+D(\"gs_md_err\").innerHTML+\"</div></div>\"}\n",
      "function fb(){var a=W.top();return{d:a&&a.g||void 0,u:a&&a.C||void 0,p:a&&a.A?\"1\":void 0,t:a&&a.v||void 0}}function gb(){var a=W.top();return{n:a&&a.U||0,p:a&&a.A||\"\",h:a&&a.B||\"\"}}function Oc(a){if(Uc!=a){var b=D(\"gs_md_s\");Uc&&v(b,Uc);(Uc=a)&&u(b,a)}}var Qc=0,Uc=\"\",W=new Dc;\n",
      "qb.add(function(){var a=mb(),b=a.d||\"\",c=b?D(b):null;++Qc;if(c){var d=a.u||\"\";c=+a.p>0;var e=+a.t||0,f=N||M(window.history.state)||{};a=+f.n||0;var g=\"\"+(f.p||\"\");f=\"\"+(f.h||\"\");d.match(Da)||(d=\"\");for(var m=Fc(W,e),h=m;h<W.l.length;++h){var k=W.at(h);if(e<k.v&&k.g!=b)break}for(k=m-1;k>=0;--k){var p=W.at(k);if(e>p.v&&p.g!=b)break}Ec(h-1);for(h=0;h<=k;++h)p=W.at(h).g,J[p]||Gc(k,!1);if(k=m<W.l.length)k=W.at(m),k=b==k.g&&d==k.C&&c==!!k.A&&e==k.v;k?Gc(m,!0):(a==0&&(Ec(-1),W=new Dc,e=Date.now()),c!=!!g&&\n",
      "(d=g=\"\",f=Tc()),b=new zc(b,d,g,f,a,e),c=W,e=b.v,a=Fc(c,e),e=a<c.l.length&&e==c.at(a).v,c.l.splice(a,e?1:0,b),W.i=a,eb(),Hc())}else Ec(-1);--Qc});var Vc=function(a){t.call(this);this.H=a;this.S=Object.create(null);this.m=null;a=a.querySelectorAll(\".gs_in_txtw>input[type=text]\");for(var b=a.length;b--;){var c=a[b],d=c.parentNode.querySelector(\".gs_in_txts\");c=c.name;d&&c&&(this.S[c]=d.innerHTML)}};ma(Vc,t);Vc.prototype.N=function(){Qb(this.m);this.H=this.m=null;t.prototype.N.call(this)};\n",
      "Vc.prototype.ja=function(a){var b=this;P(a);if((a=this.H)&&!this.m){var c=\"json=&\"+Aa(a);Wc(this,!0);this.m=Pb(a.action,c,function(d,e){b.m=null;Wc(b,!1);var f=b.H,g=f.getAttribute(\"data-alrt\");if(g=g?D(g):null)g.innerHTML=\"\";try{var m=d==200&&JSON.parse(e)}catch(B){}d=!1;m&&typeof m==\"object\"||(Xc(g,D(\"gs_md_err\").innerHTML),m={},d=!0);f.setAttribute(\"data-p\",\"\"+(m.P||\"\"));S(\"gs-ajax-form-done\",f);if(e=m.L){var h=\"\"+e;h.match(Ca)&&(window.location.href=h)}else{if(e=m.M)Xc(g,e),d=!0;e=1E6;g&&g.innerHTML&&\n",
      "(h=g,e=g.getBoundingClientRect().top);g=f.elements;m=m.E;typeof m==\"object\"||(m=Object.create(null));for(var k in b.S){var p=g[k],A=void 0,C=\"\"+(m[k]||\"\"),V=p.parentNode.querySelector(\".gs_in_txts\");x(p.parentNode,\"gs_in_txte\",!!C);V&&(V.innerHTML=C||b.S[k]||\"\");C&&(A=p.getBoundingClientRect().top)<e&&(h=p,e=A);d=d||!!C}(f=f.getAttribute(\"data-d\"))&&!d&&L(f);h&&h.scrollIntoView&&(e<0||e+20>window.innerHeight)&&h.scrollIntoView()}})}};\n",
      "var Wc=function(a,b){a=a.H;var c=a.getAttribute(\"data-bsel\");a=c?document.querySelectorAll(c):a.querySelectorAll(\"button\");for(c=a.length;c--;){var d=a[c];d.disabled=b;x(d,\"gs_bsp\",b)}},Xc=function(a,b){if(a)a.innerHTML=b;else{var c=c===void 0?\"\":c;var d=d===void 0?\"\":d;var e=e===void 0?[]:e;D(\"gs_alrt_m\").innerHTML=b;Kb().action=d.match(Ca)?d:\"\";a=D(\"gs_alrt_l\");a.textContent=c;c=D(\"gs_alrt_h\");c.innerHTML=\"\";for(var f in e)b=document.createElement(xa.qa),b.type=\"hidden\",b.name=f,b.value=e[f],c.appendChild(b);\n",
      "Hb();x(a,\"gs_fm_s\",!0);Jb()}};Tb(Vc,[new Q(\".gs_ajax_frm\",{submit:Vc.prototype.ja})]);var Yc=[[1,0,1],[2,0,1]];T(\".gs_cb_gen\",\"click\",function(a){var b=a.currentTarget,c=(w(b,\"gs_sel\")?1:0)+2*(w(b,\"gs_par\")?1:0),d=+b.getAttribute(\"data-s\")==2;c=Yc[+d][c];d=!0;d=d===void 0?!1:d;x(b,\"gs_sel\",c==1);x(b,\"gs_par\",c==2);b.setAttribute(\"aria-checked\",tc[c]);d||b.setAttribute(\"data-s\",\"\"+c);S(\"gs-change\",b,a.j)});T(\".gs_cb_gen\",[\"keydown\",\"keyup\"],function(a){var b=a.currentTarget,c=a.j.keyCode;b.tagName!=\"BUTTON\"||c!=13&&c!=32||(P(a),a.type==\"keydown\"&&b.click())});T([\".gs_cb_gen\",\".gs_md_li\"],\"keydown\",function(a){var b=a.currentTarget,c=b.tagName,d=a.j.keyCode;c!=\"BUTTON\"&&(d==32||d==13&&c!=\"A\")&&(P(a),b.click())});var Zc=[\"click\",\"contextmenu\",\"mouseup\"].concat(navigator.sendBeacon?[]:[\"mousedown\",\"touchstart\"]),$c=\"\",ad=null;function bd(){ad=null}function cd(a){navigator.sendBeacon?navigator.sendBeacon(a):ad&&a==ad.src||((ad=new Image).src=a,setTimeout(bd,1E3))}\n",
      "function dd(){var a=document.location.href,b=a.indexOf(\"?\")+1;a=b?a.substr(b):\"\";b=a.indexOf(\"#\");a=lb(b+1?a.substr(0,b):a).hl||\"\";a=\"/scholar_bfnav?url=\"+encodeURIComponent(document.location.href)+\"&hl=\"+encodeURIComponent(a)+\"&ei=\"+GSP.eventId;cd(a)}La(function(){$c=Gb?\"&bn=1\":\"\";Gb&&dd()});H(window,\"pageshow\",function(a){a.persisted&&($c=\"&bn=1\",dd())});\n",
      "H(document,Zc,function(a){if(!(a.type==\"click\"&&a.button||a.type==\"mouseup\"&&a.button!=1)){var b,c;a:{for(a=a.target;a;){var d=a.nodeName;if(d==\"A\")break a;if(d==\"SPAN\"||d==\"B\"||d==\"I\"||d==\"EM\"||d==\"IMG\")a=a.parentNode;else break}a=null}a&&(b=a.getAttribute(\"href\"))&&(c=a.getAttribute(\"data-clk\"))&&(b=\"/scholar_url?url=\"+encodeURIComponent(b)+\"&\"+c+\"&ws=\"+window.innerWidth+\"x\"+window.innerHeight+\"&at=\",c=encodeURIComponent,a=(a=a.getAttribute(\"data-clk-atid\"))?D(a):null,b=b+c(a&&a.innerText||\"\")+\n",
      "$c,cd(b))}},!1,!0);T(\".gs_fm_s\",\"click\",function(a){a=a.currentTarget.getAttribute(\"data-fm\")||\"\";(a=D(a))&&a.submit()});var X=function(a){this.g=E(a.querySelector(\".gs_md_d\"));this.K=E(a.querySelector(\".gs_md_tb\"))};X.prototype.O=function(a){var b=D(this.g);return a!==void 0?rc(b,b,a):null};X.prototype.open=function(a){a=this.O(a);if(w(D(this.K),\"gs_sel\"))try{a&&a.focus()}catch(c){}else{var b=D(this.K);Wa(this.g,function(){u(b,\"gs_sel\")},function(){v(b,\"gs_sel\")},a,b)}};X.prototype.close=function(){L(this.g)};X.prototype.ca=function(a){P(a);w(D(this.K),\"gs_sel\")?this.close():this.open(a.j.type==\"keydown\"?!1:void 0)};\n",
      "X.prototype.Y=function(a){var b=a.j.keyCode;if(b==38||b==40)P(a),this.open(b==38)};X.prototype.ea=function(a){a.target.id==this.g&&this.Y(a)};Tb(X,[new Q(\".gs_md_rmb\",{}),new Q(\".gs_md_tb\",{\"gs-press\":X.prototype.ca,keydown:X.prototype.Y}),new Q(\".gs_md_d\",{keydown:X.prototype.ea})]);var Y=function(a){X.call(this,a);this.la=E(a.querySelector(\".gs_md_in\"));this.ma=E(a.querySelector(\".gs_md_tb .gs_lbl\"))};ma(Y,X);Y.prototype.O=function(){return D(this.g).querySelector(\".gs_md_li[aria-selected]\")};Y.prototype.fa=function(a){ed(this,a)};Y.prototype.R=function(a){var b=a.j.keyCode;b!=13&&b!=32||ed(this,a)};\n",
      "var ed=function(a,b){var c=b.currentTarget,d=D(a.la),e=a.O();c!=e&&(d.value=c.getAttribute(\"data-v\"),D(a.ma).innerHTML=c.innerHTML,e&&fd(e,!1),fd(c,!0));P(b);a.close();S(\"gs-change\",d,b.j)},fd=function(a,b){x(a,\"gs_sel\",b);b?a.setAttribute(\"aria-selected\",\"true\"):a.removeAttribute(\"aria-selected\")};Tb(Y,[new Q(\".gs_md_ris\",{}),new Q(\".gs_md_li\",{click:Y.prototype.fa,keydown:Y.prototype.R})]);T(\"#gs_lp\",\"click\",function(a){P(a);Ic(\"gs_lp_d\")});T(\"#gs_lp_cur\",\"click\",function(a){P(a);L(\"gs_lp_d\")});var gd=function(a){this.aa=E(a)};gd.prototype.R=function(a){var b=a.currentTarget,c=a.j.keyCode;if(c==38||c==40){var d=D(this.aa);d=rc(d,b,c==38)||rc(d,d,c==38)}else if(c==37||c==39)a:{c=c==37!=za(b.parentNode);d=b.parentNode;var e=d.children,f=e.length;if(d.id!=this.aa){for(;e[--f]!=b;);d=qc(d,c)||pc(d.parentNode,c);e=d.children;if(f=Math.min(f+1,e.length))if(d=e[f-1],w(d,\"gs_md_li\")&&d.offsetLeft!=b.offsetLeft)break a}d=void 0}d&&(P(a),d.focus())};\n",
      "Tb(gd,[new Q(\".gs_md_ulr\",{}),new Q(\".gs_md_li\",{keydown:gd.prototype.R})]);T(\"#gs_hdr_mnu\",\"click\",function(a){P(a);Ic(\"gs_hdr_drw\")});T(\"#gs_hdr_drw_mnu\",\"click\",function(a){P(a);L(\"gs_hdr_drw\")});T(\"#gs_hdr_act_i\",\"click\",function(a){P(a);sa()==1?(a=document.querySelector(\"#gs_hdr_drw_bot>a\").href,a.match(Ca)&&(window.location.href=a)):Wa(\"gs_hdr_act_d\")});T(\"#gs_hdr_drw\",\"keydown\",function(a){var b=a.j.keyCode;if(b==38||b==40){var c=a.currentTarget;if(b=rc(c,c,b==38))P(a),b.focus()}});\n",
      "T(\"#gs_hdr_tsi\",[\"focus\",\"blur\"],function(a){function b(){var g=d.getBoundingClientRect().top-10;Math.abs(g)>10&&window.scrollBy(0,g);clearTimeout(e);c()}function c(){I(window,f,b)}var d=a.target;a=a.type==\"focus\";x(D(\"gs_hdr\"),\"gs_hdr_ifc\",a);if(a&&ta&&!(window.innerHeight>749)){var e=setTimeout(c,1E3),f=[\"scroll\",\"resize\"];H(window,f,b)}});T(\"#gs_hdr_tsi\",[\"input\",\"gs-change\"],function(a){x(D(\"gs_hdr_frm\"),\"gs_hdr_tsc\",!!a.currentTarget.value)});\n",
      "T(\"#gs_hdr_tsc\",\"mousedown\",function(a){P(a);var b=D(\"gs_hdr_tsi\");b.value=\"\";b.focus();S(\"input\",b,a.j)});T(\"#gs_hdr_sre\",\"click\",function(a){P(a);var b=D(\"gs_hdr\");Wa(\"gs_hdr_frm\",function(){v(b,\"gs_hdr_src\");u(b,\"gs_hdr_srx\")},function(){u(b,\"gs_hdr_src\");v(b,\"gs_hdr_srx\")},D(\"gs_hdr_tsi\"))});T(\".gs_md_x\",\"click\",function(a){(a=a.currentTarget.getAttribute(\"data-mdx\"))&&L(a)});var Z=function(){},hd,id;Z.prototype.da=function(a){a.j.button||(P(a),jd(a))};Z.prototype.ga=function(a){kd(a)&&(P(a),jd(a))};Z.prototype.ha=function(a){kd(a)&&P(a)};Z.prototype.ia=function(a){if(!a.j.button){P(a);var b=a.j;b&&(ld=b.clientX||0,md=b.clientY||0,H(document,nd,od,!0),clearTimeout(hd),hd=setTimeout(pd,2E3));jd(a)}};\n",
      "Z.prototype.ka=function(a){P(a);if(qd){var b=a.j;b=b&&b.touches||[];if(b=b.length==1?b[0]:null)rd=b.clientX,sd=b.clientY,H(document,td,ud,!0),clearTimeout(id),id=setTimeout(vd,2E3)}jd(a)};\n",
      "var kd=function(a){a=a.j.keyCode;return a==32||a==13},jd=function(a){S(\"gs-press\",a.currentTarget,a.j)},pd=function(){I(document,nd,od,!0);clearTimeout(hd);hd=void 0},od=function(a){a.type!=\"mousedown\"&&Math.abs(a.clientX-ld)<10&&Math.abs(a.clientY-md)<10?(Oa(a),a.type==\"click\"&&pd()):pd()},vd=function(){I(document,td,ud,!0);clearTimeout(id);id=void 0},ud=function(a){a.type!=\"touchstart\"&&Math.abs(a.clientX-rd)<10&&Math.abs(a.clientY-sd)<10?(Oa(a),a.type==\"click\"&&vd()):vd()},ld=0,md=0,nd=[\"mousedown\",\n",
      "\"mouseup\",\"click\"],qd=z(\"Android\")&&!z(\"Chrome\"),rd=0,sd=0,td=[\"touchstart\",\"mousedown\",\"mouseup\",\"click\"];Tb(Z,[new Q(\".gs_press\",{click:Z.prototype.da,keydown:Z.prototype.ga,keyup:Z.prototype.ha,mousedown:Z.prototype.ia,touchstart:Z.prototype.ka})]);function wd(a){xd.style.left=yd&&zd===Ad?a.left+\"px\":\"auto\";xd.style.width=yd?a.width+\"px\":\"auto\";S(\"gs-sth-change\",D(\"gs_sth\"))}function Bd(){var a=Cd.getBoundingClientRect(),b=a.top,c=xd.offsetHeight,d=b<0,e;if(e=d&&qa)e=document.activeElement,e=!!e&&e.tagName==\"INPUT\"&&e.type==\"text\";b=e?-b-a.height:Ad;var f=yd!=d||zd!==Ad!=e;b!==zd&&(zd=b,xd.style.transform=b===Ad?\"none\":\"translate3d(0,\"+b+\"px,0)\");f&&(yd=d,x(Dd,\"gs_sth_vis\",d),x(Dd,\"gs_sth_trk\",e),wd(a),Cd.style.height=yd?c+\"px\":\"auto\")}\n",
      "function Ed(){yd&&wd(Cd.getBoundingClientRect())}var Ad,Dd,Cd,xd,yd=!1,zd;La(function(){if(Dd=D(\"gs_sth\"))Cd=Dd.querySelector(\".gs_sth_g\"),xd=Dd.querySelector(\".gs_sth_b\"),vc.addListener(Bd),wc.addListener(Ed),Bd()});(function(a){La(function(){return setTimeout(a,0)})})(function(){var a=document.querySelectorAll(\".gs_invis\");var b=typeof Symbol!=\"undefined\"&&Symbol.iterator&&a[Symbol.iterator];if(b)a=b.call(a);else if(typeof a.length==\"number\")a={next:aa(a)};else throw Error(String(a)+\" is not an iterable or ArrayLike\");for(b=a.next();!b.done;b=a.next())v(b.value,\"gs_invis\")});new U;new U;T(\".gsc_mp_tgh\",\"click\",function(a){a=a.currentTarget.getAttribute(\"data-tg\")||\"\";for(var b=document.querySelectorAll(\".gsc_mphm\"),c=b.length;c--;){var d=b[c];x(d,\"gsc_mphm_show\",d.id==a?void 0:!1)}});\n",
      "}({\"customAC\":2,\"eventId\":\"zSXWaIegKZXEieoPzKyi8AQ\"});</script></head><body><div id=\"gs_top\" onclick=\"\"><style>#gs_md_s,.gs_md_wnw{z-index:1200;position:fixed;top:0;left:0;width:100%;height:100%;visibility:hidden;}.gs_md_ds:before{content:'';position:absolute;background-color:#fff;z-index:100;opacity:0;visibility:hidden;top:0;bottom:0;right:0;left:0;}.gs_md_ds.gs_md_d:not(.gs_el_ph .gs_md_wmw):before{top:-1px;bottom:-1px;right:-1px;left:-1px;}#gs_md_s{background-color:#fff;opacity:0;}.gs_el_ta #gs_md_s,.gs_el_ph #gs_md_s,.gs_el_ta .gs_md_ds:before,.gs_el_ph .gs_md_ds:before{background-color:#666;}#gs_md_s.gs_vis,.gs_md_ds.gs_md_ins_vis:before{opacity:.5;visibility:visible;}.gs_md_wnw{transition:all 0s .218s;}.gs_md_wnw.gs_vis{visibility:visible;transition:all 0s;}.gs_el_tc .gs_md_ds:before{transition:opacity .15s,visibility 0s .15s;}.gs_el_tc .gs_md_ds.gs_md_ins_vis:before{transition:opacity .218s,visibility 0s;}.gs_md_wnw>.gs_md_d{position:relative;margin:0 auto;width:464px;box-shadow:2px 2px 8px rgba(0,0,0,.2);white-space:normal;}.gs_el_ta .gs_md_wnw>.gs_md_d,.gs_el_ph .gs_md_wnw>.gs_md_d{box-shadow:2px 2px 8px rgba(0,0,0,.65);}.gs_el_ph .gs_md_wnw>.gs_md_d{width:80%;max-width:440px;}.gs_el_ph .gs_md_wmw>.gs_md_d{display:flex;flex-direction:column;width:100%;height:100%;max-width:none;border:none;box-shadow:none;transform:translate(0,100%);transform:translate(0,100vh);transition:transform .27s cubic-bezier(.4,0,.6,1),opacity 0s .27s,visibility 0s .27s,max-height 0s .27s;}.gs_el_ph .gs_md_wmw>.gs_md_d.gs_vis{transform:translate(0,0);transition:transform .3s cubic-bezier(0,0,.2,1);}.gs_md_wmw>.gs_md_d.gs_abt,.gs_el_ph .gs_md_wmw>.gs_md_d.gs_abt{transition:none;}.gs_md_hdr{display:flex;align-items:center;height:47px;border-bottom:1px solid #e0e0e0;border-bottom-color:rgba(0,0,0,.12);background-color:#f5f5f5;}.gs_md_hdr>a,.gs_md_hdr>a.gs_btn_lrge{flex:0 0 auto;width:41px;height:47px;}.gs_el_ph .gs_md_hdr>a{margin:0 2px 0 0;}.gs_el_ph a.gs_md_hdr_c{margin:0 0 0 2px;}.gs_md_hdr_b{margin:0 41px 0 16px;}.gs_el_ph .gs_md_hdr_b{margin:0 16px;}.gs_md_hdr_t:empty~.gs_md_hdr_b{margin-left:0;}.gs_md_hdr_b:empty{width:41px;margin:0;}.gs_el_ph .gs_md_hdr_b:empty{margin-right:2px;}.gs_md_hdr_b:empty:not(:last-child){display:none;}.gs_md_hdr_b>button{min-width:51px;height:33px;}.gs_md_hdr_t{flex:1 1 auto;font-size:18px;font-weight:normal;color:#666;overflow:hidden;text-overflow:ellipsis;white-space:nowrap;text-align:center;}.gs_md_bdy{position:relative;overflow-y:auto;box-sizing:border-box;padding:24px 41px 0 41px;}.gs_md_bdy:after{display:block;content:\"\";clear:both;padding-bottom:24px;}.gs_el_ph .gs_md_bdy{padding:16px 16px 0 16px;}.gs_el_ph .gs_md_bdy:after{padding-bottom:16px;}.gs_el_ph .gs_md_wmw .gs_md_bdy{flex:1;}.gs_md_ftr{border-top:1px solid #e0e0e0;}.gs_md_lbl{display:block;font-size:16px;margin:0 0 16px 0;word-wrap:break-word;}.gs_md_btns{margin:24px 0 0 0;white-space:nowrap;}.gs_el_ph .gs_md_btns{margin:16px 0 0 0;}.gs_md_btns button{margin-right:16px;}.gs_md_btns button:last-child{margin-right:0;}.gs_md_prg{margin:24px 0;text-align:center;}.gs_md_prg .gs_alrt{padding:4px 16px;}.gs_md_ldg:before{content:\"\";position:absolute;top:0;left:0;bottom:0;right:0;background-color:#fff;opacity:.5;z-index:100;}</style><div id=\"gs_md_ldg\" style=\"display:none\">Loading...</div><div id=\"gs_md_err\" style=\"display:none\">The system can&#39;t perform the operation now. Try again later.</div><div id=\"gs_md_s\"></div><!--[if lte IE 9]><div class=\"gs_alrt\" style=\"padding:16px\"><div>Sorry, some features may not work in this version of Internet Explorer.</div><div>Please use <a href=\"//www.google.es/chrome/\">Google Chrome</a> or <a href=\"//www.mozilla.com/firefox/\">Mozilla Firefox</a> for the best experience.</div></div><![endif]--><div id=\"gs_hdr_drw\" class=\"gs_md_ulr gs_md_ds\" role=\"dialog\" tabindex=\"-1\" data-shd=\"gs_hdr_drs\" data-wfc=\"gs_hdr_drw_mnu\" data-cfc=\"gs_hdr_mnu\"><div id=\"gs_hdr_drw_in\"><div id=\"gs_hdr_drw_top\"><a href=\"javascript:void(0)\" id=\"gs_hdr_drw_mnu\" role=\"button\" aria-controls=\"gs_hdr_drw\" aria-label=\"Options\" class=\"gs_btnMNT gs_in_ib gs_btn_lrge\"><span class=\"gs_ico\"></span><span class=\"gs_ia_notf\"></span><span class=\"gs_lbl\"></span></a><a id=\"gs_hdr_drw_lgo\" href=\"/schhp?hl=en\" aria-label=\"Homepage\"></a></div><div><div class=\"gs_hdr_drw_sec\"><a href=\"/citations?hl=en\" role=\"menuitem\" class=\"gs_btnPRO gs_in_ib gs_md_li gs_md_lix gs_in_gray\"><span class=\"gs_ico\"></span><span class=\"gs_ia_notf\"></span><span class=\"gs_lbl\">My profile</span></a><a href=\"/scholar?scilib=1&amp;hl=en\" role=\"menuitem\" class=\"gs_btnL gs_in_ib gs_md_li gs_md_lix gs_in_gray\"><span class=\"gs_ico\"></span><span class=\"gs_ia_notf\"></span><span class=\"gs_lbl\">My library</span></a><a href=\"/citations?view_op=metrics_intro&amp;hl=en\" role=\"menuitem\" class=\"gs_btnJ gs_in_ib gs_md_li gs_md_lix gs_in_gray\"><span class=\"gs_ico\"></span><span class=\"gs_ia_notf\"></span><span class=\"gs_lbl\">Metrics</span></a><a href=\"/scholar_alerts?view_op=list_alerts&amp;hl=en\" role=\"menuitem\" class=\"gs_btnM gs_in_ib gs_md_li gs_md_lix gs_in_gray\"><span class=\"gs_ico\"></span><span class=\"gs_ia_notf\"></span><span class=\"gs_lbl\">Alerts</span></a></div><div class=\"gs_hdr_drw_sec\"><a href=\"/scholar_settings?hl=en\" role=\"menuitem\" class=\"gs_btnP gs_in_ib gs_md_li gs_md_lix gs_in_gray\"><span class=\"gs_ico\"></span><span class=\"gs_ia_notf\"></span><span class=\"gs_lbl\">Settings</span></a></div></div><div id=\"gs_hdr_drw_bot\" class=\"gs_hdr_drw_sec\"><a href=\"https://accounts.google.com/Login?hl=en&amp;continue=https://scholar.google.es/schhp%3Fhl%3Den\" class=\" gs_in_ib gs_md_li gs_md_lix gs_in_gray\"><span class=\"gs_ico\"></span><span class=\"gs_ia_notf\"></span><span class=\"gs_lbl\">Sign in</span></a></div></div></div><div id=\"gs_hdr\" role=\"banner\" class=\"gs_hdr_src\"><a href=\"javascript:void(0)\" id=\"gs_hdr_mnu\" role=\"button\" aria-controls=\"gs_hdr_drw\" class=\"gs_btnMNT gs_hdr_dso gs_in_ib gs_btn_lrge\"><span class=\"gs_ico\"></span><span class=\"gs_ia_notf\"></span><span class=\"gs_lbl\"></span></a><a href=\"/citations?view_op=top_venues&amp;hl=en&amp;vq=eng\" id=\"gs_hdr_bck\" role=\"button\" class=\"gs_btnALT gs_hdr_mbo gs_in_ib gs_btn_lrge\"><span class=\"gs_ico\"></span><span class=\"gs_ia_notf\"></span><span class=\"gs_lbl\"></span></a><a id=\"gs_hdr_lgo\" class=\"gs_hdr_dso\" href=\"/schhp?hl=en\" aria-label=\"Homepage\"></a><div id=\"gs_hdr_md\"><h1 class=\"gs_hdr_mbo\" dir=\"ltr\">Artificial Intelligence</h1><div id=\"gs_hdr_srch\"><form id=\"gs_hdr_frm\" action=\"/citations\"><input type=hidden name=\"hl\" value=\"en\"><input type=hidden name=\"view_op\" value=\"search_venues\"><div class=\"gs_in_txtw gs_in_txtb\"><input type=\"text\" class=\"gs_in_txt\" name=\"vq\" value=\"\" id=\"gs_hdr_tsi\" placeholder=\"Search publications\" size=\"50\" maxlength=\"2048\" autocapitalize=\"off\" aria-label=\"Search\"><div class=\"gs_in_txts\"></div></div><span id=\"gs_hdr_tsc\"><span class=\"gs_ico gs_ico_X\"></span></span><button type=\"submit\" id=\"gs_hdr_tsb\" name=\"btnG\" aria-label=\"Search\" class=\"gs_btnG gs_in_ib gs_btn_act gs_btn_half gs_btn_lsb\"><span class=\"gs_wr\"><span class=\"gs_ico\"></span><span class=\"gs_lbl\"></span></span></button></form></div></div><a href=\"javascript:void(0)\" id=\"gs_hdr_sre\" role=\"button\" aria-controls=\"gs_hdr_frm\" aria-label=\"Search\" class=\"gs_btnTSB gs_in_ib gs_btn_lrge\"><span class=\"gs_ico\"></span><span class=\"gs_ia_notf\"></span><span class=\"gs_lbl\"></span></a><div id=\"gs_hdr_act\"><a id=\"gs_hdr_act_s\" href=\"https://accounts.google.com/Login?hl=en&amp;continue=https://scholar.google.es/schhp%3Fhl%3Den\">Sign in</a></div></div><style>#gs_alrt{position:fixed;bottom:48px;left:16px;max-width:384px;z-index:1250;display:flex;justify-content:space-between;align-items:center;font-size:13px;line-height:16px;color:#e2e2e2;background:#333;text-align:left;border-radius:3px;box-shadow:0 3px 5px -1px rgba(0,0,0,.2),0 6px 10px 0 rgba(0,0,0,.14),0 1px 18px 0 rgba(0,0,0,.12);visibility:hidden;transform-origin:center;transform:scale(0.8,0.8) translate(0,100%);}.gs_el_ph #gs_alrt{bottom:0;left:0;width:100%;max-width:none;border-radius:0;box-shadow:none;transform:scale(1,1) translate(0,100%);}#gs_alrt.gs_vis{visibility:visible;transform:scale(1,1) translate(0,0);}#gs_alrt.gs_anm{transition:transform .067s cubic-bezier(.4,0,1,1),visibility 0s .067s;}#gs_alrt.gs_vis.gs_anm{transition:transform .067s cubic-bezier(0,0,.2,1);}.gs_el_ph #gs_alrt.gs_anm{transition:transform .084s cubic-bezier(.4,0,1,1),visibility 0s .084s;}.gs_el_ph #gs_alrt.gs_vis.gs_anm{transition:transform .1s cubic-bezier(0,0,.2,1);}#gs_alrt_m{display:block;padding:16px;}#gs_alrt_l{display:block;padding:8px;margin:0 8px 0 -8px;border-radius:3px;color:#fcc934;text-transform:uppercase;text-decoration:none;}#gs_alrt_l:hover{background-color:rgba(255,255,255,.05)}#gs_alrt_l:active{background-color:rgba(255,255,255,.1)}#gs_alrt_l:empty{display:none}#gs_alrt_m a{padding:8px 0;color:#e2e2e2;text-decoration:underline;}#gs_alrt_m a:active{color:#f6aea9}</style><form action=\"\" method=\"post\" id=\"gs_alrt\"><span id=\"gs_alrt_m\"></span><span id=\"gs_alrt_h\"></span><a id=\"gs_alrt_l\" href=\"javascript:void(0)\" class=\"gs_fm_s\" data-fm=\"gs_alrt\"></a></form><div id=\"gs_ab\" class=\" gs_nta gs_nph\"><div id=\"gs_ab_ico\" class=\"gs_btnGSL\"><span class=\"gs_ico\"></span></div><div id=\"gs_ab_ttl\"><div class=\"gs_ab_mdw\">Top publications</div></div><div id=\"gs_ab_md\"><div class=\"gs_ab_mdw\"></div></div><div id=\"gs_ab_btns\"></div></div><div id=\"gs_bdy\"><div id=\"gs_bdy_sb\" role=\"navigation\"><div id=\"gs_bdy_sb_in\"></div></div><div id=\"gs_bdy_ccl\" role=\"main\"><div id=\"gsc_mp_ccl\"><div id=\"gsc_mp_nav\" role=\"navigation\" class=\"gs_nta gs_nph\"><div id=\"gsc_mp_nav_left\"><div id=\"gsc_mcn\" class=\"\"><div class=\"gs_ibl gs_nph gs_nta\"><button type=\"button\" onclick=\"window.location='/citations?view_op\\x3dtop_venues\\x26hl\\x3den'\" class=\" gs_btn_flat gs_btn_lrge\"><span class=\"gs_wr\"><span class=\"gs_lbl\" id=\"gsc_mcn_acb_lbl\">Categories</span></span></button><a href=\"javascript:void(0)\" tabindex=\"-1\" class=\"gs_btnPR gsc_mcn_ar gs_in_ib\"><span class=\"gs_ico\"></span><span class=\"gs_ia_notf\"></span><span class=\"gs_lbl\"></span></a><button type=\"button\" id=\"gsc_mcn_bt\" onclick=\"window.location='/citations?view_op\\x3dtop_venues\\x26hl\\x3den\\x26vq\\x3deng'\" class=\" gs_btn_flat gs_btn_lrge\"><span class=\"gs_wr\"><span class=\"gs_lbl\">Engineering &amp; Computer Science</span></span></button><a href=\"javascript:void(0)\" tabindex=\"-1\" class=\"gs_btnPR gsc_mcn_ar gs_in_ib\"><span class=\"gs_ico\"></span><span class=\"gs_ia_notf\"></span><span class=\"gs_lbl\"></span></a></div><div id=\"gsc_mcn_sb\" class=\"gs_ibl gs_nph gs_nta\" ><div id=\"gsc_mcn_sb-r\" class=\"gs_md_r gs_md_rmb gs_md_rmbl\"><button type=\"button\" id=\"gsc_mcn_sb-b\" aria-controls=\"gsc_mcn_sb-d\" aria-haspopup=\"true\" ontouchstart=\"gs_evt_dsp(event)\" class=\" gs_in_se gs_btn_mnu gs_btn_flat gs_btn_lrge gs_btn_lsb gs_press gs_md_tb\"><span class=\"gs_wr\"><span class=\"gs_lbl\">Artificial Intelligence</span><span class=\"gs_icm\"></span></span></button><div id=\"gsc_mcn_sb-d\" class=\"gs_md_d gs_md_ds gs_md_ulr\" role=\"menu\" tabindex=\"-1\"><div class=\"gs_md_ul\"><a href=\"/citations?view_op=top_venues&amp;hl=en&amp;vq=eng\" role=\"menuitem\" tabindex=\"-1\" class=\"gs_md_li\">Subcategories</a><a href=\"/citations?view_op=top_venues&amp;hl=en&amp;vq=eng_architecture\" role=\"menuitem\" tabindex=\"-1\" class=\"gs_md_li\">Architecture</a><a href=\"/citations?view_op=top_venues&amp;hl=en&amp;vq=eng_artificialintelligence\" role=\"menuitem\" tabindex=\"-1\" class=\"gs_md_li gs_sel\" aria-checked=\"true\">Artificial Intelligence</a><a href=\"/citations?view_op=top_venues&amp;hl=en&amp;vq=eng_automationcontroltheory\" role=\"menuitem\" tabindex=\"-1\" class=\"gs_md_li\">Automation &amp; Control Theory</a><a href=\"/citations?view_op=top_venues&amp;hl=en&amp;vq=eng_aviationaerospace\" role=\"menuitem\" tabindex=\"-1\" class=\"gs_md_li\">Aviation &amp; Aerospace Engineering</a><a href=\"/citations?view_op=top_venues&amp;hl=en&amp;vq=eng_bioinformatics\" role=\"menuitem\" tabindex=\"-1\" class=\"gs_md_li\">Bioinformatics &amp; Computational Biology</a><a href=\"/citations?view_op=top_venues&amp;hl=en&amp;vq=eng_biomedicaltechnology\" role=\"menuitem\" tabindex=\"-1\" class=\"gs_md_li\">Biomedical Technology</a><a href=\"/citations?view_op=top_venues&amp;hl=en&amp;vq=eng_biotechnology\" role=\"menuitem\" tabindex=\"-1\" class=\"gs_md_li\">Biotechnology</a><a href=\"/citations?view_op=top_venues&amp;hl=en&amp;vq=eng_ceramicengineering\" role=\"menuitem\" tabindex=\"-1\" class=\"gs_md_li\">Ceramic Engineering</a><a href=\"/citations?view_op=top_venues&amp;hl=en&amp;vq=eng_civilengineering\" role=\"menuitem\" tabindex=\"-1\" class=\"gs_md_li\">Civil Engineering</a><a href=\"/citations?view_op=top_venues&amp;hl=en&amp;vq=eng_combustionpropulsion\" role=\"menuitem\" tabindex=\"-1\" class=\"gs_md_li\">Combustion &amp; Propulsion</a><a href=\"/citations?view_op=top_venues&amp;hl=en&amp;vq=eng_computationallinguistics\" role=\"menuitem\" tabindex=\"-1\" class=\"gs_md_li\">Computational Linguistics</a><a href=\"/citations?view_op=top_venues&amp;hl=en&amp;vq=eng_computergraphics\" role=\"menuitem\" tabindex=\"-1\" class=\"gs_md_li\">Computer Graphics</a><a href=\"/citations?view_op=top_venues&amp;hl=en&amp;vq=eng_computerhardwaredesign\" role=\"menuitem\" tabindex=\"-1\" class=\"gs_md_li\">Computer Hardware Design</a><a href=\"/citations?view_op=top_venues&amp;hl=en&amp;vq=eng_computernetworkswirelesscommunication\" role=\"menuitem\" tabindex=\"-1\" class=\"gs_md_li\">Computer Networks &amp; Wireless Communication</a><a href=\"/citations?view_op=top_venues&amp;hl=en&amp;vq=eng_computersecuritycryptography\" role=\"menuitem\" tabindex=\"-1\" class=\"gs_md_li\">Computer Security &amp; Cryptography</a><a href=\"/citations?view_op=top_venues&amp;hl=en&amp;vq=eng_computervisionpatternrecognition\" role=\"menuitem\" tabindex=\"-1\" class=\"gs_md_li\">Computer Vision &amp; Pattern Recognition</a><a href=\"/citations?view_op=top_venues&amp;hl=en&amp;vq=eng_computingsystems\" role=\"menuitem\" tabindex=\"-1\" class=\"gs_md_li\">Computing Systems</a><a href=\"/citations?view_op=top_venues&amp;hl=en&amp;vq=eng_datamininganalysis\" role=\"menuitem\" tabindex=\"-1\" class=\"gs_md_li\">Data Mining &amp; Analysis</a></div><div class=\"gs_md_ul\"><a href=\"/citations?view_op=top_venues&amp;hl=en&amp;vq=eng_databasesinformationsystems\" role=\"menuitem\" tabindex=\"-1\" class=\"gs_md_li\">Databases &amp; Information Systems</a><a href=\"/citations?view_op=top_venues&amp;hl=en&amp;vq=eng_educationaltechnology\" role=\"menuitem\" tabindex=\"-1\" class=\"gs_md_li\">Educational Technology</a><a href=\"/citations?view_op=top_venues&amp;hl=en&amp;vq=eng_enggeneral\" role=\"menuitem\" tabindex=\"-1\" class=\"gs_md_li\">Engineering &amp; Computer Science (general)</a><a href=\"/citations?view_op=top_venues&amp;hl=en&amp;vq=eng_environmentalgeologicalengineering\" role=\"menuitem\" tabindex=\"-1\" class=\"gs_md_li\">Environmental &amp; Geological Engineering</a><a href=\"/citations?view_op=top_venues&amp;hl=en&amp;vq=eng_evolutionarycomputation\" role=\"menuitem\" tabindex=\"-1\" class=\"gs_md_li\">Evolutionary Computation</a><a href=\"/citations?view_op=top_venues&amp;hl=en&amp;vq=eng_foodsciencetechnology\" role=\"menuitem\" tabindex=\"-1\" class=\"gs_md_li\">Food Science &amp; Technology</a><a href=\"/citations?view_op=top_venues&amp;hl=en&amp;vq=eng_fuzzysystems\" role=\"menuitem\" tabindex=\"-1\" class=\"gs_md_li\">Fuzzy Systems</a><a href=\"/citations?view_op=top_venues&amp;hl=en&amp;vq=eng_gametheorydecisionscience\" role=\"menuitem\" tabindex=\"-1\" class=\"gs_md_li\">Game Theory and Decision Science</a><a href=\"/citations?view_op=top_venues&amp;hl=en&amp;vq=eng_humancomputerinteraction\" role=\"menuitem\" tabindex=\"-1\" class=\"gs_md_li\">Human Computer Interaction</a><a href=\"/citations?view_op=top_venues&amp;hl=en&amp;vq=eng_libraryinformationscience\" role=\"menuitem\" tabindex=\"-1\" class=\"gs_md_li\">Library &amp; Information Science</a><a href=\"/citations?view_op=top_venues&amp;hl=en&amp;vq=eng_manufacturingmachinery\" role=\"menuitem\" tabindex=\"-1\" class=\"gs_md_li\">Manufacturing &amp; Machinery</a><a href=\"/citations?view_op=top_venues&amp;hl=en&amp;vq=eng_materialsengineering\" role=\"menuitem\" tabindex=\"-1\" class=\"gs_md_li\">Materials Engineering</a><a href=\"/citations?view_op=top_venues&amp;hl=en&amp;vq=eng_mechanicalengineering\" role=\"menuitem\" tabindex=\"-1\" class=\"gs_md_li\">Mechanical Engineering</a><a href=\"/citations?view_op=top_venues&amp;hl=en&amp;vq=eng_medicalinformatics\" role=\"menuitem\" tabindex=\"-1\" class=\"gs_md_li\">Medical Informatics</a><a href=\"/citations?view_op=top_venues&amp;hl=en&amp;vq=eng_metallurgy\" role=\"menuitem\" tabindex=\"-1\" class=\"gs_md_li\">Metallurgy</a><a href=\"/citations?view_op=top_venues&amp;hl=en&amp;vq=eng_microelectronicselectronicpackaging\" role=\"menuitem\" tabindex=\"-1\" class=\"gs_md_li\">Microelectronics &amp; Electronic Packaging</a><a href=\"/citations?view_op=top_venues&amp;hl=en&amp;vq=eng_miningmineralresources\" role=\"menuitem\" tabindex=\"-1\" class=\"gs_md_li\">Mining &amp; Mineral Resources</a><a href=\"/citations?view_op=top_venues&amp;hl=en&amp;vq=eng_multimedia\" role=\"menuitem\" tabindex=\"-1\" class=\"gs_md_li\">Multimedia</a><a href=\"/citations?view_op=top_venues&amp;hl=en&amp;vq=eng_nanotechnology\" role=\"menuitem\" tabindex=\"-1\" class=\"gs_md_li\">Nanotechnology</a></div><div class=\"gs_md_ul\"><a href=\"/citations?view_op=top_venues&amp;hl=en&amp;vq=eng_oceanmarineengineering\" role=\"menuitem\" tabindex=\"-1\" class=\"gs_md_li\">Ocean &amp; Marine Engineering</a><a href=\"/citations?view_op=top_venues&amp;hl=en&amp;vq=eng_oilpetroleumnaturalgas\" role=\"menuitem\" tabindex=\"-1\" class=\"gs_md_li\">Oil, Petroleum &amp; Natural Gas</a><a href=\"/citations?view_op=top_venues&amp;hl=en&amp;vq=eng_operationsresearch\" role=\"menuitem\" tabindex=\"-1\" class=\"gs_md_li\">Operations Research</a><a href=\"/citations?view_op=top_venues&amp;hl=en&amp;vq=eng_plasmafusion\" role=\"menuitem\" tabindex=\"-1\" class=\"gs_md_li\">Plasma &amp; Fusion</a><a href=\"/citations?view_op=top_venues&amp;hl=en&amp;vq=eng_powerengineering\" role=\"menuitem\" tabindex=\"-1\" class=\"gs_md_li\">Power Engineering</a><a href=\"/citations?view_op=top_venues&amp;hl=en&amp;vq=eng_qualityreliability\" role=\"menuitem\" tabindex=\"-1\" class=\"gs_md_li\">Quality &amp; Reliability</a><a href=\"/citations?view_op=top_venues&amp;hl=en&amp;vq=eng_radarpositioningnavigation\" role=\"menuitem\" tabindex=\"-1\" class=\"gs_md_li\">Radar, Positioning &amp; Navigation</a><a href=\"/citations?view_op=top_venues&amp;hl=en&amp;vq=eng_remotesensing\" role=\"menuitem\" tabindex=\"-1\" class=\"gs_md_li\">Remote Sensing</a><a href=\"/citations?view_op=top_venues&amp;hl=en&amp;vq=eng_robotics\" role=\"menuitem\" tabindex=\"-1\" class=\"gs_md_li\">Robotics</a><a href=\"/citations?view_op=top_venues&amp;hl=en&amp;vq=eng_signalprocessing\" role=\"menuitem\" tabindex=\"-1\" class=\"gs_md_li\">Signal Processing</a><a href=\"/citations?view_op=top_venues&amp;hl=en&amp;vq=eng_softwaresystems\" role=\"menuitem\" tabindex=\"-1\" class=\"gs_md_li\">Software Systems</a><a href=\"/citations?view_op=top_venues&amp;hl=en&amp;vq=eng_structuralengineering\" role=\"menuitem\" tabindex=\"-1\" class=\"gs_md_li\">Structural Engineering</a><a href=\"/citations?view_op=top_venues&amp;hl=en&amp;vq=eng_sustainableenergy\" role=\"menuitem\" tabindex=\"-1\" class=\"gs_md_li\">Sustainable Energy</a><a href=\"/citations?view_op=top_venues&amp;hl=en&amp;vq=eng_technologylaw\" role=\"menuitem\" tabindex=\"-1\" class=\"gs_md_li\">Technology Law</a><a href=\"/citations?view_op=top_venues&amp;hl=en&amp;vq=eng_textileengineering\" role=\"menuitem\" tabindex=\"-1\" class=\"gs_md_li\">Textile Engineering</a><a href=\"/citations?view_op=top_venues&amp;hl=en&amp;vq=eng_theoreticalcomputerscience\" role=\"menuitem\" tabindex=\"-1\" class=\"gs_md_li\">Theoretical Computer Science</a><a href=\"/citations?view_op=top_venues&amp;hl=en&amp;vq=eng_transportation\" role=\"menuitem\" tabindex=\"-1\" class=\"gs_md_li\">Transportation</a><a href=\"/citations?view_op=top_venues&amp;hl=en&amp;vq=eng_watersupplytreatment\" role=\"menuitem\" tabindex=\"-1\" class=\"gs_md_li\">Water Supply &amp; Treatment</a><a href=\"/citations?view_op=top_venues&amp;hl=en&amp;vq=eng_woodsciencetechnology\" role=\"menuitem\" tabindex=\"-1\" class=\"gs_md_li\">Wood Science &amp; Technology</a></div></div></div></div></div></div><div id=\"gsc_mp_nav_right\"></div></div><div id=\"gsc_mp_desc\"><div id=\"gsc_mphm_hidx\" class=\"gsc_mphm\">h5-index is the h-index for articles published in the last 5 complete years. It is the largest number h such that h articles published in 2020-2024 have at least h citations each.<a href=\"javascript:void(0)\" class=\"gsc_mp_tgh gsc_mphm_ha gsc_mp_anchor\" data-tg=\"gsc_mphm_hidx\">hide</a></div><div id=\"gsc_mphm_hmed\" class=\"gsc_mphm\">h5-median for a publication is the median number of citations for the articles that make up its h5-index.<a href=\"javascript:void(0)\" class=\"gsc_mp_tgh gsc_mphm_ha gsc_mp_anchor\" data-tg=\"gsc_mphm_hmed\">hide</a></div></div><div id=\"gsc_mp_content\" role=\"main\" class=\"gs_scl\"><div class=\"gsc_mvt_table_wrapper\"><table id=\"gsc_mvt_table\" class=\"gsc_mp_table\"><tr><th class=\"gsc_mvt_p\"></th><th class=\"gsc_mvt_t\">Publication</th><th class=\"gsc_mvt_n\"><a href=\"javascript:void(0)\" class=\"gsc_mp_anchor gsc_mp_tgh\" data-tg=\"gsc_mphm_hidx\">h5-index</a></th><th class=\"gsc_mvt_n\"><a href=\"javascript:void(0)\" class=\"gsc_mp_anchor gsc_mp_tgh\" data-tg=\"gsc_mphm_hmed\">h5-median</a></th></tr><tr><td class=\"gsc_mvt_p\">1.</td><td class=\"gsc_mvt_t\">Neural Information Processing Systems</td><td class=\"gsc_mvt_n\"><a href=\"/citations?hl=en&amp;vq=eng_artificialintelligence&amp;view_op=list_hcore&amp;venue=6SgK_Z8h2_wJ.2025\" class=\"gs_ibl gsc_mp_anchor\">371</a></td><td class=\"gsc_mvt_n\"><span class=\"gs_ibl gsc_mp_anchor\">637</span></td></tr><tr><td class=\"gsc_mvt_p\">2.</td><td class=\"gsc_mvt_t\">International Conference on Learning Representations</td><td class=\"gsc_mvt_n\"><a href=\"/citations?hl=en&amp;vq=eng_artificialintelligence&amp;view_op=list_hcore&amp;venue=0032SoU2xY4J.2025\" class=\"gs_ibl gsc_mp_anchor\">362</a></td><td class=\"gsc_mvt_n\"><span class=\"gs_ibl gsc_mp_anchor\">652</span></td></tr><tr><td class=\"gsc_mvt_p\">3.</td><td class=\"gsc_mvt_t\">International Conference on Machine Learning</td><td class=\"gsc_mvt_n\"><a href=\"/citations?hl=en&amp;vq=eng_artificialintelligence&amp;view_op=list_hcore&amp;venue=wL2oxc9mT4YJ.2025\" class=\"gs_ibl gsc_mp_anchor\">272</a></td><td class=\"gsc_mvt_n\"><span class=\"gs_ibl gsc_mp_anchor\">471</span></td></tr><tr><td class=\"gsc_mvt_p\">4.</td><td class=\"gsc_mvt_t\">AAAI Conference on Artificial Intelligence</td><td class=\"gsc_mvt_n\"><a href=\"/citations?hl=en&amp;vq=eng_artificialintelligence&amp;view_op=list_hcore&amp;venue=PV9sQN5dnPsJ.2025\" class=\"gs_ibl gsc_mp_anchor\">232</a></td><td class=\"gsc_mvt_n\"><span class=\"gs_ibl gsc_mp_anchor\">358</span></td></tr><tr><td class=\"gsc_mvt_p\">5.</td><td class=\"gsc_mvt_t\">Expert Systems with Applications</td><td class=\"gsc_mvt_n\"><a href=\"/citations?hl=en&amp;vq=eng_artificialintelligence&amp;view_op=list_hcore&amp;venue=AlAHN-bTk3IJ.2025\" class=\"gs_ibl gsc_mp_anchor\">183</a></td><td class=\"gsc_mvt_n\"><span class=\"gs_ibl gsc_mp_anchor\">268</span></td></tr><tr><td class=\"gsc_mvt_p\">6.</td><td class=\"gsc_mvt_t\">IEEE Transactions on Neural Networks and Learning Systems</td><td class=\"gsc_mvt_n\"><a href=\"/citations?hl=en&amp;vq=eng_artificialintelligence&amp;view_op=list_hcore&amp;venue=LILlZnFGZh8J.2025\" class=\"gs_ibl gsc_mp_anchor\">165</a></td><td class=\"gsc_mvt_n\"><span class=\"gs_ibl gsc_mp_anchor\">242</span></td></tr><tr><td class=\"gsc_mvt_p\">7.</td><td class=\"gsc_mvt_t\">IEEE Transactions On Systems, Man And Cybernetics Part B, Cybernetics</td><td class=\"gsc_mvt_n\"><a href=\"/citations?hl=en&amp;vq=eng_artificialintelligence&amp;view_op=list_hcore&amp;venue=PUrHi32sn7cJ.2025\" class=\"gs_ibl gsc_mp_anchor\">157</a></td><td class=\"gsc_mvt_n\"><span class=\"gs_ibl gsc_mp_anchor\">213</span></td></tr><tr><td class=\"gsc_mvt_p\">8.</td><td class=\"gsc_mvt_t\">Neurocomputing</td><td class=\"gsc_mvt_n\"><a href=\"/citations?hl=en&amp;vq=eng_artificialintelligence&amp;view_op=list_hcore&amp;venue=UiBaG4a78dYJ.2025\" class=\"gs_ibl gsc_mp_anchor\">148</a></td><td class=\"gsc_mvt_n\"><span class=\"gs_ibl gsc_mp_anchor\">211</span></td></tr><tr><td class=\"gsc_mvt_p\">9.</td><td class=\"gsc_mvt_t\">Artificial Intelligence Review</td><td class=\"gsc_mvt_n\"><a href=\"/citations?hl=en&amp;vq=eng_artificialintelligence&amp;view_op=list_hcore&amp;venue=ARdtvmikuQgJ.2025\" class=\"gs_ibl gsc_mp_anchor\">147</a></td><td class=\"gsc_mvt_n\"><span class=\"gs_ibl gsc_mp_anchor\">272</span></td></tr><tr><td class=\"gsc_mvt_p\">10.</td><td class=\"gsc_mvt_t\">Neural Computing and Applications</td><td class=\"gsc_mvt_n\"><a href=\"/citations?hl=en&amp;vq=eng_artificialintelligence&amp;view_op=list_hcore&amp;venue=OJa50TTisMAJ.2025\" class=\"gs_ibl gsc_mp_anchor\">146</a></td><td class=\"gsc_mvt_n\"><span class=\"gs_ibl gsc_mp_anchor\">226</span></td></tr><tr><td class=\"gsc_mvt_p\">11.</td><td class=\"gsc_mvt_t\">Applied Soft Computing</td><td class=\"gsc_mvt_n\"><a href=\"/citations?hl=en&amp;vq=eng_artificialintelligence&amp;view_op=list_hcore&amp;venue=lFUe46cMy-8J.2025\" class=\"gs_ibl gsc_mp_anchor\">144</a></td><td class=\"gsc_mvt_n\"><span class=\"gs_ibl gsc_mp_anchor\">194</span></td></tr><tr><td class=\"gsc_mvt_p\">12.</td><td class=\"gsc_mvt_t\">Information Fusion</td><td class=\"gsc_mvt_n\"><a href=\"/citations?hl=en&amp;vq=eng_artificialintelligence&amp;view_op=list_hcore&amp;venue=fh7TyPxTUh4J.2025\" class=\"gs_ibl gsc_mp_anchor\">143</a></td><td class=\"gsc_mvt_n\"><span class=\"gs_ibl gsc_mp_anchor\">255</span></td></tr><tr><td class=\"gsc_mvt_p\">13.</td><td class=\"gsc_mvt_t\">Knowledge-Based Systems</td><td class=\"gsc_mvt_n\"><a href=\"/citations?hl=en&amp;vq=eng_artificialintelligence&amp;view_op=list_hcore&amp;venue=bLMLC2tNXVYJ.2025\" class=\"gs_ibl gsc_mp_anchor\">141</a></td><td class=\"gsc_mvt_n\"><span class=\"gs_ibl gsc_mp_anchor\">203</span></td></tr><tr><td class=\"gsc_mvt_p\">14.</td><td class=\"gsc_mvt_t\">International Joint Conference on Artificial Intelligence (IJCAI)</td><td class=\"gsc_mvt_n\"><a href=\"/citations?hl=en&amp;vq=eng_artificialintelligence&amp;view_op=list_hcore&amp;venue=4HxsSu0PUdYJ.2025\" class=\"gs_ibl gsc_mp_anchor\">136</a></td><td class=\"gsc_mvt_n\"><span class=\"gs_ibl gsc_mp_anchor\">207</span></td></tr><tr><td class=\"gsc_mvt_p\">15.</td><td class=\"gsc_mvt_t\">Journal of Machine Learning Research</td><td class=\"gsc_mvt_n\"><a href=\"/citations?hl=en&amp;vq=eng_artificialintelligence&amp;view_op=list_hcore&amp;venue=xGmHIRXOMl0J.2025\" class=\"gs_ibl gsc_mp_anchor\">130</a></td><td class=\"gsc_mvt_n\"><span class=\"gs_ibl gsc_mp_anchor\">214</span></td></tr><tr><td class=\"gsc_mvt_p\">16.</td><td class=\"gsc_mvt_t\">Engineering Applications of Artificial Intelligence</td><td class=\"gsc_mvt_n\"><a href=\"/citations?hl=en&amp;vq=eng_artificialintelligence&amp;view_op=list_hcore&amp;venue=ZJCdr9rMI_sJ.2025\" class=\"gs_ibl gsc_mp_anchor\">117</a></td><td class=\"gsc_mvt_n\"><span class=\"gs_ibl gsc_mp_anchor\">164</span></td></tr><tr><td class=\"gsc_mvt_p\">17.</td><td class=\"gsc_mvt_t\">IEEE Transactions on Fuzzy Systems</td><td class=\"gsc_mvt_n\"><a href=\"/citations?hl=en&amp;vq=eng_artificialintelligence&amp;view_op=list_hcore&amp;venue=DyEnkmF1XI0J.2025\" class=\"gs_ibl gsc_mp_anchor\">111</a></td><td class=\"gsc_mvt_n\"><span class=\"gs_ibl gsc_mp_anchor\">155</span></td></tr><tr><td class=\"gsc_mvt_p\">18.</td><td class=\"gsc_mvt_t\">Conference on Robot Learning</td><td class=\"gsc_mvt_n\"><a href=\"/citations?hl=en&amp;vq=eng_artificialintelligence&amp;view_op=list_hcore&amp;venue=kWi-GfxuXpEJ.2025\" class=\"gs_ibl gsc_mp_anchor\">107</a></td><td class=\"gsc_mvt_n\"><span class=\"gs_ibl gsc_mp_anchor\">179</span></td></tr><tr><td class=\"gsc_mvt_p\">19.</td><td class=\"gsc_mvt_t\">Neural Networks</td><td class=\"gsc_mvt_n\"><a href=\"/citations?hl=en&amp;vq=eng_artificialintelligence&amp;view_op=list_hcore&amp;venue=jTbIWNF99y0J.2025\" class=\"gs_ibl gsc_mp_anchor\">106</a></td><td class=\"gsc_mvt_n\"><span class=\"gs_ibl gsc_mp_anchor\">153</span></td></tr><tr><td class=\"gsc_mvt_p\">20.</td><td class=\"gsc_mvt_t\">International Conference on Artificial Intelligence and Statistics</td><td class=\"gsc_mvt_n\"><a href=\"/citations?hl=en&amp;vq=eng_artificialintelligence&amp;view_op=list_hcore&amp;venue=PhcE9OLs0MUJ.2025\" class=\"gs_ibl gsc_mp_anchor\">101</a></td><td class=\"gsc_mvt_n\"><span class=\"gs_ibl gsc_mp_anchor\">156</span></td></tr></table></div></div><div id=\"gsc_mp_disclaimer\" class=\"gs_gray\">Dates and citation counts are estimated and are determined automatically by a computer program.</div></div></div></div><div id=\"gs_ftr_sp\" role=\"presentation\"></div><div id=\"gs_ftr\" class=\"gs_md_rmb\" role=\"contentinfo\"><div id=\"gs_ftr_rt\"><a href=\"//www.google.es/intl/en/policies/privacy/\">Privacy</a><a href=\"//www.google.es/intl/en/policies/terms/\">Terms</a><a href=\"javascript:void(0)\" ontouchstart=\"gs_evt_dsp(event)\" role=\"button\" aria-controls=\"gs_ftr_mnu\" aria-haspopup=\"true\" class=\"gs_press gs_md_tb\">Help</a></div><div id=\"gs_ftr_mnu\" class=\"gs_md_d gs_md_ds gs_ttzi gs_md_ulr\" role=\"menu\" tabindex=\"-1\"><a role=\"menuitem\" href=\"/intl/en/scholar/about.html\" tabindex=\"-1\" class=\"gs_md_li\">About Scholar</a><a role=\"menuitem\" href=\"//support.google.com/websearch?p=scholar_dsa&amp;hl=en\" tabindex=\"-1\" class=\"gs_md_li\">Search help</a></div></div></div></body></html>\n",
      "<Response [200]>\n"
     ]
    }
   ],
   "execution_count": 1
  },
  {
   "metadata": {
    "ExecuteTime": {
     "end_time": "2025-09-26T05:36:18.764180Z",
     "start_time": "2025-09-26T05:36:18.754043Z"
    }
   },
   "cell_type": "code",
   "source": [
    "from bs4 import BeautifulSoup\n",
    "soup = BeautifulSoup(response.text, 'html.parser')\n",
    "trs = soup.select(\"#gsc_mvt_table  tr\")\n",
    "len(trs)"
   ],
   "id": "66024d7f3c47c365",
   "outputs": [
    {
     "data": {
      "text/plain": [
       "21"
      ]
     },
     "execution_count": 6,
     "metadata": {},
     "output_type": "execute_result"
    }
   ],
   "execution_count": 6
  },
  {
   "metadata": {
    "ExecuteTime": {
     "end_time": "2025-09-26T05:42:39.380449Z",
     "start_time": "2025-09-26T05:42:39.374840Z"
    }
   },
   "cell_type": "code",
   "source": [
    "base_url = \"https://scholar.google.es/citations?view_op=top_venues&hl=en&vq=eng_artificialintelligence\"\n",
    "from urllib.parse import urljoin\n",
    "for tr in trs:\n",
    "    tds = tr.select(\"td\")\n",
    "    if len(tds) == 0:\n",
    "        continue\n",
    "    if len(tds) != 4:\n",
    "        print(\"tds length != 4\", tds)\n",
    "        continue\n",
    "    rank = tds[0].get_text()\n",
    "    title = tds[1].get_text()\n",
    "    h5_index = tds[2].get_text()\n",
    "    h5_index_url = \"\"\n",
    "    if tds[2].a:\n",
    "        h5_index_url = urljoin(base =base_url ,url = tds[2].a['href'])\n",
    "    h5_median = tds[3].get_text()\n",
    "    print(rank, title, h5_index, h5_median,h5_index_url)"
   ],
   "id": "5e48fecc06be8bc1",
   "outputs": [
    {
     "name": "stdout",
     "output_type": "stream",
     "text": [
      "1. Neural Information Processing Systems 371 637 https://scholar.google.es/citations?hl=en&vq=eng_artificialintelligence&view_op=list_hcore&venue=6SgK_Z8h2_wJ.2025\n",
      "2. International Conference on Learning Representations 362 652 https://scholar.google.es/citations?hl=en&vq=eng_artificialintelligence&view_op=list_hcore&venue=0032SoU2xY4J.2025\n",
      "3. International Conference on Machine Learning 272 471 https://scholar.google.es/citations?hl=en&vq=eng_artificialintelligence&view_op=list_hcore&venue=wL2oxc9mT4YJ.2025\n",
      "4. AAAI Conference on Artificial Intelligence 232 358 https://scholar.google.es/citations?hl=en&vq=eng_artificialintelligence&view_op=list_hcore&venue=PV9sQN5dnPsJ.2025\n",
      "5. Expert Systems with Applications 183 268 https://scholar.google.es/citations?hl=en&vq=eng_artificialintelligence&view_op=list_hcore&venue=AlAHN-bTk3IJ.2025\n",
      "6. IEEE Transactions on Neural Networks and Learning Systems 165 242 https://scholar.google.es/citations?hl=en&vq=eng_artificialintelligence&view_op=list_hcore&venue=LILlZnFGZh8J.2025\n",
      "7. IEEE Transactions On Systems, Man And Cybernetics Part B, Cybernetics 157 213 https://scholar.google.es/citations?hl=en&vq=eng_artificialintelligence&view_op=list_hcore&venue=PUrHi32sn7cJ.2025\n",
      "8. Neurocomputing 148 211 https://scholar.google.es/citations?hl=en&vq=eng_artificialintelligence&view_op=list_hcore&venue=UiBaG4a78dYJ.2025\n",
      "9. Artificial Intelligence Review 147 272 https://scholar.google.es/citations?hl=en&vq=eng_artificialintelligence&view_op=list_hcore&venue=ARdtvmikuQgJ.2025\n",
      "10. Neural Computing and Applications 146 226 https://scholar.google.es/citations?hl=en&vq=eng_artificialintelligence&view_op=list_hcore&venue=OJa50TTisMAJ.2025\n",
      "11. Applied Soft Computing 144 194 https://scholar.google.es/citations?hl=en&vq=eng_artificialintelligence&view_op=list_hcore&venue=lFUe46cMy-8J.2025\n",
      "12. Information Fusion 143 255 https://scholar.google.es/citations?hl=en&vq=eng_artificialintelligence&view_op=list_hcore&venue=fh7TyPxTUh4J.2025\n",
      "13. Knowledge-Based Systems 141 203 https://scholar.google.es/citations?hl=en&vq=eng_artificialintelligence&view_op=list_hcore&venue=bLMLC2tNXVYJ.2025\n",
      "14. International Joint Conference on Artificial Intelligence (IJCAI) 136 207 https://scholar.google.es/citations?hl=en&vq=eng_artificialintelligence&view_op=list_hcore&venue=4HxsSu0PUdYJ.2025\n",
      "15. Journal of Machine Learning Research 130 214 https://scholar.google.es/citations?hl=en&vq=eng_artificialintelligence&view_op=list_hcore&venue=xGmHIRXOMl0J.2025\n",
      "16. Engineering Applications of Artificial Intelligence 117 164 https://scholar.google.es/citations?hl=en&vq=eng_artificialintelligence&view_op=list_hcore&venue=ZJCdr9rMI_sJ.2025\n",
      "17. IEEE Transactions on Fuzzy Systems 111 155 https://scholar.google.es/citations?hl=en&vq=eng_artificialintelligence&view_op=list_hcore&venue=DyEnkmF1XI0J.2025\n",
      "18. Conference on Robot Learning 107 179 https://scholar.google.es/citations?hl=en&vq=eng_artificialintelligence&view_op=list_hcore&venue=kWi-GfxuXpEJ.2025\n",
      "19. Neural Networks 106 153 https://scholar.google.es/citations?hl=en&vq=eng_artificialintelligence&view_op=list_hcore&venue=jTbIWNF99y0J.2025\n",
      "20. International Conference on Artificial Intelligence and Statistics 101 156 https://scholar.google.es/citations?hl=en&vq=eng_artificialintelligence&view_op=list_hcore&venue=PhcE9OLs0MUJ.2025\n"
     ]
    }
   ],
   "execution_count": 12
  },
  {
   "metadata": {
    "ExecuteTime": {
     "end_time": "2025-09-26T05:47:12.289779Z",
     "start_time": "2025-09-26T05:47:12.284958Z"
    }
   },
   "cell_type": "code",
   "source": [
    "base_url = \"https://scholar.google.es/citations?view_op=top_venues&hl=en&vq=eng_artificialintelligence\"\n",
    "data_list = []\n",
    "from urllib.parse import urljoin\n",
    "for tr in trs:\n",
    "    tds = tr.select(\"td\")\n",
    "    if len(tds) == 0:\n",
    "        continue\n",
    "    if len(tds) != 4:\n",
    "        print(\"tds length != 4\", tds)\n",
    "        continue\n",
    "    rank = tds[0].get_text()\n",
    "    title = tds[1].get_text()\n",
    "    h5_index = tds[2].get_text()\n",
    "    h5_index_url = \"\"\n",
    "    if tds[2].a:\n",
    "        h5_index_url = urljoin(base =base_url ,url = tds[2].a['href'])\n",
    "    h5_median = tds[3].get_text()\n",
    "    data_list.append({\n",
    "        \"rank\" : rank.split(\".\")[0] if \".\" in rank else rank,\n",
    "        \"title\": title,\n",
    "        \"h5_index\": h5_index,\n",
    "        \"h5_median\": h5_median,\n",
    "        \"h5_index_url\": h5_index_url,\n",
    "    })"
   ],
   "id": "7a246b8d143749c3",
   "outputs": [],
   "execution_count": 22
  },
  {
   "metadata": {
    "ExecuteTime": {
     "end_time": "2025-09-26T05:46:57.511606Z",
     "start_time": "2025-09-26T05:46:57.508764Z"
    }
   },
   "cell_type": "code",
   "source": "rank.split(\".\")[0] if \".\" in rank else rank",
   "id": "c827e2b69493df2f",
   "outputs": [
    {
     "data": {
      "text/plain": [
       "'1'"
      ]
     },
     "execution_count": 20,
     "metadata": {},
     "output_type": "execute_result"
    }
   ],
   "execution_count": 20
  },
  {
   "metadata": {
    "ExecuteTime": {
     "end_time": "2025-09-26T05:47:24.209688Z",
     "start_time": "2025-09-26T05:47:24.204926Z"
    }
   },
   "cell_type": "code",
   "source": [
    "file_name = \"get_artilce_TopPublications5Year_AI.json\"\n",
    "import json\n",
    "with open(file_name, \"w\", encoding=\"utf-8\") as f:\n",
    "    json.dump(data_list, f, ensure_ascii=False, indent=4)\n"
   ],
   "id": "cd30f0d74cf1d9b6",
   "outputs": [],
   "execution_count": 23
  },
  {
   "metadata": {
    "ExecuteTime": {
     "end_time": "2025-09-26T06:18:30.682150Z",
     "start_time": "2025-09-26T06:18:29.528211Z"
    }
   },
   "cell_type": "code",
   "source": [
    "import requests\n",
    "headers = {\n",
    "    \"accept\": \"text/html,application/xhtml+xml,application/xml;q=0.9,image/avif,image/webp,image/apng,*/*;q=0.8,application/signed-exchange;v=b3;q=0.7\",\n",
    "    \"accept-language\": \"en\",\n",
    "    \"priority\": \"u=0, i\",\n",
    "    \"sec-ch-ua\": \"\\\"Chromium\\\";v=\\\"140\\\", \\\"Not=A?Brand\\\";v=\\\"24\\\", \\\"Google Chrome\\\";v=\\\"140\\\"\",\n",
    "    \"sec-ch-ua-arch\": \"\\\"arm\\\"\",\n",
    "    \"sec-ch-ua-bitness\": \"\\\"64\\\"\",\n",
    "    \"sec-ch-ua-full-version-list\": \"\\\"Chromium\\\";v=\\\"140.0.7339.186\\\", \\\"Not=A?Brand\\\";v=\\\"24.0.0.0\\\", \\\"Google Chrome\\\";v=\\\"140.0.7339.186\\\"\",\n",
    "    \"sec-ch-ua-mobile\": \"?0\",\n",
    "    \"sec-ch-ua-model\": \"\\\"\\\"\",\n",
    "    \"sec-ch-ua-platform\": \"\\\"macOS\\\"\",\n",
    "    \"sec-ch-ua-platform-version\": \"\\\"15.6.0\\\"\",\n",
    "    \"sec-ch-ua-wow64\": \"?0\",\n",
    "    \"sec-fetch-dest\": \"document\",\n",
    "    \"sec-fetch-mode\": \"navigate\",\n",
    "    \"sec-fetch-site\": \"none\",\n",
    "    \"sec-fetch-user\": \"?1\",\n",
    "    \"upgrade-insecure-requests\": \"1\",\n",
    "    \"user-agent\": \"Mozilla/5.0 (Macintosh; Intel Mac OS X 10_15_7) AppleWebKit/537.36 (KHTML, like Gecko) Chrome/140.0.0.0 Safari/537.36\",\n",
    "    \"x-browser-channel\": \"stable\",\n",
    "    \"x-browser-copyright\": \"Copyright 2025 Google LLC. All rights reserved.\",\n",
    "    \"x-browser-validation\": \"jFliu1AvGMEE7cpr93SSytkZ8D4=\",\n",
    "    \"x-browser-year\": \"2025\"\n",
    "}\n",
    "cookies = {\n",
    "    \"GSP\": \"LM=1758854590:S=JdiCnAjqkhcm1feW\",\n",
    "    \"NID\": \"525=okwPY68CY-8bKu_ByZ_PYqf8RWh5NohVL_5CyYniITglBr412I68_Nc3sodU6Qb8garPziefGytySdMm0qbyt3cE50uPrFZU9tK2a0nQTkJLOTBw9qRXjWkABqz31u-WzE9_4lcVyWxUx9zLVAKMalrJ7yDnzk9s0c_cpSxPQDKEtaS3JIYbAvtGlwTf8KV265BQX8vEs8tqHA\"\n",
    "}\n",
    "url = \"https://scholar.google.es/citations\"\n",
    "params = {\n",
    "    \"hl\": \"en\",\n",
    "    \"vq\": \"eng_artificialintelligence\",\n",
    "    \"view_op\": \"list_hcore\",\n",
    "    \"venue\": \"jTbIWNF99y0J.2025\",\n",
    "    \"cstart\": \"0\"\n",
    "}\n",
    "response = requests.get(url, headers=headers, cookies=cookies, params=params)\n",
    "\n",
    "print(response.text[:200])\n",
    "print(response)"
   ],
   "id": "4a6986ea04dfbc3",
   "outputs": [
    {
     "name": "stdout",
     "output_type": "stream",
     "text": [
      "<!doctype html><html><head><title>Neural Networks - Google Scholar Metrics</title><meta http-equiv=\"Content-Type\" content=\"text/html;charset=UTF-8\"><meta http-equiv=\"X-UA-Compatible\" content=\"IE=Edge\"\n",
      "<Response [200]>\n"
     ]
    }
   ],
   "execution_count": 25
  },
  {
   "metadata": {
    "ExecuteTime": {
     "end_time": "2025-09-26T06:21:26.315916Z",
     "start_time": "2025-09-26T06:21:26.305868Z"
    }
   },
   "cell_type": "code",
   "source": [
    "article_soup = BeautifulSoup(response.text, 'html.parser')\n",
    "trs = article_soup.select(\"#gsc_mpat_table tr\")\n",
    "len(trs)"
   ],
   "id": "498b71274a999f24",
   "outputs": [
    {
     "data": {
      "text/plain": [
       "21"
      ]
     },
     "execution_count": 28,
     "metadata": {},
     "output_type": "execute_result"
    }
   ],
   "execution_count": 28
  },
  {
   "metadata": {
    "ExecuteTime": {
     "end_time": "2025-09-26T06:44:11.731668Z",
     "start_time": "2025-09-26T06:44:11.726916Z"
    }
   },
   "cell_type": "code",
   "source": [
    "for tr in trs:\n",
    "    tds = tr.select(\"td\")\n",
    "    if len(tds) == 0:\n",
    "        continue\n",
    "    if len(tds) != 3:\n",
    "        print(\"tds length != 3\", tds)\n",
    "        continue\n",
    "    title_tag = tr.select_one(\"td.gsc_mpat_t > div.gsc_mpat_ttl > a\")\n",
    "    article_title  = title_tag.get_text().strip()\n",
    "    article_url = urljoin(base =url ,url = title_tag.get(\"href\",\"\").strip()) if title_tag else \"\"\n",
    "    author_tag =   tr.select_one(\"td.gsc_mpat_t > div.gs_gray:nth-child(2)\")\n",
    "    authors = author_tag.get_text().strip() if author_tag else \"\"\n",
    "    publication_tag = tr.select_one(\"td.gsc_mpat_t > div.gs_gray:nth-child(3)\")\n",
    "    publication_venue = publication_tag.get_text().strip() if publication_tag else \"\"\n",
    "    cite_by_tag = tr.select_one(\"td.gsc_mpat_c a\")\n",
    "    cite_num = cite_by_tag.get_text().strip() if cite_by_tag else \"\"\n",
    "    city_url =  urljoin(base =url ,url = cite_by_tag.get(\"href\",\"\").strip()) if cite_by_tag else \"\"\n",
    "    year_tag  =  tr.select_one(\"td.gsc_mpat_y span\")\n",
    "    year =year_tag.get_text().strip() if year_tag else \"\",\n",
    "\n",
    "    data_dict = {\n",
    "        \"title\": article_title,\n",
    "        \"article_url\": article_url,\n",
    "        \"authors\": authors,\n",
    "        \"publication_venue\": publication_venue,\n",
    "        \"cited_num\": cite_num,\n",
    "        \"cited_url\": city_url,\n",
    "        \"year\": year\n",
    "    }\n",
    "    break\n",
    "data_dict\n"
   ],
   "id": "84389d2bcb1fe6ba",
   "outputs": [
    {
     "data": {
      "text/plain": [
       "{'title': 'MultiResUNet: Rethinking the U-Net architecture for multimodal biomedical image segmentation',\n",
       " 'article_url': 'https://scholar.google.es/scholar?oi=bibs&cluster=12539413464703124506&btnI=1&hl=en',\n",
       " 'authors': 'N Ibtehaz, MS Rahman',\n",
       " 'publication_venue': 'Neural Networks 121, 74-87',\n",
       " 'cited_num': '2255',\n",
       " 'cited_url': 'https://scholar.google.es/citations?hl=en&venue=jTbIWNF99y0J.2025&vq=eng_artificialintelligence&view_op=hcore_citedby&hcore_pos=0',\n",
       " 'year': ('2020',)}"
      ]
     },
     "execution_count": 31,
     "metadata": {},
     "output_type": "execute_result"
    }
   ],
   "execution_count": 31
  },
  {
   "metadata": {
    "ExecuteTime": {
     "end_time": "2025-09-26T07:04:20.538304Z",
     "start_time": "2025-09-26T07:04:20.535399Z"
    }
   },
   "cell_type": "code",
   "source": [
    "import datetime\n",
    "now_date = datetime.datetime.now().date()\n",
    "now_date"
   ],
   "id": "eb4da03395a4087f",
   "outputs": [
    {
     "data": {
      "text/plain": [
       "datetime.date(2025, 9, 26)"
      ]
     },
     "execution_count": 41,
     "metadata": {},
     "output_type": "execute_result"
    }
   ],
   "execution_count": 41
  },
  {
   "metadata": {
    "ExecuteTime": {
     "end_time": "2025-09-26T07:04:21.332812Z",
     "start_time": "2025-09-26T07:04:21.329529Z"
    }
   },
   "cell_type": "code",
   "source": [
    "start_date = datetime.datetime.strptime(\"2025-09-26\",\"%Y-%m-%d\").date()\n",
    "start_date"
   ],
   "id": "4860b3de6e7e4a5b",
   "outputs": [
    {
     "data": {
      "text/plain": [
       "datetime.date(2025, 9, 26)"
      ]
     },
     "execution_count": 42,
     "metadata": {},
     "output_type": "execute_result"
    }
   ],
   "execution_count": 42
  },
  {
   "metadata": {
    "ExecuteTime": {
     "end_time": "2025-09-26T07:04:22.189705Z",
     "start_time": "2025-09-26T07:04:22.187699Z"
    }
   },
   "cell_type": "code",
   "source": "now_date == start_date",
   "id": "73a31279c5c28eba",
   "outputs": [
    {
     "data": {
      "text/plain": [
       "True"
      ]
     },
     "execution_count": 43,
     "metadata": {},
     "output_type": "execute_result"
    }
   ],
   "execution_count": 43
  },
  {
   "metadata": {
    "ExecuteTime": {
     "end_time": "2025-09-28T03:21:25.157089Z",
     "start_time": "2025-09-28T03:21:25.136987Z"
    }
   },
   "cell_type": "code",
   "source": [
    "from urllib.parse import urlparse, parse_qs\n",
    "url_str  =  \"https://scholar.google.es/citations?hl=en&vq=eng_artificialintelligence&view_op=list_hcore&venue=6SgK_Z8h2_wJ.2025\"\n",
    "urlparse(url_str)\n"
   ],
   "id": "c67029f2cf45c806",
   "outputs": [
    {
     "data": {
      "text/plain": [
       "ParseResult(scheme='https', netloc='scholar.google.es', path='/citations', params='', query='hl=en&vq=eng_artificialintelligence&view_op=list_hcore&venue=6SgK_Z8h2_wJ.2025', fragment='')"
      ]
     },
     "execution_count": 44,
     "metadata": {},
     "output_type": "execute_result"
    }
   ],
   "execution_count": 44
  },
  {
   "metadata": {
    "ExecuteTime": {
     "end_time": "2025-09-28T03:21:50.747764Z",
     "start_time": "2025-09-28T03:21:50.743879Z"
    }
   },
   "cell_type": "code",
   "source": [
    "qyery = parse_qs(urlparse(url_str).query)\n",
    "qyery"
   ],
   "id": "3177330ff16ad43f",
   "outputs": [
    {
     "data": {
      "text/plain": [
       "{'hl': ['en'],\n",
       " 'vq': ['eng_artificialintelligence'],\n",
       " 'view_op': ['list_hcore'],\n",
       " 'venue': ['6SgK_Z8h2_wJ.2025']}"
      ]
     },
     "execution_count": 45,
     "metadata": {},
     "output_type": "execute_result"
    }
   ],
   "execution_count": 45
  },
  {
   "metadata": {
    "ExecuteTime": {
     "end_time": "2025-09-28T03:23:52.771256Z",
     "start_time": "2025-09-28T03:23:52.747815Z"
    }
   },
   "cell_type": "code",
   "source": [
    "from furl import furl\n",
    "\n",
    "url_str = \"https://scholar.google.es/citations?hl=en&vq=eng_artificialintelligence&view_op=list_hcore&venue=0032SoU2xY4J.2025\"\n",
    "\n",
    "# 创建 furl 对象\n",
    "f = furl(url_str)\n",
    "\n",
    "# 1. 直接通过 .args 属性获取查询参数 (返回一个 furl.args.Args 对象)\n",
    "query_params = f.args\n",
    "print(f\"furl 的 args 对象类型: {type(query_params)}\")\n",
    "print(f\"furl 的 args 对象内容: {query_params}\\n\")\n",
    "\n",
    "# 2. 转换为标准字典\n",
    "params_dict = dict(query_params)\n",
    "print(f\"转换为标准字典: {params_dict}\\n\")\n",
    "\n",
    "# 3. 链式操作，轻松修改 URL\n",
    "f.args['hl'] = 'zh-CN' # 修改参数\n",
    "f.add(args={'new_param': 'abc'}) # 添加新参数\n",
    "\n",
    "print(f\"修改后的 URL: {f.url}\")"
   ],
   "id": "f7d7808ef8f7b783",
   "outputs": [
    {
     "name": "stdout",
     "output_type": "stream",
     "text": [
      "furl 的 args 对象类型: <class 'furl.omdict1D.omdict1D'>\n",
      "furl 的 args 对象内容: {'hl': 'en', 'vq': 'eng_artificialintelligence', 'view_op': 'list_hcore', 'venue': '0032SoU2xY4J.2025'}\n",
      "\n",
      "转换为标准字典: {'hl': 'en', 'vq': 'eng_artificialintelligence', 'view_op': 'list_hcore', 'venue': '0032SoU2xY4J.2025'}\n",
      "\n",
      "修改后的 URL: https://scholar.google.es/citations?hl=zh-CN&vq=eng_artificialintelligence&view_op=list_hcore&venue=0032SoU2xY4J.2025&new_param=abc\n"
     ]
    }
   ],
   "execution_count": 46
  },
  {
   "metadata": {
    "ExecuteTime": {
     "end_time": "2025-09-28T03:24:04.854255Z",
     "start_time": "2025-09-28T03:24:04.850964Z"
    }
   },
   "cell_type": "code",
   "source": "query_params",
   "id": "89c3d685549c9181",
   "outputs": [
    {
     "data": {
      "text/plain": [
       "omdict1D([('hl', 'zh-CN'), ('vq', 'eng_artificialintelligence'), ('view_op', 'list_hcore'), ('venue', '0032SoU2xY4J.2025'), ('new_param', 'abc')])"
      ]
     },
     "execution_count": 47,
     "metadata": {},
     "output_type": "execute_result"
    }
   ],
   "execution_count": 47
  },
  {
   "metadata": {
    "ExecuteTime": {
     "end_time": "2025-09-28T03:24:25.678517Z",
     "start_time": "2025-09-28T03:24:25.675784Z"
    }
   },
   "cell_type": "code",
   "source": "query_params.get('venue')",
   "id": "fa3e4a997e7c1416",
   "outputs": [
    {
     "data": {
      "text/plain": [
       "'0032SoU2xY4J.2025'"
      ]
     },
     "execution_count": 48,
     "metadata": {},
     "output_type": "execute_result"
    }
   ],
   "execution_count": 48
  },
  {
   "metadata": {},
   "cell_type": "code",
   "outputs": [],
   "execution_count": null,
   "source": "",
   "id": "169c26edff1d5d6b"
  }
 ],
 "metadata": {
  "kernelspec": {
   "display_name": "Python 3",
   "language": "python",
   "name": "python3"
  },
  "language_info": {
   "codemirror_mode": {
    "name": "ipython",
    "version": 2
   },
   "file_extension": ".py",
   "mimetype": "text/x-python",
   "name": "python",
   "nbconvert_exporter": "python",
   "pygments_lexer": "ipython2",
   "version": "2.7.6"
  }
 },
 "nbformat": 4,
 "nbformat_minor": 5
}
