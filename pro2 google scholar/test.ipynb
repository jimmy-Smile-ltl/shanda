{
 "cells": [
  {
   "cell_type": "code",
   "id": "initial_id",
   "metadata": {
    "collapsed": true,
    "ExecuteTime": {
     "end_time": "2025-09-24T02:09:00.443143Z",
     "start_time": "2025-09-24T02:08:59.382144Z"
    }
   },
   "source": [
    "import requests\n",
    "from jupyter_server.utils import urljoin\n",
    "\n",
    "headers = {\n",
    "    \"accept\": \"text/html,application/xhtml+xml,application/xml;q=0.9,image/avif,image/webp,image/apng,*/*;q=0.8,application/signed-exchange;v=b3;q=0.7\",\n",
    "    \"accept-language\": \"en\",\n",
    "    \"priority\": \"u=0, i\",\n",
    "    \"referer\": \"https://scholar.google.com/schhp?hl=zh-CN\",\n",
    "    \"sec-ch-ua\": \"\\\"Chromium\\\";v=\\\"140\\\", \\\"Not=A?Brand\\\";v=\\\"24\\\", \\\"Google Chrome\\\";v=\\\"140\\\"\",\n",
    "    \"sec-ch-ua-arch\": \"\\\"arm\\\"\",\n",
    "    \"sec-ch-ua-bitness\": \"\\\"64\\\"\",\n",
    "    \"sec-ch-ua-full-version-list\": \"\\\"Chromium\\\";v=\\\"140.0.7339.186\\\", \\\"Not=A?Brand\\\";v=\\\"24.0.0.0\\\", \\\"Google Chrome\\\";v=\\\"140.0.7339.186\\\"\",\n",
    "    \"sec-ch-ua-mobile\": \"?0\",\n",
    "    \"sec-ch-ua-model\": \"\\\"\\\"\",\n",
    "    \"sec-ch-ua-platform\": \"\\\"macOS\\\"\",\n",
    "    \"sec-ch-ua-platform-version\": \"\\\"15.6.0\\\"\",\n",
    "    \"sec-ch-ua-wow64\": \"?0\",\n",
    "    \"sec-fetch-dest\": \"document\",\n",
    "    \"sec-fetch-mode\": \"navigate\",\n",
    "    \"sec-fetch-site\": \"same-origin\",\n",
    "    \"sec-fetch-user\": \"?1\",\n",
    "    \"upgrade-insecure-requests\": \"1\",\n",
    "    \"user-agent\": \"Mozilla/5.0 (Macintosh; Intel Mac OS X 10_15_7) AppleWebKit/537.36 (KHTML, like Gecko) Chrome/140.0.0.0 Safari/537.36\",\n",
    "    \"x-browser-channel\": \"stable\",\n",
    "    \"x-browser-copyright\": \"Copyright 2025 Google LLC. All rights reserved.\",\n",
    "    \"x-browser-validation\": \"jFliu1AvGMEE7cpr93SSytkZ8D4=\",\n",
    "    \"x-browser-year\": \"2025\"\n",
    "}\n",
    "cookies = {\n",
    "    \"GSP\": \"LM=1758679529:S=ZOze-rRwzGbwyAih\",\n",
    "    \"NID\": \"525=EzYm6F6e0kuCfFlf7jseqwXh933BzNOFUbmjDJv6wdvbTIXQBdHp-JYKUPFqOFvuLEtBP6pQMBZoFaeQqE2R-8rTyELCp2QmbFPmB3yXbBvG7uTlkMO0cdDxqtF1mz5RpKmOMbMDsq3goX_kXErySIOFSOkWN1vhSNnlZLWgJHMY9mM3KHqPiOhyIWPDSzQny0_NYjM\"\n",
    "}\n",
    "url = \"https://scholar.google.com/scholar\"\n",
    "params = {\n",
    "    \"hl\": \"zh-CN\",\n",
    "    \"as_sdt\": \"0,5\",\n",
    "    \"q\": \"Why and How Auxiliary Tasks Improve JEPA Representations\",\n",
    "    \"btnG\": \"\"\n",
    "}\n",
    "response = requests.get(url, headers=headers, cookies=cookies, params=params)\n",
    "\n",
    "print(response.text[:300])  # Print the first 3000 characters of the response\n",
    "print(response)"
   ],
   "outputs": [
    {
     "name": "stdout",
     "output_type": "stream",
     "text": [
      "<!doctype html><html><head><title>Google 学术搜索</title><meta http-equiv=\"Content-Type\" content=\"text/html;charset=UTF-8\"><meta http-equiv=\"X-UA-Compatible\" content=\"IE=Edge\"><meta name=\"referrer\" content=\"origin-when-cross-origin\"><meta name=\"viewport\" content=\"width=device-width,initial-scale=1,minim\n",
      "<Response [200]>\n"
     ]
    }
   ],
   "execution_count": 2
  },
  {
   "metadata": {
    "ExecuteTime": {
     "end_time": "2025-09-24T02:09:46.651909Z",
     "start_time": "2025-09-24T02:09:46.591718Z"
    }
   },
   "cell_type": "code",
   "source": [
    "from bs4 import BeautifulSoup\n",
    "soup = BeautifulSoup(response.text, 'html.parser')"
   ],
   "id": "b49c39bb368172df",
   "outputs": [],
   "execution_count": 3
  },
  {
   "metadata": {
    "ExecuteTime": {
     "end_time": "2025-09-24T02:12:54.699400Z",
     "start_time": "2025-09-24T02:12:54.694852Z"
    }
   },
   "cell_type": "code",
   "source": [
    "result_list = soup.select(\"#gs_res_ccl_mid > div.gs_r.gs_or.gs_scl\")\n",
    "len(result_list)"
   ],
   "id": "ca37d0547876c6af",
   "outputs": [
    {
     "data": {
      "text/plain": [
       "1"
      ]
     },
     "execution_count": 5,
     "metadata": {},
     "output_type": "execute_result"
    }
   ],
   "execution_count": 5
  },
  {
   "metadata": {
    "ExecuteTime": {
     "end_time": "2025-09-24T02:29:14.785030Z",
     "start_time": "2025-09-24T02:29:14.780897Z"
    }
   },
   "cell_type": "code",
   "source": [
    "total_num_tag = soup.select_one(\"#gs_ab_md > div.gs_ab_mdw\")\n",
    "total_num_tag"
   ],
   "id": "21d3c54c6a07851f",
   "outputs": [
    {
     "data": {
      "text/plain": [
       "<div class=\"gs_ab_mdw\"></div>"
      ]
     },
     "execution_count": 6,
     "metadata": {},
     "output_type": "execute_result"
    }
   ],
   "execution_count": 6
  },
  {
   "metadata": {
    "ExecuteTime": {
     "end_time": "2025-09-24T02:32:35.412808Z",
     "start_time": "2025-09-24T02:32:35.409638Z"
    }
   },
   "cell_type": "code",
   "source": [
    "result_item = result_list[0]\n",
    "title_tag = result_item.select_one(\"h3.gs_rt\")\n",
    "title = title_tag.get_text()\n",
    "title"
   ],
   "id": "ca72877ea3e564f1",
   "outputs": [
    {
     "data": {
      "text/plain": [
       "'Why and How Auxiliary Tasks Improve JEPA Representations'"
      ]
     },
     "execution_count": 8,
     "metadata": {},
     "output_type": "execute_result"
    }
   ],
   "execution_count": 8
  },
  {
   "metadata": {
    "ExecuteTime": {
     "end_time": "2025-09-24T02:32:52.195445Z",
     "start_time": "2025-09-24T02:32:52.193122Z"
    }
   },
   "cell_type": "code",
   "source": [
    "article_url = title_tag.a['href']\n",
    "article_url"
   ],
   "id": "357eb290253a8933",
   "outputs": [
    {
     "data": {
      "text/plain": [
       "'https://arxiv.org/abs/2509.12249'"
      ]
     },
     "execution_count": 9,
     "metadata": {},
     "output_type": "execute_result"
    }
   ],
   "execution_count": 9
  },
  {
   "metadata": {
    "ExecuteTime": {
     "end_time": "2025-09-24T02:35:17.282518Z",
     "start_time": "2025-09-24T02:35:17.279705Z"
    }
   },
   "cell_type": "code",
   "source": [
    "author_tag = result_item.select_one(\"div.gs_a\")\n",
    "author_tag"
   ],
   "id": "770b57efa975c6fb",
   "outputs": [
    {
     "data": {
      "text/plain": [
       "<div class=\"gs_a gs_fma_s\">J Yu, S Chen, M Liu, N Horiuchi, <a href=\"/citations?user=DTthB48AAAAJ&amp;hl=zh-CN&amp;oi=sra\">V Braverman</a>… - arXiv preprint arXiv …, 2025 - arxiv.org</div>"
      ]
     },
     "execution_count": 11,
     "metadata": {},
     "output_type": "execute_result"
    }
   ],
   "execution_count": 11
  },
  {
   "metadata": {
    "ExecuteTime": {
     "end_time": "2025-09-24T02:35:42.014982Z",
     "start_time": "2025-09-24T02:35:42.012219Z"
    }
   },
   "cell_type": "code",
   "source": "author_tag.get_text()",
   "id": "8cfdf95960f4d9fc",
   "outputs": [
    {
     "data": {
      "text/plain": [
       "'J Yu, S Chen, M Liu, N Horiuchi, V Braverman…\\xa0- arXiv preprint arXiv\\xa0…, 2025 - arxiv.org'"
      ]
     },
     "execution_count": 12,
     "metadata": {},
     "output_type": "execute_result"
    }
   ],
   "execution_count": 12
  },
  {
   "metadata": {
    "ExecuteTime": {
     "end_time": "2025-09-24T02:37:48.395800Z",
     "start_time": "2025-09-24T02:37:48.392932Z"
    }
   },
   "cell_type": "code",
   "source": [
    "# \\xao delete\n",
    "author_tag.get_text().replace(\"\\xa0\", \" \")"
   ],
   "id": "420250c1068d0cc4",
   "outputs": [
    {
     "data": {
      "text/plain": [
       "'J Yu, S Chen, M Liu, N Horiuchi, V Braverman… - arXiv preprint arXiv …, 2025 - arxiv.org'"
      ]
     },
     "execution_count": 13,
     "metadata": {},
     "output_type": "execute_result"
    }
   ],
   "execution_count": 13
  },
  {
   "metadata": {
    "ExecuteTime": {
     "end_time": "2025-09-24T02:41:53.558029Z",
     "start_time": "2025-09-24T02:41:53.555125Z"
    }
   },
   "cell_type": "code",
   "source": [
    "# 作者信息展示不全, 浏览器调整宽高又显示全了  隐藏在了 gs_a gs_fma_p\n",
    "author_info = author_tag.get_text().replace(\"\\xa0\", \" \").split(\" - \")\n",
    "author_list = [item.strip() for item in author_info[0].split(\",\")]\n",
    "author_list"
   ],
   "id": "ac1c32cf1df3310d",
   "outputs": [
    {
     "data": {
      "text/plain": [
       "['J Yu', 'S Chen', 'M Liu', 'N Horiuchi', 'V Braverman…']"
      ]
     },
     "execution_count": 16,
     "metadata": {},
     "output_type": "execute_result"
    }
   ],
   "execution_count": 16
  },
  {
   "metadata": {
    "ExecuteTime": {
     "end_time": "2025-09-24T02:42:06.836432Z",
     "start_time": "2025-09-24T02:42:06.833918Z"
    }
   },
   "cell_type": "code",
   "source": [
    "publish_info = author_info[1]\n",
    "publish_info"
   ],
   "id": "410e5eaf916251ab",
   "outputs": [
    {
     "data": {
      "text/plain": [
       "'arXiv preprint arXiv …, 2025'"
      ]
     },
     "execution_count": 17,
     "metadata": {},
     "output_type": "execute_result"
    }
   ],
   "execution_count": 17
  },
  {
   "metadata": {
    "ExecuteTime": {
     "end_time": "2025-09-24T02:47:27.042200Z",
     "start_time": "2025-09-24T02:47:27.038390Z"
    }
   },
   "cell_type": "code",
   "source": [
    "author_tag_s = result_item.select_one(\"div.gs_a.gs_fma_s\")\n",
    "author_tag_s\n",
    "# 这个是浏览器 正常看到的, 但是信息不全  宽度不够 就显示这个`"
   ],
   "id": "f58778f92bb31541",
   "outputs": [
    {
     "data": {
      "text/plain": [
       "<div class=\"gs_a gs_fma_s\">J Yu, S Chen, M Liu, N Horiuchi, <a href=\"/citations?user=DTthB48AAAAJ&amp;hl=zh-CN&amp;oi=sra\">V Braverman</a>… - arXiv preprint arXiv …, 2025 - arxiv.org</div>"
      ]
     },
     "execution_count": 21,
     "metadata": {},
     "output_type": "execute_result"
    }
   ],
   "execution_count": 21
  },
  {
   "metadata": {
    "ExecuteTime": {
     "end_time": "2025-09-24T02:45:28.454833Z",
     "start_time": "2025-09-24T02:45:28.451489Z"
    }
   },
   "cell_type": "code",
   "source": [
    "author_tag_p = result_item.select_one(\"div.gs_a.gs_fma_p\")\n",
    "author_tag_p\n",
    "# 这个是隐藏的  但是这个信息是全的 宽高够就显示这个"
   ],
   "id": "7e9917844b61b8f9",
   "outputs": [
    {
     "data": {
      "text/plain": [
       "<div class=\"gs_a gs_fma_p\"><div class=\"gs_fmaa\">J Yu, S Chen, M Liu, N Horiuchi, <a href=\"/citations?user=DTthB48AAAAJ&amp;hl=zh-CN&amp;oi=sra\">V Braverman</a>, Z Xu, <a href=\"/citations?user=NrfsdRYAAAAJ&amp;hl=zh-CN&amp;oi=sra\">D Haramati</a>, <a href=\"/citations?user=S1x_xqcAAAAJ&amp;hl=zh-CN&amp;oi=sra\">R Balestriero</a></div>arXiv preprint arXiv:2509.12249, 2025<span class=\"gs_pdot\">•</span>arxiv.org</div>"
      ]
     },
     "execution_count": 19,
     "metadata": {},
     "output_type": "execute_result"
    }
   ],
   "execution_count": 19
  },
  {
   "metadata": {
    "ExecuteTime": {
     "end_time": "2025-09-24T02:58:37.003736Z",
     "start_time": "2025-09-24T02:58:37.000529Z"
    }
   },
   "cell_type": "code",
   "source": "author_tag_p.get_text().replace(\"\\xa0\", \" \")",
   "id": "6a7faab1207fb3cb",
   "outputs": [
    {
     "data": {
      "text/plain": [
       "'J Yu, S Chen, M Liu, N Horiuchi, V Braverman, Z Xu, D Haramati, R BalestrieroarXiv preprint arXiv:2509.12249, 2025•arxiv.org'"
      ]
     },
     "execution_count": 23,
     "metadata": {},
     "output_type": "execute_result"
    }
   ],
   "execution_count": 23
  },
  {
   "metadata": {
    "ExecuteTime": {
     "end_time": "2025-09-24T03:00:50.851094Z",
     "start_time": "2025-09-24T03:00:50.847980Z"
    }
   },
   "cell_type": "code",
   "source": [
    "author_tag = author_tag_p.select_one(\"div.gs_fmaa\")\n",
    "author_tag"
   ],
   "id": "f715d4d295cc8cec",
   "outputs": [
    {
     "data": {
      "text/plain": [
       "<div class=\"gs_fmaa\">J Yu, S Chen, M Liu, N Horiuchi, <a href=\"/citations?user=DTthB48AAAAJ&amp;hl=zh-CN&amp;oi=sra\">V Braverman</a>, Z Xu, <a href=\"/citations?user=NrfsdRYAAAAJ&amp;hl=zh-CN&amp;oi=sra\">D Haramati</a>, <a href=\"/citations?user=S1x_xqcAAAAJ&amp;hl=zh-CN&amp;oi=sra\">R Balestriero</a></div>"
      ]
     },
     "execution_count": 25,
     "metadata": {},
     "output_type": "execute_result"
    }
   ],
   "execution_count": 25
  },
  {
   "metadata": {
    "ExecuteTime": {
     "end_time": "2025-09-24T03:01:19.964022Z",
     "start_time": "2025-09-24T03:01:19.961027Z"
    }
   },
   "cell_type": "code",
   "source": [
    "author_list = [item.strip() for item in author_tag.get_text().replace(\"\\xa0\", \" \").split(\",\")]\n",
    "author_list"
   ],
   "id": "49000706b5130af4",
   "outputs": [
    {
     "data": {
      "text/plain": [
       "['J Yu',\n",
       " 'S Chen',\n",
       " 'M Liu',\n",
       " 'N Horiuchi',\n",
       " 'V Braverman',\n",
       " 'Z Xu',\n",
       " 'D Haramati',\n",
       " 'R Balestriero']"
      ]
     },
     "execution_count": 26,
     "metadata": {},
     "output_type": "execute_result"
    }
   ],
   "execution_count": 26
  },
  {
   "metadata": {
    "ExecuteTime": {
     "end_time": "2025-09-24T03:05:15.271633Z",
     "start_time": "2025-09-24T03:05:15.266932Z"
    }
   },
   "cell_type": "code",
   "source": [
    "# g=搞成json name url order\n",
    "from urllib.parse import urlparse,urljoin\n",
    "author_dict = {}\n",
    "for link in  author_tag.select(\"a\"):\n",
    "    name = link.get_text().strip()\n",
    "    href = link.get(\"href\")\n",
    "    url = urljoin(url, href)\n",
    "    author_dict[name] = url\n",
    "author_dict"
   ],
   "id": "f4095ba5663fb531",
   "outputs": [
    {
     "data": {
      "text/plain": [
       "{'V Braverman': 'https://scholar.google.com/citations?user=DTthB48AAAAJ&hl=zh-CN&oi=sra',\n",
       " 'D Haramati': 'https://scholar.google.com/citations?user=NrfsdRYAAAAJ&hl=zh-CN&oi=sra',\n",
       " 'R Balestriero': 'https://scholar.google.com/citations?user=S1x_xqcAAAAJ&hl=zh-CN&oi=sra'}"
      ]
     },
     "execution_count": 29,
     "metadata": {},
     "output_type": "execute_result"
    }
   ],
   "execution_count": 29
  },
  {
   "metadata": {
    "ExecuteTime": {
     "end_time": "2025-09-24T03:07:15.202456Z",
     "start_time": "2025-09-24T03:07:15.198771Z"
    }
   },
   "cell_type": "code",
   "source": [
    "authir_dict_list=[]\n",
    "for idx , name in enumerate(author_list):\n",
    "    author_item = {\n",
    "        \"name\": name,\n",
    "        \"order\": idx+1,\n",
    "        \"url\": author_dict.get(name, None)\n",
    "                   }\n",
    "    authir_dict_list.append(author_item)\n",
    "authir_dict_list"
   ],
   "id": "9a1a29a57f6aa909",
   "outputs": [
    {
     "data": {
      "text/plain": [
       "[{'name': 'J Yu', 'order': 1, 'url': None},\n",
       " {'name': 'S Chen', 'order': 2, 'url': None},\n",
       " {'name': 'M Liu', 'order': 3, 'url': None},\n",
       " {'name': 'N Horiuchi', 'order': 4, 'url': None},\n",
       " {'name': 'V Braverman',\n",
       "  'order': 5,\n",
       "  'url': 'https://scholar.google.com/citations?user=DTthB48AAAAJ&hl=zh-CN&oi=sra'},\n",
       " {'name': 'Z Xu', 'order': 6, 'url': None},\n",
       " {'name': 'D Haramati',\n",
       "  'order': 7,\n",
       "  'url': 'https://scholar.google.com/citations?user=NrfsdRYAAAAJ&hl=zh-CN&oi=sra'},\n",
       " {'name': 'R Balestriero',\n",
       "  'order': 8,\n",
       "  'url': 'https://scholar.google.com/citations?user=S1x_xqcAAAAJ&hl=zh-CN&oi=sra'}]"
      ]
     },
     "execution_count": 31,
     "metadata": {},
     "output_type": "execute_result"
    }
   ],
   "execution_count": 31
  },
  {
   "metadata": {},
   "cell_type": "code",
   "outputs": [],
   "execution_count": null,
   "source": "",
   "id": "52d8bd8a2ace6c9c"
  }
 ],
 "metadata": {
  "kernelspec": {
   "display_name": "Python 3",
   "language": "python",
   "name": "python3"
  },
  "language_info": {
   "codemirror_mode": {
    "name": "ipython",
    "version": 2
   },
   "file_extension": ".py",
   "mimetype": "text/x-python",
   "name": "python",
   "nbconvert_exporter": "python",
   "pygments_lexer": "ipython2",
   "version": "2.7.6"
  }
 },
 "nbformat": 4,
 "nbformat_minor": 5
}
