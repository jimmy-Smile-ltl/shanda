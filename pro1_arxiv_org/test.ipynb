{
 "cells": [
  {
   "cell_type": "code",
   "id": "initial_id",
   "metadata": {
    "collapsed": true,
    "ExecuteTime": {
     "end_time": "2025-09-22T22:41:10.530833Z",
     "start_time": "2025-09-22T22:41:10.526491Z"
    }
   },
   "source": "import  this",
   "outputs": [
    {
     "name": "stdout",
     "output_type": "stream",
     "text": [
      "The Zen of Python, by Tim Peters\n",
      "\n",
      "Beautiful is better than ugly.\n",
      "Explicit is better than implicit.\n",
      "Simple is better than complex.\n",
      "Complex is better than complicated.\n",
      "Flat is better than nested.\n",
      "Sparse is better than dense.\n",
      "Readability counts.\n",
      "Special cases aren't special enough to break the rules.\n",
      "Although practicality beats purity.\n",
      "Errors should never pass silently.\n",
      "Unless explicitly silenced.\n",
      "In the face of ambiguity, refuse the temptation to guess.\n",
      "There should be one-- and preferably only one --obvious way to do it.\n",
      "Although that way may not be obvious at first unless you're Dutch.\n",
      "Now is better than never.\n",
      "Although never is often better than *right* now.\n",
      "If the implementation is hard to explain, it's a bad idea.\n",
      "If the implementation is easy to explain, it may be a good idea.\n",
      "Namespaces are one honking great idea -- let's do more of those!\n"
     ]
    }
   ],
   "execution_count": 1
  },
  {
   "metadata": {},
   "cell_type": "code",
   "outputs": [],
   "execution_count": null,
   "source": [
    "#   这是  https://arxiv.org/list/cs.AI/recent?skip=800&show=50 的结果\n",
    "#  意外的是，他下面的设计 把一篇完整的文章分成了两个部分，有点麻烦\n",
    "#  另外是，这种只能获取 最近结果 一般是一个月"
   ],
   "id": "34781565c7dcf00f"
  },
  {
   "metadata": {
    "ExecuteTime": {
     "end_time": "2025-09-23T00:22:55.320449Z",
     "start_time": "2025-09-23T00:22:54.736306Z"
    }
   },
   "cell_type": "code",
   "source": [
    "import requests\n",
    "\n",
    "\n",
    "headers = {\n",
    "    \"accept\": \"text/html,application/xhtml+xml,application/xml;q=0.9,image/avif,image/webp,image/apng,*/*;q=0.8,application/signed-exchange;v=b3;q=0.7\",\n",
    "    \"accept-language\": \"en,en-CN;q=0.9,zh-CN;q=0.8,zh;q=0.7\",\n",
    "    \"cache-control\": \"max-age=0\",\n",
    "    \"priority\": \"u=0, i\",\n",
    "    \"referer\": \"https://arxiv.org/list/cs.AI/recent\",\n",
    "    \"sec-ch-ua\": \"\\\"Chromium\\\";v=\\\"140\\\", \\\"Not=A?Brand\\\";v=\\\"24\\\", \\\"Google Chrome\\\";v=\\\"140\\\"\",\n",
    "    \"sec-ch-ua-mobile\": \"?0\",\n",
    "    \"sec-ch-ua-platform\": \"\\\"macOS\\\"\",\n",
    "    \"sec-fetch-dest\": \"document\",\n",
    "    \"sec-fetch-mode\": \"navigate\",\n",
    "    \"sec-fetch-site\": \"same-origin\",\n",
    "    \"sec-fetch-user\": \"?1\",\n",
    "    \"upgrade-insecure-requests\": \"1\",\n",
    "    \"user-agent\": \"Mozilla/5.0 (Macintosh; Intel Mac OS X 10_15_7) AppleWebKit/537.36 (KHTML, like Gecko) Chrome/140.0.0.0 Safari/537.36\"\n",
    "}\n",
    "cookies = {\n",
    "    \"_ga\": \"GA1.1.1070728378.1758572327\",\n",
    "    \"_ga_B1RR0QKWGQ\": \"GS2.1.s1758572327$o1$g1$t1758572386$j1$l0$h0\",\n",
    "    \"arxiv_labs\": \"{%22sameSite%22:%22strict%22%2C%22expires%22:365%2C%22last_tab%22:%22tabtwo%22}\",\n",
    "    \"arxiv-search-parameters\": \"\\\"{\\\\\\\"order\\\\\\\": \\\\\\\"-announced_date_first\\\\\\\"\\\\054 \\\\\\\"size\\\\\\\": \\\\\\\"50\\\\\\\"\\\\054 \\\\\\\"abstracts\\\\\\\": \\\\\\\"show\\\\\\\"\\\\054 \\\\\\\"date-date_type\\\\\\\": \\\\\\\"submitted_date\\\\\\\"}\\\"\"\n",
    "}\n",
    "url = \"https://arxiv.org/list/cs.AI/recent\"\n",
    "params = {\n",
    "    \"skip\": \"800\",\n",
    "    \"show\": \"50\"\n",
    "}\n",
    "response = requests.get(url, headers=headers, cookies=cookies, params=params)\n",
    "\n",
    "print(response.text[:200])\n",
    "print(response)"
   ],
   "id": "d2706f21617fbe33",
   "outputs": [
    {
     "name": "stdout",
     "output_type": "stream",
     "text": [
      "<!DOCTYPE html>\n",
      "<html lang=\"en\">\n",
      "\n",
      "<head>  <title>Artificial Intelligence  </title>\n",
      "  <meta name=\"viewport\" content=\"width=device-width, initial-scale=1\">\n",
      "  <link rel=\"apple-touch-icon\" sizes=\"180x180\"\n",
      "<Response [200]>\n"
     ]
    }
   ],
   "execution_count": 3
  },
  {
   "metadata": {
    "ExecuteTime": {
     "end_time": "2025-09-23T00:24:48.604784Z",
     "start_time": "2025-09-23T00:24:48.600435Z"
    }
   },
   "cell_type": "code",
   "source": [
    "with open(\"test.html\", \"w\") as f:\n",
    "    f.write(response.text)"
   ],
   "id": "321da510ab34533c",
   "outputs": [],
   "execution_count": 6
  },
  {
   "metadata": {
    "ExecuteTime": {
     "end_time": "2025-09-23T00:28:30.143485Z",
     "start_time": "2025-09-23T00:28:30.129536Z"
    }
   },
   "cell_type": "code",
   "source": [
    "from bs4 import BeautifulSoup\n",
    "soup = BeautifulSoup(response.text, 'html.parser')\n",
    "article_list = soup.select(\"#articles > dt\")\n",
    "len(article_list)"
   ],
   "id": "6d0b10d48230c79f",
   "outputs": [
    {
     "data": {
      "text/plain": [
       "17"
      ]
     },
     "execution_count": 8,
     "metadata": {},
     "output_type": "execute_result"
    }
   ],
   "execution_count": 8
  },
  {
   "metadata": {},
   "cell_type": "code",
   "outputs": [],
   "execution_count": null,
   "source": "",
   "id": "4ec122ac2c3a4a09"
  },
  {
   "metadata": {},
   "cell_type": "code",
   "outputs": [],
   "execution_count": null,
   "source": "",
   "id": "d68c43253fd38e51"
  },
  {
   "metadata": {},
   "cell_type": "code",
   "outputs": [],
   "execution_count": null,
   "source": [
    "# 来自 https://arxiv.org/search/advanced?advanced=1&terms-0-operator=AND&terms-0-term=&terms-0-field=title&classification-computer_science=y&classification-physics_archives=all&classification-include_cross_list=include&date-filter_by=all_dates&date-year=&date-from_date=&date-to_date=&date-date_type=submitted_date&abstracts=show&size=50&order=-announced_date_first 的结果\n",
    "# 只能按计算机分类进行高级搜索 。无法细化，会采集到很多非AI的文章"
   ],
   "id": "2c2581940fcd83f0"
  },
  {
   "metadata": {
    "ExecuteTime": {
     "end_time": "2025-09-23T00:36:44.227216Z",
     "start_time": "2025-09-23T00:36:42.641160Z"
    }
   },
   "cell_type": "code",
   "source": [
    "import requests\n",
    "\n",
    "\n",
    "headers = {\n",
    "    \"accept\": \"text/html,application/xhtml+xml,application/xml;q=0.9,image/avif,image/webp,image/apng,*/*;q=0.8,application/signed-exchange;v=b3;q=0.7\",\n",
    "    \"accept-language\": \"en,en-CN;q=0.9,zh-CN;q=0.8,zh;q=0.7\",\n",
    "    \"cache-control\": \"max-age=0\",\n",
    "    \"priority\": \"u=0, i\",\n",
    "    \"referer\": \"https://arxiv.org/search/advanced\",\n",
    "    \"sec-ch-ua\": \"\\\"Chromium\\\";v=\\\"140\\\", \\\"Not=A?Brand\\\";v=\\\"24\\\", \\\"Google Chrome\\\";v=\\\"140\\\"\",\n",
    "    \"sec-ch-ua-mobile\": \"?0\",\n",
    "    \"sec-ch-ua-platform\": \"\\\"macOS\\\"\",\n",
    "    \"sec-fetch-dest\": \"document\",\n",
    "    \"sec-fetch-mode\": \"navigate\",\n",
    "    \"sec-fetch-site\": \"same-origin\",\n",
    "    \"sec-fetch-user\": \"?1\",\n",
    "    \"upgrade-insecure-requests\": \"1\",\n",
    "    \"user-agent\": \"Mozilla/5.0 (Macintosh; Intel Mac OS X 10_15_7) AppleWebKit/537.36 (KHTML, like Gecko) Chrome/140.0.0.0 Safari/537.36\"\n",
    "}\n",
    "cookies = {\n",
    "    \"_ga\": \"GA1.1.1070728378.1758572327\",\n",
    "    \"_ga_B1RR0QKWGQ\": \"GS2.1.s1758572327$o1$g1$t1758572386$j1$l0$h0\",\n",
    "    \"arxiv_labs\": \"{%22sameSite%22:%22strict%22%2C%22expires%22:365%2C%22last_tab%22:%22tabtwo%22}\",\n",
    "    \"arxiv-search-parameters\": \"\\\"{\\\\\\\"order\\\\\\\": \\\\\\\"-announced_date_first\\\\\\\"\\\\054 \\\\\\\"size\\\\\\\": \\\\\\\"50\\\\\\\"\\\\054 \\\\\\\"abstracts\\\\\\\": \\\\\\\"show\\\\\\\"\\\\054 \\\\\\\"date-date_type\\\\\\\": \\\\\\\"submitted_date\\\\\\\"}\\\"\"\n",
    "}\n",
    "url = \"https://arxiv.org/search/advanced\"\n",
    "params = {\n",
    "    \"advanced\": \"1\",\n",
    "    \"terms-0-operator\": \"AND\",\n",
    "    \"terms-0-term\": \"\",\n",
    "    \"terms-0-field\": \"title\",\n",
    "    \"classification-computer_science\": \"y\",\n",
    "    \"classification-physics_archives\": \"all\",\n",
    "    \"classification-include_cross_list\": \"include\",\n",
    "    \"date-filter_by\": \"all_dates\",\n",
    "    \"date-year\": \"\",\n",
    "    \"date-from_date\": \"\",\n",
    "    \"date-to_date\": \"\",\n",
    "    \"date-date_type\": \"submitted_date\",\n",
    "    \"abstracts\": \"show\",\n",
    "    \"size\": \"50\",\n",
    "    \"order\": \"-announced_date_first\"\n",
    "}\n",
    "response = requests.get(url, headers=headers, cookies=cookies, params=params)\n",
    "\n",
    "print(response.text[:200])\n",
    "print(response)"
   ],
   "id": "abf4a328dad32ee0",
   "outputs": [
    {
     "name": "stdout",
     "output_type": "stream",
     "text": [
      "<!DOCTYPE html>\n",
      "<html lang=\"en\">\n",
      "  <head>\n",
      "    <meta charset=\"utf-8\"/>\n",
      "<meta name=\"viewport\" content=\"width=device-width, initial-scale=1\"/>\n",
      "<!-- new favicon config and versions by realfavicongenerator\n",
      "<Response [500]>\n"
     ]
    }
   ],
   "execution_count": 9
  },
  {
   "metadata": {
    "ExecuteTime": {
     "end_time": "2025-09-23T00:37:43.572266Z",
     "start_time": "2025-09-23T00:37:43.565427Z"
    }
   },
   "cell_type": "code",
   "source": [
    "with open(\"advance_search_error.html\", \"w\") as f:\n",
    "    f.write(response.text)"
   ],
   "id": "c64f4130f9bc7e8f",
   "outputs": [],
   "execution_count": 11
  },
  {
   "metadata": {
    "ExecuteTime": {
     "end_time": "2025-09-23T00:39:12.830347Z",
     "start_time": "2025-09-23T00:39:11.910896Z"
    }
   },
   "cell_type": "code",
   "source": [
    "import requests\n",
    "\n",
    "\n",
    "headers = {\n",
    "    \"accept\": \"text/html,application/xhtml+xml,application/xml;q=0.9,image/avif,image/webp,image/apng,*/*;q=0.8,application/signed-exchange;v=b3;q=0.7\",\n",
    "    \"accept-language\": \"en,en-CN;q=0.9,zh-CN;q=0.8,zh;q=0.7\",\n",
    "    \"priority\": \"u=0, i\",\n",
    "    \"referer\": \"https://arxiv.org/search/advanced?advanced=1&terms-0-operator=AND&terms-0-term=&terms-0-field=title&classification-computer_science=y&classification-physics_archives=all&classification-include_cross_list=include&date-filter_by=all_dates&date-year=&date-from_date=&date-to_date=&date-date_type=submitted_date&abstracts=show&size=50&order=-announced_date_first\",\n",
    "    \"sec-ch-ua\": \"\\\"Chromium\\\";v=\\\"140\\\", \\\"Not=A?Brand\\\";v=\\\"24\\\", \\\"Google Chrome\\\";v=\\\"140\\\"\",\n",
    "    \"sec-ch-ua-mobile\": \"?0\",\n",
    "    \"sec-ch-ua-platform\": \"\\\"macOS\\\"\",\n",
    "    \"sec-fetch-dest\": \"document\",\n",
    "    \"sec-fetch-mode\": \"navigate\",\n",
    "    \"sec-fetch-site\": \"same-origin\",\n",
    "    \"sec-fetch-user\": \"?1\",\n",
    "    \"upgrade-insecure-requests\": \"1\",\n",
    "    \"user-agent\": \"Mozilla/5.0 (Macintosh; Intel Mac OS X 10_15_7) AppleWebKit/537.36 (KHTML, like Gecko) Chrome/140.0.0.0 Safari/537.36\"\n",
    "}\n",
    "cookies = {\n",
    "    \"_ga\": \"GA1.1.1070728378.1758572327\",\n",
    "    \"_ga_B1RR0QKWGQ\": \"GS2.1.s1758572327$o1$g1$t1758572386$j1$l0$h0\",\n",
    "    \"arxiv_labs\": \"{%22sameSite%22:%22strict%22%2C%22expires%22:365%2C%22last_tab%22:%22tabtwo%22}\",\n",
    "    \"arxiv-search-parameters\": \"\\\"{\\\\\\\"order\\\\\\\": \\\\\\\"-announced_date_first\\\\\\\"\\\\054 \\\\\\\"size\\\\\\\": \\\\\\\"50\\\\\\\"\\\\054 \\\\\\\"abstracts\\\\\\\": \\\\\\\"show\\\\\\\"\\\\054 \\\\\\\"date-date_type\\\\\\\": \\\\\\\"submitted_date\\\\\\\"}\\\"\"\n",
    "}\n",
    "url = \"https://arxiv.org/search/advanced\"\n",
    "params = {\n",
    "    \"advanced\": \"1\",\n",
    "    \"terms-0-operator\": \"AND\",\n",
    "    \"terms-0-term\": \"\",\n",
    "    \"terms-0-field\": \"title\",\n",
    "    \"classification-computer_science\": \"y\",\n",
    "    \"classification-physics_archives\": \"all\",\n",
    "    \"classification-include_cross_list\": \"include\",\n",
    "    \"date-filter_by\": \"all_dates\",\n",
    "    \"date-year\": \"\",\n",
    "    \"date-from_date\": \"\",\n",
    "    \"date-to_date\": \"\",\n",
    "    \"date-date_type\": \"submitted_date\",\n",
    "    \"abstracts\": \"show\",\n",
    "    \"size\": \"50\",\n",
    "    \"order\": \"-announced_date_first\",\n",
    "    \"start\": \"50\"\n",
    "}\n",
    "response = requests.get(url, headers=headers, cookies=cookies, params=params)\n",
    "\n",
    "print(response)"
   ],
   "id": "20324667e83ba971",
   "outputs": [
    {
     "name": "stdout",
     "output_type": "stream",
     "text": [
      "<Response [500]>\n"
     ]
    }
   ],
   "execution_count": 12
  },
  {
   "metadata": {
    "ExecuteTime": {
     "end_time": "2025-09-23T00:41:27.840722Z",
     "start_time": "2025-09-23T00:41:26.698971Z"
    }
   },
   "cell_type": "code",
   "source": [
    "from curl_cffi import requests as curl_requests # pip install curl-cffi\n",
    "response = curl_requests.get(url, headers=headers, cookies=cookies, params=params)\n",
    "print(response)"
   ],
   "id": "d5eacea8d4afe51e",
   "outputs": [
    {
     "name": "stdout",
     "output_type": "stream",
     "text": [
      "<Response [200]>\n"
     ]
    }
   ],
   "execution_count": 13
  },
  {
   "metadata": {},
   "cell_type": "code",
   "outputs": [],
   "execution_count": null,
   "source": "",
   "id": "d488d1ff22ae594e"
  },
  {
   "metadata": {},
   "cell_type": "code",
   "outputs": [],
   "execution_count": null,
   "source": "",
   "id": "3b5be75a9b010f80"
  },
  {
   "metadata": {
    "ExecuteTime": {
     "end_time": "2025-09-23T00:24:12.420081Z",
     "start_time": "2025-09-23T00:24:12.414270Z"
    }
   },
   "cell_type": "code",
   "source": [
    "article_list = soup.select(\"ol.breathe-horizontal > li\")\n",
    "len(article_list)"
   ],
   "id": "79500a488decfc65",
   "outputs": [
    {
     "data": {
      "text/plain": [
       "0"
      ]
     },
     "execution_count": 5,
     "metadata": {},
     "output_type": "execute_result"
    }
   ],
   "execution_count": 5
  },
  {
   "metadata": {},
   "cell_type": "code",
   "outputs": [],
   "execution_count": null,
   "source": "",
   "id": "7917a01a50a886c"
  },
  {
   "metadata": {
    "ExecuteTime": {
     "end_time": "2025-09-23T00:26:42.216459Z",
     "start_time": "2025-09-23T00:26:42.210508Z"
    }
   },
   "cell_type": "code",
   "source": "",
   "id": "c87016c5a9be887a",
   "outputs": [
    {
     "data": {
      "text/plain": [
       "17"
      ]
     },
     "execution_count": 7,
     "metadata": {},
     "output_type": "execute_result"
    }
   ],
   "execution_count": 7
  },
  {
   "metadata": {
    "ExecuteTime": {
     "end_time": "2025-09-23T06:07:24.115072Z",
     "start_time": "2025-09-23T06:07:23.314684Z"
    }
   },
   "cell_type": "code",
   "source": [
    "import requests\n",
    "\n",
    "\n",
    "headers = {\n",
    "    \"accept\": \"text/html,application/xhtml+xml,application/xml;q=0.9,image/avif,image/webp,image/apng,*/*;q=0.8,application/signed-exchange;v=b3;q=0.7\",\n",
    "    \"accept-language\": \"en,en-CN;q=0.9,zh-CN;q=0.8,zh;q=0.7\",\n",
    "    \"cache-control\": \"max-age=0\",\n",
    "    \"priority\": \"u=0, i\",\n",
    "    \"referer\": \"https://arxiv.org/list/cs.AI/recent\",\n",
    "    \"sec-ch-ua\": \"\\\"Chromium\\\";v=\\\"140\\\", \\\"Not=A?Brand\\\";v=\\\"24\\\", \\\"Google Chrome\\\";v=\\\"140\\\"\",\n",
    "    \"sec-ch-ua-mobile\": \"?0\",\n",
    "    \"sec-ch-ua-platform\": \"\\\"macOS\\\"\",\n",
    "    \"sec-fetch-dest\": \"document\",\n",
    "    \"sec-fetch-mode\": \"navigate\",\n",
    "    \"sec-fetch-site\": \"same-origin\",\n",
    "    \"sec-fetch-user\": \"?1\",\n",
    "    \"upgrade-insecure-requests\": \"1\",\n",
    "    \"user-agent\": \"Mozilla/5.0 (Macintosh; Intel Mac OS X 10_15_7) AppleWebKit/537.36 (KHTML, like Gecko) Chrome/140.0.0.0 Safari/537.36\"\n",
    "}\n",
    "cookies = {\n",
    "    \"_ga\": \"GA1.1.1070728378.1758572327\",\n",
    "    \"_ga_B1RR0QKWGQ\": \"GS2.1.s1758572327$o1$g1$t1758572386$j1$l0$h0\",\n",
    "    \"arxiv_labs\": \"{%22sameSite%22:%22strict%22%2C%22expires%22:365%2C%22last_tab%22:%22tabtwo%22}\",\n",
    "    \"arxiv-search-parameters\": \"\\\"{\\\\\\\"order\\\\\\\": \\\\\\\"-announced_date_first\\\\\\\"\\\\054 \\\\\\\"size\\\\\\\": \\\\\\\"50\\\\\\\"\\\\054 \\\\\\\"abstracts\\\\\\\": \\\\\\\"show\\\\\\\"\\\\054 \\\\\\\"date-date_type\\\\\\\": \\\\\\\"submitted_date\\\\\\\"}\\\"\"\n",
    "}\n",
    "url = \"https://arxiv.org/list/cs.AI/recent\"\n",
    "params = {\n",
    "    \"skip\": \"800\",\n",
    "    \"show\": \"50\"\n",
    "}\n",
    "response = requests.get(url, headers=headers, cookies=cookies, params=params)\n",
    "\n",
    "print(response.text[:200])\n",
    "print(response)"
   ],
   "id": "d8e70a1198d045a0",
   "outputs": [
    {
     "name": "stdout",
     "output_type": "stream",
     "text": [
      "<!DOCTYPE html>\n",
      "<html lang=\"en\">\n",
      "\n",
      "<head>  <title>Artificial Intelligence  </title>\n",
      "  <meta name=\"viewport\" content=\"width=device-width, initial-scale=1\">\n",
      "  <link rel=\"apple-touch-icon\" sizes=\"180x180\"\n",
      "<Response [200]>\n"
     ]
    }
   ],
   "execution_count": 14
  },
  {
   "metadata": {
    "ExecuteTime": {
     "end_time": "2025-09-23T07:01:21.762754Z",
     "start_time": "2025-09-23T07:01:21.151762Z"
    }
   },
   "cell_type": "code",
   "source": [
    "url = \"https://arxiv.org/abs/2509.12259\"\n",
    "response = requests.get(url, headers=headers, cookies=cookies)\n",
    "\n",
    "print(response.text[:200])\n",
    "print(response)"
   ],
   "id": "9984882f93d2ecd5",
   "outputs": [
    {
     "name": "stdout",
     "output_type": "stream",
     "text": [
      "<!DOCTYPE html>\n",
      "<html lang=\"en\">\n",
      "\n",
      "<head>  <title>[2509.12259] Quantum-Inspired Stacked Integrated Concept Graph Model (QISICGM) for Diabetes Risk Prediction</title>\n",
      "  <meta name=\"viewport\" content=\"wi\n",
      "<Response [200]>\n"
     ]
    }
   ],
   "execution_count": 15
  },
  {
   "metadata": {
    "ExecuteTime": {
     "end_time": "2025-09-23T07:01:43.402225Z",
     "start_time": "2025-09-23T07:01:43.387372Z"
    }
   },
   "cell_type": "code",
   "source": "article_soup = BeautifulSoup(response.text, 'html.parser')",
   "id": "a4477faed93fe8d5",
   "outputs": [],
   "execution_count": 16
  },
  {
   "metadata": {
    "ExecuteTime": {
     "end_time": "2025-09-23T07:03:35.387010Z",
     "start_time": "2025-09-23T07:03:35.384408Z"
    }
   },
   "cell_type": "code",
   "source": "title_tag = article_soup.select_one(\"#abs h1.title\")",
   "id": "f7afefc11d654206",
   "outputs": [],
   "execution_count": 18
  },
  {
   "metadata": {
    "ExecuteTime": {
     "end_time": "2025-09-23T07:04:02.861253Z",
     "start_time": "2025-09-23T07:04:02.858004Z"
    }
   },
   "cell_type": "code",
   "source": [
    "span_tag = title_tag.select_one(\"span.descriptor\")\n",
    "if soan_tag:\n",
    "    soan_tag.decompose()\n",
    "title_tag"
   ],
   "id": "bb4ed7cfe3fbb0bc",
   "outputs": [
    {
     "data": {
      "text/plain": [
       "<h1 class=\"title mathjax\">Quantum-Inspired Stacked Integrated Concept Graph Model (QISICGM) for Diabetes Risk Prediction</h1>"
      ]
     },
     "execution_count": 19,
     "metadata": {},
     "output_type": "execute_result"
    }
   ],
   "execution_count": 19
  },
  {
   "metadata": {
    "ExecuteTime": {
     "end_time": "2025-09-23T07:04:24.303076Z",
     "start_time": "2025-09-23T07:04:24.300753Z"
    }
   },
   "cell_type": "code",
   "source": "title_tag.get_text()",
   "id": "a444894701b0739c",
   "outputs": [
    {
     "data": {
      "text/plain": [
       "'Quantum-Inspired Stacked Integrated Concept Graph Model (QISICGM) for Diabetes Risk Prediction'"
      ]
     },
     "execution_count": 20,
     "metadata": {},
     "output_type": "execute_result"
    }
   ],
   "execution_count": 20
  },
  {
   "metadata": {
    "ExecuteTime": {
     "end_time": "2025-09-23T07:05:35.500949Z",
     "start_time": "2025-09-23T07:05:35.496933Z"
    }
   },
   "cell_type": "code",
   "source": [
    "abstract_tag = article_soup.select_one(\"#abs blockquote.abstract\")\n",
    "soan_tag = abstract_tag.select_one(\"span.descriptor\")\n",
    "if soan_tag:\n",
    "    soan_tag.decompose()\n",
    "abstract_tag"
   ],
   "id": "4118243eaef4eb52",
   "outputs": [
    {
     "data": {
      "text/plain": [
       "<blockquote class=\"abstract mathjax\">\n",
       "The Quantum-Inspired Stacked Integrated Concept Graph Model (QISICGM) is an innovative machine learning framework that harnesses quantum-inspired techniques to predict diabetes risk with exceptional accuracy and efficiency. Utilizing the PIMA Indians Diabetes dataset augmented with 2,000 synthetic samples to mitigate class imbalance (total: 2,768 samples, 1,949 positives), QISICGM integrates a self-improving concept graph with a stacked ensemble comprising Random Forests (RF), Extra Trees (ET), transformers, convolutional neural networks (CNNs), and feed-forward neural networks (FFNNs). This approach achieves an out-of-fold (OOF) F1 score of 0.8933 and an AUC of 0.8699, outperforming traditional methods. Quantum inspired elements, such as phase feature mapping and neighborhood sequence modeling, enrich feature representations, enabling CPU-efficient inference at 8.5 rows per second. This paper presents a detailed architecture, theoretical foundations, code insights, and performance evaluations, including visualizations from the outputs subfolder. The open-source implementation (v1.0.0) is available at <a class=\"link-external link-https\" href=\"https://github.com/keninayoung/QISICGM\" rel=\"external noopener nofollow\">this https URL</a>, positioning QISICGM as a potential benchmark for AI-assisted clinical triage in diabetes and beyond. Ultimately, this work emphasizes trustworthy AI through calibration, interpretability, and open-source reproducibility.\n",
       "    </blockquote>"
      ]
     },
     "execution_count": 21,
     "metadata": {},
     "output_type": "execute_result"
    }
   ],
   "execution_count": 21
  },
  {
   "metadata": {},
   "cell_type": "code",
   "outputs": [],
   "execution_count": null,
   "source": "",
   "id": "6547ad8e43651cf1"
  },
  {
   "metadata": {
    "ExecuteTime": {
     "end_time": "2025-09-23T07:07:04.049501Z",
     "start_time": "2025-09-23T07:07:04.045265Z"
    }
   },
   "cell_type": "code",
   "source": [
    "author_tag = article_soup.select_one(\"#abs div.authors\")\n",
    "soan_tag = author_tag.select_one(\"span.descriptor\")\n",
    "if soan_tag:\n",
    "    soan_tag.decompose()\n",
    "author_tag"
   ],
   "id": "e8d595e264ebfa0e",
   "outputs": [
    {
     "data": {
      "text/plain": [
       "<div class=\"authors\"><a href=\"https://arxiv.org/search/cs?searchtype=author&amp;query=Young,+K+G\" rel=\"nofollow\">Kenneth G. Young II</a></div>"
      ]
     },
     "execution_count": 22,
     "metadata": {},
     "output_type": "execute_result"
    }
   ],
   "execution_count": 22
  },
  {
   "metadata": {
    "ExecuteTime": {
     "end_time": "2025-09-23T07:08:05.928062Z",
     "start_time": "2025-09-23T07:08:05.921481Z"
    }
   },
   "cell_type": "code",
   "source": [
    "author_info_tags = article_soup.select( \"#abs div.authors a\" )\n",
    "author_info_tags"
   ],
   "id": "ae779dc0f2865a4b",
   "outputs": [
    {
     "data": {
      "text/plain": [
       "[<a href=\"https://arxiv.org/search/cs?searchtype=author&amp;query=Young,+K+G\" rel=\"nofollow\">Kenneth G. Young II</a>]"
      ]
     },
     "execution_count": 23,
     "metadata": {},
     "output_type": "execute_result"
    }
   ],
   "execution_count": 23
  },
  {
   "metadata": {
    "ExecuteTime": {
     "end_time": "2025-09-23T07:09:20.869159Z",
     "start_time": "2025-09-23T07:09:20.865883Z"
    }
   },
   "cell_type": "code",
   "source": [
    "author_list = { tag.attrs.get(\"href\") : tag.get_text().strip() for tag in author_info_tags }\n",
    "author_list"
   ],
   "id": "87eab2f87c675d7c",
   "outputs": [
    {
     "data": {
      "text/plain": [
       "{'https://arxiv.org/search/cs?searchtype=author&query=Young,+K+G': 'Kenneth G. Young II'}"
      ]
     },
     "execution_count": 25,
     "metadata": {},
     "output_type": "execute_result"
    }
   ],
   "execution_count": 25
  },
  {
   "metadata": {
    "ExecuteTime": {
     "end_time": "2025-09-23T07:12:59.803770Z",
     "start_time": "2025-09-23T07:12:59.799786Z"
    }
   },
   "cell_type": "code",
   "source": [
    "subject_tag = article_soup.select_one(\"td.subjects\")\n",
    "subject_tag"
   ],
   "id": "89f75171a9d4edaa",
   "outputs": [
    {
     "data": {
      "text/plain": [
       "<td class=\"tablecell subjects\">\n",
       "<span class=\"primary-subject\">Machine Learning (cs.LG)</span>; Artificial Intelligence (cs.AI); Quantum Physics (quant-ph)</td>"
      ]
     },
     "execution_count": 30,
     "metadata": {},
     "output_type": "execute_result"
    }
   ],
   "execution_count": 30
  },
  {
   "metadata": {
    "ExecuteTime": {
     "end_time": "2025-09-23T07:32:53.463258Z",
     "start_time": "2025-09-23T07:32:53.460687Z"
    }
   },
   "cell_type": "code",
   "source": "subject_tag.get_text().strip().split(\";\")",
   "id": "90761c751810c06c",
   "outputs": [
    {
     "data": {
      "text/plain": [
       "['Machine Learning (cs.LG)',\n",
       " ' Artificial Intelligence (cs.AI)',\n",
       " ' Quantum Physics (quant-ph)']"
      ]
     },
     "execution_count": 39,
     "metadata": {},
     "output_type": "execute_result"
    }
   ],
   "execution_count": 39
  },
  {
   "metadata": {
    "ExecuteTime": {
     "end_time": "2025-09-23T07:13:10.593362Z",
     "start_time": "2025-09-23T07:13:10.590341Z"
    }
   },
   "cell_type": "code",
   "source": "subject_tag.get_text().strip()",
   "id": "e4aec919a1be0cdc",
   "outputs": [
    {
     "data": {
      "text/plain": [
       "'Machine Learning (cs.LG); Artificial Intelligence (cs.AI); Quantum Physics (quant-ph)'"
      ]
     },
     "execution_count": 31,
     "metadata": {},
     "output_type": "execute_result"
    }
   ],
   "execution_count": 31
  },
  {
   "metadata": {
    "ExecuteTime": {
     "end_time": "2025-09-23T07:13:35.029477Z",
     "start_time": "2025-09-23T07:13:35.025148Z"
    }
   },
   "cell_type": "code",
   "source": [
    "doi_tag = article_soup.select_one(\"td.arxivdoi a\")\n",
    "doi_tag"
   ],
   "id": "66ad2186a6f663e6",
   "outputs": [
    {
     "data": {
      "text/plain": [
       "<a href=\"https://doi.org/10.48550/arXiv.2509.12259\" id=\"arxiv-doi-link\">https://doi.org/10.48550/arXiv.2509.12259</a>"
      ]
     },
     "execution_count": 33,
     "metadata": {},
     "output_type": "execute_result"
    }
   ],
   "execution_count": 33
  },
  {
   "metadata": {
    "ExecuteTime": {
     "end_time": "2025-09-23T07:15:14.617400Z",
     "start_time": "2025-09-23T07:15:14.614331Z"
    }
   },
   "cell_type": "code",
   "source": [
    "date_tag = article_soup.select_one(\"div.dateline\")\n",
    "date_tag"
   ],
   "id": "365e1f62cfce11f4",
   "outputs": [
    {
     "data": {
      "text/plain": [
       "<div class=\"dateline\">\n",
       "  [Submitted on 12 Sep 2025]</div>"
      ]
     },
     "execution_count": 34,
     "metadata": {},
     "output_type": "execute_result"
    }
   ],
   "execution_count": 34
  },
  {
   "metadata": {
    "ExecuteTime": {
     "end_time": "2025-09-23T07:15:54.291784Z",
     "start_time": "2025-09-23T07:15:54.288274Z"
    }
   },
   "cell_type": "code",
   "source": "date_tag.get_text().strip().split(\"on\")",
   "id": "2360361536faacaa",
   "outputs": [
    {
     "data": {
      "text/plain": [
       "['[Submitted ', ' 12 Sep 2025]']"
      ]
     },
     "execution_count": 35,
     "metadata": {},
     "output_type": "execute_result"
    }
   ],
   "execution_count": 35
  },
  {
   "metadata": {
    "ExecuteTime": {
     "end_time": "2025-09-23T07:16:26.534858Z",
     "start_time": "2025-09-23T07:16:26.277236Z"
    }
   },
   "cell_type": "code",
   "source": [
    "from myutil.handleDatetime import convert_date_robust\n",
    "convert_date_robust(\"12 Sep 2025]\")"
   ],
   "id": "933a546804da18a4",
   "outputs": [
    {
     "data": {
      "text/plain": [
       "'2025-09-12 00:00:00'"
      ]
     },
     "execution_count": 36,
     "metadata": {},
     "output_type": "execute_result"
    }
   ],
   "execution_count": 36
  },
  {
   "metadata": {
    "ExecuteTime": {
     "end_time": "2025-09-23T07:16:58.760339Z",
     "start_time": "2025-09-23T07:16:57.556608Z"
    }
   },
   "cell_type": "code",
   "source": [
    "\n",
    "convert_date_robust(\"[Submitted on 12 Sep 2025]\")"
   ],
   "id": "a6b0073c45e337e6",
   "outputs": [],
   "execution_count": 37
  },
  {
   "metadata": {},
   "cell_type": "code",
   "outputs": [],
   "execution_count": null,
   "source": "date_tag.get_text().strip().replace.split(\"on\")",
   "id": "3d7a48abc18ab8a1"
  },
  {
   "metadata": {
    "ExecuteTime": {
     "end_time": "2025-09-23T07:19:25.267651Z",
     "start_time": "2025-09-23T07:19:25.264259Z"
    }
   },
   "cell_type": "code",
   "source": [
    "import  re\n",
    "date_text = date_tag.get_text().strip()\n",
    "match = re.search(r'on\\s+(.+?)\\]', date_text)\n",
    "if match:\n",
    "    date_str = match.group(1).strip()\n",
    "    print(date_str)\n",
    "    print( convert_date_robust(date_str) )"
   ],
   "id": "cfdbe0bd1bd83555",
   "outputs": [
    {
     "name": "stdout",
     "output_type": "stream",
     "text": [
      "12 Sep 2025\n",
      "2025-09-12 00:00:00\n"
     ]
    }
   ],
   "execution_count": 38
  },
  {
   "metadata": {
    "ExecuteTime": {
     "end_time": "2025-09-23T08:54:32.498704Z",
     "start_time": "2025-09-23T08:54:31.697378Z"
    }
   },
   "cell_type": "code",
   "source": [
    "import requests\n",
    "\n",
    "\n",
    "headers = {\n",
    "    \"accept\": \"text/html,application/xhtml+xml,application/xml;q=0.9,image/avif,image/webp,image/apng,*/*;q=0.8,application/signed-exchange;v=b3;q=0.7\",\n",
    "    \"accept-language\": \"en,en-CN;q=0.9,zh-CN;q=0.8,zh;q=0.7\",\n",
    "    \"priority\": \"u=0, i\",\n",
    "    \"referer\": \"https://arxiv.org/list/cs.AI/recent?skip=0&show=50\",\n",
    "    \"sec-ch-ua\": \"\\\"Chromium\\\";v=\\\"140\\\", \\\"Not=A?Brand\\\";v=\\\"24\\\", \\\"Google Chrome\\\";v=\\\"140\\\"\",\n",
    "    \"sec-ch-ua-mobile\": \"?0\",\n",
    "    \"sec-ch-ua-platform\": \"\\\"macOS\\\"\",\n",
    "    \"sec-fetch-dest\": \"document\",\n",
    "    \"sec-fetch-mode\": \"navigate\",\n",
    "    \"sec-fetch-site\": \"same-origin\",\n",
    "    \"sec-fetch-user\": \"?1\",\n",
    "    \"upgrade-insecure-requests\": \"1\",\n",
    "    \"user-agent\": \"Mozilla/5.0 (Macintosh; Intel Mac OS X 10_15_7) AppleWebKit/537.36 (KHTML, like Gecko) Chrome/140.0.0.0 Safari/537.36\"\n",
    "}\n",
    "cookies = {\n",
    "    \"_ga\": \"GA1.1.1070728378.1758572327\",\n",
    "    \"_ga_B1RR0QKWGQ\": \"GS2.1.s1758572327$o1$g1$t1758572386$j1$l0$h0\",\n",
    "    \"arxiv-search-parameters\": \"\\\"{\\\\\\\"order\\\\\\\": \\\\\\\"-announced_date_first\\\\\\\"\\\\054 \\\\\\\"size\\\\\\\": \\\\\\\"50\\\\\\\"\\\\054 \\\\\\\"abstracts\\\\\\\": \\\\\\\"show\\\\\\\"\\\\054 \\\\\\\"date-date_type\\\\\\\": \\\\\\\"submitted_date\\\\\\\"}\\\"\",\n",
    "    \"arxiv_bibex\": \"{%22active%22:false%2C%22ds_cs%22:%22S2%22}\",\n",
    "    \"arxiv_labs\": \"{%22sameSite%22:%22strict%22%2C%22expires%22:365%2C%22last_tab%22:%22tabtwo%22%2C%22bibex-toggle%22:%22disabled%22%2C%22connectedpapers-toggle%22:%22disabled%22%2C%22alphaxiv-toggle%22:%22enabled%22%2C%22gotitpub-toggle%22:%22enabled%22}\"\n",
    "}\n",
    "url = \"https://arxiv.org/list/cs.AI/recent\"\n",
    "params = {\n",
    "    \"skip\": \"800\",\n",
    "    \"show\": \"50\"\n",
    "}\n",
    "response = requests.get(url, headers=headers, cookies=cookies, params=params)\n",
    "\n",
    "print(response.text)\n",
    "print(response)"
   ],
   "id": "a45fd0ea2abefcbb",
   "outputs": [
    {
     "name": "stdout",
     "output_type": "stream",
     "text": [
      "<!DOCTYPE html>\n",
      "<html lang=\"en\">\n",
      "\n",
      "<head>  <title>Artificial Intelligence  </title>\n",
      "  <meta name=\"viewport\" content=\"width=device-width, initial-scale=1\">\n",
      "  <link rel=\"apple-touch-icon\" sizes=\"180x180\" href=\"/static/browse/0.3.4/images/icons/apple-touch-icon.png\">\n",
      "  <link rel=\"icon\" type=\"image/png\" sizes=\"32x32\" href=\"/static/browse/0.3.4/images/icons/favicon-32x32.png\">\n",
      "  <link rel=\"icon\" type=\"image/png\" sizes=\"16x16\" href=\"/static/browse/0.3.4/images/icons/favicon-16x16.png\">\n",
      "  <link rel=\"manifest\" href=\"/static/browse/0.3.4/images/icons/site.webmanifest\">\n",
      "  <link rel=\"mask-icon\" href=\"/static/browse/0.3.4/images/icons/safari-pinned-tab.svg\" color=\"#5bbad5\">\n",
      "  <meta name=\"msapplication-TileColor\" content=\"#da532c\">\n",
      "  <meta name=\"theme-color\" content=\"#ffffff\">\n",
      "  <link rel=\"stylesheet\" type=\"text/css\" media=\"screen\" href=\"/static/browse/0.3.4/css/arXiv.css?v=20241206\" />\n",
      "  <link rel=\"stylesheet\" type=\"text/css\" media=\"print\" href=\"/static/browse/0.3.4/css/arXiv-print.css?v=20200611\" />\n",
      "  <link rel=\"stylesheet\" type=\"text/css\" media=\"screen\" href=\"/static/browse/0.3.4/css/browse_search.css\" />\n",
      "  <script language=\"javascript\" src=\"/static/browse/0.3.4/js/accordion.js\" ></script>\n",
      "  <script language=\"javascript\" src=\"/static/browse/0.3.4/js/optin-modal.js?v=20250819\"></script>\n",
      "  \n",
      "  <script src=\"/static/browse/0.3.4/js/mathjaxToggle.min.js\" type=\"text/javascript\"></script>\n",
      "  <script type=\"text/javascript\" language=\"javascript\">mathjaxToggle();</script>\n",
      "</head>\n",
      "\n",
      "<body  class=\"with-cu-identity\">\n",
      "  \n",
      "  \n",
      "  <div class=\"flex-wrap-footer\">\n",
      "    <header>\n",
      "      <a href=\"#content\" class=\"is-sr-only\">Skip to main content</a>\n",
      "      <!-- start desktop header -->\n",
      "      <div class=\"columns is-vcentered is-hidden-mobile\" id=\"cu-identity\">\n",
      "        <div class=\"column\" id=\"cu-logo\">\n",
      "          <a href=\"https://www.cornell.edu/\"><img src=\"/static/browse/0.3.4/images/icons/cu/cornell-reduced-white-SMALL.svg\" alt=\"Cornell University\" /></a>\n",
      "        </div><div class=\"column\">\n",
      "        </div><!-- /from April 7 at 1:00 AM to May 29 at 21:40 --><!-- /from May 2 at 1:00 AM to May 5 at 9:45 AM --><div class=\"column\" id=\"support-ack\">\n",
      "          <span id=\"support-ack-url\">We gratefully acknowledge support from the Simons Foundation, <a href=\"https://info.arxiv.org/about/ourmembers.html\">member institutions</a>, and all contributors.</span>\n",
      "          <a href=\"https://info.arxiv.org/about/donate.html\" class=\"btn-header-donate\">Donate</a>\n",
      "        </div>\n",
      "      </div>\n",
      "\n",
      "      <div id=\"header\" class=\"is-hidden-mobile\">\n",
      "<a aria-hidden=\"true\" tabindex=\"-1\" href=\"/IgnoreMe\"></a>\n",
      "<div class=\"header-breadcrumbs\">\n",
      "  <a href=\"/\"><img src=\"/static/browse/0.3.4/images/arxiv-logo-one-color-white.svg\" alt=\"arxiv logo\" style=\"height:40px;\"/></a> <span>&gt;</span>\n",
      "  <a href=\"/list/cs.AI/recent\">cs.AI</a>\n",
      "  </div>\n",
      "\n",
      "        <div class=\"columns is-vcentered is-mobile\" style=\"justify-content: flex-end;\">\n",
      "        </div>\n",
      "\n",
      "          <div class=\"search-block level-right\">\n",
      "    <form class=\"level-item mini-search\" method=\"GET\" action=\"https://arxiv.org/search\">\n",
      "      <div class=\"field has-addons\">\n",
      "        <div class=\"control\">\n",
      "          <input class=\"input is-small\" type=\"text\" name=\"query\" placeholder=\"Search...\" aria-label=\"Search term or terms\" />\n",
      "          <p class=\"help\"><a href=\"https://info.arxiv.org/help\">Help</a> | <a href=\"https://arxiv.org/search/advanced\">Advanced Search</a></p>\n",
      "        </div>\n",
      "        <div class=\"control\">\n",
      "          <div class=\"select is-small\">\n",
      "            <select name=\"searchtype\" aria-label=\"Field to search\">\n",
      "              <option value=\"all\" selected=\"selected\">All fields</option>\n",
      "              <option value=\"title\">Title</option>\n",
      "              <option value=\"author\">Author</option>\n",
      "              <option value=\"abstract\">Abstract</option>\n",
      "              <option value=\"comments\">Comments</option>\n",
      "              <option value=\"journal_ref\">Journal reference</option>\n",
      "              <option value=\"acm_class\">ACM classification</option>\n",
      "              <option value=\"msc_class\">MSC classification</option>\n",
      "              <option value=\"report_num\">Report number</option>\n",
      "              <option value=\"paper_id\">arXiv identifier</option>\n",
      "              <option value=\"doi\">DOI</option>\n",
      "              <option value=\"orcid\">ORCID</option>\n",
      "              <option value=\"author_id\">arXiv author ID</option>\n",
      "              <option value=\"help\">Help pages</option>\n",
      "              <option value=\"full_text\">Full text</option>\n",
      "            </select>\n",
      "          </div>\n",
      "        </div>\n",
      "        <input type=\"hidden\" name=\"source\" value=\"header\">\n",
      "        <button class=\"button is-small is-cul-darker\">Search</button>\n",
      "      </div>\n",
      "    </form>\n",
      "  </div>\n",
      "     </div><!-- /end desktop header -->\n",
      "\n",
      "      <div class=\"mobile-header\">\n",
      "        <div class=\"columns is-mobile\">\n",
      "          <div class=\"column logo-arxiv\"><a href=\"https://arxiv.org/\"><img src=\"/static/browse/0.3.4/images/arxiv-logomark-small-white.svg\" alt=\"arXiv logo\" style=\"height:60px;\" /></a></div>\n",
      "          <div class=\"column logo-cornell\"><a href=\"https://www.cornell.edu/\">\n",
      "            <picture>\n",
      "              <source media=\"(min-width: 501px)\"\n",
      "                srcset=\"/static/browse/0.3.4/images/icons/cu/cornell-reduced-white-SMALL.svg  400w\"\n",
      "                sizes=\"400w\" />\n",
      "              <source srcset=\"/static/browse/0.3.4/images/icons/cu/cornell_seal_simple_black.svg 2x\" />\n",
      "              <img src=\"/static/browse/0.3.4/images/icons/cu/cornell-reduced-white-SMALL.svg\" alt=\"Cornell University Logo\" />\n",
      "            </picture>\n",
      "          </a></div>\n",
      "          <div class=\"column nav\" id=\"toggle-container\" role=\"menubar\">\n",
      "            <button class=\"toggle-control\"><svg xmlns=\"http://www.w3.org/2000/svg\" viewBox=\"0 0 512 512\" class=\"icon filter-white\"><title>open search</title><path d=\"M505 442.7L405.3 343c-4.5-4.5-10.6-7-17-7H372c27.6-35.3 44-79.7 44-128C416 93.1 322.9 0 208 0S0 93.1 0 208s93.1 208 208 208c48.3 0 92.7-16.4 128-44v16.3c0 6.4 2.5 12.5 7 17l99.7 99.7c9.4 9.4 24.6 9.4 33.9 0l28.3-28.3c9.4-9.4 9.4-24.6.1-34zM208 336c-70.7 0-128-57.2-128-128 0-70.7 57.2-128 128-128 70.7 0 128 57.2 128 128 0 70.7-57.2 128-128 128z\"/></svg></button>\n",
      "            <div class=\"mobile-toggle-block toggle-target\">\n",
      "              <form class=\"mobile-search-form\" method=\"GET\" action=\"https://arxiv.org/search\">\n",
      "                <div class=\"field has-addons\">\n",
      "                  <input class=\"input\" type=\"text\" name=\"query\" placeholder=\"Search...\" aria-label=\"Search term or terms\" />\n",
      "                  <input type=\"hidden\" name=\"source\" value=\"header\">\n",
      "                  <input type=\"hidden\" name=\"searchtype\" value=\"all\">\n",
      "                  <button class=\"button\">GO</button>\n",
      "                </div>\n",
      "              </form>\n",
      "            </div>\n",
      "\n",
      "            <button class=\"toggle-control\"><svg xmlns=\"http://www.w3.org/2000/svg\" viewBox=\"0 0 448 512\" class=\"icon filter-white\" role=\"menu\"><title>open navigation menu</title><path d=\"M16 132h416c8.837 0 16-7.163 16-16V76c0-8.837-7.163-16-16-16H16C7.163 60 0 67.163 0 76v40c0 8.837 7.163 16 16 16zm0 160h416c8.837 0 16-7.163 16-16v-40c0-8.837-7.163-16-16-16H16c-8.837 0-16 7.163-16 16v40c0 8.837 7.163 16 16 16zm0 160h416c8.837 0 16-7.163 16-16v-40c0-8.837-7.163-16-16-16H16c-8.837 0-16 7.163-16 16v40c0 8.837 7.163 16 16 16z\"/ ></svg></button>\n",
      "            <div class=\"mobile-toggle-block toggle-target\">\n",
      "              <nav class=\"mobile-menu\" aria-labelledby=\"mobilemenulabel\">\n",
      "                <h2 id=\"mobilemenulabel\">quick links</h2>\n",
      "                <ul>\n",
      "                    <li><a href=\"https://arxiv.org/login\">Login</a></li>\n",
      "                    <li><a href=\"https://info.arxiv.org/help\">Help Pages</a></li>\n",
      "                    <li><a href=\"https://info.arxiv.org/about\">About</a></li>\n",
      "                </ul>\n",
      "              </nav>\n",
      "            </div>\n",
      "          </div>\n",
      "        </div>\n",
      "      </div><!-- /end mobile-header -->\n",
      "    </header>\n",
      "\n",
      "    <main>\n",
      "      <div id=\"content\">\n",
      "<div id='content-inner'>\n",
      "<div id='dlpage'>\n",
      "  <h1>Artificial Intelligence</h1>\n",
      "\n",
      "<h2>Authors and titles for recent submissions</h2>\n",
      "  <ul>\n",
      "<li>\n",
      "        <a href=\"/list/cs.AI/recent?skip=0&amp;show=50\">\n",
      "          Tue, 23 Sep 2025\n",
      "        </a>\n",
      "      </li><li>\n",
      "        <a href=\"/list/cs.AI/recent?skip=275&amp;show=50\">\n",
      "          Mon, 22 Sep 2025\n",
      "        </a>\n",
      "      </li><li>\n",
      "        <a href=\"/list/cs.AI/recent?skip=409&amp;show=50\">\n",
      "          Fri, 19 Sep 2025\n",
      "        </a>\n",
      "      </li><li>\n",
      "        <a href=\"/list/cs.AI/recent?skip=540&amp;show=50\">\n",
      "          Thu, 18 Sep 2025\n",
      "        </a>\n",
      "      </li><li>\n",
      "        <a href=\"/list/cs.AI/recent?skip=657&amp;show=50\">\n",
      "          Wed, 17 Sep 2025\n",
      "        </a>\n",
      "      </li></ul>\n",
      "  <p>See today's <a id=\"new-cs.AI\" aria-labelledby=\"new-cs.AI\" href=\"/list/cs.AI/new\">new</a> changes</p>\n",
      "      <div class='paging'>Total of 826 entries :      <a href=/list/cs.AI/recent?skip=0&amp;show=50>1-50</a>\n",
      "      <span>...</span>\n",
      "      <a href=/list/cs.AI/recent?skip=650&amp;show=50>651-700</a>\n",
      "      <a href=/list/cs.AI/recent?skip=700&amp;show=50>701-750</a>\n",
      "      <a href=/list/cs.AI/recent?skip=750&amp;show=50>751-800</a>\n",
      "      <span>801-826</span>\n",
      "\n",
      "    </div>\n",
      "    <div class='morefewer'>Showing up to 50 entries per page:\n",
      "          <a href=/list/cs.AI/recent?skip=800&amp;show=25 rel=\"nofollow\">\n",
      "      fewer</a>\n",
      " |\n",
      "          <a href=/list/cs.AI/recent?skip=800&amp;show=100 rel=\"nofollow\">\n",
      "      more</a>\n",
      " |\n",
      "          <a href=/list/cs.AI/recent?skip=800&amp;show=2000 rel=\"nofollow\">\n",
      "      all</a>\n",
      "\n",
      "    </div>\n",
      "\n",
      "\n",
      "\n",
      "      <dl id='articles'>\n",
      "    <h3>Wed, 17 Sep 2025 (continued, showing last 26 of 169 entries )</h3>\n",
      "\n",
      "\n",
      "    <dt>\n",
      "      <a name='item801'>[801]</a>\n",
      "      <a href =\"/abs/2509.12279\" title=\"Abstract\" id=\"2509.12279\">\n",
      "        arXiv:2509.12279\n",
      "      </a>\n",
      "          (cross-list from cs.CV)\n",
      "\n",
      "        [<a href=\"/pdf/2509.12279\" title=\"Download PDF\" id=\"pdf-2509.12279\" aria-labelledby=\"pdf-2509.12279\">pdf</a>, <a href=\"https://arxiv.org/html/2509.12279v1\" title=\"View HTML\" id=\"html-2509.12279\" aria-labelledby=\"html-2509.12279\" rel=\"noopener noreferrer\" target=\"_blank\">html</a>, <a href=\"/format/2509.12279\" title=\"Other formats\" id=\"oth-2509.12279\" aria-labelledby=\"oth-2509.12279\">other</a>]\n",
      "    </dt>\n",
      "    <dd>\n",
      "      <div class='meta'>\n",
      "        <div class='list-title mathjax'><span class='descriptor'>Title:</span>\n",
      "          Domain Adaptive SAR Wake Detection: Leveraging Similarity Filtering and Memory Guidance\n",
      "        </div>\n",
      "        <div class='list-authors'><a href=\"https://arxiv.org/search/cs?searchtype=author&amp;query=Gao,+H\">He Gao</a>, <a href=\"https://arxiv.org/search/cs?searchtype=author&amp;query=Huang,+B\">Baoxiang Huang</a>, <a href=\"https://arxiv.org/search/cs?searchtype=author&amp;query=Radenkovic,+M\">Milena Radenkovic</a>, <a href=\"https://arxiv.org/search/cs?searchtype=author&amp;query=Li,+B\">Borui Li</a>, <a href=\"https://arxiv.org/search/cs?searchtype=author&amp;query=Chen,+G\">Ge Chen</a></div>\n",
      "\n",
      "\n",
      "\n",
      "        <div class='list-subjects'><span class='descriptor'>Subjects:</span>\n",
      "          <span class=\"primary-subject\">Computer Vision and Pattern Recognition (cs.CV)</span>; Artificial Intelligence (cs.AI)\n",
      "        </div>\n",
      "\n",
      "      </div>\n",
      "    </dd>\n",
      "    <dt>\n",
      "      <a name='item802'>[802]</a>\n",
      "      <a href =\"/abs/2509.12278\" title=\"Abstract\" id=\"2509.12278\">\n",
      "        arXiv:2509.12278\n",
      "      </a>\n",
      "          (cross-list from cs.CV)\n",
      "\n",
      "        [<a href=\"/pdf/2509.12278\" title=\"Download PDF\" id=\"pdf-2509.12278\" aria-labelledby=\"pdf-2509.12278\">pdf</a>, <a href=\"https://arxiv.org/html/2509.12278v1\" title=\"View HTML\" id=\"html-2509.12278\" aria-labelledby=\"html-2509.12278\" rel=\"noopener noreferrer\" target=\"_blank\">html</a>, <a href=\"/format/2509.12278\" title=\"Other formats\" id=\"oth-2509.12278\" aria-labelledby=\"oth-2509.12278\">other</a>]\n",
      "    </dt>\n",
      "    <dd>\n",
      "      <div class='meta'>\n",
      "        <div class='list-title mathjax'><span class='descriptor'>Title:</span>\n",
      "          PATIMT-Bench: A Multi-Scenario Benchmark for Position-Aware Text Image Machine Translation in Large Vision-Language Models\n",
      "        </div>\n",
      "        <div class='list-authors'><a href=\"https://arxiv.org/search/cs?searchtype=author&amp;query=Zhuang,+W\">Wanru Zhuang</a>, <a href=\"https://arxiv.org/search/cs?searchtype=author&amp;query=Li,+W\">Wenbo Li</a>, <a href=\"https://arxiv.org/search/cs?searchtype=author&amp;query=Lan,+Z\">Zhibin Lan</a>, <a href=\"https://arxiv.org/search/cs?searchtype=author&amp;query=Han,+X\">Xu Han</a>, <a href=\"https://arxiv.org/search/cs?searchtype=author&amp;query=Li,+P\">Peng Li</a>, <a href=\"https://arxiv.org/search/cs?searchtype=author&amp;query=Su,+J\">Jinsong Su</a></div>\n",
      "\n",
      "\n",
      "\n",
      "        <div class='list-subjects'><span class='descriptor'>Subjects:</span>\n",
      "          <span class=\"primary-subject\">Computer Vision and Pattern Recognition (cs.CV)</span>; Artificial Intelligence (cs.AI)\n",
      "        </div>\n",
      "\n",
      "      </div>\n",
      "    </dd>\n",
      "    <dt>\n",
      "      <a name='item803'>[803]</a>\n",
      "      <a href =\"/abs/2509.12277\" title=\"Abstract\" id=\"2509.12277\">\n",
      "        arXiv:2509.12277\n",
      "      </a>\n",
      "          (cross-list from cs.CV)\n",
      "\n",
      "        [<a href=\"/pdf/2509.12277\" title=\"Download PDF\" id=\"pdf-2509.12277\" aria-labelledby=\"pdf-2509.12277\">pdf</a>, <a href=\"https://arxiv.org/html/2509.12277v1\" title=\"View HTML\" id=\"html-2509.12277\" aria-labelledby=\"html-2509.12277\" rel=\"noopener noreferrer\" target=\"_blank\">html</a>, <a href=\"/format/2509.12277\" title=\"Other formats\" id=\"oth-2509.12277\" aria-labelledby=\"oth-2509.12277\">other</a>]\n",
      "    </dt>\n",
      "    <dd>\n",
      "      <div class='meta'>\n",
      "        <div class='list-title mathjax'><span class='descriptor'>Title:</span>\n",
      "          GraphDerm: Fusing Imaging, Physical Scale, and Metadata in a Population-Graph Classifier for Dermoscopic Lesions\n",
      "        </div>\n",
      "        <div class='list-authors'><a href=\"https://arxiv.org/search/cs?searchtype=author&amp;query=Yousefzadeh,+M\">Mehdi Yousefzadeh</a>, <a href=\"https://arxiv.org/search/cs?searchtype=author&amp;query=Esfahanian,+P\">Parsa Esfahanian</a>, <a href=\"https://arxiv.org/search/cs?searchtype=author&amp;query=Rashidifar,+S\">Sara Rashidifar</a>, <a href=\"https://arxiv.org/search/cs?searchtype=author&amp;query=Gavalan,+H+S\">Hossein Salahshoor Gavalan</a>, <a href=\"https://arxiv.org/search/cs?searchtype=author&amp;query=Tabatabaee,+N+S+R\">Negar Sadat Rafiee Tabatabaee</a>, <a href=\"https://arxiv.org/search/cs?searchtype=author&amp;query=Gorgin,+S\">Saeid Gorgin</a>, <a href=\"https://arxiv.org/search/cs?searchtype=author&amp;query=Rahmati,+D\">Dara Rahmati</a>, <a href=\"https://arxiv.org/search/cs?searchtype=author&amp;query=Daneshpazhooh,+M\">Maryam Daneshpazhooh</a></div>\n",
      "\n",
      "\n",
      "\n",
      "        <div class='list-subjects'><span class='descriptor'>Subjects:</span>\n",
      "          <span class=\"primary-subject\">Computer Vision and Pattern Recognition (cs.CV)</span>; Artificial Intelligence (cs.AI)\n",
      "        </div>\n",
      "\n",
      "      </div>\n",
      "    </dd>\n",
      "    <dt>\n",
      "      <a name='item804'>[804]</a>\n",
      "      <a href =\"/abs/2509.12275\" title=\"Abstract\" id=\"2509.12275\">\n",
      "        arXiv:2509.12275\n",
      "      </a>\n",
      "          (cross-list from cs.SD)\n",
      "\n",
      "        [<a href=\"/pdf/2509.12275\" title=\"Download PDF\" id=\"pdf-2509.12275\" aria-labelledby=\"pdf-2509.12275\">pdf</a>, <a href=\"https://arxiv.org/html/2509.12275v3\" title=\"View HTML\" id=\"html-2509.12275\" aria-labelledby=\"html-2509.12275\" rel=\"noopener noreferrer\" target=\"_blank\">html</a>, <a href=\"/format/2509.12275\" title=\"Other formats\" id=\"oth-2509.12275\" aria-labelledby=\"oth-2509.12275\">other</a>]\n",
      "    </dt>\n",
      "    <dd>\n",
      "      <div class='meta'>\n",
      "        <div class='list-title mathjax'><span class='descriptor'>Title:</span>\n",
      "          Omni-CLST: Error-aware Curriculum Learning with guided Selective chain-of-Thought for audio question answering\n",
      "        </div>\n",
      "        <div class='list-authors'><a href=\"https://arxiv.org/search/cs?searchtype=author&amp;query=Zhao,+J\">Jinghua Zhao</a>, <a href=\"https://arxiv.org/search/cs?searchtype=author&amp;query=Su,+H\">Hang Su</a>, <a href=\"https://arxiv.org/search/cs?searchtype=author&amp;query=Fan,+L\">Lichun Fan</a>, <a href=\"https://arxiv.org/search/cs?searchtype=author&amp;query=Luo,+Z\">Zhenbo Luo</a>, <a href=\"https://arxiv.org/search/cs?searchtype=author&amp;query=Wang,+H\">Hui Wang</a>, <a href=\"https://arxiv.org/search/cs?searchtype=author&amp;query=Sun,+H\">Haoqin Sun</a>, <a href=\"https://arxiv.org/search/cs?searchtype=author&amp;query=Qin,+Y\">Yong Qin</a></div>\n",
      "\n",
      "        <div class='list-comments mathjax'><span class='descriptor'>Comments:</span>\n",
      "          5 pages, 1 figure, 2 tables submitted to icassp, under prereview\n",
      "        </div>\n",
      "\n",
      "\n",
      "        <div class='list-subjects'><span class='descriptor'>Subjects:</span>\n",
      "          <span class=\"primary-subject\">Sound (cs.SD)</span>; Artificial Intelligence (cs.AI); Audio and Speech Processing (eess.AS)\n",
      "        </div>\n",
      "\n",
      "      </div>\n",
      "    </dd>\n",
      "    <dt>\n",
      "      <a name='item805'>[805]</a>\n",
      "      <a href =\"/abs/2509.12271\" title=\"Abstract\" id=\"2509.12271\">\n",
      "        arXiv:2509.12271\n",
      "      </a>\n",
      "          (cross-list from math.NA)\n",
      "\n",
      "        [<a href=\"/pdf/2509.12271\" title=\"Download PDF\" id=\"pdf-2509.12271\" aria-labelledby=\"pdf-2509.12271\">pdf</a>, <a href=\"https://arxiv.org/html/2509.12271v1\" title=\"View HTML\" id=\"html-2509.12271\" aria-labelledby=\"html-2509.12271\" rel=\"noopener noreferrer\" target=\"_blank\">html</a>, <a href=\"/format/2509.12271\" title=\"Other formats\" id=\"oth-2509.12271\" aria-labelledby=\"oth-2509.12271\">other</a>]\n",
      "    </dt>\n",
      "    <dd>\n",
      "      <div class='meta'>\n",
      "        <div class='list-title mathjax'><span class='descriptor'>Title:</span>\n",
      "          A Variational Physics-Informed Neural Network Framework Using Petrov-Galerkin Method for Solving Singularly Perturbed Boundary Value Problems\n",
      "        </div>\n",
      "        <div class='list-authors'><a href=\"https://arxiv.org/search/math?searchtype=author&amp;query=Kumar,+V\">Vijay Kumar</a>, <a href=\"https://arxiv.org/search/math?searchtype=author&amp;query=Singh,+G\">Gautam Singh</a></div>\n",
      "\n",
      "\n",
      "\n",
      "        <div class='list-subjects'><span class='descriptor'>Subjects:</span>\n",
      "          <span class=\"primary-subject\">Numerical Analysis (math.NA)</span>; Artificial Intelligence (cs.AI)\n",
      "        </div>\n",
      "\n",
      "      </div>\n",
      "    </dd>\n",
      "    <dt>\n",
      "      <a name='item806'>[806]</a>\n",
      "      <a href =\"/abs/2509.12265\" title=\"Abstract\" id=\"2509.12265\">\n",
      "        arXiv:2509.12265\n",
      "      </a>\n",
      "          (cross-list from cs.CV)\n",
      "\n",
      "        [<a href=\"/pdf/2509.12265\" title=\"Download PDF\" id=\"pdf-2509.12265\" aria-labelledby=\"pdf-2509.12265\">pdf</a>, <a href=\"https://arxiv.org/html/2509.12265v1\" title=\"View HTML\" id=\"html-2509.12265\" aria-labelledby=\"html-2509.12265\" rel=\"noopener noreferrer\" target=\"_blank\">html</a>, <a href=\"/format/2509.12265\" title=\"Other formats\" id=\"oth-2509.12265\" aria-labelledby=\"oth-2509.12265\">other</a>]\n",
      "    </dt>\n",
      "    <dd>\n",
      "      <div class='meta'>\n",
      "        <div class='list-title mathjax'><span class='descriptor'>Title:</span>\n",
      "          A Modern Look at Simplicity Bias in Image Classification Tasks\n",
      "        </div>\n",
      "        <div class='list-authors'><a href=\"https://arxiv.org/search/cs?searchtype=author&amp;query=Chang,+X\">Xiaoguang Chang</a>, <a href=\"https://arxiv.org/search/cs?searchtype=author&amp;query=Wang,+T\">Teng Wang</a>, <a href=\"https://arxiv.org/search/cs?searchtype=author&amp;query=Sun,+C\">Changyin Sun</a></div>\n",
      "\n",
      "\n",
      "\n",
      "        <div class='list-subjects'><span class='descriptor'>Subjects:</span>\n",
      "          <span class=\"primary-subject\">Computer Vision and Pattern Recognition (cs.CV)</span>; Artificial Intelligence (cs.AI)\n",
      "        </div>\n",
      "\n",
      "      </div>\n",
      "    </dd>\n",
      "    <dt>\n",
      "      <a name='item807'>[807]</a>\n",
      "      <a href =\"/abs/2509.12259\" title=\"Abstract\" id=\"2509.12259\">\n",
      "        arXiv:2509.12259\n",
      "      </a>\n",
      "          (cross-list from cs.LG)\n",
      "\n",
      "        [<a href=\"/pdf/2509.12259\" title=\"Download PDF\" id=\"pdf-2509.12259\" aria-labelledby=\"pdf-2509.12259\">pdf</a>, <a href=\"https://arxiv.org/html/2509.12259v1\" title=\"View HTML\" id=\"html-2509.12259\" aria-labelledby=\"html-2509.12259\" rel=\"noopener noreferrer\" target=\"_blank\">html</a>, <a href=\"/format/2509.12259\" title=\"Other formats\" id=\"oth-2509.12259\" aria-labelledby=\"oth-2509.12259\">other</a>]\n",
      "    </dt>\n",
      "    <dd>\n",
      "      <div class='meta'>\n",
      "        <div class='list-title mathjax'><span class='descriptor'>Title:</span>\n",
      "          Quantum-Inspired Stacked Integrated Concept Graph Model (QISICGM) for Diabetes Risk Prediction\n",
      "        </div>\n",
      "        <div class='list-authors'><a href=\"https://arxiv.org/search/cs?searchtype=author&amp;query=Young,+K+G\">Kenneth G. Young II</a></div>\n",
      "\n",
      "        <div class='list-comments mathjax'><span class='descriptor'>Comments:</span>\n",
      "          13 pages, 3 figures, includes performance tables and visualizations. Proposes a Quantum-Inspired Stacked Integrated Concept Graph Model (QISICGM) that integrates phase feature mapping, self-improving concept graphs, and neighborhood sequence modeling within a stacked ensemble. Demonstrates improved F1 and AUC on an augmented PIMA Diabetes dataset with efficient CPU inference\n",
      "        </div>\n",
      "\n",
      "\n",
      "        <div class='list-subjects'><span class='descriptor'>Subjects:</span>\n",
      "          <span class=\"primary-subject\">Machine Learning (cs.LG)</span>; Artificial Intelligence (cs.AI); Quantum Physics (quant-ph)\n",
      "        </div>\n",
      "\n",
      "      </div>\n",
      "    </dd>\n",
      "    <dt>\n",
      "      <a name='item808'>[808]</a>\n",
      "      <a href =\"/abs/2509.12255\" title=\"Abstract\" id=\"2509.12255\">\n",
      "        arXiv:2509.12255\n",
      "      </a>\n",
      "          (cross-list from cs.LG)\n",
      "\n",
      "        [<a href=\"/pdf/2509.12255\" title=\"Download PDF\" id=\"pdf-2509.12255\" aria-labelledby=\"pdf-2509.12255\">pdf</a>, <a href=\"https://arxiv.org/html/2509.12255v1\" title=\"View HTML\" id=\"html-2509.12255\" aria-labelledby=\"html-2509.12255\" rel=\"noopener noreferrer\" target=\"_blank\">html</a>, <a href=\"/format/2509.12255\" title=\"Other formats\" id=\"oth-2509.12255\" aria-labelledby=\"oth-2509.12255\">other</a>]\n",
      "    </dt>\n",
      "    <dd>\n",
      "      <div class='meta'>\n",
      "        <div class='list-title mathjax'><span class='descriptor'>Title:</span>\n",
      "          Representation Learning on Large Non-Bipartite Transaction Networks using GraphSAGE\n",
      "        </div>\n",
      "        <div class='list-authors'><a href=\"https://arxiv.org/search/cs?searchtype=author&amp;query=Tare,+M\">Mihir Tare</a>, <a href=\"https://arxiv.org/search/cs?searchtype=author&amp;query=Rattasits,+C\">Clemens Rattasits</a>, <a href=\"https://arxiv.org/search/cs?searchtype=author&amp;query=Wu,+Y\">Yiming Wu</a>, <a href=\"https://arxiv.org/search/cs?searchtype=author&amp;query=Wielewski,+E\">Euan Wielewski</a></div>\n",
      "\n",
      "\n",
      "        <div class='list-journal-ref'><span class='descriptor'>Journal-ref:</span>\n",
      "          Graph-Based Representations in Pattern Recognition. GbRPR 2025. Lecture Notes in Computer Science, vol 15727. Springer\n",
      "        </div>\n",
      "\n",
      "        <div class='list-subjects'><span class='descriptor'>Subjects:</span>\n",
      "          <span class=\"primary-subject\">Machine Learning (cs.LG)</span>; Artificial Intelligence (cs.AI); Social and Information Networks (cs.SI)\n",
      "        </div>\n",
      "\n",
      "      </div>\n",
      "    </dd>\n",
      "    <dt>\n",
      "      <a name='item809'>[809]</a>\n",
      "      <a href =\"/abs/2509.12253\" title=\"Abstract\" id=\"2509.12253\">\n",
      "        arXiv:2509.12253\n",
      "      </a>\n",
      "          (cross-list from eess.IV)\n",
      "\n",
      "        [<a href=\"/pdf/2509.12253\" title=\"Download PDF\" id=\"pdf-2509.12253\" aria-labelledby=\"pdf-2509.12253\">pdf</a>, <a href=\"https://arxiv.org/html/2509.12253v1\" title=\"View HTML\" id=\"html-2509.12253\" aria-labelledby=\"html-2509.12253\" rel=\"noopener noreferrer\" target=\"_blank\">html</a>, <a href=\"/format/2509.12253\" title=\"Other formats\" id=\"oth-2509.12253\" aria-labelledby=\"oth-2509.12253\">other</a>]\n",
      "    </dt>\n",
      "    <dd>\n",
      "      <div class='meta'>\n",
      "        <div class='list-title mathjax'><span class='descriptor'>Title:</span>\n",
      "          Physics-Informed Neural Networks vs. Physics Models for Non-Invasive Glucose Monitoring: A Comparative Study Under Realistic Synthetic Conditions\n",
      "        </div>\n",
      "        <div class='list-authors'><a href=\"https://arxiv.org/search/eess?searchtype=author&amp;query=Gani,+R\">Riyaadh Gani</a></div>\n",
      "\n",
      "\n",
      "\n",
      "        <div class='list-subjects'><span class='descriptor'>Subjects:</span>\n",
      "          <span class=\"primary-subject\">Image and Video Processing (eess.IV)</span>; Artificial Intelligence (cs.AI); Machine Learning (cs.LG)\n",
      "        </div>\n",
      "\n",
      "      </div>\n",
      "    </dd>\n",
      "    <dt>\n",
      "      <a name='item810'>[810]</a>\n",
      "      <a href =\"/abs/2509.12250\" title=\"Abstract\" id=\"2509.12250\">\n",
      "        arXiv:2509.12250\n",
      "      </a>\n",
      "          (cross-list from cs.CV)\n",
      "\n",
      "        [<a href=\"/pdf/2509.12250\" title=\"Download PDF\" id=\"pdf-2509.12250\" aria-labelledby=\"pdf-2509.12250\">pdf</a>, <a href=\"https://arxiv.org/html/2509.12250v1\" title=\"View HTML\" id=\"html-2509.12250\" aria-labelledby=\"html-2509.12250\" rel=\"noopener noreferrer\" target=\"_blank\">html</a>, <a href=\"/format/2509.12250\" title=\"Other formats\" id=\"oth-2509.12250\" aria-labelledby=\"oth-2509.12250\">other</a>]\n",
      "    </dt>\n",
      "    <dd>\n",
      "      <div class='meta'>\n",
      "        <div class='list-title mathjax'><span class='descriptor'>Title:</span>\n",
      "          OnlineHOI: Towards Online Human-Object Interaction Generation and Perception\n",
      "        </div>\n",
      "        <div class='list-authors'><a href=\"https://arxiv.org/search/cs?searchtype=author&amp;query=Ji,+Y\">Yihong Ji</a>, <a href=\"https://arxiv.org/search/cs?searchtype=author&amp;query=Liu,+Y\">Yunze Liu</a>, <a href=\"https://arxiv.org/search/cs?searchtype=author&amp;query=Zhuo,+Y\">Yiyao Zhuo</a>, <a href=\"https://arxiv.org/search/cs?searchtype=author&amp;query=Yu,+W\">Weijiang Yu</a>, <a href=\"https://arxiv.org/search/cs?searchtype=author&amp;query=Ma,+F\">Fei Ma</a>, <a href=\"https://arxiv.org/search/cs?searchtype=author&amp;query=Huang,+J\">Joshua Huang</a>, <a href=\"https://arxiv.org/search/cs?searchtype=author&amp;query=Yu,+F\">Fei Yu</a></div>\n",
      "\n",
      "        <div class='list-comments mathjax'><span class='descriptor'>Comments:</span>\n",
      "          Accepted at ACM MM 2025\n",
      "        </div>\n",
      "\n",
      "\n",
      "        <div class='list-subjects'><span class='descriptor'>Subjects:</span>\n",
      "          <span class=\"primary-subject\">Computer Vision and Pattern Recognition (cs.CV)</span>; Artificial Intelligence (cs.AI); Robotics (cs.RO)\n",
      "        </div>\n",
      "\n",
      "      </div>\n",
      "    </dd>\n",
      "    <dt>\n",
      "      <a name='item811'>[811]</a>\n",
      "      <a href =\"/abs/2509.12249\" title=\"Abstract\" id=\"2509.12249\">\n",
      "        arXiv:2509.12249\n",
      "      </a>\n",
      "          (cross-list from cs.LG)\n",
      "\n",
      "        [<a href=\"/pdf/2509.12249\" title=\"Download PDF\" id=\"pdf-2509.12249\" aria-labelledby=\"pdf-2509.12249\">pdf</a>, <a href=\"https://arxiv.org/html/2509.12249v1\" title=\"View HTML\" id=\"html-2509.12249\" aria-labelledby=\"html-2509.12249\" rel=\"noopener noreferrer\" target=\"_blank\">html</a>, <a href=\"/format/2509.12249\" title=\"Other formats\" id=\"oth-2509.12249\" aria-labelledby=\"oth-2509.12249\">other</a>]\n",
      "    </dt>\n",
      "    <dd>\n",
      "      <div class='meta'>\n",
      "        <div class='list-title mathjax'><span class='descriptor'>Title:</span>\n",
      "          Why and How Auxiliary Tasks Improve JEPA Representations\n",
      "        </div>\n",
      "        <div class='list-authors'><a href=\"https://arxiv.org/search/cs?searchtype=author&amp;query=Yu,+J\">Jiacan Yu</a>, <a href=\"https://arxiv.org/search/cs?searchtype=author&amp;query=Chen,+S\">Siyi Chen</a>, <a href=\"https://arxiv.org/search/cs?searchtype=author&amp;query=Liu,+M\">Mingrui Liu</a>, <a href=\"https://arxiv.org/search/cs?searchtype=author&amp;query=Horiuchi,+N\">Nono Horiuchi</a>, <a href=\"https://arxiv.org/search/cs?searchtype=author&amp;query=Braverman,+V\">Vladimir Braverman</a>, <a href=\"https://arxiv.org/search/cs?searchtype=author&amp;query=Xu,+Z\">Zicheng Xu</a>, <a href=\"https://arxiv.org/search/cs?searchtype=author&amp;query=Haramati,+D\">Dan Haramati</a>, <a href=\"https://arxiv.org/search/cs?searchtype=author&amp;query=Balestriero,+R\">Randall Balestriero</a></div>\n",
      "\n",
      "\n",
      "\n",
      "        <div class='list-subjects'><span class='descriptor'>Subjects:</span>\n",
      "          <span class=\"primary-subject\">Machine Learning (cs.LG)</span>; Artificial Intelligence (cs.AI)\n",
      "        </div>\n",
      "\n",
      "      </div>\n",
      "    </dd>\n",
      "    <dt>\n",
      "      <a name='item812'>[812]</a>\n",
      "      <a href =\"/abs/2509.12248\" title=\"Abstract\" id=\"2509.12248\">\n",
      "        arXiv:2509.12248\n",
      "      </a>\n",
      "          (cross-list from cs.CV)\n",
      "\n",
      "        [<a href=\"/pdf/2509.12248\" title=\"Download PDF\" id=\"pdf-2509.12248\" aria-labelledby=\"pdf-2509.12248\">pdf</a>, <a href=\"https://arxiv.org/html/2509.12248v2\" title=\"View HTML\" id=\"html-2509.12248\" aria-labelledby=\"html-2509.12248\" rel=\"noopener noreferrer\" target=\"_blank\">html</a>, <a href=\"/format/2509.12248\" title=\"Other formats\" id=\"oth-2509.12248\" aria-labelledby=\"oth-2509.12248\">other</a>]\n",
      "    </dt>\n",
      "    <dd>\n",
      "      <div class='meta'>\n",
      "        <div class='list-title mathjax'><span class='descriptor'>Title:</span>\n",
      "          Humor in Pixels: Benchmarking Large Multimodal Models Understanding of Online Comics\n",
      "        </div>\n",
      "        <div class='list-authors'><a href=\"https://arxiv.org/search/cs?searchtype=author&amp;query=Ryan,+Y\">Yuriel Ryan</a>, <a href=\"https://arxiv.org/search/cs?searchtype=author&amp;query=Tan,+R+Y\">Rui Yang Tan</a>, <a href=\"https://arxiv.org/search/cs?searchtype=author&amp;query=Choo,+K+T+W\">Kenny Tsu Wei Choo</a>, <a href=\"https://arxiv.org/search/cs?searchtype=author&amp;query=Lee,+R+K\">Roy Ka-Wei Lee</a></div>\n",
      "\n",
      "        <div class='list-comments mathjax'><span class='descriptor'>Comments:</span>\n",
      "          27 pages, 8 figures, EMNLP 2025 Findings\n",
      "        </div>\n",
      "\n",
      "\n",
      "        <div class='list-subjects'><span class='descriptor'>Subjects:</span>\n",
      "          <span class=\"primary-subject\">Computer Vision and Pattern Recognition (cs.CV)</span>; Artificial Intelligence (cs.AI); Computation and Language (cs.CL)\n",
      "        </div>\n",
      "\n",
      "      </div>\n",
      "    </dd>\n",
      "    <dt>\n",
      "      <a name='item813'>[813]</a>\n",
      "      <a href =\"/abs/2509.12247\" title=\"Abstract\" id=\"2509.12247\">\n",
      "        arXiv:2509.12247\n",
      "      </a>\n",
      "          (cross-list from cs.CV)\n",
      "\n",
      "        [<a href=\"/pdf/2509.12247\" title=\"Download PDF\" id=\"pdf-2509.12247\" aria-labelledby=\"pdf-2509.12247\">pdf</a>, <a href=\"/format/2509.12247\" title=\"Other formats\" id=\"oth-2509.12247\" aria-labelledby=\"oth-2509.12247\">other</a>]\n",
      "    </dt>\n",
      "    <dd>\n",
      "      <div class='meta'>\n",
      "        <div class='list-title mathjax'><span class='descriptor'>Title:</span>\n",
      "          Modular, On-Site Solutions with Lightweight Anomaly Detection for Sustainable Nutrient Management in Agriculture\n",
      "        </div>\n",
      "        <div class='list-authors'><a href=\"https://arxiv.org/search/cs?searchtype=author&amp;query=Cohen,+A+R\">Abigail R. Cohen</a>, <a href=\"https://arxiv.org/search/cs?searchtype=author&amp;query=Sun,+Y\">Yuming Sun</a>, <a href=\"https://arxiv.org/search/cs?searchtype=author&amp;query=Qin,+Z\">Zhihao Qin</a>, <a href=\"https://arxiv.org/search/cs?searchtype=author&amp;query=Muriki,+H+S\">Harsh S. Muriki</a>, <a href=\"https://arxiv.org/search/cs?searchtype=author&amp;query=Xiao,+Z\">Zihao Xiao</a>, <a href=\"https://arxiv.org/search/cs?searchtype=author&amp;query=Lee,+Y\">Yeonju Lee</a>, <a href=\"https://arxiv.org/search/cs?searchtype=author&amp;query=Housley,+M\">Matthew Housley</a>, <a href=\"https://arxiv.org/search/cs?searchtype=author&amp;query=Sharkey,+A+F\">Andrew F. Sharkey</a>, <a href=\"https://arxiv.org/search/cs?searchtype=author&amp;query=Ferrarezi,+R+S\">Rhuanito S. Ferrarezi</a>, <a href=\"https://arxiv.org/search/cs?searchtype=author&amp;query=Li,+J\">Jing Li</a>, <a href=\"https://arxiv.org/search/cs?searchtype=author&amp;query=Gan,+L\">Lu Gan</a>, <a href=\"https://arxiv.org/search/cs?searchtype=author&amp;query=Chen,+Y\">Yongsheng Chen</a></div>\n",
      "\n",
      "\n",
      "\n",
      "        <div class='list-subjects'><span class='descriptor'>Subjects:</span>\n",
      "          <span class=\"primary-subject\">Computer Vision and Pattern Recognition (cs.CV)</span>; Artificial Intelligence (cs.AI)\n",
      "        </div>\n",
      "\n",
      "      </div>\n",
      "    </dd>\n",
      "    <dt>\n",
      "      <a name='item814'>[814]</a>\n",
      "      <a href =\"/abs/2509.12244\" title=\"Abstract\" id=\"2509.12244\">\n",
      "        arXiv:2509.12244\n",
      "      </a>\n",
      "          (cross-list from cs.CV)\n",
      "\n",
      "        [<a href=\"/pdf/2509.12244\" title=\"Download PDF\" id=\"pdf-2509.12244\" aria-labelledby=\"pdf-2509.12244\">pdf</a>, <a href=\"/format/2509.12244\" title=\"Other formats\" id=\"oth-2509.12244\" aria-labelledby=\"oth-2509.12244\">other</a>]\n",
      "    </dt>\n",
      "    <dd>\n",
      "      <div class='meta'>\n",
      "        <div class='list-title mathjax'><span class='descriptor'>Title:</span>\n",
      "          RU-Net for Automatic Characterization of TRISO Fuel Cross Sections\n",
      "        </div>\n",
      "        <div class='list-authors'><a href=\"https://arxiv.org/search/cs?searchtype=author&amp;query=Cai,+L\">Lu Cai</a>, <a href=\"https://arxiv.org/search/cs?searchtype=author&amp;query=Xu,+F\">Fei Xu</a>, <a href=\"https://arxiv.org/search/cs?searchtype=author&amp;query=Xian,+M\">Min Xian</a>, <a href=\"https://arxiv.org/search/cs?searchtype=author&amp;query=Tang,+Y\">Yalei Tang</a>, <a href=\"https://arxiv.org/search/cs?searchtype=author&amp;query=Sun,+S\">Shoukun Sun</a>, <a href=\"https://arxiv.org/search/cs?searchtype=author&amp;query=Stempien,+J\">John Stempien</a></div>\n",
      "\n",
      "\n",
      "\n",
      "        <div class='list-subjects'><span class='descriptor'>Subjects:</span>\n",
      "          <span class=\"primary-subject\">Computer Vision and Pattern Recognition (cs.CV)</span>; Artificial Intelligence (cs.AI)\n",
      "        </div>\n",
      "\n",
      "      </div>\n",
      "    </dd>\n",
      "    <dt>\n",
      "      <a name='item815'>[815]</a>\n",
      "      <a href =\"/abs/2509.12235\" title=\"Abstract\" id=\"2509.12235\">\n",
      "        arXiv:2509.12235\n",
      "      </a>\n",
      "          (cross-list from cs.LG)\n",
      "\n",
      "        [<a href=\"/pdf/2509.12235\" title=\"Download PDF\" id=\"pdf-2509.12235\" aria-labelledby=\"pdf-2509.12235\">pdf</a>, <a href=\"https://arxiv.org/html/2509.12235v1\" title=\"View HTML\" id=\"html-2509.12235\" aria-labelledby=\"html-2509.12235\" rel=\"noopener noreferrer\" target=\"_blank\">html</a>, <a href=\"/format/2509.12235\" title=\"Other formats\" id=\"oth-2509.12235\" aria-labelledby=\"oth-2509.12235\">other</a>]\n",
      "    </dt>\n",
      "    <dd>\n",
      "      <div class='meta'>\n",
      "        <div class='list-title mathjax'><span class='descriptor'>Title:</span>\n",
      "          RL Fine-Tuning Heals OOD Forgetting in SFT\n",
      "        </div>\n",
      "        <div class='list-authors'><a href=\"https://arxiv.org/search/cs?searchtype=author&amp;query=Jin,+H\">Hangzhan Jin</a>, <a href=\"https://arxiv.org/search/cs?searchtype=author&amp;query=Luan,+S\">Sitao Luan</a>, <a href=\"https://arxiv.org/search/cs?searchtype=author&amp;query=Lyu,+S\">Sicheng Lyu</a>, <a href=\"https://arxiv.org/search/cs?searchtype=author&amp;query=Rabusseau,+G\">Guillaume Rabusseau</a>, <a href=\"https://arxiv.org/search/cs?searchtype=author&amp;query=Rabbany,+R\">Reihaneh Rabbany</a>, <a href=\"https://arxiv.org/search/cs?searchtype=author&amp;query=Precup,+D\">Doina Precup</a>, <a href=\"https://arxiv.org/search/cs?searchtype=author&amp;query=Hamdaqa,+M\">Mohammad Hamdaqa</a></div>\n",
      "\n",
      "        <div class='list-comments mathjax'><span class='descriptor'>Comments:</span>\n",
      "          10 pages, 15 figures\n",
      "        </div>\n",
      "\n",
      "\n",
      "        <div class='list-subjects'><span class='descriptor'>Subjects:</span>\n",
      "          <span class=\"primary-subject\">Machine Learning (cs.LG)</span>; Artificial Intelligence (cs.AI)\n",
      "        </div>\n",
      "\n",
      "      </div>\n",
      "    </dd>\n",
      "    <dt>\n",
      "      <a name='item816'>[816]</a>\n",
      "      <a href =\"/abs/2509.12234\" title=\"Abstract\" id=\"2509.12234\">\n",
      "        arXiv:2509.12234\n",
      "      </a>\n",
      "          (cross-list from cs.LG)\n",
      "\n",
      "        [<a href=\"/pdf/2509.12234\" title=\"Download PDF\" id=\"pdf-2509.12234\" aria-labelledby=\"pdf-2509.12234\">pdf</a>, <a href=\"https://arxiv.org/html/2509.12234v1\" title=\"View HTML\" id=\"html-2509.12234\" aria-labelledby=\"html-2509.12234\" rel=\"noopener noreferrer\" target=\"_blank\">html</a>, <a href=\"/format/2509.12234\" title=\"Other formats\" id=\"oth-2509.12234\" aria-labelledby=\"oth-2509.12234\">other</a>]\n",
      "    </dt>\n",
      "    <dd>\n",
      "      <div class='meta'>\n",
      "        <div class='list-title mathjax'><span class='descriptor'>Title:</span>\n",
      "          Flexible Multimodal Neuroimaging Fusion for Alzheimer&#39;s Disease Progression Prediction\n",
      "        </div>\n",
      "        <div class='list-authors'><a href=\"https://arxiv.org/search/cs?searchtype=author&amp;query=Burns,+B\">Benjamin Burns</a>, <a href=\"https://arxiv.org/search/cs?searchtype=author&amp;query=Xue,+Y\">Yuan Xue</a>, <a href=\"https://arxiv.org/search/cs?searchtype=author&amp;query=Scharre,+D+W\">Douglas W. Scharre</a>, <a href=\"https://arxiv.org/search/cs?searchtype=author&amp;query=Ning,+X\">Xia Ning</a></div>\n",
      "\n",
      "        <div class='list-comments mathjax'><span class='descriptor'>Comments:</span>\n",
      "          Accepted at Applications of Medical AI 2025\n",
      "        </div>\n",
      "\n",
      "\n",
      "        <div class='list-subjects'><span class='descriptor'>Subjects:</span>\n",
      "          <span class=\"primary-subject\">Machine Learning (cs.LG)</span>; Artificial Intelligence (cs.AI); Computer Vision and Pattern Recognition (cs.CV); Image and Video Processing (eess.IV)\n",
      "        </div>\n",
      "\n",
      "      </div>\n",
      "    </dd>\n",
      "    <dt>\n",
      "      <a name='item817'>[817]</a>\n",
      "      <a href =\"/abs/2509.12233\" title=\"Abstract\" id=\"2509.12233\">\n",
      "        arXiv:2509.12233\n",
      "      </a>\n",
      "          (cross-list from cs.CR)\n",
      "\n",
      "        [<a href=\"/pdf/2509.12233\" title=\"Download PDF\" id=\"pdf-2509.12233\" aria-labelledby=\"pdf-2509.12233\">pdf</a>, <a href=\"/format/2509.12233\" title=\"Other formats\" id=\"oth-2509.12233\" aria-labelledby=\"oth-2509.12233\">other</a>]\n",
      "    </dt>\n",
      "    <dd>\n",
      "      <div class='meta'>\n",
      "        <div class='list-title mathjax'><span class='descriptor'>Title:</span>\n",
      "          Towards Trustworthy Agentic IoEV: AI Agents for Explainable Cyberthreat Mitigation and State Analytics\n",
      "        </div>\n",
      "        <div class='list-authors'><a href=\"https://arxiv.org/search/cs?searchtype=author&amp;query=Dif,+M+M\">Meryem Malak Dif</a>, <a href=\"https://arxiv.org/search/cs?searchtype=author&amp;query=Bouchiha,+M+A\">Mouhamed Amine Bouchiha</a>, <a href=\"https://arxiv.org/search/cs?searchtype=author&amp;query=Korba,+A+A\">Abdelaziz Amara Korba</a>, <a href=\"https://arxiv.org/search/cs?searchtype=author&amp;query=Ghamri-Doudane,+Y\">Yacine Ghamri-Doudane</a></div>\n",
      "\n",
      "        <div class='list-comments mathjax'><span class='descriptor'>Comments:</span>\n",
      "          10 pages, 7 figures, Accepted at LCN&#39;25\n",
      "        </div>\n",
      "\n",
      "\n",
      "        <div class='list-subjects'><span class='descriptor'>Subjects:</span>\n",
      "          <span class=\"primary-subject\">Cryptography and Security (cs.CR)</span>; Artificial Intelligence (cs.AI); Emerging Technologies (cs.ET); Machine Learning (cs.LG); Networking and Internet Architecture (cs.NI)\n",
      "        </div>\n",
      "\n",
      "      </div>\n",
      "    </dd>\n",
      "    <dt>\n",
      "      <a name='item818'>[818]</a>\n",
      "      <a href =\"/abs/2509.12229\" title=\"Abstract\" id=\"2509.12229\">\n",
      "        arXiv:2509.12229\n",
      "      </a>\n",
      "          (cross-list from cs.LG)\n",
      "\n",
      "        [<a href=\"/pdf/2509.12229\" title=\"Download PDF\" id=\"pdf-2509.12229\" aria-labelledby=\"pdf-2509.12229\">pdf</a>, <a href=\"https://arxiv.org/html/2509.12229v1\" title=\"View HTML\" id=\"html-2509.12229\" aria-labelledby=\"html-2509.12229\" rel=\"noopener noreferrer\" target=\"_blank\">html</a>, <a href=\"/format/2509.12229\" title=\"Other formats\" id=\"oth-2509.12229\" aria-labelledby=\"oth-2509.12229\">other</a>]\n",
      "    </dt>\n",
      "    <dd>\n",
      "      <div class='meta'>\n",
      "        <div class='list-title mathjax'><span class='descriptor'>Title:</span>\n",
      "          Profiling LoRA/QLoRA Fine-Tuning Efficiency on Consumer GPUs: An RTX 4060 Case Study\n",
      "        </div>\n",
      "        <div class='list-authors'><a href=\"https://arxiv.org/search/cs?searchtype=author&amp;query=Avinash,+M\">MSR Avinash</a></div>\n",
      "\n",
      "        <div class='list-comments mathjax'><span class='descriptor'>Comments:</span>\n",
      "          8 pages, 3 figures, 2 tables. Primary category: cs.LG (Machine Learning); secondary: cs.AI (Artificial Intelligence). LaTeX source with figures included\n",
      "        </div>\n",
      "\n",
      "\n",
      "        <div class='list-subjects'><span class='descriptor'>Subjects:</span>\n",
      "          <span class=\"primary-subject\">Machine Learning (cs.LG)</span>; Artificial Intelligence (cs.AI); Performance (cs.PF)\n",
      "        </div>\n",
      "\n",
      "      </div>\n",
      "    </dd>\n",
      "    <dt>\n",
      "      <a name='item819'>[819]</a>\n",
      "      <a href =\"/abs/2509.12227\" title=\"Abstract\" id=\"2509.12227\">\n",
      "        arXiv:2509.12227\n",
      "      </a>\n",
      "          (cross-list from cs.LG)\n",
      "\n",
      "        [<a href=\"/pdf/2509.12227\" title=\"Download PDF\" id=\"pdf-2509.12227\" aria-labelledby=\"pdf-2509.12227\">pdf</a>, <a href=\"https://arxiv.org/html/2509.12227v1\" title=\"View HTML\" id=\"html-2509.12227\" aria-labelledby=\"html-2509.12227\" rel=\"noopener noreferrer\" target=\"_blank\">html</a>, <a href=\"/format/2509.12227\" title=\"Other formats\" id=\"oth-2509.12227\" aria-labelledby=\"oth-2509.12227\">other</a>]\n",
      "    </dt>\n",
      "    <dd>\n",
      "      <div class='meta'>\n",
      "        <div class='list-title mathjax'><span class='descriptor'>Title:</span>\n",
      "          Learning to Route: Per-Sample Adaptive Routing for Multimodal Multitask Prediction\n",
      "        </div>\n",
      "        <div class='list-authors'><a href=\"https://arxiv.org/search/cs?searchtype=author&amp;query=Ajirak,+M\">Marzieh Ajirak</a>, <a href=\"https://arxiv.org/search/cs?searchtype=author&amp;query=Bein,+O\">Oded Bein</a>, <a href=\"https://arxiv.org/search/cs?searchtype=author&amp;query=Bowen,+E+R\">Ellen Rose Bowen</a>, <a href=\"https://arxiv.org/search/cs?searchtype=author&amp;query=Kanellopoulos,+D\">Dora Kanellopoulos</a>, <a href=\"https://arxiv.org/search/cs?searchtype=author&amp;query=Falk,+A\">Avital Falk</a>, <a href=\"https://arxiv.org/search/cs?searchtype=author&amp;query=Gunning,+F+M\">Faith M. Gunning</a>, <a href=\"https://arxiv.org/search/cs?searchtype=author&amp;query=Solomonov,+N\">Nili Solomonov</a>, <a href=\"https://arxiv.org/search/cs?searchtype=author&amp;query=Grosenick,+L\">Logan Grosenick</a></div>\n",
      "\n",
      "\n",
      "\n",
      "        <div class='list-subjects'><span class='descriptor'>Subjects:</span>\n",
      "          <span class=\"primary-subject\">Machine Learning (cs.LG)</span>; Artificial Intelligence (cs.AI)\n",
      "        </div>\n",
      "\n",
      "      </div>\n",
      "    </dd>\n",
      "    <dt>\n",
      "      <a name='item820'>[820]</a>\n",
      "      <a href =\"/abs/2509.12223\" title=\"Abstract\" id=\"2509.12223\">\n",
      "        arXiv:2509.12223\n",
      "      </a>\n",
      "          (cross-list from cs.OS)\n",
      "\n",
      "        [<a href=\"/pdf/2509.12223\" title=\"Download PDF\" id=\"pdf-2509.12223\" aria-labelledby=\"pdf-2509.12223\">pdf</a>, <a href=\"https://arxiv.org/html/2509.12223v1\" title=\"View HTML\" id=\"html-2509.12223\" aria-labelledby=\"html-2509.12223\" rel=\"noopener noreferrer\" target=\"_blank\">html</a>, <a href=\"/format/2509.12223\" title=\"Other formats\" id=\"oth-2509.12223\" aria-labelledby=\"oth-2509.12223\">other</a>]\n",
      "    </dt>\n",
      "    <dd>\n",
      "      <div class='meta'>\n",
      "        <div class='list-title mathjax'><span class='descriptor'>Title:</span>\n",
      "          Ratio1 -- AI meta-OS\n",
      "        </div>\n",
      "        <div class='list-authors'><a href=\"https://arxiv.org/search/cs?searchtype=author&amp;query=Damian,+A\">Andrei Damian</a>, <a href=\"https://arxiv.org/search/cs?searchtype=author&amp;query=Butusina,+P\">Petrica Butusina</a>, <a href=\"https://arxiv.org/search/cs?searchtype=author&amp;query=De+Franceschi,+A\">Alessandro De Franceschi</a>, <a href=\"https://arxiv.org/search/cs?searchtype=author&amp;query=Toderian,+V\">Vitalii Toderian</a>, <a href=\"https://arxiv.org/search/cs?searchtype=author&amp;query=Grigoras,+M\">Marius Grigoras</a>, <a href=\"https://arxiv.org/search/cs?searchtype=author&amp;query=Bleotiu,+C\">Cristian Bleotiu</a></div>\n",
      "\n",
      "\n",
      "\n",
      "        <div class='list-subjects'><span class='descriptor'>Subjects:</span>\n",
      "          <span class=\"primary-subject\">Operating Systems (cs.OS)</span>; Artificial Intelligence (cs.AI); Cryptography and Security (cs.CR); Distributed, Parallel, and Cluster Computing (cs.DC)\n",
      "        </div>\n",
      "\n",
      "      </div>\n",
      "    </dd>\n",
      "    <dt>\n",
      "      <a name='item821'>[821]</a>\n",
      "      <a href =\"/abs/2509.12222\" title=\"Abstract\" id=\"2509.12222\">\n",
      "        arXiv:2509.12222\n",
      "      </a>\n",
      "          (cross-list from cs.LG)\n",
      "\n",
      "        [<a href=\"/pdf/2509.12222\" title=\"Download PDF\" id=\"pdf-2509.12222\" aria-labelledby=\"pdf-2509.12222\">pdf</a>, <a href=\"https://arxiv.org/html/2509.12222v1\" title=\"View HTML\" id=\"html-2509.12222\" aria-labelledby=\"html-2509.12222\" rel=\"noopener noreferrer\" target=\"_blank\">html</a>, <a href=\"/format/2509.12222\" title=\"Other formats\" id=\"oth-2509.12222\" aria-labelledby=\"oth-2509.12222\">other</a>]\n",
      "    </dt>\n",
      "    <dd>\n",
      "      <div class='meta'>\n",
      "        <div class='list-title mathjax'><span class='descriptor'>Title:</span>\n",
      "          Accelerating Privacy-Preserving Federated Learning in Large-Scale LEO Satellite Systems\n",
      "        </div>\n",
      "        <div class='list-authors'><a href=\"https://arxiv.org/search/cs?searchtype=author&amp;query=Guo,+B\">Binquan Guo</a>, <a href=\"https://arxiv.org/search/cs?searchtype=author&amp;query=Cao,+J\">Junteng Cao</a>, <a href=\"https://arxiv.org/search/cs?searchtype=author&amp;query=Siew,+M\">Marie Siew</a>, <a href=\"https://arxiv.org/search/cs?searchtype=author&amp;query=Chen,+B\">Binbin Chen</a>, <a href=\"https://arxiv.org/search/cs?searchtype=author&amp;query=Quek,+T+Q+S\">Tony Q. S. Quek</a>, <a href=\"https://arxiv.org/search/cs?searchtype=author&amp;query=Han,+Z\">Zhu Han</a></div>\n",
      "\n",
      "        <div class='list-comments mathjax'><span class='descriptor'>Comments:</span>\n",
      "          Submitted to IEEE conference for publication\n",
      "        </div>\n",
      "\n",
      "\n",
      "        <div class='list-subjects'><span class='descriptor'>Subjects:</span>\n",
      "          <span class=\"primary-subject\">Machine Learning (cs.LG)</span>; Artificial Intelligence (cs.AI); Distributed, Parallel, and Cluster Computing (cs.DC)\n",
      "        </div>\n",
      "\n",
      "      </div>\n",
      "    </dd>\n",
      "    <dt>\n",
      "      <a name='item822'>[822]</a>\n",
      "      <a href =\"/abs/2509.12221\" title=\"Abstract\" id=\"2509.12221\">\n",
      "        arXiv:2509.12221\n",
      "      </a>\n",
      "          (cross-list from cs.LG)\n",
      "\n",
      "        [<a href=\"/pdf/2509.12221\" title=\"Download PDF\" id=\"pdf-2509.12221\" aria-labelledby=\"pdf-2509.12221\">pdf</a>, <a href=\"https://arxiv.org/html/2509.12221v1\" title=\"View HTML\" id=\"html-2509.12221\" aria-labelledby=\"html-2509.12221\" rel=\"noopener noreferrer\" target=\"_blank\">html</a>, <a href=\"/format/2509.12221\" title=\"Other formats\" id=\"oth-2509.12221\" aria-labelledby=\"oth-2509.12221\">other</a>]\n",
      "    </dt>\n",
      "    <dd>\n",
      "      <div class='meta'>\n",
      "        <div class='list-title mathjax'><span class='descriptor'>Title:</span>\n",
      "          MEUV: Achieving Fine-Grained Capability Activation in Large Language Models via Mutually Exclusive Unlock Vectors\n",
      "        </div>\n",
      "        <div class='list-authors'><a href=\"https://arxiv.org/search/cs?searchtype=author&amp;query=Tong,+X\">Xin Tong</a>, <a href=\"https://arxiv.org/search/cs?searchtype=author&amp;query=Lin,+Z\">Zhi Lin</a>, <a href=\"https://arxiv.org/search/cs?searchtype=author&amp;query=Wang,+J\">Jingya Wang</a>, <a href=\"https://arxiv.org/search/cs?searchtype=author&amp;query=Han,+M\">Meng Han</a>, <a href=\"https://arxiv.org/search/cs?searchtype=author&amp;query=Jin,+B\">Bo Jin</a></div>\n",
      "\n",
      "        <div class='list-comments mathjax'><span class='descriptor'>Comments:</span>\n",
      "          Under Review\n",
      "        </div>\n",
      "\n",
      "\n",
      "        <div class='list-subjects'><span class='descriptor'>Subjects:</span>\n",
      "          <span class=\"primary-subject\">Machine Learning (cs.LG)</span>; Artificial Intelligence (cs.AI); Computation and Language (cs.CL); Cryptography and Security (cs.CR)\n",
      "        </div>\n",
      "\n",
      "      </div>\n",
      "    </dd>\n",
      "    <dt>\n",
      "      <a name='item823'>[823]</a>\n",
      "      <a href =\"/abs/2509.12213\" title=\"Abstract\" id=\"2509.12213\">\n",
      "        arXiv:2509.12213\n",
      "      </a>\n",
      "          (cross-list from cs.LG)\n",
      "\n",
      "        [<a href=\"/pdf/2509.12213\" title=\"Download PDF\" id=\"pdf-2509.12213\" aria-labelledby=\"pdf-2509.12213\">pdf</a>, <a href=\"https://arxiv.org/html/2509.12213v1\" title=\"View HTML\" id=\"html-2509.12213\" aria-labelledby=\"html-2509.12213\" rel=\"noopener noreferrer\" target=\"_blank\">html</a>, <a href=\"/format/2509.12213\" title=\"Other formats\" id=\"oth-2509.12213\" aria-labelledby=\"oth-2509.12213\">other</a>]\n",
      "    </dt>\n",
      "    <dd>\n",
      "      <div class='meta'>\n",
      "        <div class='list-title mathjax'><span class='descriptor'>Title:</span>\n",
      "          Scaling Up Data Parallelism in Decentralized Deep Learning\n",
      "        </div>\n",
      "        <div class='list-authors'><a href=\"https://arxiv.org/search/cs?searchtype=author&amp;query=Xie,+B\">Bing Xie</a>, <a href=\"https://arxiv.org/search/cs?searchtype=author&amp;query=Yin,+J\">Junqi Yin</a>, <a href=\"https://arxiv.org/search/cs?searchtype=author&amp;query=Zhou,+Z\">Zhenyu Zhou</a>, <a href=\"https://arxiv.org/search/cs?searchtype=author&amp;query=Oral,+S\">Sarp Oral</a>, <a href=\"https://arxiv.org/search/cs?searchtype=author&amp;query=Wang,+F\">Feiyi Wang</a></div>\n",
      "\n",
      "\n",
      "\n",
      "        <div class='list-subjects'><span class='descriptor'>Subjects:</span>\n",
      "          <span class=\"primary-subject\">Machine Learning (cs.LG)</span>; Artificial Intelligence (cs.AI)\n",
      "        </div>\n",
      "\n",
      "      </div>\n",
      "    </dd>\n",
      "    <dt>\n",
      "      <a name='item824'>[824]</a>\n",
      "      <a href =\"/abs/2509.12212\" title=\"Abstract\" id=\"2509.12212\">\n",
      "        arXiv:2509.12212\n",
      "      </a>\n",
      "          (cross-list from cs.LG)\n",
      "\n",
      "        [<a href=\"/pdf/2509.12212\" title=\"Download PDF\" id=\"pdf-2509.12212\" aria-labelledby=\"pdf-2509.12212\">pdf</a>, <a href=\"https://arxiv.org/html/2509.12212v1\" title=\"View HTML\" id=\"html-2509.12212\" aria-labelledby=\"html-2509.12212\" rel=\"noopener noreferrer\" target=\"_blank\">html</a>, <a href=\"/format/2509.12212\" title=\"Other formats\" id=\"oth-2509.12212\" aria-labelledby=\"oth-2509.12212\">other</a>]\n",
      "    </dt>\n",
      "    <dd>\n",
      "      <div class='meta'>\n",
      "        <div class='list-title mathjax'><span class='descriptor'>Title:</span>\n",
      "          PowerGrow: Feasible Co-Growth of Structures and Dynamics for Power Grid Synthesis\n",
      "        </div>\n",
      "        <div class='list-authors'><a href=\"https://arxiv.org/search/cs?searchtype=author&amp;query=He,+X\">Xinyu He</a>, <a href=\"https://arxiv.org/search/cs?searchtype=author&amp;query=Xiao,+C\">Chenhan Xiao</a>, <a href=\"https://arxiv.org/search/cs?searchtype=author&amp;query=Li,+H\">Haoran Li</a>, <a href=\"https://arxiv.org/search/cs?searchtype=author&amp;query=Qiu,+R\">Ruizhong Qiu</a>, <a href=\"https://arxiv.org/search/cs?searchtype=author&amp;query=Xu,+Z\">Zhe Xu</a>, <a href=\"https://arxiv.org/search/cs?searchtype=author&amp;query=Weng,+Y\">Yang Weng</a>, <a href=\"https://arxiv.org/search/cs?searchtype=author&amp;query=He,+J\">Jingrui He</a>, <a href=\"https://arxiv.org/search/cs?searchtype=author&amp;query=Tong,+H\">Hanghang Tong</a></div>\n",
      "\n",
      "\n",
      "\n",
      "        <div class='list-subjects'><span class='descriptor'>Subjects:</span>\n",
      "          <span class=\"primary-subject\">Machine Learning (cs.LG)</span>; Artificial Intelligence (cs.AI); Systems and Control (eess.SY)\n",
      "        </div>\n",
      "\n",
      "      </div>\n",
      "    </dd>\n",
      "    <dt>\n",
      "      <a name='item825'>[825]</a>\n",
      "      <a href =\"/abs/2509.12211\" title=\"Abstract\" id=\"2509.12211\">\n",
      "        arXiv:2509.12211\n",
      "      </a>\n",
      "          (cross-list from cs.DC)\n",
      "\n",
      "        [<a href=\"/pdf/2509.12211\" title=\"Download PDF\" id=\"pdf-2509.12211\" aria-labelledby=\"pdf-2509.12211\">pdf</a>, <a href=\"https://arxiv.org/html/2509.12211v1\" title=\"View HTML\" id=\"html-2509.12211\" aria-labelledby=\"html-2509.12211\" rel=\"noopener noreferrer\" target=\"_blank\">html</a>, <a href=\"/format/2509.12211\" title=\"Other formats\" id=\"oth-2509.12211\" aria-labelledby=\"oth-2509.12211\">other</a>]\n",
      "    </dt>\n",
      "    <dd>\n",
      "      <div class='meta'>\n",
      "        <div class='list-title mathjax'><span class='descriptor'>Title:</span>\n",
      "          TinyServe: Query-Aware Cache Selection for Efficient LLM Serving\n",
      "        </div>\n",
      "        <div class='list-authors'><a href=\"https://arxiv.org/search/cs?searchtype=author&amp;query=Liu,+D\">Dong Liu</a>, <a href=\"https://arxiv.org/search/cs?searchtype=author&amp;query=Yu,+Y\">Yanxuan Yu</a></div>\n",
      "\n",
      "        <div class='list-comments mathjax'><span class='descriptor'>Comments:</span>\n",
      "          Accepted to ACM MM as Oral Paper, also accepted to ICML MOSS workshop, publicly available as <a href=\"https://openreview.net/forum?id=sOdtl4jLci\" rel=\"external noopener nofollow\" class=\"link-external link-https\">this https URL</a>\n",
      "        </div>\n",
      "\n",
      "\n",
      "        <div class='list-subjects'><span class='descriptor'>Subjects:</span>\n",
      "          <span class=\"primary-subject\">Distributed, Parallel, and Cluster Computing (cs.DC)</span>; Artificial Intelligence (cs.AI)\n",
      "        </div>\n",
      "\n",
      "      </div>\n",
      "    </dd>\n",
      "    <dt>\n",
      "      <a name='item826'>[826]</a>\n",
      "      <a href =\"/abs/2508.12176\" title=\"Abstract\" id=\"2508.12176\">\n",
      "        arXiv:2508.12176\n",
      "      </a>\n",
      "          (cross-list from cs.CV)\n",
      "\n",
      "        [<a href=\"/pdf/2508.12176\" title=\"Download PDF\" id=\"pdf-2508.12176\" aria-labelledby=\"pdf-2508.12176\">pdf</a>, <a href=\"/format/2508.12176\" title=\"Other formats\" id=\"oth-2508.12176\" aria-labelledby=\"oth-2508.12176\">other</a>]\n",
      "    </dt>\n",
      "    <dd>\n",
      "      <div class='meta'>\n",
      "        <div class='list-title mathjax'><span class='descriptor'>Title:</span>\n",
      "          Scalable RF Simulation in Generative 4D Worlds\n",
      "        </div>\n",
      "        <div class='list-authors'><a href=\"https://arxiv.org/search/cs?searchtype=author&amp;query=Zheng,+Z\">Zhiwei Zheng</a>, <a href=\"https://arxiv.org/search/cs?searchtype=author&amp;query=Hu,+D\">Dongyin Hu</a>, <a href=\"https://arxiv.org/search/cs?searchtype=author&amp;query=Zhao,+M\">Mingmin Zhao</a></div>\n",
      "\n",
      "\n",
      "\n",
      "        <div class='list-subjects'><span class='descriptor'>Subjects:</span>\n",
      "          <span class=\"primary-subject\">Computer Vision and Pattern Recognition (cs.CV)</span>; Artificial Intelligence (cs.AI); Signal Processing (eess.SP)\n",
      "        </div>\n",
      "\n",
      "      </div>\n",
      "    </dd>\n",
      "</dl>\n",
      "\n",
      "\n",
      "      <div class='paging'>Total of 826 entries :      <a href=/list/cs.AI/recent?skip=0&amp;show=50>1-50</a>\n",
      "      <span>...</span>\n",
      "      <a href=/list/cs.AI/recent?skip=650&amp;show=50>651-700</a>\n",
      "      <a href=/list/cs.AI/recent?skip=700&amp;show=50>701-750</a>\n",
      "      <a href=/list/cs.AI/recent?skip=750&amp;show=50>751-800</a>\n",
      "      <span>801-826</span>\n",
      "\n",
      "    </div>\n",
      "    <div class='morefewer'>Showing up to 50 entries per page:\n",
      "          <a href=/list/cs.AI/recent?skip=800&amp;show=25 rel=\"nofollow\">\n",
      "      fewer</a>\n",
      " |\n",
      "          <a href=/list/cs.AI/recent?skip=800&amp;show=100 rel=\"nofollow\">\n",
      "      more</a>\n",
      " |\n",
      "          <a href=/list/cs.AI/recent?skip=800&amp;show=2000 rel=\"nofollow\">\n",
      "      all</a>\n",
      "\n",
      "    </div>\n",
      "\n",
      "</div>\n",
      "</div>      </div>\n",
      "    </main>\n",
      "\n",
      "    <footer style=\"clear: both;\">\n",
      "      <div class=\"columns is-desktop\" role=\"navigation\" aria-label=\"Secondary\" style=\"margin: -0.75em -0.75em 0.75em -0.75em\">\n",
      "        <!-- Macro-Column 1 -->\n",
      "        <div class=\"column\" style=\"padding: 0;\">\n",
      "          <div class=\"columns\">\n",
      "            <div class=\"column\">\n",
      "              <ul style=\"list-style: none; line-height: 2;\">\n",
      "                <li><a href=\"https://info.arxiv.org/about\">About</a></li>\n",
      "                <li><a href=\"https://info.arxiv.org/help\">Help</a></li>\n",
      "              </ul>\n",
      "            </div>\n",
      "            <div class=\"column\">\n",
      "              <ul style=\"list-style: none; line-height: 2;\">\n",
      "                <li>\n",
      "                  <svg xmlns=\"http://www.w3.org/2000/svg\" viewBox=\"0 0 512 512\" class=\"icon filter-black\" role=\"presentation\"><title>contact arXiv</title><desc>Click here to contact arXiv</desc><path d=\"M502.3 190.8c3.9-3.1 9.7-.2 9.7 4.7V400c0 26.5-21.5 48-48 48H48c-26.5 0-48-21.5-48-48V195.6c0-5 5.7-7.8 9.7-4.7 22.4 17.4 52.1 39.5 154.1 113.6 21.1 15.4 56.7 47.8 92.2 47.6 35.7.3 72-32.8 92.3-47.6 102-74.1 131.6-96.3 154-113.7zM256 320c23.2.4 56.6-29.2 73.4-41.4 132.7-96.3 142.8-104.7 173.4-128.7 5.8-4.5 9.2-11.5 9.2-18.9v-19c0-26.5-21.5-48-48-48H48C21.5 64 0 85.5 0 112v19c0 7.4 3.4 14.3 9.2 18.9 30.6 23.9 40.7 32.4 173.4 128.7 16.8 12.2 50.2 41.8 73.4 41.4z\"/></svg>\n",
      "                  <a href=\"https://info.arxiv.org/help/contact.html\"> Contact</a>\n",
      "                </li>\n",
      "                <li>\n",
      "                  <svg xmlns=\"http://www.w3.org/2000/svg\" viewBox=\"0 0 512 512\" class=\"icon filter-black\" role=\"presentation\"><title>subscribe to arXiv mailings</title><desc>Click here to subscribe</desc><path d=\"M476 3.2L12.5 270.6c-18.1 10.4-15.8 35.6 2.2 43.2L121 358.4l287.3-253.2c5.5-4.9 13.3 2.6 8.6 8.3L176 407v80.5c0 23.6 28.5 32.9 42.5 15.8L282 426l124.6 52.2c14.2 6 30.4-2.9 33-18.2l72-432C515 7.8 493.3-6.8 476 3.2z\"/></svg>\n",
      "                  <a href=\"https://info.arxiv.org/help/subscribe\"> Subscribe</a>\n",
      "                </li>\n",
      "              </ul>\n",
      "            </div>\n",
      "          </div>\n",
      "        </div>\n",
      "        <!-- End Macro-Column 1 -->\n",
      "        <!-- Macro-Column 2 -->\n",
      "        <div class=\"column\" style=\"padding: 0;\">\n",
      "          <div class=\"columns\">\n",
      "            <div class=\"column\">\n",
      "              <ul style=\"list-style: none; line-height: 2;\">\n",
      "                <li><a href=\"https://info.arxiv.org/help/license/index.html\">Copyright</a></li>\n",
      "                <li><a href=\"https://info.arxiv.org/help/policies/privacy_policy.html\">Privacy Policy</a></li>\n",
      "              </ul>\n",
      "            </div>\n",
      "            <div class=\"column sorry-app-links\">\n",
      "              <ul style=\"list-style: none; line-height: 2;\">\n",
      "                <li><a href=\"https://info.arxiv.org/help/web_accessibility.html\">Web Accessibility Assistance</a></li>\n",
      "                <li>\n",
      "                  <p class=\"help\">\n",
      "                    <a class=\"a11y-main-link\" href=\"https://status.arxiv.org\" target=\"_blank\">arXiv Operational Status <svg xmlns=\"http://www.w3.org/2000/svg\" viewBox=\"0 0 256 512\" class=\"icon filter-dark_grey\" role=\"presentation\"><path d=\"M224.3 273l-136 136c-9.4 9.4-24.6 9.4-33.9 0l-22.6-22.6c-9.4-9.4-9.4-24.6 0-33.9l96.4-96.4-96.4-96.4c-9.4-9.4-9.4-24.6 0-33.9L54.3 103c9.4-9.4 24.6-9.4 33.9 0l136 136c9.5 9.4 9.5 24.6.1 34z\"/></svg></a><br>\n",
      "                    Get status notifications via\n",
      "                    <a class=\"is-link\" href=\"https://subscribe.sorryapp.com/24846f03/email/new\" target=\"_blank\"><svg xmlns=\"http://www.w3.org/2000/svg\" viewBox=\"0 0 512 512\" class=\"icon filter-black\" role=\"presentation\"><path d=\"M502.3 190.8c3.9-3.1 9.7-.2 9.7 4.7V400c0 26.5-21.5 48-48 48H48c-26.5 0-48-21.5-48-48V195.6c0-5 5.7-7.8 9.7-4.7 22.4 17.4 52.1 39.5 154.1 113.6 21.1 15.4 56.7 47.8 92.2 47.6 35.7.3 72-32.8 92.3-47.6 102-74.1 131.6-96.3 154-113.7zM256 320c23.2.4 56.6-29.2 73.4-41.4 132.7-96.3 142.8-104.7 173.4-128.7 5.8-4.5 9.2-11.5 9.2-18.9v-19c0-26.5-21.5-48-48-48H48C21.5 64 0 85.5 0 112v19c0 7.4 3.4 14.3 9.2 18.9 30.6 23.9 40.7 32.4 173.4 128.7 16.8 12.2 50.2 41.8 73.4 41.4z\"/></svg>email</a>\n",
      "                    or <a class=\"is-link\" href=\"https://subscribe.sorryapp.com/24846f03/slack/new\" target=\"_blank\"><svg xmlns=\"http://www.w3.org/2000/svg\" viewBox=\"0 0 448 512\" class=\"icon filter-black\" role=\"presentation\"><path d=\"M94.12 315.1c0 25.9-21.16 47.06-47.06 47.06S0 341 0 315.1c0-25.9 21.16-47.06 47.06-47.06h47.06v47.06zm23.72 0c0-25.9 21.16-47.06 47.06-47.06s47.06 21.16 47.06 47.06v117.84c0 25.9-21.16 47.06-47.06 47.06s-47.06-21.16-47.06-47.06V315.1zm47.06-188.98c-25.9 0-47.06-21.16-47.06-47.06S139 32 164.9 32s47.06 21.16 47.06 47.06v47.06H164.9zm0 23.72c25.9 0 47.06 21.16 47.06 47.06s-21.16 47.06-47.06 47.06H47.06C21.16 243.96 0 222.8 0 196.9s21.16-47.06 47.06-47.06H164.9zm188.98 47.06c0-25.9 21.16-47.06 47.06-47.06 25.9 0 47.06 21.16 47.06 47.06s-21.16 47.06-47.06 47.06h-47.06V196.9zm-23.72 0c0 25.9-21.16 47.06-47.06 47.06-25.9 0-47.06-21.16-47.06-47.06V79.06c0-25.9 21.16-47.06 47.06-47.06 25.9 0 47.06 21.16 47.06 47.06V196.9zM283.1 385.88c25.9 0 47.06 21.16 47.06 47.06 0 25.9-21.16 47.06-47.06 47.06-25.9 0-47.06-21.16-47.06-47.06v-47.06h47.06zm0-23.72c-25.9 0-47.06-21.16-47.06-47.06 0-25.9 21.16-47.06 47.06-47.06h117.84c25.9 0 47.06 21.16 47.06 47.06 0 25.9-21.16 47.06-47.06 47.06H283.1z\"/></svg>slack</a>\n",
      "                  </p>\n",
      "                </li>\n",
      "              </ul>\n",
      "            </div>\n",
      "          </div>\n",
      "        </div> <!-- end MetaColumn 2 -->\n",
      "        <!-- End Macro-Column 2 -->\n",
      "      </div>\n",
      "    </footer>\n",
      "  </div>\n",
      "\n",
      "  <script src=\"/static/base/1.0.1/js/member_acknowledgement.js\"></script>\n",
      "\n",
      "</body>\n",
      "\n",
      "</html>\n",
      "<Response [200]>\n"
     ]
    }
   ],
   "execution_count": 40
  },
  {
   "metadata": {
    "ExecuteTime": {
     "end_time": "2025-09-23T08:55:23.844838Z",
     "start_time": "2025-09-23T08:55:23.825706Z"
    }
   },
   "cell_type": "code",
   "source": [
    "soup = BeautifulSoup(response.text, 'html.parser')\n",
    "#  get article list only url is needed\n",
    "post_list = soup.select('#articles > dt')\n",
    "len(post_list)"
   ],
   "id": "759486972e16e9ce",
   "outputs": [
    {
     "data": {
      "text/plain": [
       "26"
      ]
     },
     "execution_count": 43,
     "metadata": {},
     "output_type": "execute_result"
    }
   ],
   "execution_count": 43
  },
  {
   "metadata": {
    "ExecuteTime": {
     "end_time": "2025-09-24T01:58:15.566502Z",
     "start_time": "2025-09-24T01:58:15.553654Z"
    }
   },
   "cell_type": "code",
   "source": "soup.select_one(\"div.paging\")",
   "id": "2e3ab60aa7274b44",
   "outputs": [
    {
     "data": {
      "text/plain": [
       "<div class=\"paging\">Total of 826 entries :      <a href=\"/list/cs.AI/recent?skip=0&amp;show=50\">1-50</a>\n",
       "<span>...</span>\n",
       "<a href=\"/list/cs.AI/recent?skip=650&amp;show=50\">651-700</a>\n",
       "<a href=\"/list/cs.AI/recent?skip=700&amp;show=50\">701-750</a>\n",
       "<a href=\"/list/cs.AI/recent?skip=750&amp;show=50\">751-800</a>\n",
       "<span>801-826</span>\n",
       "</div>"
      ]
     },
     "execution_count": 44,
     "metadata": {},
     "output_type": "execute_result"
    }
   ],
   "execution_count": 44
  },
  {
   "metadata": {
    "ExecuteTime": {
     "end_time": "2025-09-24T01:59:25.307067Z",
     "start_time": "2025-09-24T01:59:25.303879Z"
    }
   },
   "cell_type": "code",
   "source": [
    "import re\n",
    "page_info = soup.select_one(\"div.paging\").get_text().strip()\n",
    "match = re.search(r'Total of\\s+([\\d,]+)\\s+entries', page_info)\n",
    "if match:\n",
    "    total_entries = int(match.group(1).replace(',', ''))\n",
    "    print(total_entries)\n"
   ],
   "id": "4f7f240348ec1749",
   "outputs": [
    {
     "name": "stdout",
     "output_type": "stream",
     "text": [
      "826\n"
     ]
    }
   ],
   "execution_count": 46
  },
  {
   "metadata": {
    "ExecuteTime": {
     "end_time": "2025-09-24T02:00:16.105178Z",
     "start_time": "2025-09-24T02:00:16.088200Z"
    }
   },
   "cell_type": "code",
   "source": "int(\"8,123\")",
   "id": "898cddc8ed766ec5",
   "outputs": [
    {
     "ename": "ValueError",
     "evalue": "invalid literal for int() with base 10: '8,123'",
     "output_type": "error",
     "traceback": [
      "\u001B[31m---------------------------------------------------------------------------\u001B[39m",
      "\u001B[31mValueError\u001B[39m                                Traceback (most recent call last)",
      "\u001B[36mCell\u001B[39m\u001B[36m \u001B[39m\u001B[32mIn[47]\u001B[39m\u001B[32m, line 1\u001B[39m\n\u001B[32m----> \u001B[39m\u001B[32m1\u001B[39m \u001B[38;5;28;43mint\u001B[39;49m\u001B[43m(\u001B[49m\u001B[33;43m\"\u001B[39;49m\u001B[33;43m8,123\u001B[39;49m\u001B[33;43m\"\u001B[39;49m\u001B[43m)\u001B[49m\n",
      "\u001B[31mValueError\u001B[39m: invalid literal for int() with base 10: '8,123'"
     ]
    }
   ],
   "execution_count": 47
  },
  {
   "metadata": {
    "ExecuteTime": {
     "end_time": "2025-09-29T05:26:36.368551Z",
     "start_time": "2025-09-29T05:26:35.693964Z"
    }
   },
   "cell_type": "code",
   "source": [
    "import requests\n",
    "\n",
    "\n",
    "headers = {\n",
    "    \"accept\": \"text/html,application/xhtml+xml,application/xml;q=0.9,image/avif,image/webp,image/apng,*/*;q=0.8,application/signed-exchange;v=b3;q=0.7\",\n",
    "    \"accept-language\": \"en\",\n",
    "    \"cache-control\": \"max-age=0\",\n",
    "    \"priority\": \"u=0, i\",\n",
    "    \"sec-ch-ua\": \"\\\"Chromium\\\";v=\\\"140\\\", \\\"Not=A?Brand\\\";v=\\\"24\\\", \\\"Google Chrome\\\";v=\\\"140\\\"\",\n",
    "    \"sec-ch-ua-mobile\": \"?0\",\n",
    "    \"sec-ch-ua-platform\": \"\\\"macOS\\\"\",\n",
    "    \"sec-fetch-dest\": \"document\",\n",
    "    \"sec-fetch-mode\": \"navigate\",\n",
    "    \"sec-fetch-site\": \"none\",\n",
    "    \"sec-fetch-user\": \"?1\",\n",
    "    \"upgrade-insecure-requests\": \"1\",\n",
    "    \"user-agent\": \"Mozilla/5.0 (Macintosh; Intel Mac OS X 10_15_7) AppleWebKit/537.36 (KHTML, like Gecko) Chrome/140.0.0.0 Safari/537.36\"\n",
    "}\n",
    "cookies = {\n",
    "    \"arxiv-search-parameters\": \"\\\"{\\\\\\\"order\\\\\\\": \\\\\\\"announced_date_first\\\\\\\"\\\\054 \\\\\\\"size\\\\\\\": \\\\\\\"200\\\\\\\"\\\\054 \\\\\\\"abstracts\\\\\\\": \\\\\\\"show\\\\\\\"\\\\054 \\\\\\\"date-date_type\\\\\\\": \\\\\\\"submitted_date\\\\\\\"}\\\"\"\n",
    "}\n",
    "url = \"https://arxiv.org/search/advanced\"\n",
    "params = {\n",
    "    \"advanced\": \"\",\n",
    "    \"terms-0-term\": \"\",\n",
    "    \"terms-0-operator\": \"AND\",\n",
    "    \"terms-0-field\": \"title\",\n",
    "    \"classification-computer_science\": \"y\",\n",
    "    \"classification-physics_archives\": \"gr-qc\",\n",
    "    \"classification-include_cross_list\": \"include\",\n",
    "    \"date-filter_by\": \"specific_year\",\n",
    "    \"date-year\": \"2025\",\n",
    "    \"date-from_date\": \"\",\n",
    "    \"date-to_date\": \"\",\n",
    "    \"date-date_type\": \"submitted_date\",\n",
    "    \"abstracts\": \"show\",\n",
    "    \"size\": \"200\",\n",
    "    \"order\": \"announced_date_first\"\n",
    "}\n",
    "response = requests.get(url, headers=headers, cookies=cookies, params=params)\n",
    "\n",
    "print(response.text[:200])\n",
    "print(response)"
   ],
   "id": "b58652bffe7abc8",
   "outputs": [
    {
     "name": "stdout",
     "output_type": "stream",
     "text": [
      "<!DOCTYPE html>\n",
      "<html lang=\"en\">\n",
      "  <head>\n",
      "    <meta charset=\"utf-8\"/>\n",
      "<meta name=\"viewport\" content=\"width=device-width, initial-scale=1\"/>\n",
      "<!-- new favicon config and versions by realfavicongenerator\n",
      "<Response [500]>\n"
     ]
    }
   ],
   "execution_count": 49
  },
  {
   "metadata": {
    "ExecuteTime": {
     "end_time": "2025-09-29T05:32:12.530828Z",
     "start_time": "2025-09-29T05:32:11.819992Z"
    }
   },
   "cell_type": "code",
   "source": [
    "import requests\n",
    "\n",
    "\n",
    "headers = {\n",
    "    \"accept\": \"text/html,application/xhtml+xml,application/xml;q=0.9,image/avif,image/webp,image/apng,*/*;q=0.8,application/signed-exchange;v=b3;q=0.7\",\n",
    "    \"accept-language\": \"en,en-CN;q=0.9,zh-CN;q=0.8,zh;q=0.7\",\n",
    "    \"priority\": \"u=0, i\",\n",
    "    \"referer\": \"https://arxiv.org/search/advanced?advanced=&terms-0-operator=AND&terms-0-term=&terms-0-field=title&classification-computer_science=y&classification-physics_archives=all&classification-include_cross_list=include&date-filter_by=specific_year&date-year=2025&date-from_date=&date-to_date=&date-date_type=submitted_date&abstracts=show&size=200&order=announced_date_first\",\n",
    "    \"sec-ch-ua\": \"\\\"Chromium\\\";v=\\\"140\\\", \\\"Not=A?Brand\\\";v=\\\"24\\\", \\\"Google Chrome\\\";v=\\\"140\\\"\",\n",
    "    \"sec-ch-ua-mobile\": \"?0\",\n",
    "    \"sec-ch-ua-platform\": \"\\\"macOS\\\"\",\n",
    "    \"sec-fetch-dest\": \"document\",\n",
    "    \"sec-fetch-mode\": \"navigate\",\n",
    "    \"sec-fetch-site\": \"same-origin\",\n",
    "    \"sec-fetch-user\": \"?1\",\n",
    "    \"upgrade-insecure-requests\": \"1\",\n",
    "    \"user-agent\": \"Mozilla/5.0 (Macintosh; Intel Mac OS X 10_15_7) AppleWebKit/537.36 (KHTML, like Gecko) Chrome/140.0.0.0 Safari/537.36\"\n",
    "}\n",
    "cookies = {\n",
    "    \"_ga\": \"GA1.1.1070728378.1758572327\",\n",
    "    \"arxiv_bibex\": \"{%22active%22:false%2C%22ds_cs%22:%22S2%22}\",\n",
    "    \"arxiv_labs\": \"{%22sameSite%22:%22strict%22%2C%22expires%22:365%2C%22last_tab%22:%22tabtwo%22%2C%22bibex-toggle%22:%22disabled%22%2C%22connectedpapers-toggle%22:%22disabled%22%2C%22alphaxiv-toggle%22:%22enabled%22%2C%22gotitpub-toggle%22:%22enabled%22}\",\n",
    "    \"browser\": \"38.84.161.250.1759046248066097\",\n",
    "    \"_ga_B1RR0QKWGQ\": \"GS2.1.s1759046236$o3$g1$t1759046620$j60$l0$h0\",\n",
    "    \"arxiv-search-parameters\": \"\\\"{\\\\\\\"order\\\\\\\": \\\\\\\"announced_date_first\\\\\\\"\\\\054 \\\\\\\"size\\\\\\\": \\\\\\\"200\\\\\\\"\\\\054 \\\\\\\"abstracts\\\\\\\": \\\\\\\"show\\\\\\\"\\\\054 \\\\\\\"date-date_type\\\\\\\": \\\\\\\"submitted_date\\\\\\\"}\\\"\"\n",
    "}\n",
    "url = \"https://arxiv.org/search/advanced\"\n",
    "params = {\n",
    "    \"advanced\": \"\",\n",
    "    \"terms-0-operator\": \"AND\",\n",
    "    \"terms-0-term\": \"\",\n",
    "    \"terms-0-field\": \"title\",\n",
    "    \"classification-computer_science\": \"y\",\n",
    "    \"classification-physics_archives\": \"all\",\n",
    "    \"classification-include_cross_list\": \"include\",\n",
    "    \"date-filter_by\": \"specific_year\",\n",
    "    \"date-year\": \"2025\",\n",
    "    \"date-from_date\": \"\",\n",
    "    \"date-to_date\": \"\",\n",
    "    \"date-date_type\": \"submitted_date\",\n",
    "    \"abstracts\": \"show\",\n",
    "    \"size\": \"200\",\n",
    "    \"order\": \"announced_date_first\",\n",
    "    \"start\": \"200\"\n",
    "}\n",
    "response = requests.get(url, headers=headers, cookies=cookies, params=params)\n",
    "\n",
    "\n",
    "print(response.text[:200])\n",
    "print(response)"
   ],
   "id": "2c723567dc9f2b1c",
   "outputs": [
    {
     "name": "stdout",
     "output_type": "stream",
     "text": [
      "<!DOCTYPE html>\n",
      "<html lang=\"en\">\n",
      "  <head>\n",
      "    <meta charset=\"utf-8\"/>\n",
      "<meta name=\"viewport\" content=\"width=device-width, initial-scale=1\"/>\n",
      "<!-- new favicon config and versions by realfavicongenerator\n",
      "<Response [500]>\n"
     ]
    }
   ],
   "execution_count": 51
  },
  {
   "metadata": {
    "ExecuteTime": {
     "end_time": "2025-09-29T05:33:38.316605Z",
     "start_time": "2025-09-29T05:33:38.307948Z"
    }
   },
   "cell_type": "code",
   "source": [
    "from bs4 import BeautifulSoup\n",
    "soup = BeautifulSoup(response.text, 'html.parser')\n",
    "article_list = soup.select(\"ol.breathe-horizontal > li.arxiv-result\")\n",
    "len(article_list)"
   ],
   "id": "c82160276350bd35",
   "outputs": [
    {
     "data": {
      "text/plain": [
       "0"
      ]
     },
     "execution_count": 52,
     "metadata": {},
     "output_type": "execute_result"
    }
   ],
   "execution_count": 52
  },
  {
   "metadata": {
    "ExecuteTime": {
     "end_time": "2025-09-29T05:33:56.141002Z",
     "start_time": "2025-09-29T05:33:54.372374Z"
    }
   },
   "cell_type": "code",
   "source": [
    "response = requests.get(url, headers=headers, cookies={}, params=params)\n",
    "print(response.text[:200])\n",
    "print(response)"
   ],
   "id": "1bcd8d63de6f701e",
   "outputs": [
    {
     "name": "stdout",
     "output_type": "stream",
     "text": [
      "<!DOCTYPE html>\n",
      "<html lang=\"en\">\n",
      "  <head>\n",
      "    <meta charset=\"utf-8\"/>\n",
      "<meta name=\"viewport\" content=\"width=device-width, initial-scale=1\"/>\n",
      "<!-- new favicon config and versions by realfavicongenerator\n",
      "<Response [200]>\n"
     ]
    }
   ],
   "execution_count": 54
  },
  {
   "metadata": {
    "ExecuteTime": {
     "end_time": "2025-09-29T05:34:04.858668Z",
     "start_time": "2025-09-29T05:34:04.769100Z"
    }
   },
   "cell_type": "code",
   "source": [
    "soup = BeautifulSoup(response.text, 'html.parser')\n",
    "article_list = soup.select(\"ol.breathe-horizontal > li.arxiv-result\")\n",
    "len(article_list)"
   ],
   "id": "31cfcd8d2f7f335",
   "outputs": [
    {
     "data": {
      "text/plain": [
       "200"
      ]
     },
     "execution_count": 55,
     "metadata": {},
     "output_type": "execute_result"
    }
   ],
   "execution_count": 55
  },
  {
   "metadata": {
    "ExecuteTime": {
     "end_time": "2025-09-29T05:46:48.152840Z",
     "start_time": "2025-09-29T05:46:48.120472Z"
    }
   },
   "cell_type": "code",
   "source": [
    "import urllib\n",
    "import json\n",
    "from myutil.handleSoup import  extractSoup\n",
    "article_list = soup.select(\"ol.breathe-horizontal > li.arxiv-result\")\n",
    "for article in article_list:\n",
    "    a_list = article.select('p.list-title > span > a')\n",
    "    text_url_dict = {}\n",
    "    for a in a_list:\n",
    "        if \"href\" not in a.attrs:\n",
    "            continue\n",
    "        url = urllib.parse.urljoin(base=url, url=a.attrs['href'])\n",
    "        text = a.get_text(strip=True)\n",
    "        text_url_dict[text] = url\n",
    "    article_url = extractSoup.extract_href(soup = article ,selector=\"p.list-title > a\")\n",
    "    article_info = {\n",
    "        \"file_info\": json.dumps(text_url_dict, ensure_ascii=False),\n",
    "        \"article_url\": article_url,\n",
    "    }\n",
    "    print(article_info)"
   ],
   "id": "4cf33637334a3f3a",
   "outputs": [
    {
     "name": "stdout",
     "output_type": "stream",
     "text": [
      "{'file_info': '{\"pdf\": \"https://arxiv.org/pdf/2001.04235\", \"other\": \"https://arxiv.org/format/2001.04235\"}', 'article_url': 'https://arxiv.org/abs/2001.04235'}\n",
      "{'file_info': '{\"pdf\": \"https://arxiv.org/pdf/2001.04515\", \"ps\": \"https://arxiv.org/ps/2001.04515\", \"other\": \"https://arxiv.org/format/2001.04515\"}', 'article_url': 'https://arxiv.org/abs/2001.04515'}\n",
      "{'file_info': '{\"pdf\": \"https://arxiv.org/pdf/2001.05989\", \"other\": \"https://arxiv.org/format/2001.05989\"}', 'article_url': 'https://arxiv.org/abs/2001.05989'}\n",
      "{'file_info': '{\"pdf\": \"https://arxiv.org/pdf/2001.06696\", \"ps\": \"https://arxiv.org/ps/2001.06696\", \"other\": \"https://arxiv.org/format/2001.06696\"}', 'article_url': 'https://arxiv.org/abs/2001.06696'}\n",
      "{'file_info': '{\"pdf\": \"https://arxiv.org/pdf/2001.07118\", \"ps\": \"https://arxiv.org/ps/2001.07118\", \"other\": \"https://arxiv.org/format/2001.07118\"}', 'article_url': 'https://arxiv.org/abs/2001.07118'}\n",
      "{'file_info': '{\"pdf\": \"https://arxiv.org/pdf/2001.07495\"}', 'article_url': 'https://arxiv.org/abs/2001.07495'}\n",
      "{'file_info': '{\"pdf\": \"https://arxiv.org/pdf/2001.09029\", \"ps\": \"https://arxiv.org/ps/2001.09029\", \"other\": \"https://arxiv.org/format/2001.09029\"}', 'article_url': 'https://arxiv.org/abs/2001.09029'}\n",
      "{'file_info': '{\"pdf\": \"https://arxiv.org/pdf/2001.10605\"}', 'article_url': 'https://arxiv.org/abs/2001.10605'}\n",
      "{'file_info': '{\"pdf\": \"https://arxiv.org/pdf/2002.00836\", \"other\": \"https://arxiv.org/format/2002.00836\"}', 'article_url': 'https://arxiv.org/abs/2002.00836'}\n",
      "{'file_info': '{\"pdf\": \"https://arxiv.org/pdf/2002.02232\", \"ps\": \"https://arxiv.org/ps/2002.02232\", \"other\": \"https://arxiv.org/format/2002.02232\"}', 'article_url': 'https://arxiv.org/abs/2002.02232'}\n",
      "{'file_info': '{\"pdf\": \"https://arxiv.org/pdf/2002.02997\", \"ps\": \"https://arxiv.org/ps/2002.02997\", \"other\": \"https://arxiv.org/format/2002.02997\"}', 'article_url': 'https://arxiv.org/abs/2002.02997'}\n",
      "{'file_info': '{\"pdf\": \"https://arxiv.org/pdf/2002.03531\", \"ps\": \"https://arxiv.org/ps/2002.03531\", \"other\": \"https://arxiv.org/format/2002.03531\"}', 'article_url': 'https://arxiv.org/abs/2002.03531'}\n",
      "{'file_info': '{\"pdf\": \"https://arxiv.org/pdf/2002.05308\", \"other\": \"https://arxiv.org/format/2002.05308\"}', 'article_url': 'https://arxiv.org/abs/2002.05308'}\n",
      "{'file_info': '{\"pdf\": \"https://arxiv.org/pdf/2002.07756\", \"other\": \"https://arxiv.org/format/2002.07756\"}', 'article_url': 'https://arxiv.org/abs/2002.07756'}\n",
      "{'file_info': '{\"pdf\": \"https://arxiv.org/pdf/2002.07955\", \"ps\": \"https://arxiv.org/ps/2002.07955\", \"other\": \"https://arxiv.org/format/2002.07955\"}', 'article_url': 'https://arxiv.org/abs/2002.07955'}\n",
      "{'file_info': '{\"pdf\": \"https://arxiv.org/pdf/2002.08907\", \"ps\": \"https://arxiv.org/ps/2002.08907\", \"other\": \"https://arxiv.org/format/2002.08907\"}', 'article_url': 'https://arxiv.org/abs/2002.08907'}\n",
      "{'file_info': '{\"pdf\": \"https://arxiv.org/pdf/2002.10712\", \"ps\": \"https://arxiv.org/ps/2002.10712\", \"other\": \"https://arxiv.org/format/2002.10712\"}', 'article_url': 'https://arxiv.org/abs/2002.10712'}\n",
      "{'file_info': '{\"pdf\": \"https://arxiv.org/pdf/2002.10898\", \"ps\": \"https://arxiv.org/ps/2002.10898\", \"other\": \"https://arxiv.org/format/2002.10898\"}', 'article_url': 'https://arxiv.org/abs/2002.10898'}\n",
      "{'file_info': '{\"pdf\": \"https://arxiv.org/pdf/2002.12162\", \"other\": \"https://arxiv.org/format/2002.12162\"}', 'article_url': 'https://arxiv.org/abs/2002.12162'}\n",
      "{'file_info': '{\"pdf\": \"https://arxiv.org/pdf/2003.01000\", \"other\": \"https://arxiv.org/format/2003.01000\"}', 'article_url': 'https://arxiv.org/abs/2003.01000'}\n",
      "{'file_info': '{\"pdf\": \"https://arxiv.org/pdf/2003.03867\", \"ps\": \"https://arxiv.org/ps/2003.03867\", \"other\": \"https://arxiv.org/format/2003.03867\"}', 'article_url': 'https://arxiv.org/abs/2003.03867'}\n",
      "{'file_info': '{\"pdf\": \"https://arxiv.org/pdf/2003.04414\", \"ps\": \"https://arxiv.org/ps/2003.04414\", \"other\": \"https://arxiv.org/format/2003.04414\"}', 'article_url': 'https://arxiv.org/abs/2003.04414'}\n",
      "{'file_info': '{\"pdf\": \"https://arxiv.org/pdf/2003.04428\", \"ps\": \"https://arxiv.org/ps/2003.04428\", \"other\": \"https://arxiv.org/format/2003.04428\"}', 'article_url': 'https://arxiv.org/abs/2003.04428'}\n",
      "{'file_info': '{\"pdf\": \"https://arxiv.org/pdf/2003.04728\", \"ps\": \"https://arxiv.org/ps/2003.04728\", \"other\": \"https://arxiv.org/format/2003.04728\"}', 'article_url': 'https://arxiv.org/abs/2003.04728'}\n",
      "{'file_info': '{\"pdf\": \"https://arxiv.org/pdf/2003.07289\", \"other\": \"https://arxiv.org/format/2003.07289\"}', 'article_url': 'https://arxiv.org/abs/2003.07289'}\n",
      "{'file_info': '{\"pdf\": \"https://arxiv.org/pdf/2003.08086\", \"ps\": \"https://arxiv.org/ps/2003.08086\", \"other\": \"https://arxiv.org/format/2003.08086\"}', 'article_url': 'https://arxiv.org/abs/2003.08086'}\n",
      "{'file_info': '{\"pdf\": \"https://arxiv.org/pdf/2003.11446\", \"ps\": \"https://arxiv.org/ps/2003.11446\", \"other\": \"https://arxiv.org/format/2003.11446\"}', 'article_url': 'https://arxiv.org/abs/2003.11446'}\n",
      "{'file_info': '{\"pdf\": \"https://arxiv.org/pdf/2003.11660\", \"ps\": \"https://arxiv.org/ps/2003.11660\", \"other\": \"https://arxiv.org/format/2003.11660\"}', 'article_url': 'https://arxiv.org/abs/2003.11660'}\n",
      "{'file_info': '{\"pdf\": \"https://arxiv.org/pdf/2003.12776\", \"other\": \"https://arxiv.org/format/2003.12776\"}', 'article_url': 'https://arxiv.org/abs/2003.12776'}\n",
      "{'file_info': '{\"pdf\": \"https://arxiv.org/pdf/2003.12810\", \"ps\": \"https://arxiv.org/ps/2003.12810\", \"other\": \"https://arxiv.org/format/2003.12810\"}', 'article_url': 'https://arxiv.org/abs/2003.12810'}\n",
      "{'file_info': '{\"pdf\": \"https://arxiv.org/pdf/2004.06963\", \"other\": \"https://arxiv.org/format/2004.06963\"}', 'article_url': 'https://arxiv.org/abs/2004.06963'}\n",
      "{'file_info': '{\"pdf\": \"https://arxiv.org/pdf/2004.08705\", \"ps\": \"https://arxiv.org/ps/2004.08705\", \"other\": \"https://arxiv.org/format/2004.08705\"}', 'article_url': 'https://arxiv.org/abs/2004.08705'}\n",
      "{'file_info': '{\"pdf\": \"https://arxiv.org/pdf/2004.11722\", \"other\": \"https://arxiv.org/format/2004.11722\"}', 'article_url': 'https://arxiv.org/abs/2004.11722'}\n",
      "{'file_info': '{\"pdf\": \"https://arxiv.org/pdf/2004.12571\", \"other\": \"https://arxiv.org/format/2004.12571\"}', 'article_url': 'https://arxiv.org/abs/2004.12571'}\n",
      "{'file_info': '{\"pdf\": \"https://arxiv.org/pdf/2004.12908\", \"ps\": \"https://arxiv.org/ps/2004.12908\", \"other\": \"https://arxiv.org/format/2004.12908\"}', 'article_url': 'https://arxiv.org/abs/2004.12908'}\n",
      "{'file_info': '{}', 'article_url': 'https://arxiv.org/abs/2004.13821'}\n",
      "{'file_info': '{\"pdf\": \"https://arxiv.org/pdf/2004.14147\", \"ps\": \"https://arxiv.org/ps/2004.14147\", \"other\": \"https://arxiv.org/format/2004.14147\"}', 'article_url': 'https://arxiv.org/abs/2004.14147'}\n",
      "{'file_info': '{\"pdf\": \"https://arxiv.org/pdf/2004.14547\", \"ps\": \"https://arxiv.org/ps/2004.14547\", \"other\": \"https://arxiv.org/format/2004.14547\"}', 'article_url': 'https://arxiv.org/abs/2004.14547'}\n",
      "{'file_info': '{\"pdf\": \"https://arxiv.org/pdf/2005.00124\", \"ps\": \"https://arxiv.org/ps/2005.00124\", \"other\": \"https://arxiv.org/format/2005.00124\"}', 'article_url': 'https://arxiv.org/abs/2005.00124'}\n",
      "{'file_info': '{\"pdf\": \"https://arxiv.org/pdf/2005.00809\", \"ps\": \"https://arxiv.org/ps/2005.00809\", \"other\": \"https://arxiv.org/format/2005.00809\"}', 'article_url': 'https://arxiv.org/abs/2005.00809'}\n",
      "{'file_info': '{\"pdf\": \"https://arxiv.org/pdf/2005.01427\", \"other\": \"https://arxiv.org/format/2005.01427\"}', 'article_url': 'https://arxiv.org/abs/2005.01427'}\n",
      "{'file_info': '{\"pdf\": \"https://arxiv.org/pdf/2005.01586\", \"ps\": \"https://arxiv.org/ps/2005.01586\", \"other\": \"https://arxiv.org/format/2005.01586\"}', 'article_url': 'https://arxiv.org/abs/2005.01586'}\n",
      "{'file_info': '{\"pdf\": \"https://arxiv.org/pdf/2005.04088\", \"ps\": \"https://arxiv.org/ps/2005.04088\", \"other\": \"https://arxiv.org/format/2005.04088\"}', 'article_url': 'https://arxiv.org/abs/2005.04088'}\n",
      "{'file_info': '{\"pdf\": \"https://arxiv.org/pdf/2005.04598\", \"ps\": \"https://arxiv.org/ps/2005.04598\", \"other\": \"https://arxiv.org/format/2005.04598\"}', 'article_url': 'https://arxiv.org/abs/2005.04598'}\n",
      "{'file_info': '{\"pdf\": \"https://arxiv.org/pdf/2005.05274\", \"other\": \"https://arxiv.org/format/2005.05274\"}', 'article_url': 'https://arxiv.org/abs/2005.05274'}\n",
      "{'file_info': '{\"pdf\": \"https://arxiv.org/pdf/2005.05518\", \"ps\": \"https://arxiv.org/ps/2005.05518\", \"other\": \"https://arxiv.org/format/2005.05518\"}', 'article_url': 'https://arxiv.org/abs/2005.05518'}\n",
      "{'file_info': '{\"pdf\": \"https://arxiv.org/pdf/2005.05744\"}', 'article_url': 'https://arxiv.org/abs/2005.05744'}\n",
      "{'file_info': '{\"pdf\": \"https://arxiv.org/pdf/2005.06411\", \"other\": \"https://arxiv.org/format/2005.06411\"}', 'article_url': 'https://arxiv.org/abs/2005.06411'}\n",
      "{'file_info': '{\"pdf\": \"https://arxiv.org/pdf/2005.09048\", \"ps\": \"https://arxiv.org/ps/2005.09048\", \"other\": \"https://arxiv.org/format/2005.09048\"}', 'article_url': 'https://arxiv.org/abs/2005.09048'}\n",
      "{'file_info': '{\"pdf\": \"https://arxiv.org/pdf/2005.09112\"}', 'article_url': 'https://arxiv.org/abs/2005.09112'}\n",
      "{'file_info': '{\"pdf\": \"https://arxiv.org/pdf/2006.01428\", \"ps\": \"https://arxiv.org/ps/2006.01428\", \"other\": \"https://arxiv.org/format/2006.01428\"}', 'article_url': 'https://arxiv.org/abs/2006.01428'}\n",
      "{'file_info': '{\"pdf\": \"https://arxiv.org/pdf/2006.02482\", \"ps\": \"https://arxiv.org/ps/2006.02482\", \"other\": \"https://arxiv.org/format/2006.02482\"}', 'article_url': 'https://arxiv.org/abs/2006.02482'}\n",
      "{'file_info': '{\"pdf\": \"https://arxiv.org/pdf/2006.03666\", \"other\": \"https://arxiv.org/format/2006.03666\"}', 'article_url': 'https://arxiv.org/abs/2006.03666'}\n",
      "{'file_info': '{\"pdf\": \"https://arxiv.org/pdf/2006.06126\", \"ps\": \"https://arxiv.org/ps/2006.06126\", \"other\": \"https://arxiv.org/format/2006.06126\"}', 'article_url': 'https://arxiv.org/abs/2006.06126'}\n",
      "{'file_info': '{\"pdf\": \"https://arxiv.org/pdf/2006.06926\", \"ps\": \"https://arxiv.org/ps/2006.06926\", \"other\": \"https://arxiv.org/format/2006.06926\"}', 'article_url': 'https://arxiv.org/abs/2006.06926'}\n",
      "{'file_info': '{\"pdf\": \"https://arxiv.org/pdf/2006.07841\", \"ps\": \"https://arxiv.org/ps/2006.07841\", \"other\": \"https://arxiv.org/format/2006.07841\"}', 'article_url': 'https://arxiv.org/abs/2006.07841'}\n",
      "{'file_info': '{\"pdf\": \"https://arxiv.org/pdf/2006.08198\", \"other\": \"https://arxiv.org/format/2006.08198\"}', 'article_url': 'https://arxiv.org/abs/2006.08198'}\n",
      "{'file_info': '{\"pdf\": \"https://arxiv.org/pdf/2006.08468\", \"ps\": \"https://arxiv.org/ps/2006.08468\", \"other\": \"https://arxiv.org/format/2006.08468\"}', 'article_url': 'https://arxiv.org/abs/2006.08468'}\n",
      "{'file_info': '{\"pdf\": \"https://arxiv.org/pdf/2006.08863\", \"ps\": \"https://arxiv.org/ps/2006.08863\", \"other\": \"https://arxiv.org/format/2006.08863\"}', 'article_url': 'https://arxiv.org/abs/2006.08863'}\n",
      "{'file_info': '{\"pdf\": \"https://arxiv.org/pdf/2006.09564\", \"other\": \"https://arxiv.org/format/2006.09564\"}', 'article_url': 'https://arxiv.org/abs/2006.09564'}\n",
      "{'file_info': '{\"pdf\": \"https://arxiv.org/pdf/2006.09599\", \"other\": \"https://arxiv.org/format/2006.09599\"}', 'article_url': 'https://arxiv.org/abs/2006.09599'}\n",
      "{'file_info': '{\"pdf\": \"https://arxiv.org/pdf/2006.10016\", \"other\": \"https://arxiv.org/format/2006.10016\"}', 'article_url': 'https://arxiv.org/abs/2006.10016'}\n",
      "{'file_info': '{\"pdf\": \"https://arxiv.org/pdf/2006.10239\", \"ps\": \"https://arxiv.org/ps/2006.10239\", \"other\": \"https://arxiv.org/format/2006.10239\"}', 'article_url': 'https://arxiv.org/abs/2006.10239'}\n",
      "{'file_info': '{\"pdf\": \"https://arxiv.org/pdf/2006.12367\", \"ps\": \"https://arxiv.org/ps/2006.12367\", \"other\": \"https://arxiv.org/format/2006.12367\"}', 'article_url': 'https://arxiv.org/abs/2006.12367'}\n",
      "{'file_info': '{\"pdf\": \"https://arxiv.org/pdf/2006.12926\", \"ps\": \"https://arxiv.org/ps/2006.12926\", \"other\": \"https://arxiv.org/format/2006.12926\"}', 'article_url': 'https://arxiv.org/abs/2006.12926'}\n",
      "{'file_info': '{}', 'article_url': 'https://arxiv.org/abs/2006.13456'}\n",
      "{'file_info': '{\"pdf\": \"https://arxiv.org/pdf/2006.14061\", \"ps\": \"https://arxiv.org/ps/2006.14061\", \"other\": \"https://arxiv.org/format/2006.14061\"}', 'article_url': 'https://arxiv.org/abs/2006.14061'}\n",
      "{'file_info': '{\"pdf\": \"https://arxiv.org/pdf/2006.16505\", \"other\": \"https://arxiv.org/format/2006.16505\"}', 'article_url': 'https://arxiv.org/abs/2006.16505'}\n",
      "{'file_info': '{\"pdf\": \"https://arxiv.org/pdf/2007.00736\", \"ps\": \"https://arxiv.org/ps/2007.00736\", \"other\": \"https://arxiv.org/format/2007.00736\"}', 'article_url': 'https://arxiv.org/abs/2007.00736'}\n",
      "{'file_info': '{\"pdf\": \"https://arxiv.org/pdf/2007.01691\"}', 'article_url': 'https://arxiv.org/abs/2007.01691'}\n",
      "{'file_info': '{\"pdf\": \"https://arxiv.org/pdf/2007.02527\", \"ps\": \"https://arxiv.org/ps/2007.02527\", \"other\": \"https://arxiv.org/format/2007.02527\"}', 'article_url': 'https://arxiv.org/abs/2007.02527'}\n",
      "{'file_info': '{\"pdf\": \"https://arxiv.org/pdf/2007.02740\", \"ps\": \"https://arxiv.org/ps/2007.02740\", \"other\": \"https://arxiv.org/format/2007.02740\"}', 'article_url': 'https://arxiv.org/abs/2007.02740'}\n",
      "{'file_info': '{\"pdf\": \"https://arxiv.org/pdf/2007.03545\", \"ps\": \"https://arxiv.org/ps/2007.03545\", \"other\": \"https://arxiv.org/format/2007.03545\"}', 'article_url': 'https://arxiv.org/abs/2007.03545'}\n",
      "{'file_info': '{\"pdf\": \"https://arxiv.org/pdf/2007.04568\", \"ps\": \"https://arxiv.org/ps/2007.04568\", \"other\": \"https://arxiv.org/format/2007.04568\"}', 'article_url': 'https://arxiv.org/abs/2007.04568'}\n",
      "{'file_info': '{\"pdf\": \"https://arxiv.org/pdf/2007.05943\", \"ps\": \"https://arxiv.org/ps/2007.05943\", \"other\": \"https://arxiv.org/format/2007.05943\"}', 'article_url': 'https://arxiv.org/abs/2007.05943'}\n",
      "{'file_info': '{\"pdf\": \"https://arxiv.org/pdf/2007.08246\", \"other\": \"https://arxiv.org/format/2007.08246\"}', 'article_url': 'https://arxiv.org/abs/2007.08246'}\n",
      "{'file_info': '{\"pdf\": \"https://arxiv.org/pdf/2007.08566\", \"other\": \"https://arxiv.org/format/2007.08566\"}', 'article_url': 'https://arxiv.org/abs/2007.08566'}\n",
      "{'file_info': '{\"pdf\": \"https://arxiv.org/pdf/2007.10863\", \"other\": \"https://arxiv.org/format/2007.10863\"}', 'article_url': 'https://arxiv.org/abs/2007.10863'}\n",
      "{'file_info': '{\"pdf\": \"https://arxiv.org/pdf/2007.12582\", \"ps\": \"https://arxiv.org/ps/2007.12582\", \"other\": \"https://arxiv.org/format/2007.12582\"}', 'article_url': 'https://arxiv.org/abs/2007.12582'}\n",
      "{'file_info': '{\"pdf\": \"https://arxiv.org/pdf/2007.13121\", \"ps\": \"https://arxiv.org/ps/2007.13121\", \"other\": \"https://arxiv.org/format/2007.13121\"}', 'article_url': 'https://arxiv.org/abs/2007.13121'}\n",
      "{'file_info': '{\"pdf\": \"https://arxiv.org/pdf/2007.14245\", \"ps\": \"https://arxiv.org/ps/2007.14245\", \"other\": \"https://arxiv.org/format/2007.14245\"}', 'article_url': 'https://arxiv.org/abs/2007.14245'}\n",
      "{'file_info': '{\"pdf\": \"https://arxiv.org/pdf/2008.01188\", \"other\": \"https://arxiv.org/format/2008.01188\"}', 'article_url': 'https://arxiv.org/abs/2008.01188'}\n",
      "{'file_info': '{\"pdf\": \"https://arxiv.org/pdf/2008.01680\", \"other\": \"https://arxiv.org/format/2008.01680\"}', 'article_url': 'https://arxiv.org/abs/2008.01680'}\n",
      "{'file_info': '{\"pdf\": \"https://arxiv.org/pdf/2008.03665\", \"other\": \"https://arxiv.org/format/2008.03665\"}', 'article_url': 'https://arxiv.org/abs/2008.03665'}\n",
      "{'file_info': '{\"pdf\": \"https://arxiv.org/pdf/2008.04028\"}', 'article_url': 'https://arxiv.org/abs/2008.04028'}\n",
      "{'file_info': '{\"pdf\": \"https://arxiv.org/pdf/2008.05569\", \"other\": \"https://arxiv.org/format/2008.05569\"}', 'article_url': 'https://arxiv.org/abs/2008.05569'}\n",
      "{'file_info': '{\"pdf\": \"https://arxiv.org/pdf/2008.06255\", \"other\": \"https://arxiv.org/format/2008.06255\"}', 'article_url': 'https://arxiv.org/abs/2008.06255'}\n",
      "{'file_info': '{\"pdf\": \"https://arxiv.org/pdf/2008.07292\", \"ps\": \"https://arxiv.org/ps/2008.07292\", \"other\": \"https://arxiv.org/format/2008.07292\"}', 'article_url': 'https://arxiv.org/abs/2008.07292'}\n",
      "{'file_info': '{\"pdf\": \"https://arxiv.org/pdf/2008.07324\", \"ps\": \"https://arxiv.org/ps/2008.07324\", \"other\": \"https://arxiv.org/format/2008.07324\"}', 'article_url': 'https://arxiv.org/abs/2008.07324'}\n",
      "{'file_info': '{\"pdf\": \"https://arxiv.org/pdf/2008.08025\", \"other\": \"https://arxiv.org/format/2008.08025\"}', 'article_url': 'https://arxiv.org/abs/2008.08025'}\n",
      "{'file_info': '{\"pdf\": \"https://arxiv.org/pdf/2008.08050\", \"other\": \"https://arxiv.org/format/2008.08050\"}', 'article_url': 'https://arxiv.org/abs/2008.08050'}\n",
      "{'file_info': '{\"pdf\": \"https://arxiv.org/pdf/2008.08628\", \"ps\": \"https://arxiv.org/ps/2008.08628\", \"other\": \"https://arxiv.org/format/2008.08628\"}', 'article_url': 'https://arxiv.org/abs/2008.08628'}\n",
      "{'file_info': '{\"pdf\": \"https://arxiv.org/pdf/2008.08798\", \"other\": \"https://arxiv.org/format/2008.08798\"}', 'article_url': 'https://arxiv.org/abs/2008.08798'}\n",
      "{'file_info': '{\"pdf\": \"https://arxiv.org/pdf/2008.09253\", \"ps\": \"https://arxiv.org/ps/2008.09253\", \"other\": \"https://arxiv.org/format/2008.09253\"}', 'article_url': 'https://arxiv.org/abs/2008.09253'}\n",
      "{'file_info': '{\"pdf\": \"https://arxiv.org/pdf/2008.09646\", \"ps\": \"https://arxiv.org/ps/2008.09646\", \"other\": \"https://arxiv.org/format/2008.09646\"}', 'article_url': 'https://arxiv.org/abs/2008.09646'}\n",
      "{'file_info': '{\"pdf\": \"https://arxiv.org/pdf/2008.10426\", \"ps\": \"https://arxiv.org/ps/2008.10426\", \"other\": \"https://arxiv.org/format/2008.10426\"}', 'article_url': 'https://arxiv.org/abs/2008.10426'}\n",
      "{'file_info': '{\"pdf\": \"https://arxiv.org/pdf/2008.12019\", \"ps\": \"https://arxiv.org/ps/2008.12019\", \"other\": \"https://arxiv.org/format/2008.12019\"}', 'article_url': 'https://arxiv.org/abs/2008.12019'}\n",
      "{'file_info': '{\"pdf\": \"https://arxiv.org/pdf/2008.12199\", \"ps\": \"https://arxiv.org/ps/2008.12199\", \"other\": \"https://arxiv.org/format/2008.12199\"}', 'article_url': 'https://arxiv.org/abs/2008.12199'}\n",
      "{'file_info': '{\"pdf\": \"https://arxiv.org/pdf/2008.12846\", \"ps\": \"https://arxiv.org/ps/2008.12846\", \"other\": \"https://arxiv.org/format/2008.12846\"}', 'article_url': 'https://arxiv.org/abs/2008.12846'}\n",
      "{'file_info': '{\"pdf\": \"https://arxiv.org/pdf/2008.13078\", \"other\": \"https://arxiv.org/format/2008.13078\"}', 'article_url': 'https://arxiv.org/abs/2008.13078'}\n",
      "{'file_info': '{\"pdf\": \"https://arxiv.org/pdf/2009.00967\", \"ps\": \"https://arxiv.org/ps/2009.00967\", \"other\": \"https://arxiv.org/format/2009.00967\"}', 'article_url': 'https://arxiv.org/abs/2009.00967'}\n",
      "{'file_info': '{\"pdf\": \"https://arxiv.org/pdf/2009.02572\", \"other\": \"https://arxiv.org/format/2009.02572\"}', 'article_url': 'https://arxiv.org/abs/2009.02572'}\n",
      "{'file_info': '{\"pdf\": \"https://arxiv.org/pdf/2009.02618\", \"ps\": \"https://arxiv.org/ps/2009.02618\", \"other\": \"https://arxiv.org/format/2009.02618\"}', 'article_url': 'https://arxiv.org/abs/2009.02618'}\n",
      "{'file_info': '{\"pdf\": \"https://arxiv.org/pdf/2009.05908\", \"ps\": \"https://arxiv.org/ps/2009.05908\", \"other\": \"https://arxiv.org/format/2009.05908\"}', 'article_url': 'https://arxiv.org/abs/2009.05908'}\n",
      "{'file_info': '{\"pdf\": \"https://arxiv.org/pdf/2009.06364\", \"ps\": \"https://arxiv.org/ps/2009.06364\", \"other\": \"https://arxiv.org/format/2009.06364\"}', 'article_url': 'https://arxiv.org/abs/2009.06364'}\n",
      "{'file_info': '{\"pdf\": \"https://arxiv.org/pdf/2009.08903\", \"ps\": \"https://arxiv.org/ps/2009.08903\", \"other\": \"https://arxiv.org/format/2009.08903\"}', 'article_url': 'https://arxiv.org/abs/2009.08903'}\n",
      "{'file_info': '{\"pdf\": \"https://arxiv.org/pdf/2009.09566\", \"other\": \"https://arxiv.org/format/2009.09566\"}', 'article_url': 'https://arxiv.org/abs/2009.09566'}\n",
      "{'file_info': '{\"pdf\": \"https://arxiv.org/pdf/2009.09822\", \"other\": \"https://arxiv.org/format/2009.09822\"}', 'article_url': 'https://arxiv.org/abs/2009.09822'}\n",
      "{'file_info': '{\"pdf\": \"https://arxiv.org/pdf/2009.12009\"}', 'article_url': 'https://arxiv.org/abs/2009.12009'}\n",
      "{'file_info': '{\"pdf\": \"https://arxiv.org/pdf/2009.12293\", \"other\": \"https://arxiv.org/format/2009.12293\"}', 'article_url': 'https://arxiv.org/abs/2009.12293'}\n",
      "{'file_info': '{\"pdf\": \"https://arxiv.org/pdf/2009.13605\", \"other\": \"https://arxiv.org/format/2009.13605\"}', 'article_url': 'https://arxiv.org/abs/2009.13605'}\n",
      "{'file_info': '{\"pdf\": \"https://arxiv.org/pdf/2009.13678\", \"other\": \"https://arxiv.org/format/2009.13678\"}', 'article_url': 'https://arxiv.org/abs/2009.13678'}\n",
      "{'file_info': '{\"pdf\": \"https://arxiv.org/pdf/2010.00297\", \"ps\": \"https://arxiv.org/ps/2010.00297\", \"other\": \"https://arxiv.org/format/2010.00297\"}', 'article_url': 'https://arxiv.org/abs/2010.00297'}\n",
      "{'file_info': '{\"pdf\": \"https://arxiv.org/pdf/2010.00788\", \"ps\": \"https://arxiv.org/ps/2010.00788\", \"other\": \"https://arxiv.org/format/2010.00788\"}', 'article_url': 'https://arxiv.org/abs/2010.00788'}\n",
      "{'file_info': '{\"pdf\": \"https://arxiv.org/pdf/2010.02835\", \"ps\": \"https://arxiv.org/ps/2010.02835\", \"other\": \"https://arxiv.org/format/2010.02835\"}', 'article_url': 'https://arxiv.org/abs/2010.02835'}\n",
      "{'file_info': '{\"pdf\": \"https://arxiv.org/pdf/2010.02990\", \"other\": \"https://arxiv.org/format/2010.02990\"}', 'article_url': 'https://arxiv.org/abs/2010.02990'}\n",
      "{'file_info': '{\"pdf\": \"https://arxiv.org/pdf/2010.04618\", \"ps\": \"https://arxiv.org/ps/2010.04618\", \"other\": \"https://arxiv.org/format/2010.04618\"}', 'article_url': 'https://arxiv.org/abs/2010.04618'}\n",
      "{'file_info': '{\"pdf\": \"https://arxiv.org/pdf/2010.06277\", \"other\": \"https://arxiv.org/format/2010.06277\"}', 'article_url': 'https://arxiv.org/abs/2010.06277'}\n",
      "{'file_info': '{\"pdf\": \"https://arxiv.org/pdf/2010.07246\", \"other\": \"https://arxiv.org/format/2010.07246\"}', 'article_url': 'https://arxiv.org/abs/2010.07246'}\n",
      "{'file_info': '{\"pdf\": \"https://arxiv.org/pdf/2010.07990\", \"ps\": \"https://arxiv.org/ps/2010.07990\", \"other\": \"https://arxiv.org/format/2010.07990\"}', 'article_url': 'https://arxiv.org/abs/2010.07990'}\n",
      "{'file_info': '{\"pdf\": \"https://arxiv.org/pdf/2010.08146\", \"ps\": \"https://arxiv.org/ps/2010.08146\", \"other\": \"https://arxiv.org/format/2010.08146\"}', 'article_url': 'https://arxiv.org/abs/2010.08146'}\n",
      "{'file_info': '{\"pdf\": \"https://arxiv.org/pdf/2010.08891\", \"other\": \"https://arxiv.org/format/2010.08891\"}', 'article_url': 'https://arxiv.org/abs/2010.08891'}\n",
      "{'file_info': '{\"pdf\": \"https://arxiv.org/pdf/2010.08929\", \"other\": \"https://arxiv.org/format/2010.08929\"}', 'article_url': 'https://arxiv.org/abs/2010.08929'}\n",
      "{'file_info': '{\"pdf\": \"https://arxiv.org/pdf/2010.11123\", \"other\": \"https://arxiv.org/format/2010.11123\"}', 'article_url': 'https://arxiv.org/abs/2010.11123'}\n",
      "{'file_info': '{\"pdf\": \"https://arxiv.org/pdf/2010.11563\", \"ps\": \"https://arxiv.org/ps/2010.11563\", \"other\": \"https://arxiv.org/format/2010.11563\"}', 'article_url': 'https://arxiv.org/abs/2010.11563'}\n",
      "{'file_info': '{\"pdf\": \"https://arxiv.org/pdf/2010.11750\", \"ps\": \"https://arxiv.org/ps/2010.11750\", \"other\": \"https://arxiv.org/format/2010.11750\"}', 'article_url': 'https://arxiv.org/abs/2010.11750'}\n",
      "{'file_info': '{\"pdf\": \"https://arxiv.org/pdf/2010.12059\", \"other\": \"https://arxiv.org/format/2010.12059\"}', 'article_url': 'https://arxiv.org/abs/2010.12059'}\n",
      "{'file_info': '{\"pdf\": \"https://arxiv.org/pdf/2010.12669\", \"other\": \"https://arxiv.org/format/2010.12669\"}', 'article_url': 'https://arxiv.org/abs/2010.12669'}\n",
      "{'file_info': '{\"pdf\": \"https://arxiv.org/pdf/2010.12785\", \"other\": \"https://arxiv.org/format/2010.12785\"}', 'article_url': 'https://arxiv.org/abs/2010.12785'}\n",
      "{'file_info': '{\"pdf\": \"https://arxiv.org/pdf/2010.13112\", \"other\": \"https://arxiv.org/format/2010.13112\"}', 'article_url': 'https://arxiv.org/abs/2010.13112'}\n",
      "{'file_info': '{\"pdf\": \"https://arxiv.org/pdf/2010.13494\", \"other\": \"https://arxiv.org/format/2010.13494\"}', 'article_url': 'https://arxiv.org/abs/2010.13494'}\n",
      "{'file_info': '{\"pdf\": \"https://arxiv.org/pdf/2010.14694\", \"other\": \"https://arxiv.org/format/2010.14694\"}', 'article_url': 'https://arxiv.org/abs/2010.14694'}\n",
      "{'file_info': '{\"pdf\": \"https://arxiv.org/pdf/2010.14778\", \"other\": \"https://arxiv.org/format/2010.14778\"}', 'article_url': 'https://arxiv.org/abs/2010.14778'}\n",
      "{'file_info': '{\"pdf\": \"https://arxiv.org/pdf/2010.15382\", \"other\": \"https://arxiv.org/format/2010.15382\"}', 'article_url': 'https://arxiv.org/abs/2010.15382'}\n",
      "{'file_info': '{\"pdf\": \"https://arxiv.org/pdf/2010.15768\", \"ps\": \"https://arxiv.org/ps/2010.15768\", \"other\": \"https://arxiv.org/format/2010.15768\"}', 'article_url': 'https://arxiv.org/abs/2010.15768'}\n",
      "{'file_info': '{\"pdf\": \"https://arxiv.org/pdf/2011.00583\", \"ps\": \"https://arxiv.org/ps/2011.00583\", \"other\": \"https://arxiv.org/format/2011.00583\"}', 'article_url': 'https://arxiv.org/abs/2011.00583'}\n",
      "{'file_info': '{\"pdf\": \"https://arxiv.org/pdf/2011.02258\", \"ps\": \"https://arxiv.org/ps/2011.02258\", \"other\": \"https://arxiv.org/format/2011.02258\"}', 'article_url': 'https://arxiv.org/abs/2011.02258'}\n",
      "{'file_info': '{\"pdf\": \"https://arxiv.org/pdf/2011.02796\", \"other\": \"https://arxiv.org/format/2011.02796\"}', 'article_url': 'https://arxiv.org/abs/2011.02796'}\n",
      "{'file_info': '{\"pdf\": \"https://arxiv.org/pdf/2011.03043\", \"other\": \"https://arxiv.org/format/2011.03043\"}', 'article_url': 'https://arxiv.org/abs/2011.03043'}\n",
      "{'file_info': '{\"pdf\": \"https://arxiv.org/pdf/2011.03964\", \"ps\": \"https://arxiv.org/ps/2011.03964\", \"other\": \"https://arxiv.org/format/2011.03964\"}', 'article_url': 'https://arxiv.org/abs/2011.03964'}\n",
      "{'file_info': '{\"pdf\": \"https://arxiv.org/pdf/2011.04782\", \"ps\": \"https://arxiv.org/ps/2011.04782\", \"other\": \"https://arxiv.org/format/2011.04782\"}', 'article_url': 'https://arxiv.org/abs/2011.04782'}\n",
      "{'file_info': '{\"pdf\": \"https://arxiv.org/pdf/2011.04820\", \"other\": \"https://arxiv.org/format/2011.04820\"}', 'article_url': 'https://arxiv.org/abs/2011.04820'}\n",
      "{'file_info': '{\"pdf\": \"https://arxiv.org/pdf/2011.07122\", \"other\": \"https://arxiv.org/format/2011.07122\"}', 'article_url': 'https://arxiv.org/abs/2011.07122'}\n",
      "{'file_info': '{\"pdf\": \"https://arxiv.org/pdf/2011.08159\", \"other\": \"https://arxiv.org/format/2011.08159\"}', 'article_url': 'https://arxiv.org/abs/2011.08159'}\n",
      "{'file_info': '{\"pdf\": \"https://arxiv.org/pdf/2011.08388\", \"other\": \"https://arxiv.org/format/2011.08388\"}', 'article_url': 'https://arxiv.org/abs/2011.08388'}\n",
      "{'file_info': '{\"pdf\": \"https://arxiv.org/pdf/2011.10510\"}', 'article_url': 'https://arxiv.org/abs/2011.10510'}\n",
      "{'file_info': '{\"pdf\": \"https://arxiv.org/pdf/2011.10659\", \"ps\": \"https://arxiv.org/ps/2011.10659\", \"other\": \"https://arxiv.org/format/2011.10659\"}', 'article_url': 'https://arxiv.org/abs/2011.10659'}\n",
      "{'file_info': '{\"pdf\": \"https://arxiv.org/pdf/2011.10672\"}', 'article_url': 'https://arxiv.org/abs/2011.10672'}\n",
      "{'file_info': '{\"pdf\": \"https://arxiv.org/pdf/2011.11692\", \"ps\": \"https://arxiv.org/ps/2011.11692\", \"other\": \"https://arxiv.org/format/2011.11692\"}', 'article_url': 'https://arxiv.org/abs/2011.11692'}\n",
      "{'file_info': '{\"pdf\": \"https://arxiv.org/pdf/2011.12090\"}', 'article_url': 'https://arxiv.org/abs/2011.12090'}\n",
      "{'file_info': '{\"pdf\": \"https://arxiv.org/pdf/2011.13986\", \"other\": \"https://arxiv.org/format/2011.13986\"}', 'article_url': 'https://arxiv.org/abs/2011.13986'}\n",
      "{'file_info': '{\"pdf\": \"https://arxiv.org/pdf/2011.15122\", \"ps\": \"https://arxiv.org/ps/2011.15122\", \"other\": \"https://arxiv.org/format/2011.15122\"}', 'article_url': 'https://arxiv.org/abs/2011.15122'}\n",
      "{'file_info': '{\"pdf\": \"https://arxiv.org/pdf/2012.02398\", \"other\": \"https://arxiv.org/format/2012.02398\"}', 'article_url': 'https://arxiv.org/abs/2012.02398'}\n",
      "{'file_info': '{\"pdf\": \"https://arxiv.org/pdf/2012.03112\", \"other\": \"https://arxiv.org/format/2012.03112\"}', 'article_url': 'https://arxiv.org/abs/2012.03112'}\n",
      "{'file_info': '{\"pdf\": \"https://arxiv.org/pdf/2012.04254\", \"other\": \"https://arxiv.org/format/2012.04254\"}', 'article_url': 'https://arxiv.org/abs/2012.04254'}\n",
      "{'file_info': '{\"pdf\": \"https://arxiv.org/pdf/2012.04726\", \"other\": \"https://arxiv.org/format/2012.04726\"}', 'article_url': 'https://arxiv.org/abs/2012.04726'}\n",
      "{'file_info': '{\"pdf\": \"https://arxiv.org/pdf/2012.06441\", \"other\": \"https://arxiv.org/format/2012.06441\"}', 'article_url': 'https://arxiv.org/abs/2012.06441'}\n",
      "{'file_info': '{\"pdf\": \"https://arxiv.org/pdf/2012.07139\", \"other\": \"https://arxiv.org/format/2012.07139\"}', 'article_url': 'https://arxiv.org/abs/2012.07139'}\n",
      "{'file_info': '{\"pdf\": \"https://arxiv.org/pdf/2012.07231\", \"ps\": \"https://arxiv.org/ps/2012.07231\", \"other\": \"https://arxiv.org/format/2012.07231\"}', 'article_url': 'https://arxiv.org/abs/2012.07231'}\n",
      "{'file_info': '{\"pdf\": \"https://arxiv.org/pdf/2012.07903\", \"ps\": \"https://arxiv.org/ps/2012.07903\", \"other\": \"https://arxiv.org/format/2012.07903\"}', 'article_url': 'https://arxiv.org/abs/2012.07903'}\n",
      "{'file_info': '{\"pdf\": \"https://arxiv.org/pdf/2012.08476\", \"other\": \"https://arxiv.org/format/2012.08476\"}', 'article_url': 'https://arxiv.org/abs/2012.08476'}\n",
      "{'file_info': '{\"pdf\": \"https://arxiv.org/pdf/2012.09766\", \"other\": \"https://arxiv.org/format/2012.09766\"}', 'article_url': 'https://arxiv.org/abs/2012.09766'}\n",
      "{'file_info': '{\"pdf\": \"https://arxiv.org/pdf/2012.10186\", \"ps\": \"https://arxiv.org/ps/2012.10186\", \"other\": \"https://arxiv.org/format/2012.10186\"}', 'article_url': 'https://arxiv.org/abs/2012.10186'}\n",
      "{'file_info': '{\"pdf\": \"https://arxiv.org/pdf/2012.10700\", \"other\": \"https://arxiv.org/format/2012.10700\"}', 'article_url': 'https://arxiv.org/abs/2012.10700'}\n",
      "{'file_info': '{\"pdf\": \"https://arxiv.org/pdf/2012.10711\", \"other\": \"https://arxiv.org/format/2012.10711\"}', 'article_url': 'https://arxiv.org/abs/2012.10711'}\n",
      "{'file_info': '{\"pdf\": \"https://arxiv.org/pdf/2012.11159\", \"ps\": \"https://arxiv.org/ps/2012.11159\", \"other\": \"https://arxiv.org/format/2012.11159\"}', 'article_url': 'https://arxiv.org/abs/2012.11159'}\n",
      "{'file_info': '{\"pdf\": \"https://arxiv.org/pdf/2012.12311\"}', 'article_url': 'https://arxiv.org/abs/2012.12311'}\n",
      "{'file_info': '{\"pdf\": \"https://arxiv.org/pdf/2012.12689\", \"ps\": \"https://arxiv.org/ps/2012.12689\", \"other\": \"https://arxiv.org/format/2012.12689\"}', 'article_url': 'https://arxiv.org/abs/2012.12689'}\n",
      "{'file_info': '{\"pdf\": \"https://arxiv.org/pdf/2012.13091\", \"other\": \"https://arxiv.org/format/2012.13091\"}', 'article_url': 'https://arxiv.org/abs/2012.13091'}\n",
      "{'file_info': '{\"pdf\": \"https://arxiv.org/pdf/2012.13113\", \"other\": \"https://arxiv.org/format/2012.13113\"}', 'article_url': 'https://arxiv.org/abs/2012.13113'}\n",
      "{'file_info': '{\"pdf\": \"https://arxiv.org/pdf/2012.13773\"}', 'article_url': 'https://arxiv.org/abs/2012.13773'}\n",
      "{'file_info': '{\"pdf\": \"https://arxiv.org/pdf/2012.14300\", \"ps\": \"https://arxiv.org/ps/2012.14300\", \"other\": \"https://arxiv.org/format/2012.14300\"}', 'article_url': 'https://arxiv.org/abs/2012.14300'}\n",
      "{'file_info': '{\"pdf\": \"https://arxiv.org/pdf/2012.15257\", \"ps\": \"https://arxiv.org/ps/2012.15257\", \"other\": \"https://arxiv.org/format/2012.15257\"}', 'article_url': 'https://arxiv.org/abs/2012.15257'}\n",
      "{'file_info': '{\"pdf\": \"https://arxiv.org/pdf/2012.15830\", \"other\": \"https://arxiv.org/format/2012.15830\"}', 'article_url': 'https://arxiv.org/abs/2012.15830'}\n",
      "{'file_info': '{\"pdf\": \"https://arxiv.org/pdf/2101.00863\", \"other\": \"https://arxiv.org/format/2101.00863\"}', 'article_url': 'https://arxiv.org/abs/2101.00863'}\n",
      "{'file_info': '{\"pdf\": \"https://arxiv.org/pdf/2101.01162\", \"other\": \"https://arxiv.org/format/2101.01162\"}', 'article_url': 'https://arxiv.org/abs/2101.01162'}\n",
      "{'file_info': '{\"pdf\": \"https://arxiv.org/pdf/2101.02157\", \"other\": \"https://arxiv.org/format/2101.02157\"}', 'article_url': 'https://arxiv.org/abs/2101.02157'}\n",
      "{'file_info': '{\"pdf\": \"https://arxiv.org/pdf/2101.02338\", \"other\": \"https://arxiv.org/format/2101.02338\"}', 'article_url': 'https://arxiv.org/abs/2101.02338'}\n",
      "{'file_info': '{\"pdf\": \"https://arxiv.org/pdf/2101.02632\", \"other\": \"https://arxiv.org/format/2101.02632\"}', 'article_url': 'https://arxiv.org/abs/2101.02632'}\n",
      "{'file_info': '{\"pdf\": \"https://arxiv.org/pdf/2101.03482\", \"other\": \"https://arxiv.org/format/2101.03482\"}', 'article_url': 'https://arxiv.org/abs/2101.03482'}\n",
      "{'file_info': '{\"pdf\": \"https://arxiv.org/pdf/2101.03712\", \"other\": \"https://arxiv.org/format/2101.03712\"}', 'article_url': 'https://arxiv.org/abs/2101.03712'}\n",
      "{'file_info': '{\"pdf\": \"https://arxiv.org/pdf/2101.04281\", \"other\": \"https://arxiv.org/format/2101.04281\"}', 'article_url': 'https://arxiv.org/abs/2101.04281'}\n",
      "{'file_info': '{\"pdf\": \"https://arxiv.org/pdf/2101.04914\", \"other\": \"https://arxiv.org/format/2101.04914\"}', 'article_url': 'https://arxiv.org/abs/2101.04914'}\n",
      "{'file_info': '{\"pdf\": \"https://arxiv.org/pdf/2101.05057\", \"other\": \"https://arxiv.org/format/2101.05057\"}', 'article_url': 'https://arxiv.org/abs/2101.05057'}\n",
      "{'file_info': '{\"pdf\": \"https://arxiv.org/pdf/2101.06757\", \"ps\": \"https://arxiv.org/ps/2101.06757\", \"other\": \"https://arxiv.org/format/2101.06757\"}', 'article_url': 'https://arxiv.org/abs/2101.06757'}\n",
      "{'file_info': '{\"pdf\": \"https://arxiv.org/pdf/2101.07914\", \"other\": \"https://arxiv.org/format/2101.07914\"}', 'article_url': 'https://arxiv.org/abs/2101.07914'}\n",
      "{'file_info': '{\"pdf\": \"https://arxiv.org/pdf/2101.08939\", \"other\": \"https://arxiv.org/format/2101.08939\"}', 'article_url': 'https://arxiv.org/abs/2101.08939'}\n",
      "{'file_info': '{\"pdf\": \"https://arxiv.org/pdf/2101.09306\", \"other\": \"https://arxiv.org/format/2101.09306\"}', 'article_url': 'https://arxiv.org/abs/2101.09306'}\n",
      "{'file_info': '{\"pdf\": \"https://arxiv.org/pdf/2101.09868\", \"other\": \"https://arxiv.org/format/2101.09868\"}', 'article_url': 'https://arxiv.org/abs/2101.09868'}\n",
      "{'file_info': '{\"pdf\": \"https://arxiv.org/pdf/2101.09875\", \"ps\": \"https://arxiv.org/ps/2101.09875\", \"other\": \"https://arxiv.org/format/2101.09875\"}', 'article_url': 'https://arxiv.org/abs/2101.09875'}\n",
      "{'file_info': '{\"pdf\": \"https://arxiv.org/pdf/2101.11087\", \"other\": \"https://arxiv.org/format/2101.11087\"}', 'article_url': 'https://arxiv.org/abs/2101.11087'}\n",
      "{'file_info': '{\"pdf\": \"https://arxiv.org/pdf/2101.11505\"}', 'article_url': 'https://arxiv.org/abs/2101.11505'}\n",
      "{'file_info': '{\"pdf\": \"https://arxiv.org/pdf/2102.00055\", \"ps\": \"https://arxiv.org/ps/2102.00055\", \"other\": \"https://arxiv.org/format/2102.00055\"}', 'article_url': 'https://arxiv.org/abs/2102.00055'}\n",
      "{'file_info': '{\"pdf\": \"https://arxiv.org/pdf/2102.01130\", \"other\": \"https://arxiv.org/format/2102.01130\"}', 'article_url': 'https://arxiv.org/abs/2102.01130'}\n",
      "{'file_info': '{\"pdf\": \"https://arxiv.org/pdf/2102.01295\", \"other\": \"https://arxiv.org/format/2102.01295\"}', 'article_url': 'https://arxiv.org/abs/2102.01295'}\n",
      "{'file_info': '{\"pdf\": \"https://arxiv.org/pdf/2102.02515\", \"other\": \"https://arxiv.org/format/2102.02515\"}', 'article_url': 'https://arxiv.org/abs/2102.02515'}\n",
      "{'file_info': '{\"pdf\": \"https://arxiv.org/pdf/2102.02837\", \"ps\": \"https://arxiv.org/ps/2102.02837\", \"other\": \"https://arxiv.org/format/2102.02837\"}', 'article_url': 'https://arxiv.org/abs/2102.02837'}\n",
      "{'file_info': '{\"pdf\": \"https://arxiv.org/pdf/2102.04259\", \"ps\": \"https://arxiv.org/ps/2102.04259\", \"other\": \"https://arxiv.org/format/2102.04259\"}', 'article_url': 'https://arxiv.org/abs/2102.04259'}\n",
      "{'file_info': '{\"pdf\": \"https://arxiv.org/pdf/2102.05077\", \"ps\": \"https://arxiv.org/ps/2102.05077\", \"other\": \"https://arxiv.org/format/2102.05077\"}', 'article_url': 'https://arxiv.org/abs/2102.05077'}\n",
      "{'file_info': '{\"pdf\": \"https://arxiv.org/pdf/2102.05952\", \"other\": \"https://arxiv.org/format/2102.05952\"}', 'article_url': 'https://arxiv.org/abs/2102.05952'}\n"
     ]
    }
   ],
   "execution_count": 59
  },
  {
   "metadata": {},
   "cell_type": "code",
   "outputs": [],
   "execution_count": null,
   "source": "",
   "id": "27babb00cb1167e5"
  }
 ],
 "metadata": {
  "kernelspec": {
   "display_name": "Python 3",
   "language": "python",
   "name": "python3"
  },
  "language_info": {
   "codemirror_mode": {
    "name": "ipython",
    "version": 2
   },
   "file_extension": ".py",
   "mimetype": "text/x-python",
   "name": "python",
   "nbconvert_exporter": "python",
   "pygments_lexer": "ipython2",
   "version": "2.7.6"
  }
 },
 "nbformat": 4,
 "nbformat_minor": 5
}
