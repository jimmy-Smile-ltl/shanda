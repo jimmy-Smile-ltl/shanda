{
 "cells": [
  {
   "cell_type": "code",
   "id": "initial_id",
   "metadata": {
    "collapsed": true,
    "ExecuteTime": {
     "end_time": "2025-09-29T06:23:23.710669Z",
     "start_time": "2025-09-29T06:23:22.304374Z"
    }
   },
   "source": [
    "import requests\n",
    "\n",
    "\n",
    "headers = {\n",
    "    \"accept\": \"text/html,application/xhtml+xml,application/xml;q=0.9,image/avif,image/webp,image/apng,*/*;q=0.8,application/signed-exchange;v=b3;q=0.7\",\n",
    "    \"accept-language\": \"en,en-CN;q=0.9,zh-CN;q=0.8,zh;q=0.7\",\n",
    "    \"cache-control\": \"max-age=0\",\n",
    "    \"priority\": \"u=0, i\",\n",
    "    \"referer\": \"https://papercopilot.com/paper-list/iclr-paper-list/iclr-2024-paper-list/\",\n",
    "    \"sec-ch-ua\": \"\\\"Chromium\\\";v=\\\"140\\\", \\\"Not=A?Brand\\\";v=\\\"24\\\", \\\"Google Chrome\\\";v=\\\"140\\\"\",\n",
    "    \"sec-ch-ua-mobile\": \"?0\",\n",
    "    \"sec-ch-ua-platform\": \"\\\"macOS\\\"\",\n",
    "    \"sec-fetch-dest\": \"document\",\n",
    "    \"sec-fetch-mode\": \"navigate\",\n",
    "    \"sec-fetch-site\": \"same-origin\",\n",
    "    \"sec-fetch-user\": \"?1\",\n",
    "    \"upgrade-insecure-requests\": \"1\",\n",
    "    \"user-agent\": \"Mozilla/5.0 (Macintosh; Intel Mac OS X 10_15_7) AppleWebKit/537.36 (KHTML, like Gecko) Chrome/140.0.0.0 Safari/537.36\"\n",
    "}\n",
    "cookies = {\n",
    "    \"_tccl_visitor\": \"21769c9c-9781-4205-a83c-8938c7a83236\",\n",
    "    \"_pk_id.2.30ef\": \"84459300603ce2ac.1758596575.\",\n",
    "    \"_ga\": \"GA1.1.1145355355.1758596577\",\n",
    "    \"_gcl_au\": \"1.1.1169814932.1758596577\",\n",
    "    \"_tccl_visit\": \"528b8595-3507-4b0d-bc3d-fa3e7f406fbb\",\n",
    "    \"_pk_ref.2.30ef\": \"%5B%22%22%2C%22%22%2C1759126450%2C%22https%3A%2F%2Fwww.google.com.hk%2F%22%5D\",\n",
    "    \"_pk_ses.2.30ef\": \"1\",\n",
    "    \"_scc_session\": \"pc=7&C_TOUCH=2025-09-29T06:21:34.322Z\",\n",
    "    \"_ga_S8172K852X\": \"GS2.1.s1759126449$o6$g1$t1759126899$j41$l0$h195758030\"\n",
    "}\n",
    "url = \"https://papercopilot.com/\"\n",
    "response = requests.get(url, headers=headers, cookies=cookies)\n",
    "\n",
    "print(response.text[:200])\n",
    "print(response)"
   ],
   "outputs": [
    {
     "name": "stdout",
     "output_type": "stream",
     "text": [
      "<!doctype html>\n",
      "<html lang=\"en\" prefix=\"og: https://ogp.me/ns#\" class=\"no-js-disabled\">\n",
      "<head>\n",
      "\t<meta charset=\"UTF-8\"/>\n",
      "\t<meta name=\"viewport\" content=\"width=device-width, initial-scale=1\"/>\n",
      "\t<link re\n",
      "<Response [200]>\n"
     ]
    }
   ],
   "execution_count": 1
  },
  {
   "metadata": {
    "ExecuteTime": {
     "end_time": "2025-09-29T06:23:35.638343Z",
     "start_time": "2025-09-29T06:23:35.555086Z"
    }
   },
   "cell_type": "code",
   "source": [
    "from bs4 import BeautifulSoup\n",
    "soup = BeautifulSoup(response.text, 'html.parser')"
   ],
   "id": "f5aeab14e5c51310",
   "outputs": [],
   "execution_count": 2
  },
  {
   "metadata": {
    "ExecuteTime": {
     "end_time": "2025-09-29T06:24:39.423201Z",
     "start_time": "2025-09-29T06:24:39.410527Z"
    }
   },
   "cell_type": "code",
   "source": [
    "trs = soup.select(\"#table-confs tbody  tr\")\n",
    "len(trs)"
   ],
   "id": "9c9df22dc8ec2023",
   "outputs": [
    {
     "data": {
      "text/plain": [
       "22"
      ]
     },
     "execution_count": 3,
     "metadata": {},
     "output_type": "execute_result"
    }
   ],
   "execution_count": 3
  },
  {
   "metadata": {
    "ExecuteTime": {
     "end_time": "2025-09-29T06:30:56.874572Z",
     "start_time": "2025-09-29T06:30:56.867055Z"
    }
   },
   "cell_type": "code",
   "source": [
    "trs = soup.select(\"div.intro-shortcode > table:nth-child(7) tbody tr\")\n",
    "len(trs)"
   ],
   "id": "2feffabf7409434",
   "outputs": [
    {
     "data": {
      "text/plain": [
       "9"
      ]
     },
     "execution_count": 6,
     "metadata": {},
     "output_type": "execute_result"
    }
   ],
   "execution_count": 6
  },
  {
   "metadata": {
    "ExecuteTime": {
     "end_time": "2025-09-29T06:34:02.416522Z",
     "start_time": "2025-09-29T06:34:02.413661Z"
    }
   },
   "cell_type": "code",
   "source": [
    "data_list = []\n",
    "for tr in trs:\n",
    "    cat_name = tr.select_one(\"td:nth-child(1) a\").get_text().strip()\n",
    "    cat_stat_href = tr.select_one(\"td:nth-child(1) a\").get(\"href\",\"\").strip()\n",
    "    cat_stat_url = \"https://papercopilot.com\" + cat_stat_href if cat_stat_href else \"\"\n",
    "    print(f\"{cat_name}  {cat_stat_url}\")"
   ],
   "id": "922ded1fd2707a20",
   "outputs": [
    {
     "name": "stdout",
     "output_type": "stream",
     "text": [
      "Artificial Intelligence  https://papercopilot.com/statistics/#Artificial Intelligence\n",
      "Computational Linguistics  https://papercopilot.com/statistics/#Computational Linguistics\n",
      "Computer Graphics  https://papercopilot.com/statistics/#Computer Graphics\n",
      "Computer Networks & Wireless Communication  https://papercopilot.com/statistics/#Computer Networks &amp; Wireless Communication\n",
      "Computer Vision & Pattern Recognition  https://papercopilot.com/statistics/#Computer Vision &amp; Pattern Recognition\n",
      "Data Mining & Analysis  https://papercopilot.com/statistics/#Data Mining &amp; Analysis\n",
      "Databases & Information Systems  https://papercopilot.com/statistics/#Databases &amp; Information Systems\n",
      "Multimedia  https://papercopilot.com/statistics/#Multimedia\n",
      "Robotics  https://papercopilot.com/statistics/#Robotics\n"
     ]
    }
   ],
   "execution_count": 9
  },
  {
   "metadata": {
    "ExecuteTime": {
     "end_time": "2025-09-29T06:43:40.394110Z",
     "start_time": "2025-09-29T06:43:40.377609Z"
    }
   },
   "cell_type": "code",
   "source": [
    "data_list = []\n",
    "for tr in trs:\n",
    "    cat_name = tr.select_one(\"td:nth-child(1) a\").get_text().strip()\n",
    "    cat_stat_href = tr.select_one(\"td:nth-child(1) a\").get(\"href\",\"\").strip()\n",
    "    cat_stat_url = \"https://papercopilot.com\" + cat_stat_href if cat_stat_href else \"\"\n",
    "    print(f\"{cat_name}  {cat_stat_url}\")\n",
    "    sub_conf = tr.select(\"td:nth-child(2) > ul.top-menu > li.menu-item-has-children > a\")\n",
    "    print(len(sub_conf))\n"
   ],
   "id": "321a1050e43b8812",
   "outputs": [
    {
     "name": "stdout",
     "output_type": "stream",
     "text": [
      "Artificial Intelligence  https://papercopilot.com/statistics/#Artificial Intelligence\n",
      "13\n",
      "Computational Linguistics  https://papercopilot.com/statistics/#Computational Linguistics\n",
      "6\n",
      "Computer Graphics  https://papercopilot.com/statistics/#Computer Graphics\n",
      "3\n",
      "Computer Networks & Wireless Communication  https://papercopilot.com/statistics/#Computer Networks &amp; Wireless Communication\n",
      "1\n",
      "Computer Vision & Pattern Recognition  https://papercopilot.com/statistics/#Computer Vision &amp; Pattern Recognition\n",
      "6\n",
      "Data Mining & Analysis  https://papercopilot.com/statistics/#Data Mining &amp; Analysis\n",
      "1\n",
      "Databases & Information Systems  https://papercopilot.com/statistics/#Databases &amp; Information Systems\n",
      "2\n",
      "Multimedia  https://papercopilot.com/statistics/#Multimedia\n",
      "1\n",
      "Robotics  https://papercopilot.com/statistics/#Robotics\n",
      "3\n"
     ]
    }
   ],
   "execution_count": 13
  },
  {
   "metadata": {
    "ExecuteTime": {
     "end_time": "2025-09-29T07:19:55.343415Z",
     "start_time": "2025-09-29T07:19:55.318910Z"
    }
   },
   "cell_type": "code",
   "source": [
    "from urllib.parse import urljoin\n",
    "\n",
    "data_list = []\n",
    "for tr in trs:\n",
    "    cat_name = tr.select_one(\"td:nth-child(1) a\").get_text().strip()\n",
    "    cat_stat_href = tr.select_one(\"td:nth-child(1) a\").get(\"href\",\"\").strip()\n",
    "    cat_stat_url = \"https://papercopilot.com\" + cat_stat_href if cat_stat_href else \"\"\n",
    "    print(f\"{cat_name}  {cat_stat_url}\")\n",
    "    sub_list = []\n",
    "    sub_conf = tr.select(\"td:nth-child(2) > ul.top-menu > li.menu-item-has-children\")\n",
    "    for sub in sub_conf:\n",
    "        sub_name = sub.select_one(\"a\").get_text().strip()\n",
    "        sub_href = sub.select_one(\"a\").get(\"href\",\"\").strip()\n",
    "        sub_url = urljoin(base = \"https://papercopilot.com\", url = sub_href) if sub_href else \"\"\n",
    "        if not sub_url:\n",
    "            sub_url = []\n",
    "            per_year_tag =sub.select(\"ul.sub-menu > li.menu-item-has-children\")\n",
    "            for per_year in per_year_tag:\n",
    "                year_name = per_year.select_one(\"a span.nav-menu-item-inside\").get_text().strip()\n",
    "                type_url = per_year.select_one(\"ul.sub-menu > li > ul.sub-menu > li > a\")\n",
    "                type_text = type_url.get_text().strip() if type_url else \"\"\n",
    "                sub_url.append({\n",
    "                    \"year_name\": year_name,\n",
    "                    \"type_text\": type_text,\n",
    "                    \"type_url\": urljoin(base = \"https://papercopilot.com\", url = type_url.get(\"href\",\"\").strip()) if type_url and type_url.get(\"href\",\"\").strip() else \"\"\n",
    "                })\n",
    "        sub_list.append({\n",
    "            \"conf_name\": sub_name,\n",
    "            \"conf_url\": sub_url\n",
    "        })\n",
    "    data_list.append({\n",
    "        \"cat_name\": cat_name,\n",
    "        \"cat_stat_url\": cat_stat_url,\n",
    "        \"conf_list\": sub_list\n",
    "    })\n",
    "import  json\n",
    "with open(\"./papercopilot_conference_list.json\",\"w\",encoding=\"utf-8\") as f:\n",
    "    json.dump(data_list,f,ensure_ascii=False,indent=4)"
   ],
   "id": "1ddf3f004365867",
   "outputs": [
    {
     "name": "stdout",
     "output_type": "stream",
     "text": [
      "Artificial Intelligence  https://papercopilot.com/statistics/#Artificial Intelligence\n",
      "Computational Linguistics  https://papercopilot.com/statistics/#Computational Linguistics\n",
      "Computer Graphics  https://papercopilot.com/statistics/#Computer Graphics\n",
      "Computer Networks & Wireless Communication  https://papercopilot.com/statistics/#Computer Networks &amp; Wireless Communication\n",
      "Computer Vision & Pattern Recognition  https://papercopilot.com/statistics/#Computer Vision &amp; Pattern Recognition\n",
      "Data Mining & Analysis  https://papercopilot.com/statistics/#Data Mining &amp; Analysis\n",
      "Databases & Information Systems  https://papercopilot.com/statistics/#Databases &amp; Information Systems\n",
      "Multimedia  https://papercopilot.com/statistics/#Multimedia\n",
      "Robotics  https://papercopilot.com/statistics/#Robotics\n"
     ]
    }
   ],
   "execution_count": 25
  },
  {
   "metadata": {
    "ExecuteTime": {
     "end_time": "2025-09-29T06:38:22.692578Z",
     "start_time": "2025-09-29T06:38:22.687286Z"
    }
   },
   "cell_type": "code",
   "source": [
    "with open(\"./test.html\",\"w\",encoding=\"utf-8\") as f:\n",
    "    f.write(response.text)"
   ],
   "id": "13076494f1904eca",
   "outputs": [],
   "execution_count": 11
  },
  {
   "metadata": {},
   "cell_type": "code",
   "outputs": [],
   "execution_count": null,
   "source": "",
   "id": "e51632b98e730003"
  }
 ],
 "metadata": {
  "kernelspec": {
   "display_name": "Python 3",
   "language": "python",
   "name": "python3"
  },
  "language_info": {
   "codemirror_mode": {
    "name": "ipython",
    "version": 2
   },
   "file_extension": ".py",
   "mimetype": "text/x-python",
   "name": "python",
   "nbconvert_exporter": "python",
   "pygments_lexer": "ipython2",
   "version": "2.7.6"
  }
 },
 "nbformat": 4,
 "nbformat_minor": 5
}
