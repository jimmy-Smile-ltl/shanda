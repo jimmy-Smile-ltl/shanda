{
 "cells": [
  {
   "cell_type": "code",
   "id": "initial_id",
   "metadata": {
    "collapsed": true,
    "ExecuteTime": {
     "end_time": "2025-09-23T14:06:27.998926Z",
     "start_time": "2025-09-23T14:06:27.234009Z"
    }
   },
   "source": [
    "import requests\n",
    "\n",
    "\n",
    "headers = {\n",
    "    \"Accept\": \"text/html,application/xhtml+xml,application/xml;q=0.9,image/avif,image/webp,image/apng,*/*;q=0.8,application/signed-exchange;v=b3;q=0.7\",\n",
    "    \"Accept-Language\": \"en,en-CN;q=0.9,zh-CN;q=0.8,zh;q=0.7\",\n",
    "    \"Cache-Control\": \"max-age=0\",\n",
    "    \"Connection\": \"keep-alive\",\n",
    "    \"If-Modified-Since\": \"Tue, 02 Sep 2025 02:33:13 GMT\",\n",
    "    \"If-None-Match\": \"W/\\\"68b65769-141d\\\"\",\n",
    "    \"Referer\": \"https://booking.1hai.cn/Order/BrandStep1/?from=Nav\",\n",
    "    \"Sec-Fetch-Dest\": \"document\",\n",
    "    \"Sec-Fetch-Mode\": \"navigate\",\n",
    "    \"Sec-Fetch-Site\": \"same-origin\",\n",
    "    \"Sec-Fetch-User\": \"?1\",\n",
    "    \"Upgrade-Insecure-Requests\": \"1\",\n",
    "    \"User-Agent\": \"Mozilla/5.0 (Windows NT 10.0; Win64; x64) AppleWebKit/537.36 (KHTML, like Gecko) Chrome/140.0.0.0 Safari/537.36\",\n",
    "    \"sec-ch-ua\": \"\\\"Chromium\\\";v=\\\"140\\\", \\\"Not=A?Brand\\\";v=\\\"24\\\", \\\"Google Chrome\\\";v=\\\"140\\\"\",\n",
    "    \"sec-ch-ua-mobile\": \"?0\",\n",
    "    \"sec-ch-ua-platform\": \"\\\"Windows\\\"\"\n",
    "}\n",
    "cookies = {\n",
    "    \"SECKEY_ABVK\": \"HqHzG9F0pt4VBwYQ9JepTtAXntjZvm8F1Q8amI8PvpEYxceTITcILblczThZL3t8bO5bekYtj6KKDOQIOYEZpw%3D%3D\",\n",
    "    \"BMAP_SECKEY\": \"HqHzG9F0pt4VBwYQ9JepTtAXntjZvm8F1Q8amI8PvpEXBNjtmScZTLdrT6lN9QQEPmB13NvRmRxizFskjSR1SJuvCxjiFfmZ1h26DIFl17ule8rvHTiyTD6HmGCn5Q9Z5SUCFuf-ieqEA8bRWmNp8zhMcgO_M396JG_Hc842HGjz_w89SqgR7VP_DgPiaw-INv6e2EnbOzP8arHpHTIEIGwQZOqwhuTrFe1B0vuNCqU\",\n",
    "    \"sajssdk_2015_cross_new_user\": \"1\",\n",
    "    \"sensorsdata2015jssdkcross\": \"%7B%22distinct_id%22%3A%2219976d01ffb0-0ed6f3d351a7f9-26061951-1166400-19976d01ffec98%22%2C%22%24device_id%22%3A%2219976d01ffb0-0ed6f3d351a7f9-26061951-1166400-19976d01ffec98%22%2C%22props%22%3A%7B%7D%2C%22identities%22%3A%22eyIkaWRlbnRpdHlfYW5vbnltb3VzX2lkIjoiMTk5NzZkMDFmZmIwLTBlZDZmM2QzNTFhN2Y5LTI2MDYxOTUxLTExNjY0MDAtMTk5NzZkMDFmZmVjOTgiLCIkaWRlbnRpdHlfY29va2llX2lkIjoiMTk5NzZkMTMwYjUxOWNmLTBjNmE4ZmIyNzY2OWM1OC0yNjA2MTk1MS0xMTY2NDAwLTE5OTc2ZDEzMGI2MWI3YSJ9%22%2C%22history_login_id%22%3A%7B%22name%22%3A%22%22%2C%22value%22%3A%22%22%7D%7D\"\n",
    "}\n",
    "url = \"https://booking.1hai.cn/order/firstStep\"\n",
    "response = requests.get(url, headers=headers, cookies=cookies)\n",
    "\n",
    "print(response.text[:200])\n",
    "print(response)"
   ],
   "outputs": [
    {
     "name": "stdout",
     "output_type": "stream",
     "text": [
      "\n",
      "<Response [304]>\n"
     ]
    }
   ],
   "execution_count": 1
  },
  {
   "metadata": {
    "ExecuteTime": {
     "end_time": "2025-09-28T08:46:40.043326Z",
     "start_time": "2025-09-28T08:46:40.022648Z"
    }
   },
   "cell_type": "code",
   "source": [
    "from bs4 import BeautifulSoup\n",
    "file = open('./home.html', 'r', encoding='utf-8')\n",
    "soup = BeautifulSoup(file, 'html.parser')\n"
   ],
   "id": "fe16b18728483a13",
   "outputs": [],
   "execution_count": 4
  },
  {
   "metadata": {
    "ExecuteTime": {
     "end_time": "2025-09-28T08:49:07.727784Z",
     "start_time": "2025-09-28T08:49:07.712964Z"
    }
   },
   "cell_type": "code",
   "source": [
    "cat_list = soup.select(\"div.ant-tabs-tabpane dl\")\n",
    "city_list = []\n",
    "for cat in cat_list:\n",
    "    if \"hot-city\" in cat.get(\"class\",[]):\n",
    "        print(\"跳过热门城市\")\n",
    "        continue\n",
    "    item_list = cat.select(\"dd > span\")\n",
    "    for item in item_list:\n",
    "        city_list.append(item.text.strip())\n",
    "print(len(city_list))\n",
    "print(len(cat_list))\n",
    "import json\n",
    "json_str = json.dumps(city_list, ensure_ascii=False, indent=4)\n",
    "with open('cats.json', 'w', encoding='utf-8') as f:\n",
    "    f.write(json_str)\n",
    "    "
   ],
   "id": "eadf3480188381d",
   "outputs": [
    {
     "name": "stdout",
     "output_type": "stream",
     "text": [
      "跳过热门城市\n",
      "514\n",
      "6\n"
     ]
    }
   ],
   "execution_count": 10
  },
  {
   "metadata": {
    "ExecuteTime": {
     "end_time": "2025-09-28T08:48:41.920231Z",
     "start_time": "2025-09-28T08:48:41.917819Z"
    }
   },
   "cell_type": "code",
   "source": "cat.get(\"class\",[])",
   "id": "7a776b649ddbda88",
   "outputs": [
    {
     "data": {
      "text/plain": [
       "[]"
      ]
     },
     "execution_count": 9,
     "metadata": {},
     "output_type": "execute_result"
    }
   ],
   "execution_count": 9
  },
  {
   "metadata": {
    "ExecuteTime": {
     "end_time": "2025-09-28T08:48:31.160550Z",
     "start_time": "2025-09-28T08:48:31.157497Z"
    }
   },
   "cell_type": "code",
   "source": "cat_list[0].get(\"class\")",
   "id": "5f785497717e5272",
   "outputs": [
    {
     "data": {
      "text/plain": [
       "['hot-city']"
      ]
     },
     "execution_count": 8,
     "metadata": {},
     "output_type": "execute_result"
    }
   ],
   "execution_count": 8
  },
  {
   "metadata": {
    "ExecuteTime": {
     "end_time": "2025-09-28T08:52:41.243428Z",
     "start_time": "2025-09-28T08:52:41.238249Z"
    }
   },
   "cell_type": "code",
   "source": [
    "last_dl = cat_list[-1]\n",
    "city_list = []\n",
    "item_list = last_dl.select(\"dd > span\")\n",
    "for item in item_list:\n",
    "    city_list.append(item.text.strip())\n",
    "len(city_list)\n"
   ],
   "id": "df06fe2451d12fb7",
   "outputs": [
    {
     "data": {
      "text/plain": [
       "124"
      ]
     },
     "execution_count": 15,
     "metadata": {},
     "output_type": "execute_result"
    }
   ],
   "execution_count": 15
  },
  {
   "metadata": {
    "ExecuteTime": {
     "end_time": "2025-09-28T08:53:02.733864Z",
     "start_time": "2025-09-28T08:53:02.728978Z"
    }
   },
   "cell_type": "code",
   "source": [
    "with open('cats_last.json', 'w', encoding='utf-8') as f:\n",
    "    json.dump(city_list, f, ensure_ascii=False, indent=4)\n"
   ],
   "id": "915c77c233e3eea3",
   "outputs": [],
   "execution_count": 17
  },
  {
   "metadata": {},
   "cell_type": "code",
   "outputs": [],
   "execution_count": null,
   "source": "",
   "id": "cba69acfb3a5422f"
  }
 ],
 "metadata": {
  "kernelspec": {
   "display_name": "Python 3",
   "language": "python",
   "name": "python3"
  },
  "language_info": {
   "codemirror_mode": {
    "name": "ipython",
    "version": 2
   },
   "file_extension": ".py",
   "mimetype": "text/x-python",
   "name": "python",
   "nbconvert_exporter": "python",
   "pygments_lexer": "ipython2",
   "version": "2.7.6"
  }
 },
 "nbformat": 4,
 "nbformat_minor": 5
}
