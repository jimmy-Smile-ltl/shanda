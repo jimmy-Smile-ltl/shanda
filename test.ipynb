{
 "cells": [
  {
   "cell_type": "code",
   "id": "initial_id",
   "metadata": {
    "collapsed": true,
    "ExecuteTime": {
     "end_time": "2025-09-29T03:14:46.884648Z",
     "start_time": "2025-09-29T03:14:46.808273Z"
    }
   },
   "source": [
    "from fuzzywuzzy import fuzz\n",
    "\n",
    "# 示例标题\n",
    "title1 = \"The impact of AI on modern technology\"\n",
    "title2 = \"Impact of Artificial Intelligence in modern tech.\" # 缩写、大小写、标点不同\n",
    "title3 = \"AI impact on modern technology\" # 词序不同\n",
    "title4 = \"How to cook a perfect steak\" # 完全不相关\n",
    "\n",
    "# 1. 基本比率 (Simple Ratio)\n",
    "# 直接比较两个字符串的相似度，返回0-100之间的整数\n",
    "score1_2 = fuzz.ratio(title1, title2)\n",
    "print(f\"'{title1}' vs '{title2}' (基本比率): {score1_2}\")\n",
    "\n",
    "# 2. 部分比率 (Partial Ratio)\n",
    "# 适合查找子字符串，如果短字符串是长字符串的子集，得分会很高\n",
    "score_partial = fuzz.partial_ratio(\"AI on modern technology\", title1)\n",
    "print(f\"部分比率示例: {score_partial}\")\n",
    "\n",
    "# 3. 词序无关比率 (Token Sort Ratio)\n",
    "# 将字符串分词，按字母排序后进行比较。能完美处理词序不同的情况\n",
    "score1_3 = fuzz.token_sort_ratio(title1, title3)\n",
    "print(f\"'{title1}' vs '{title3}' (词序无关): {score1_3}\")\n",
    "\n",
    "# 4. 比较完全不相关的标题\n",
    "score1_4 = fuzz.ratio(title1, title4)\n",
    "print(f\"'{title1}' vs '{title4}' (不相关): {score1_4}\")"
   ],
   "outputs": [
    {
     "name": "stdout",
     "output_type": "stream",
     "text": [
      "'The impact of AI on modern technology' vs 'Impact of Artificial Intelligence in modern tech.' (基本比率): 58\n",
      "部分比率示例: 100\n",
      "'The impact of AI on modern technology' vs 'AI impact on modern technology' (词序无关): 90\n",
      "'The impact of AI on modern technology' vs 'How to cook a perfect steak' (不相关): 34\n"
     ]
    }
   ],
   "execution_count": 1
  },
  {
   "metadata": {
    "ExecuteTime": {
     "end_time": "2025-09-29T03:15:49.841814Z",
     "start_time": "2025-09-29T03:15:49.838146Z"
    }
   },
   "cell_type": "code",
   "source": [
    "raw_title = \"Multi-Agent Clinical Diagnosis with Self-Learned Knowledge for LLM\"\n",
    "search_title = \"MACD: Multi-Agent Clinical Diagnosis with Self-Learned Knowledge for LLM\"\n",
    "fuzz.ratio(raw_title, search_title)"
   ],
   "id": "9edbeffaffc19260",
   "outputs": [
    {
     "data": {
      "text/plain": [
       "96"
      ]
     },
     "execution_count": 2,
     "metadata": {},
     "output_type": "execute_result"
    }
   ],
   "execution_count": 2
  },
  {
   "metadata": {},
   "cell_type": "code",
   "outputs": [],
   "execution_count": null,
   "source": "",
   "id": "921d653ecfcdca2c"
  }
 ],
 "metadata": {
  "kernelspec": {
   "display_name": "Python 3",
   "language": "python",
   "name": "python3"
  },
  "language_info": {
   "codemirror_mode": {
    "name": "ipython",
    "version": 2
   },
   "file_extension": ".py",
   "mimetype": "text/x-python",
   "name": "python",
   "nbconvert_exporter": "python",
   "pygments_lexer": "ipython2",
   "version": "2.7.6"
  }
 },
 "nbformat": 4,
 "nbformat_minor": 5
}
